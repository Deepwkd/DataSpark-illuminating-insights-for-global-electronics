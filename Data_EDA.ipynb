{
  "cells": [
    {
      "cell_type": "code",
      "execution_count": 27,
      "metadata": {
        "id": "EydoHwJc_XWL"
      },
      "outputs": [],
      "source": [
        "#Importing Libraries\n",
        "import pandas as pd\n",
        "import numpy as np\n",
        "import matplotlib.pyplot as plt\n",
        "import seaborn as sns\n",
        "import plotly.express as px\n",
        "import plotly.graph_objects as go"
      ]
    },
    {
      "cell_type": "code",
      "execution_count": 28,
      "metadata": {
        "id": "Ajw7eSHnBbAj"
      },
      "outputs": [],
      "source": [
        "ct= pd.read_csv('Customers_cleaned.csv')\n",
        "er= pd.read_csv('Exchange_Rates_cleaned.csv')\n",
        "pt= pd.read_csv('Products_cleaned.csv')\n",
        "sales= pd.read_csv('Sales_cleaned.csv')\n",
        "stores= pd.read_csv('Stores_cleaned.csv')"
      ]
    },
    {
      "cell_type": "code",
      "execution_count": 3,
      "metadata": {
        "id": "1LBGRDOsHt8o"
      },
      "outputs": [],
      "source": [
        "#Visualization based on Customers data"
      ]
    },
    {
      "cell_type": "code",
      "execution_count": 29,
      "metadata": {
        "colab": {
          "base_uri": "https://localhost:8080/",
          "height": 553
        },
        "id": "MM08ZAi1C_0T",
        "outputId": "08b29f5b-e891-4602-cddf-11afa89bf018"
      },
      "outputs": [
        {
          "data": {
            "text/html": [
              "<div>\n",
              "<style scoped>\n",
              "    .dataframe tbody tr th:only-of-type {\n",
              "        vertical-align: middle;\n",
              "    }\n",
              "\n",
              "    .dataframe tbody tr th {\n",
              "        vertical-align: top;\n",
              "    }\n",
              "\n",
              "    .dataframe thead th {\n",
              "        text-align: right;\n",
              "    }\n",
              "</style>\n",
              "<table border=\"1\" class=\"dataframe\">\n",
              "  <thead>\n",
              "    <tr style=\"text-align: right;\">\n",
              "      <th></th>\n",
              "      <th>CustomerKey</th>\n",
              "      <th>Gender</th>\n",
              "      <th>Name</th>\n",
              "      <th>City</th>\n",
              "      <th>StateCode</th>\n",
              "      <th>State</th>\n",
              "      <th>ZipCode</th>\n",
              "      <th>Country</th>\n",
              "      <th>Continent</th>\n",
              "      <th>Birthday</th>\n",
              "    </tr>\n",
              "  </thead>\n",
              "  <tbody>\n",
              "    <tr>\n",
              "      <th>0</th>\n",
              "      <td>301</td>\n",
              "      <td>Female</td>\n",
              "      <td>Lilly Harding</td>\n",
              "      <td>wandearah east</td>\n",
              "      <td>SA</td>\n",
              "      <td>South Australia</td>\n",
              "      <td>5523</td>\n",
              "      <td>Australia</td>\n",
              "      <td>Australia</td>\n",
              "      <td>1939-07-03</td>\n",
              "    </tr>\n",
              "    <tr>\n",
              "      <th>1</th>\n",
              "      <td>325</td>\n",
              "      <td>Female</td>\n",
              "      <td>Madison Hull</td>\n",
              "      <td>mount budd</td>\n",
              "      <td>WA</td>\n",
              "      <td>Western Australia</td>\n",
              "      <td>6522</td>\n",
              "      <td>Australia</td>\n",
              "      <td>Australia</td>\n",
              "      <td>1979-09-27</td>\n",
              "    </tr>\n",
              "    <tr>\n",
              "      <th>2</th>\n",
              "      <td>554</td>\n",
              "      <td>Female</td>\n",
              "      <td>Claire Ferres</td>\n",
              "      <td>winjallok</td>\n",
              "      <td>VIC</td>\n",
              "      <td>Victoria</td>\n",
              "      <td>3380</td>\n",
              "      <td>Australia</td>\n",
              "      <td>Australia</td>\n",
              "      <td>1947-05-26</td>\n",
              "    </tr>\n",
              "    <tr>\n",
              "      <th>3</th>\n",
              "      <td>786</td>\n",
              "      <td>Male</td>\n",
              "      <td>Jai Poltpalingada</td>\n",
              "      <td>middle river</td>\n",
              "      <td>SA</td>\n",
              "      <td>South Australia</td>\n",
              "      <td>5223</td>\n",
              "      <td>Australia</td>\n",
              "      <td>Australia</td>\n",
              "      <td>1957-09-17</td>\n",
              "    </tr>\n",
              "    <tr>\n",
              "      <th>4</th>\n",
              "      <td>1042</td>\n",
              "      <td>Male</td>\n",
              "      <td>Aidan Pankhurst</td>\n",
              "      <td>tawonga south</td>\n",
              "      <td>VIC</td>\n",
              "      <td>Victoria</td>\n",
              "      <td>3698</td>\n",
              "      <td>Australia</td>\n",
              "      <td>Australia</td>\n",
              "      <td>1965-11-19</td>\n",
              "    </tr>\n",
              "    <tr>\n",
              "      <th>5</th>\n",
              "      <td>1086</td>\n",
              "      <td>Male</td>\n",
              "      <td>Hayden Clegg</td>\n",
              "      <td>templers</td>\n",
              "      <td>SA</td>\n",
              "      <td>South Australia</td>\n",
              "      <td>5371</td>\n",
              "      <td>Australia</td>\n",
              "      <td>Australia</td>\n",
              "      <td>1954-01-20</td>\n",
              "    </tr>\n",
              "    <tr>\n",
              "      <th>6</th>\n",
              "      <td>1133</td>\n",
              "      <td>Male</td>\n",
              "      <td>Nicholas Caffyn</td>\n",
              "      <td>jubilee pocket</td>\n",
              "      <td>QLD</td>\n",
              "      <td>Queensland</td>\n",
              "      <td>4802</td>\n",
              "      <td>Australia</td>\n",
              "      <td>Australia</td>\n",
              "      <td>1969-11-22</td>\n",
              "    </tr>\n",
              "    <tr>\n",
              "      <th>7</th>\n",
              "      <td>1256</td>\n",
              "      <td>Male</td>\n",
              "      <td>Lincoln Jenks</td>\n",
              "      <td>kullogum</td>\n",
              "      <td>QLD</td>\n",
              "      <td>Queensland</td>\n",
              "      <td>4660</td>\n",
              "      <td>Australia</td>\n",
              "      <td>Australia</td>\n",
              "      <td>1950-03-12</td>\n",
              "    </tr>\n",
              "    <tr>\n",
              "      <th>8</th>\n",
              "      <td>1314</td>\n",
              "      <td>Male</td>\n",
              "      <td>Isaac Israel</td>\n",
              "      <td>edith river</td>\n",
              "      <td>NT</td>\n",
              "      <td>Northern Territory</td>\n",
              "      <td>852</td>\n",
              "      <td>Australia</td>\n",
              "      <td>Australia</td>\n",
              "      <td>1965-12-21</td>\n",
              "    </tr>\n",
              "    <tr>\n",
              "      <th>9</th>\n",
              "      <td>1568</td>\n",
              "      <td>Male</td>\n",
              "      <td>Luke Virtue</td>\n",
              "      <td>kotta</td>\n",
              "      <td>VIC</td>\n",
              "      <td>Victoria</td>\n",
              "      <td>3565</td>\n",
              "      <td>Australia</td>\n",
              "      <td>Australia</td>\n",
              "      <td>1975-07-25</td>\n",
              "    </tr>\n",
              "  </tbody>\n",
              "</table>\n",
              "</div>"
            ],
            "text/plain": [
              "   CustomerKey  Gender               Name            City StateCode  \\\n",
              "0          301  Female      Lilly Harding  wandearah east        SA   \n",
              "1          325  Female       Madison Hull      mount budd        WA   \n",
              "2          554  Female      Claire Ferres       winjallok       VIC   \n",
              "3          786    Male  Jai Poltpalingada    middle river        SA   \n",
              "4         1042    Male    Aidan Pankhurst   tawonga south       VIC   \n",
              "5         1086    Male       Hayden Clegg        templers        SA   \n",
              "6         1133    Male    Nicholas Caffyn  jubilee pocket       QLD   \n",
              "7         1256    Male      Lincoln Jenks        kullogum       QLD   \n",
              "8         1314    Male       Isaac Israel     edith river        NT   \n",
              "9         1568    Male        Luke Virtue           kotta       VIC   \n",
              "\n",
              "                State ZipCode    Country  Continent    Birthday  \n",
              "0     South Australia    5523  Australia  Australia  1939-07-03  \n",
              "1   Western Australia    6522  Australia  Australia  1979-09-27  \n",
              "2            Victoria    3380  Australia  Australia  1947-05-26  \n",
              "3     South Australia    5223  Australia  Australia  1957-09-17  \n",
              "4            Victoria    3698  Australia  Australia  1965-11-19  \n",
              "5     South Australia    5371  Australia  Australia  1954-01-20  \n",
              "6          Queensland    4802  Australia  Australia  1969-11-22  \n",
              "7          Queensland    4660  Australia  Australia  1950-03-12  \n",
              "8  Northern Territory     852  Australia  Australia  1965-12-21  \n",
              "9            Victoria    3565  Australia  Australia  1975-07-25  "
            ]
          },
          "execution_count": 29,
          "metadata": {},
          "output_type": "execute_result"
        }
      ],
      "source": [
        "ct.head(10)"
      ]
    },
    {
      "cell_type": "code",
      "execution_count": 5,
      "metadata": {
        "colab": {
          "base_uri": "https://localhost:8080/",
          "height": 410
        },
        "id": "Y_-DGbkPWrNm",
        "outputId": "4396a766-7a02-47b6-a3bc-745b4f8e54be"
      },
      "outputs": [
        {
          "data": {
            "image/png": "[encoded data removed]",
            "text/plain": [
              "<Figure size 600x400 with 1 Axes>"
            ]
          },
          "metadata": {},
          "output_type": "display_data"
        }
      ],
      "source": [
        "# Based on Gender Distribution\n",
        "gender_distribution = ct['Gender'].value_counts()\n",
        "plt.figure(figsize=(6,4))\n",
        "sns.countplot(x='Gender', data=ct)\n",
        "plt.title('Gender Distribution')\n",
        "plt.show()\n"
      ]
    },
    {
      "cell_type": "code",
      "execution_count": 6,
      "metadata": {
        "id": "AYkL9O9nDsBh"
      },
      "outputs": [],
      "source": [
        "#Calculating 'Age' for better analysing\n",
        "ct['Age']=((pd.Timestamp.now()-pd.to_datetime(ct['Birthday'])).dt.days/365.25).astype(int)"
      ]
    },
    {
      "cell_type": "code",
      "execution_count": 7,
      "metadata": {
        "colab": {
          "base_uri": "https://localhost:8080/",
          "height": 542
        },
        "id": "d4pceT3MVUmX",
        "outputId": "f1825df1-1a19-41aa-f4fe-3f675d423d39"
      },
      "outputs": [
        {
          "data": {
            "application/vnd.plotly.v1+json": {
              "config": {
                "plotlyServerURL": "https://plot.ly"
              },
              "data": [
                {
                  "alignmentgroup": "True",
                  "bingroup": "x",
                  "hovertemplate": "Age=%{x}<br>count=%{y}<extra></extra>",
                  "legendgroup": "85",
                  "marker": {
                    "color": "#636efa",
                    "pattern": {
                      "shape": ""
                    }
                  },
                  "name": "85",
                  "offsetgroup": "85",
                  "orientation": "v",
                  "showlegend": true,
                  "type": "histogram",
                  "x": [
                    85,
                    85,
                    85,
                    85,
                    85,
                    85,
                    85,
                    85,
                    85,
                    85,
                    85,
                    85,
                    85,
                    85,
                    85,
                    85,
                    85,
                    85,
                    85,
                    85,
                    85,
                    85,
                    85,
                    85,
                    85,
                    85,
                    85,
                    85,
                    85,
                    85,
                    85,
                    85,
                    85,
                    85,
                    85,
                    85,
                    85,
                    85,
                    85,
                    85,
                    85,
                    85,
                    85,
                    85,
                    85,
                    85,
                    85,
                    85,
                    85,
                    85,
                    85,
                    85,
                    85,
                    85,
                    85,
                    85,
                    85,
                    85,
                    85,
                    85,
                    85,
                    85,
                    85,
                    85,
                    85,
                    85,
                    85,
                    85,
                    85,
                    85,
                    85,
                    85,
                    85,
                    85,
                    85,
                    85,
                    85,
                    85,
                    85,
                    85,
                    85,
                    85,
                    85,
                    85,
                    85,
                    85,
                    85,
                    85,
                    85,
                    85,
                    85,
                    85,
                    85,
                    85,
                    85,
                    85,
                    85,
                    85,
                    85,
                    85,
                    85,
                    85,
                    85,
                    85,
                    85,
                    85,
                    85,
                    85,
                    85,
                    85,
                    85,
                    85,
                    85,
                    85,
                    85,
                    85,
                    85,
                    85,
                    85,
                    85,
                    85,
                    85,
                    85,
                    85,
                    85,
                    85,
                    85,
                    85,
                    85,
                    85,
                    85,
                    85,
                    85,
                    85,
                    85,
                    85,
                    85,
                    85,
                    85,
                    85,
                    85,
                    85,
                    85,
                    85,
                    85,
                    85,
                    85,
                    85,
                    85,
                    85,
                    85,
                    85,
                    85,
                    85,
                    85,
                    85,
                    85,
                    85,
                    85,
                    85,
                    85,
                    85,
                    85,
                    85,
                    85,
                    85,
                    85,
                    85,
                    85,
                    85,
                    85,
                    85,
                    85,
                    85,
                    85,
                    85,
                    85,
                    85,
                    85,
                    85,
                    85,
                    85,
                    85,
                    85,
                    85,
                    85,
                    85,
                    85,
                    85,
                    85,
                    85,
                    85,
                    85,
                    85,
                    85,
                    85,
                    85,
                    85,
                    85,
                    85,
                    85,
                    85,
                    85,
                    85,
                    85,
                    85,
                    85,
                    85,
                    85,
                    85,
                    85
                  ],
                  "xaxis": "x",
                  "yaxis": "y"
                },
                {
                  "alignmentgroup": "True",
                  "bingroup": "x",
                  "hovertemplate": "Age=%{x}<br>count=%{y}<extra></extra>",
                  "legendgroup": "44",
                  "marker": {
                    "color": "#EF553B",
                    "pattern": {
                      "shape": ""
                    }
                  },
                  "name": "44",
                  "offsetgroup": "44",
                  "orientation": "v",
                  "showlegend": true,
                  "type": "histogram",
                  "x": [
                    44,
                    44,
                    44,
                    44,
                    44,
                    44,
                    44,
                    44,
                    44,
                    44,
                    44,
                    44,
                    44,
                    44,
                    44,
                    44,
                    44,
                    44,
                    44,
                    44,
                    44,
                    44,
                    44,
                    44,
                    44,
                    44,
                    44,
                    44,
                    44,
                    44,
                    44,
                    44,
                    44,
                    44,
                    44,
                    44,
                    44,
                    44,
                    44,
                    44,
                    44,
                    44,
                    44,
                    44,
                    44,
                    44,
                    44,
                    44,
                    44,
                    44,
                    44,
                    44,
                    44,
                    44,
                    44,
                    44,
                    44,
                    44,
                    44,
                    44,
                    44,
                    44,
                    44,
                    44,
                    44,
                    44,
                    44,
                    44,
                    44,
                    44,
                    44,
                    44,
                    44,
                    44,
                    44,
                    44,
                    44,
                    44,
                    44,
                    44,
                    44,
                    44,
                    44,
                    44,
                    44,
                    44,
                    44,
                    44,
                    44,
                    44,
                    44,
                    44,
                    44,
                    44,
                    44,
                    44,
                    44,
                    44,
                    44,
                    44,
                    44,
                    44,
                    44,
                    44,
                    44,
                    44,
                    44,
                    44,
                    44,
                    44,
                    44,
                    44,
                    44,
                    44,
                    44,
                    44,
                    44,
                    44,
                    44,
                    44,
                    44,
                    44,
                    44,
                    44,
                    44,
                    44,
                    44,
                    44,
                    44,
                    44,
                    44,
                    44,
                    44,
                    44,
                    44,
                    44,
                    44,
                    44,
                    44,
                    44,
                    44,
                    44,
                    44,
                    44,
                    44,
                    44,
                    44,
                    44,
                    44,
                    44,
                    44,
                    44,
                    44,
                    44,
                    44,
                    44,
                    44,
                    44,
                    44,
                    44,
                    44,
                    44,
                    44,
                    44,
                    44,
                    44,
                    44,
                    44,
                    44,
                    44,
                    44,
                    44,
                    44,
                    44,
                    44,
                    44,
                    44,
                    44,
                    44,
                    44,
                    44,
                    44,
                    44,
                    44,
                    44,
                    44,
                    44,
                    44,
                    44,
                    44,
                    44,
                    44,
                    44,
                    44,
                    44,
                    44,
                    44,
                    44,
                    44,
                    44,
                    44,
                    44,
                    44,
                    44,
                    44,
                    44,
                    44,
                    44,
                    44,
                    44,
                    44,
                    44,
                    44,
                    44,
                    44,
                    44,
                    44,
                    44,
                    44,
                    44,
                    44,
                    44,
                    44,
                    44,
                    44,
                    44,
                    44,
                    44,
                    44,
                    44,
                    44,
                    44,
                    44,
                    44,
                    44,
                    44,
                    44,
                    44
                  ],
                  "xaxis": "x",
                  "yaxis": "y"
                },
                {
                  "alignmentgroup": "True",
                  "bingroup": "x",
                  "hovertemplate": "Age=%{x}<br>count=%{y}<extra></extra>",
                  "legendgroup": "77",
                  "marker": {
                    "color": "#00cc96",
                    "pattern": {
                      "shape": ""
                    }
                  },
                  "name": "77",
                  "offsetgroup": "77",
                  "orientation": "v",
                  "showlegend": true,
                  "type": "histogram",
                  "x": [
                    77,
                    77,
                    77,
                    77,
                    77,
                    77,
                    77,
                    77,
                    77,
                    77,
                    77,
                    77,
                    77,
                    77,
                    77,
                    77,
                    77,
                    77,
                    77,
                    77,
                    77,
                    77,
                    77,
                    77,
                    77,
                    77,
                    77,
                    77,
                    77,
                    77,
                    77,
                    77,
                    77,
                    77,
                    77,
                    77,
                    77,
                    77,
                    77,
                    77,
                    77,
                    77,
                    77,
                    77,
                    77,
                    77,
                    77,
                    77,
                    77,
                    77,
                    77,
                    77,
                    77,
                    77,
                    77,
                    77,
                    77,
                    77,
                    77,
                    77,
                    77,
                    77,
                    77,
                    77,
                    77,
                    77,
                    77,
                    77,
                    77,
                    77,
                    77,
                    77,
                    77,
                    77,
                    77,
                    77,
                    77,
                    77,
                    77,
                    77,
                    77,
                    77,
                    77,
                    77,
                    77,
                    77,
                    77,
                    77,
                    77,
                    77,
                    77,
                    77,
                    77,
                    77,
                    77,
                    77,
                    77,
                    77,
                    77,
                    77,
                    77,
                    77,
                    77,
                    77,
                    77,
                    77,
                    77,
                    77,
                    77,
                    77,
                    77,
                    77,
                    77,
                    77,
                    77,
                    77,
                    77,
                    77,
                    77,
                    77,
                    77,
                    77,
                    77,
                    77,
                    77,
                    77,
                    77,
                    77,
                    77,
                    77,
                    77,
                    77,
                    77,
                    77,
                    77,
                    77,
                    77,
                    77,
                    77,
                    77,
                    77,
                    77,
                    77,
                    77,
                    77,
                    77,
                    77,
                    77,
                    77,
                    77,
                    77,
                    77,
                    77,
                    77,
                    77,
                    77,
                    77,
                    77,
                    77,
                    77,
                    77,
                    77,
                    77,
                    77,
                    77,
                    77,
                    77,
                    77,
                    77,
                    77,
                    77,
                    77,
                    77,
                    77,
                    77,
                    77,
                    77,
                    77,
                    77,
                    77,
                    77,
                    77,
                    77,
                    77,
                    77,
                    77,
                    77,
                    77,
                    77,
                    77,
                    77,
                    77,
                    77,
                    77,
                    77,
                    77,
                    77,
                    77,
                    77,
                    77,
                    77,
                    77,
                    77,
                    77,
                    77,
                    77,
                    77,
                    77,
                    77,
                    77,
                    77,
                    77,
                    77,
                    77,
                    77,
                    77
                  ],
                  "xaxis": "x",
                  "yaxis": "y"
                },
                {
                  "alignmentgroup": "True",
                  "bingroup": "x",
                  "hovertemplate": "Age=%{x}<br>count=%{y}<extra></extra>",
                  "legendgroup": "67",
                  "marker": {
                    "color": "#ab63fa",
                    "pattern": {
                      "shape": ""
                    }
                  },
                  "name": "67",
                  "offsetgroup": "67",
                  "orientation": "v",
                  "showlegend": true,
                  "type": "histogram",
                  "x": [
                    67,
                    67,
                    67,
                    67,
                    67,
                    67,
                    67,
                    67,
                    67,
                    67,
                    67,
                    67,
                    67,
                    67,
                    67,
                    67,
                    67,
                    67,
                    67,
                    67,
                    67,
                    67,
                    67,
                    67,
                    67,
                    67,
                    67,
                    67,
                    67,
                    67,
                    67,
                    67,
                    67,
                    67,
                    67,
                    67,
                    67,
                    67,
                    67,
                    67,
                    67,
                    67,
                    67,
                    67,
                    67,
                    67,
                    67,
                    67,
                    67,
                    67,
                    67,
                    67,
                    67,
                    67,
                    67,
                    67,
                    67,
                    67,
                    67,
                    67,
                    67,
                    67,
                    67,
                    67,
                    67,
                    67,
                    67,
                    67,
                    67,
                    67,
                    67,
                    67,
                    67,
                    67,
                    67,
                    67,
                    67,
                    67,
                    67,
                    67,
                    67,
                    67,
                    67,
                    67,
                    67,
                    67,
                    67,
                    67,
                    67,
                    67,
                    67,
                    67,
                    67,
                    67,
                    67,
                    67,
                    67,
                    67,
                    67,
                    67,
                    67,
                    67,
                    67,
                    67,
                    67,
                    67,
                    67,
                    67,
                    67,
                    67,
                    67,
                    67,
                    67,
                    67,
                    67,
                    67,
                    67,
                    67,
                    67,
                    67,
                    67,
                    67,
                    67,
                    67,
                    67,
                    67,
                    67,
                    67,
                    67,
                    67,
                    67,
                    67,
                    67,
                    67,
                    67,
                    67,
                    67,
                    67,
                    67,
                    67,
                    67,
                    67,
                    67,
                    67,
                    67,
                    67,
                    67,
                    67,
                    67,
                    67,
                    67,
                    67,
                    67,
                    67,
                    67,
                    67,
                    67,
                    67,
                    67,
                    67,
                    67,
                    67,
                    67,
                    67,
                    67,
                    67,
                    67,
                    67,
                    67,
                    67,
                    67,
                    67,
                    67,
                    67,
                    67,
                    67,
                    67,
                    67,
                    67,
                    67,
                    67,
                    67,
                    67,
                    67,
                    67,
                    67,
                    67,
                    67,
                    67,
                    67,
                    67,
                    67,
                    67,
                    67,
                    67,
                    67,
                    67,
                    67,
                    67,
                    67,
                    67,
                    67,
                    67,
                    67,
                    67,
                    67,
                    67,
                    67,
                    67,
                    67,
                    67,
                    67,
                    67,
                    67,
                    67,
                    67,
                    67,
                    67,
                    67,
                    67,
                    67,
                    67,
                    67,
                    67,
                    67,
                    67,
                    67,
                    67,
                    67,
                    67
                  ],
                  "xaxis": "x",
                  "yaxis": "y"
                },
                {
                  "alignmentgroup": "True",
                  "bingroup": "x",
                  "hovertemplate": "Age=%{x}<br>count=%{y}<extra></extra>",
                  "legendgroup": "58",
                  "marker": {
                    "color": "#FFA15A",
                    "pattern": {
                      "shape": ""
                    }
                  },
                  "name": "58",
                  "offsetgroup": "58",
                  "orientation": "v",
                  "showlegend": true,
                  "type": "histogram",
                  "x": [
                    58,
                    58,
                    58,
                    58,
                    58,
                    58,
                    58,
                    58,
                    58,
                    58,
                    58,
                    58,
                    58,
                    58,
                    58,
                    58,
                    58,
                    58,
                    58,
                    58,
                    58,
                    58,
                    58,
                    58,
                    58,
                    58,
                    58,
                    58,
                    58,
                    58,
                    58,
                    58,
                    58,
                    58,
                    58,
                    58,
                    58,
                    58,
                    58,
                    58,
                    58,
                    58,
                    58,
                    58,
                    58,
                    58,
                    58,
                    58,
                    58,
                    58,
                    58,
                    58,
                    58,
                    58,
                    58,
                    58,
                    58,
                    58,
                    58,
                    58,
                    58,
                    58,
                    58,
                    58,
                    58,
                    58,
                    58,
                    58,
                    58,
                    58,
                    58,
                    58,
                    58,
                    58,
                    58,
                    58,
                    58,
                    58,
                    58,
                    58,
                    58,
                    58,
                    58,
                    58,
                    58,
                    58,
                    58,
                    58,
                    58,
                    58,
                    58,
                    58,
                    58,
                    58,
                    58,
                    58,
                    58,
                    58,
                    58,
                    58,
                    58,
                    58,
                    58,
                    58,
                    58,
                    58,
                    58,
                    58,
                    58,
                    58,
                    58,
                    58,
                    58,
                    58,
                    58,
                    58,
                    58,
                    58,
                    58,
                    58,
                    58,
                    58,
                    58,
                    58,
                    58,
                    58,
                    58,
                    58,
                    58,
                    58,
                    58,
                    58,
                    58,
                    58,
                    58,
                    58,
                    58,
                    58,
                    58,
                    58,
                    58,
                    58,
                    58,
                    58,
                    58,
                    58,
                    58,
                    58,
                    58,
                    58,
                    58,
                    58,
                    58,
                    58,
                    58,
                    58,
                    58,
                    58,
                    58,
                    58,
                    58,
                    58,
                    58,
                    58,
                    58,
                    58,
                    58,
                    58,
                    58,
                    58,
                    58,
                    58,
                    58,
                    58,
                    58,
                    58,
                    58,
                    58,
                    58,
                    58,
                    58,
                    58,
                    58,
                    58,
                    58,
                    58,
                    58,
                    58,
                    58,
                    58,
                    58,
                    58,
                    58,
                    58,
                    58,
                    58,
                    58,
                    58,
                    58,
                    58,
                    58,
                    58,
                    58,
                    58,
                    58,
                    58,
                    58,
                    58,
                    58,
                    58,
                    58,
                    58,
                    58,
                    58,
                    58,
                    58,
                    58,
                    58,
                    58,
                    58,
                    58,
                    58,
                    58,
                    58,
                    58,
                    58,
                    58,
                    58,
                    58,
                    58,
                    58,
                    58,
                    58,
                    58,
                    58
                  ],
                  "xaxis": "x",
                  "yaxis": "y"
                },
                {
                  "alignmentgroup": "True",
                  "bingroup": "x",
                  "hovertemplate": "Age=%{x}<br>count=%{y}<extra></extra>",
                  "legendgroup": "70",
                  "marker": {
                    "color": "#19d3f3",
                    "pattern": {
                      "shape": ""
                    }
                  },
                  "name": "70",
                  "offsetgroup": "70",
                  "orientation": "v",
                  "showlegend": true,
                  "type": "histogram",
                  "x": [
                    70,
                    70,
                    70,
                    70,
                    70,
                    70,
                    70,
                    70,
                    70,
                    70,
                    70,
                    70,
                    70,
                    70,
                    70,
                    70,
                    70,
                    70,
                    70,
                    70,
                    70,
                    70,
                    70,
                    70,
                    70,
                    70,
                    70,
                    70,
                    70,
                    70,
                    70,
                    70,
                    70,
                    70,
                    70,
                    70,
                    70,
                    70,
                    70,
                    70,
                    70,
                    70,
                    70,
                    70,
                    70,
                    70,
                    70,
                    70,
                    70,
                    70,
                    70,
                    70,
                    70,
                    70,
                    70,
                    70,
                    70,
                    70,
                    70,
                    70,
                    70,
                    70,
                    70,
                    70,
                    70,
                    70,
                    70,
                    70,
                    70,
                    70,
                    70,
                    70,
                    70,
                    70,
                    70,
                    70,
                    70,
                    70,
                    70,
                    70,
                    70,
                    70,
                    70,
                    70,
                    70,
                    70,
                    70,
                    70,
                    70,
                    70,
                    70,
                    70,
                    70,
                    70,
                    70,
                    70,
                    70,
                    70,
                    70,
                    70,
                    70,
                    70,
                    70,
                    70,
                    70,
                    70,
                    70,
                    70,
                    70,
                    70,
                    70,
                    70,
                    70,
                    70,
                    70,
                    70,
                    70,
                    70,
                    70,
                    70,
                    70,
                    70,
                    70,
                    70,
                    70,
                    70,
                    70,
                    70,
                    70,
                    70,
                    70,
                    70,
                    70,
                    70,
                    70,
                    70,
                    70,
                    70,
                    70,
                    70,
                    70,
                    70,
                    70,
                    70,
                    70,
                    70,
                    70,
                    70,
                    70,
                    70,
                    70,
                    70,
                    70,
                    70,
                    70,
                    70,
                    70,
                    70,
                    70,
                    70,
                    70,
                    70,
                    70,
                    70,
                    70,
                    70,
                    70,
                    70,
                    70,
                    70,
                    70,
                    70,
                    70,
                    70,
                    70,
                    70,
                    70,
                    70,
                    70,
                    70,
                    70,
                    70,
                    70,
                    70,
                    70,
                    70,
                    70,
                    70,
                    70,
                    70,
                    70,
                    70,
                    70,
                    70,
                    70,
                    70,
                    70,
                    70,
                    70,
                    70,
                    70,
                    70,
                    70,
                    70,
                    70,
                    70,
                    70,
                    70,
                    70,
                    70,
                    70,
                    70,
                    70,
                    70,
                    70,
                    70,
                    70,
                    70,
                    70,
                    70,
                    70,
                    70,
                    70,
                    70,
                    70,
                    70,
                    70,
                    70,
                    70,
                    70,
                    70,
                    70,
                    70,
                    70,
                    70,
                    70,
                    70,
                    70,
                    70,
                    70,
                    70,
                    70,
                    70,
                    70,
                    70,
                    70,
                    70
                  ],
                  "xaxis": "x",
                  "yaxis": "y"
                },
                {
                  "alignmentgroup": "True",
                  "bingroup": "x",
                  "hovertemplate": "Age=%{x}<br>count=%{y}<extra></extra>",
                  "legendgroup": "54",
                  "marker": {
                    "color": "#FF6692",
                    "pattern": {
                      "shape": ""
                    }
                  },
                  "name": "54",
                  "offsetgroup": "54",
                  "orientation": "v",
                  "showlegend": true,
                  "type": "histogram",
                  "x": [
                    54,
                    54,
                    54,
                    54,
                    54,
                    54,
                    54,
                    54,
                    54,
                    54,
                    54,
                    54,
                    54,
                    54,
                    54,
                    54,
                    54,
                    54,
                    54,
                    54,
                    54,
                    54,
                    54,
                    54,
                    54,
                    54,
                    54,
                    54,
                    54,
                    54,
                    54,
                    54,
                    54,
                    54,
                    54,
                    54,
                    54,
                    54,
                    54,
                    54,
                    54,
                    54,
                    54,
                    54,
                    54,
                    54,
                    54,
                    54,
                    54,
                    54,
                    54,
                    54,
                    54,
                    54,
                    54,
                    54,
                    54,
                    54,
                    54,
                    54,
                    54,
                    54,
                    54,
                    54,
                    54,
                    54,
                    54,
                    54,
                    54,
                    54,
                    54,
                    54,
                    54,
                    54,
                    54,
                    54,
                    54,
                    54,
                    54,
                    54,
                    54,
                    54,
                    54,
                    54,
                    54,
                    54,
                    54,
                    54,
                    54,
                    54,
                    54,
                    54,
                    54,
                    54,
                    54,
                    54,
                    54,
                    54,
                    54,
                    54,
                    54,
                    54,
                    54,
                    54,
                    54,
                    54,
                    54,
                    54,
                    54,
                    54,
                    54,
                    54,
                    54,
                    54,
                    54,
                    54,
                    54,
                    54,
                    54,
                    54,
                    54,
                    54,
                    54,
                    54,
                    54,
                    54,
                    54,
                    54,
                    54,
                    54,
                    54,
                    54,
                    54,
                    54,
                    54,
                    54,
                    54,
                    54,
                    54,
                    54,
                    54,
                    54,
                    54,
                    54,
                    54,
                    54,
                    54,
                    54,
                    54,
                    54,
                    54,
                    54,
                    54,
                    54,
                    54,
                    54,
                    54,
                    54,
                    54,
                    54,
                    54,
                    54,
                    54,
                    54,
                    54,
                    54,
                    54,
                    54,
                    54,
                    54,
                    54,
                    54,
                    54,
                    54,
                    54,
                    54,
                    54,
                    54,
                    54,
                    54,
                    54,
                    54,
                    54,
                    54,
                    54,
                    54,
                    54,
                    54,
                    54,
                    54,
                    54,
                    54,
                    54,
                    54,
                    54,
                    54,
                    54,
                    54,
                    54,
                    54,
                    54,
                    54,
                    54,
                    54,
                    54,
                    54,
                    54
                  ],
                  "xaxis": "x",
                  "yaxis": "y"
                },
                {
                  "alignmentgroup": "True",
                  "bingroup": "x",
                  "hovertemplate": "Age=%{x}<br>count=%{y}<extra></extra>",
                  "legendgroup": "74",
                  "marker": {
                    "color": "#B6E880",
                    "pattern": {
                      "shape": ""
                    }
                  },
                  "name": "74",
                  "offsetgroup": "74",
                  "orientation": "v",
                  "showlegend": true,
                  "type": "histogram",
                  "x": [
                    74,
                    74,
                    74,
                    74,
                    74,
                    74,
                    74,
                    74,
                    74,
                    74,
                    74,
                    74,
                    74,
                    74,
                    74,
                    74,
                    74,
                    74,
                    74,
                    74,
                    74,
                    74,
                    74,
                    74,
                    74,
                    74,
                    74,
                    74,
                    74,
                    74,
                    74,
                    74,
                    74,
                    74,
                    74,
                    74,
                    74,
                    74,
                    74,
                    74,
                    74,
                    74,
                    74,
                    74,
                    74,
                    74,
                    74,
                    74,
                    74,
                    74,
                    74,
                    74,
                    74,
                    74,
                    74,
                    74,
                    74,
                    74,
                    74,
                    74,
                    74,
                    74,
                    74,
                    74,
                    74,
                    74,
                    74,
                    74,
                    74,
                    74,
                    74,
                    74,
                    74,
                    74,
                    74,
                    74,
                    74,
                    74,
                    74,
                    74,
                    74,
                    74,
                    74,
                    74,
                    74,
                    74,
                    74,
                    74,
                    74,
                    74,
                    74,
                    74,
                    74,
                    74,
                    74,
                    74,
                    74,
                    74,
                    74,
                    74,
                    74,
                    74,
                    74,
                    74,
                    74,
                    74,
                    74,
                    74,
                    74,
                    74,
                    74,
                    74,
                    74,
                    74,
                    74,
                    74,
                    74,
                    74,
                    74,
                    74,
                    74,
                    74,
                    74,
                    74,
                    74,
                    74,
                    74,
                    74,
                    74,
                    74,
                    74,
                    74,
                    74,
                    74,
                    74,
                    74,
                    74,
                    74,
                    74,
                    74,
                    74,
                    74,
                    74,
                    74,
                    74,
                    74,
                    74,
                    74,
                    74,
                    74,
                    74,
                    74,
                    74,
                    74,
                    74,
                    74,
                    74,
                    74,
                    74,
                    74,
                    74,
                    74,
                    74,
                    74,
                    74,
                    74,
                    74,
                    74,
                    74,
                    74,
                    74,
                    74,
                    74,
                    74,
                    74,
                    74,
                    74,
                    74,
                    74,
                    74,
                    74,
                    74,
                    74,
                    74,
                    74,
                    74,
                    74,
                    74,
                    74,
                    74,
                    74,
                    74,
                    74,
                    74,
                    74,
                    74,
                    74,
                    74,
                    74,
                    74,
                    74,
                    74,
                    74,
                    74,
                    74,
                    74,
                    74,
                    74,
                    74,
                    74,
                    74,
                    74,
                    74,
                    74,
                    74,
                    74,
                    74,
                    74
                  ],
                  "xaxis": "x",
                  "yaxis": "y"
                },
                {
                  "alignmentgroup": "True",
                  "bingroup": "x",
                  "hovertemplate": "Age=%{x}<br>count=%{y}<extra></extra>",
                  "legendgroup": "49",
                  "marker": {
                    "color": "#FF97FF",
                    "pattern": {
                      "shape": ""
                    }
                  },
                  "name": "49",
                  "offsetgroup": "49",
                  "orientation": "v",
                  "showlegend": true,
                  "type": "histogram",
                  "x": [
                    49,
                    49,
                    49,
                    49,
                    49,
                    49,
                    49,
                    49,
                    49,
                    49,
                    49,
                    49,
                    49,
                    49,
                    49,
                    49,
                    49,
                    49,
                    49,
                    49,
                    49,
                    49,
                    49,
                    49,
                    49,
                    49,
                    49,
                    49,
                    49,
                    49,
                    49,
                    49,
                    49,
                    49,
                    49,
                    49,
                    49,
                    49,
                    49,
                    49,
                    49,
                    49,
                    49,
                    49,
                    49,
                    49,
                    49,
                    49,
                    49,
                    49,
                    49,
                    49,
                    49,
                    49,
                    49,
                    49,
                    49,
                    49,
                    49,
                    49,
                    49,
                    49,
                    49,
                    49,
                    49,
                    49,
                    49,
                    49,
                    49,
                    49,
                    49,
                    49,
                    49,
                    49,
                    49,
                    49,
                    49,
                    49,
                    49,
                    49,
                    49,
                    49,
                    49,
                    49,
                    49,
                    49,
                    49,
                    49,
                    49,
                    49,
                    49,
                    49,
                    49,
                    49,
                    49,
                    49,
                    49,
                    49,
                    49,
                    49,
                    49,
                    49,
                    49,
                    49,
                    49,
                    49,
                    49,
                    49,
                    49,
                    49,
                    49,
                    49,
                    49,
                    49,
                    49,
                    49,
                    49,
                    49,
                    49,
                    49,
                    49,
                    49,
                    49,
                    49,
                    49,
                    49,
                    49,
                    49,
                    49,
                    49,
                    49,
                    49,
                    49,
                    49,
                    49,
                    49,
                    49,
                    49,
                    49,
                    49,
                    49,
                    49,
                    49,
                    49,
                    49,
                    49,
                    49,
                    49,
                    49,
                    49,
                    49,
                    49,
                    49,
                    49,
                    49,
                    49,
                    49,
                    49,
                    49,
                    49,
                    49,
                    49,
                    49,
                    49,
                    49,
                    49,
                    49,
                    49,
                    49,
                    49,
                    49,
                    49,
                    49,
                    49,
                    49,
                    49,
                    49,
                    49,
                    49,
                    49,
                    49,
                    49,
                    49,
                    49,
                    49,
                    49,
                    49,
                    49,
                    49,
                    49,
                    49,
                    49,
                    49,
                    49,
                    49,
                    49,
                    49,
                    49,
                    49,
                    49,
                    49,
                    49,
                    49,
                    49,
                    49,
                    49,
                    49,
                    49,
                    49,
                    49,
                    49,
                    49,
                    49,
                    49,
                    49,
                    49,
                    49,
                    49,
                    49,
                    49,
                    49,
                    49,
                    49,
                    49
                  ],
                  "xaxis": "x",
                  "yaxis": "y"
                },
                {
                  "alignmentgroup": "True",
                  "bingroup": "x",
                  "hovertemplate": "Age=%{x}<br>count=%{y}<extra></extra>",
                  "legendgroup": "34",
                  "marker": {
                    "color": "#FECB52",
                    "pattern": {
                      "shape": ""
                    }
                  },
                  "name": "34",
                  "offsetgroup": "34",
                  "orientation": "v",
                  "showlegend": true,
                  "type": "histogram",
                  "x": [
                    34,
                    34,
                    34,
                    34,
                    34,
                    34,
                    34,
                    34,
                    34,
                    34,
                    34,
                    34,
                    34,
                    34,
                    34,
                    34,
                    34,
                    34,
                    34,
                    34,
                    34,
                    34,
                    34,
                    34,
                    34,
                    34,
                    34,
                    34,
                    34,
                    34,
                    34,
                    34,
                    34,
                    34,
                    34,
                    34,
                    34,
                    34,
                    34,
                    34,
                    34,
                    34,
                    34,
                    34,
                    34,
                    34,
                    34,
                    34,
                    34,
                    34,
                    34,
                    34,
                    34,
                    34,
                    34,
                    34,
                    34,
                    34,
                    34,
                    34,
                    34,
                    34,
                    34,
                    34,
                    34,
                    34,
                    34,
                    34,
                    34,
                    34,
                    34,
                    34,
                    34,
                    34,
                    34,
                    34,
                    34,
                    34,
                    34,
                    34,
                    34,
                    34,
                    34,
                    34,
                    34,
                    34,
                    34,
                    34,
                    34,
                    34,
                    34,
                    34,
                    34,
                    34,
                    34,
                    34,
                    34,
                    34,
                    34,
                    34,
                    34,
                    34,
                    34,
                    34,
                    34,
                    34,
                    34,
                    34,
                    34,
                    34,
                    34,
                    34,
                    34,
                    34,
                    34,
                    34,
                    34,
                    34,
                    34,
                    34,
                    34,
                    34,
                    34,
                    34,
                    34,
                    34,
                    34,
                    34,
                    34,
                    34,
                    34,
                    34,
                    34,
                    34,
                    34,
                    34,
                    34,
                    34,
                    34,
                    34,
                    34,
                    34,
                    34,
                    34,
                    34,
                    34,
                    34,
                    34,
                    34,
                    34,
                    34,
                    34,
                    34,
                    34,
                    34,
                    34,
                    34,
                    34,
                    34,
                    34,
                    34,
                    34,
                    34,
                    34,
                    34,
                    34,
                    34,
                    34,
                    34,
                    34,
                    34,
                    34,
                    34,
                    34,
                    34,
                    34,
                    34,
                    34,
                    34,
                    34,
                    34,
                    34,
                    34,
                    34,
                    34,
                    34,
                    34,
                    34,
                    34,
                    34,
                    34,
                    34,
                    34,
                    34,
                    34,
                    34,
                    34,
                    34,
                    34,
                    34,
                    34,
                    34,
                    34,
                    34,
                    34,
                    34,
                    34,
                    34
                  ],
                  "xaxis": "x",
                  "yaxis": "y"
                },
                {
                  "alignmentgroup": "True",
                  "bingroup": "x",
                  "hovertemplate": "Age=%{x}<br>count=%{y}<extra></extra>",
                  "legendgroup": "38",
                  "marker": {
                    "color": "#636efa",
                    "pattern": {
                      "shape": ""
                    }
                  },
                  "name": "38",
                  "offsetgroup": "38",
                  "orientation": "v",
                  "showlegend": true,
                  "type": "histogram",
                  "x": [
                    38,
                    38,
                    38,
                    38,
                    38,
                    38,
                    38,
                    38,
                    38,
                    38,
                    38,
                    38,
                    38,
                    38,
                    38,
                    38,
                    38,
                    38,
                    38,
                    38,
                    38,
                    38,
                    38,
                    38,
                    38,
                    38,
                    38,
                    38,
                    38,
                    38,
                    38,
                    38,
                    38,
                    38,
                    38,
                    38,
                    38,
                    38,
                    38,
                    38,
                    38,
                    38,
                    38,
                    38,
                    38,
                    38,
                    38,
                    38,
                    38,
                    38,
                    38,
                    38,
                    38,
                    38,
                    38,
                    38,
                    38,
                    38,
                    38,
                    38,
                    38,
                    38,
                    38,
                    38,
                    38,
                    38,
                    38,
                    38,
                    38,
                    38,
                    38,
                    38,
                    38,
                    38,
                    38,
                    38,
                    38,
                    38,
                    38,
                    38,
                    38,
                    38,
                    38,
                    38,
                    38,
                    38,
                    38,
                    38,
                    38,
                    38,
                    38,
                    38,
                    38,
                    38,
                    38,
                    38,
                    38,
                    38,
                    38,
                    38,
                    38,
                    38,
                    38,
                    38,
                    38,
                    38,
                    38,
                    38,
                    38,
                    38,
                    38,
                    38,
                    38,
                    38,
                    38,
                    38,
                    38,
                    38,
                    38,
                    38,
                    38,
                    38,
                    38,
                    38,
                    38,
                    38,
                    38,
                    38,
                    38,
                    38,
                    38,
                    38,
                    38,
                    38,
                    38,
                    38,
                    38,
                    38,
                    38,
                    38,
                    38,
                    38,
                    38,
                    38,
                    38,
                    38,
                    38,
                    38,
                    38,
                    38,
                    38,
                    38,
                    38,
                    38,
                    38,
                    38,
                    38,
                    38,
                    38,
                    38,
                    38,
                    38,
                    38,
                    38,
                    38,
                    38,
                    38,
                    38,
                    38,
                    38,
                    38,
                    38,
                    38,
                    38,
                    38,
                    38,
                    38,
                    38,
                    38,
                    38,
                    38,
                    38,
                    38,
                    38,
                    38,
                    38,
                    38,
                    38,
                    38,
                    38,
                    38,
                    38,
                    38,
                    38,
                    38,
                    38,
                    38,
                    38,
                    38,
                    38,
                    38,
                    38,
                    38,
                    38,
                    38,
                    38,
                    38,
                    38,
                    38,
                    38,
                    38,
                    38,
                    38,
                    38,
                    38,
                    38,
                    38,
                    38,
                    38
                  ],
                  "xaxis": "x",
                  "yaxis": "y"
                },
                {
                  "alignmentgroup": "True",
                  "bingroup": "x",
                  "hovertemplate": "Age=%{x}<br>count=%{y}<extra></extra>",
                  "legendgroup": "59",
                  "marker": {
                    "color": "#EF553B",
                    "pattern": {
                      "shape": ""
                    }
                  },
                  "name": "59",
                  "offsetgroup": "59",
                  "orientation": "v",
                  "showlegend": true,
                  "type": "histogram",
                  "x": [
                    59,
                    59,
                    59,
                    59,
                    59,
                    59,
                    59,
                    59,
                    59,
                    59,
                    59,
                    59,
                    59,
                    59,
                    59,
                    59,
                    59,
                    59,
                    59,
                    59,
                    59,
                    59,
                    59,
                    59,
                    59,
                    59,
                    59,
                    59,
                    59,
                    59,
                    59,
                    59,
                    59,
                    59,
                    59,
                    59,
                    59,
                    59,
                    59,
                    59,
                    59,
                    59,
                    59,
                    59,
                    59,
                    59,
                    59,
                    59,
                    59,
                    59,
                    59,
                    59,
                    59,
                    59,
                    59,
                    59,
                    59,
                    59,
                    59,
                    59,
                    59,
                    59,
                    59,
                    59,
                    59,
                    59,
                    59,
                    59,
                    59,
                    59,
                    59,
                    59,
                    59,
                    59,
                    59,
                    59,
                    59,
                    59,
                    59,
                    59,
                    59,
                    59,
                    59,
                    59,
                    59,
                    59,
                    59,
                    59,
                    59,
                    59,
                    59,
                    59,
                    59,
                    59,
                    59,
                    59,
                    59,
                    59,
                    59,
                    59,
                    59,
                    59,
                    59,
                    59,
                    59,
                    59,
                    59,
                    59,
                    59,
                    59,
                    59,
                    59,
                    59,
                    59,
                    59,
                    59,
                    59,
                    59,
                    59,
                    59,
                    59,
                    59,
                    59,
                    59,
                    59,
                    59,
                    59,
                    59,
                    59,
                    59,
                    59,
                    59,
                    59,
                    59,
                    59,
                    59,
                    59,
                    59,
                    59,
                    59,
                    59,
                    59,
                    59,
                    59,
                    59,
                    59,
                    59,
                    59,
                    59,
                    59,
                    59,
                    59,
                    59,
                    59,
                    59,
                    59,
                    59,
                    59,
                    59,
                    59,
                    59,
                    59,
                    59,
                    59,
                    59,
                    59,
                    59,
                    59,
                    59,
                    59,
                    59,
                    59,
                    59,
                    59,
                    59,
                    59,
                    59,
                    59,
                    59,
                    59,
                    59,
                    59,
                    59,
                    59,
                    59,
                    59,
                    59,
                    59,
                    59,
                    59,
                    59,
                    59,
                    59,
                    59,
                    59,
                    59,
                    59,
                    59,
                    59,
                    59,
                    59,
                    59,
                    59,
                    59,
                    59,
                    59,
                    59,
                    59,
                    59,
                    59,
                    59,
                    59,
                    59,
                    59,
                    59,
                    59,
                    59,
                    59,
                    59,
                    59,
                    59,
                    59,
                    59,
                    59,
                    59,
                    59,
                    59,
                    59,
                    59,
                    59,
                    59,
                    59,
                    59,
                    59,
                    59,
                    59,
                    59,
                    59,
                    59,
                    59,
                    59,
                    59,
                    59,
                    59,
                    59,
                    59,
                    59,
                    59,
                    59,
                    59
                  ],
                  "xaxis": "x",
                  "yaxis": "y"
                },
                {
                  "alignmentgroup": "True",
                  "bingroup": "x",
                  "hovertemplate": "Age=%{x}<br>count=%{y}<extra></extra>",
                  "legendgroup": "39",
                  "marker": {
                    "color": "#00cc96",
                    "pattern": {
                      "shape": ""
                    }
                  },
                  "name": "39",
                  "offsetgroup": "39",
                  "orientation": "v",
                  "showlegend": true,
                  "type": "histogram",
                  "x": [
                    39,
                    39,
                    39,
                    39,
                    39,
                    39,
                    39,
                    39,
                    39,
                    39,
                    39,
                    39,
                    39,
                    39,
                    39,
                    39,
                    39,
                    39,
                    39,
                    39,
                    39,
                    39,
                    39,
                    39,
                    39,
                    39,
                    39,
                    39,
                    39,
                    39,
                    39,
                    39,
                    39,
                    39,
                    39,
                    39,
                    39,
                    39,
                    39,
                    39,
                    39,
                    39,
                    39,
                    39,
                    39,
                    39,
                    39,
                    39,
                    39,
                    39,
                    39,
                    39,
                    39,
                    39,
                    39,
                    39,
                    39,
                    39,
                    39,
                    39,
                    39,
                    39,
                    39,
                    39,
                    39,
                    39,
                    39,
                    39,
                    39,
                    39,
                    39,
                    39,
                    39,
                    39,
                    39,
                    39,
                    39,
                    39,
                    39,
                    39,
                    39,
                    39,
                    39,
                    39,
                    39,
                    39,
                    39,
                    39,
                    39,
                    39,
                    39,
                    39,
                    39,
                    39,
                    39,
                    39,
                    39,
                    39,
                    39,
                    39,
                    39,
                    39,
                    39,
                    39,
                    39,
                    39,
                    39,
                    39,
                    39,
                    39,
                    39,
                    39,
                    39,
                    39,
                    39,
                    39,
                    39,
                    39,
                    39,
                    39,
                    39,
                    39,
                    39,
                    39,
                    39,
                    39,
                    39,
                    39,
                    39,
                    39,
                    39,
                    39,
                    39,
                    39,
                    39,
                    39,
                    39,
                    39,
                    39,
                    39,
                    39,
                    39,
                    39,
                    39,
                    39,
                    39,
                    39,
                    39,
                    39,
                    39,
                    39,
                    39,
                    39,
                    39,
                    39,
                    39,
                    39,
                    39,
                    39,
                    39,
                    39,
                    39,
                    39,
                    39,
                    39,
                    39,
                    39,
                    39,
                    39,
                    39,
                    39,
                    39,
                    39,
                    39,
                    39,
                    39,
                    39,
                    39,
                    39,
                    39,
                    39,
                    39,
                    39,
                    39,
                    39,
                    39,
                    39,
                    39,
                    39,
                    39,
                    39,
                    39,
                    39,
                    39,
                    39,
                    39,
                    39,
                    39,
                    39,
                    39,
                    39,
                    39,
                    39,
                    39,
                    39,
                    39,
                    39,
                    39,
                    39,
                    39,
                    39,
                    39,
                    39,
                    39,
                    39,
                    39,
                    39,
                    39,
                    39,
                    39,
                    39,
                    39,
                    39,
                    39,
                    39,
                    39,
                    39,
                    39,
                    39,
                    39,
                    39,
                    39,
                    39,
                    39,
                    39,
                    39,
                    39,
                    39,
                    39
                  ],
                  "xaxis": "x",
                  "yaxis": "y"
                },
                {
                  "alignmentgroup": "True",
                  "bingroup": "x",
                  "hovertemplate": "Age=%{x}<br>count=%{y}<extra></extra>",
                  "legendgroup": "36",
                  "marker": {
                    "color": "#ab63fa",
                    "pattern": {
                      "shape": ""
                    }
                  },
                  "name": "36",
                  "offsetgroup": "36",
                  "orientation": "v",
                  "showlegend": true,
                  "type": "histogram",
                  "x": [
                    36,
                    36,
                    36,
                    36,
                    36,
                    36,
                    36,
                    36,
                    36,
                    36,
                    36,
                    36,
                    36,
                    36,
                    36,
                    36,
                    36,
                    36,
                    36,
                    36,
                    36,
                    36,
                    36,
                    36,
                    36,
                    36,
                    36,
                    36,
                    36,
                    36,
                    36,
                    36,
                    36,
                    36,
                    36,
                    36,
                    36,
                    36,
                    36,
                    36,
                    36,
                    36,
                    36,
                    36,
                    36,
                    36,
                    36,
                    36,
                    36,
                    36,
                    36,
                    36,
                    36,
                    36,
                    36,
                    36,
                    36,
                    36,
                    36,
                    36,
                    36,
                    36,
                    36,
                    36,
                    36,
                    36,
                    36,
                    36,
                    36,
                    36,
                    36,
                    36,
                    36,
                    36,
                    36,
                    36,
                    36,
                    36,
                    36,
                    36,
                    36,
                    36,
                    36,
                    36,
                    36,
                    36,
                    36,
                    36,
                    36,
                    36,
                    36,
                    36,
                    36,
                    36,
                    36,
                    36,
                    36,
                    36,
                    36,
                    36,
                    36,
                    36,
                    36,
                    36,
                    36,
                    36,
                    36,
                    36,
                    36,
                    36,
                    36,
                    36,
                    36,
                    36,
                    36,
                    36,
                    36,
                    36,
                    36,
                    36,
                    36,
                    36,
                    36,
                    36,
                    36,
                    36,
                    36,
                    36,
                    36,
                    36,
                    36,
                    36,
                    36,
                    36,
                    36,
                    36,
                    36,
                    36,
                    36,
                    36,
                    36,
                    36,
                    36,
                    36,
                    36,
                    36,
                    36,
                    36,
                    36,
                    36,
                    36,
                    36,
                    36,
                    36,
                    36,
                    36,
                    36,
                    36,
                    36,
                    36,
                    36,
                    36,
                    36,
                    36,
                    36,
                    36,
                    36,
                    36,
                    36,
                    36,
                    36,
                    36,
                    36,
                    36,
                    36,
                    36,
                    36,
                    36,
                    36,
                    36,
                    36,
                    36,
                    36,
                    36,
                    36,
                    36,
                    36,
                    36,
                    36,
                    36,
                    36,
                    36,
                    36,
                    36,
                    36,
                    36,
                    36,
                    36,
                    36,
                    36,
                    36,
                    36,
                    36,
                    36,
                    36,
                    36,
                    36,
                    36,
                    36,
                    36,
                    36,
                    36,
                    36,
                    36,
                    36,
                    36,
                    36,
                    36,
                    36,
                    36,
                    36,
                    36,
                    36,
                    36,
                    36,
                    36,
                    36,
                    36,
                    36,
                    36
                  ],
                  "xaxis": "x",
                  "yaxis": "y"
                },
                {
                  "alignmentgroup": "True",
                  "bingroup": "x",
                  "hovertemplate": "Age=%{x}<br>count=%{y}<extra></extra>",
                  "legendgroup": "56",
                  "marker": {
                    "color": "#FFA15A",
                    "pattern": {
                      "shape": ""
                    }
                  },
                  "name": "56",
                  "offsetgroup": "56",
                  "orientation": "v",
                  "showlegend": true,
                  "type": "histogram",
                  "x": [
                    56,
                    56,
                    56,
                    56,
                    56,
                    56,
                    56,
                    56,
                    56,
                    56,
                    56,
                    56,
                    56,
                    56,
                    56,
                    56,
                    56,
                    56,
                    56,
                    56,
                    56,
                    56,
                    56,
                    56,
                    56,
                    56,
                    56,
                    56,
                    56,
                    56,
                    56,
                    56,
                    56,
                    56,
                    56,
                    56,
                    56,
                    56,
                    56,
                    56,
                    56,
                    56,
                    56,
                    56,
                    56,
                    56,
                    56,
                    56,
                    56,
                    56,
                    56,
                    56,
                    56,
                    56,
                    56,
                    56,
                    56,
                    56,
                    56,
                    56,
                    56,
                    56,
                    56,
                    56,
                    56,
                    56,
                    56,
                    56,
                    56,
                    56,
                    56,
                    56,
                    56,
                    56,
                    56,
                    56,
                    56,
                    56,
                    56,
                    56,
                    56,
                    56,
                    56,
                    56,
                    56,
                    56,
                    56,
                    56,
                    56,
                    56,
                    56,
                    56,
                    56,
                    56,
                    56,
                    56,
                    56,
                    56,
                    56,
                    56,
                    56,
                    56,
                    56,
                    56,
                    56,
                    56,
                    56,
                    56,
                    56,
                    56,
                    56,
                    56,
                    56,
                    56,
                    56,
                    56,
                    56,
                    56,
                    56,
                    56,
                    56,
                    56,
                    56,
                    56,
                    56,
                    56,
                    56,
                    56,
                    56,
                    56,
                    56,
                    56,
                    56,
                    56,
                    56,
                    56,
                    56,
                    56,
                    56,
                    56,
                    56,
                    56,
                    56,
                    56,
                    56,
                    56,
                    56,
                    56,
                    56,
                    56,
                    56,
                    56,
                    56,
                    56,
                    56,
                    56,
                    56,
                    56,
                    56,
                    56,
                    56,
                    56,
                    56,
                    56,
                    56,
                    56,
                    56,
                    56,
                    56,
                    56,
                    56,
                    56,
                    56,
                    56,
                    56,
                    56,
                    56,
                    56,
                    56,
                    56,
                    56,
                    56,
                    56,
                    56,
                    56,
                    56,
                    56,
                    56,
                    56,
                    56,
                    56,
                    56,
                    56,
                    56,
                    56,
                    56,
                    56,
                    56,
                    56,
                    56,
                    56,
                    56,
                    56,
                    56,
                    56,
                    56,
                    56,
                    56,
                    56,
                    56,
                    56,
                    56,
                    56,
                    56,
                    56,
                    56,
                    56,
                    56,
                    56,
                    56,
                    56,
                    56,
                    56,
                    56,
                    56,
                    56,
                    56,
                    56,
                    56,
                    56,
                    56,
                    56,
                    56,
                    56,
                    56,
                    56,
                    56,
                    56,
                    56,
                    56,
                    56,
                    56
                  ],
                  "xaxis": "x",
                  "yaxis": "y"
                },
                {
                  "alignmentgroup": "True",
                  "bingroup": "x",
                  "hovertemplate": "Age=%{x}<br>count=%{y}<extra></extra>",
                  "legendgroup": "76",
                  "marker": {
                    "color": "#19d3f3",
                    "pattern": {
                      "shape": ""
                    }
                  },
                  "name": "76",
                  "offsetgroup": "76",
                  "orientation": "v",
                  "showlegend": true,
                  "type": "histogram",
                  "x": [
                    76,
                    76,
                    76,
                    76,
                    76,
                    76,
                    76,
                    76,
                    76,
                    76,
                    76,
                    76,
                    76,
                    76,
                    76,
                    76,
                    76,
                    76,
                    76,
                    76,
                    76,
                    76,
                    76,
                    76,
                    76,
                    76,
                    76,
                    76,
                    76,
                    76,
                    76,
                    76,
                    76,
                    76,
                    76,
                    76,
                    76,
                    76,
                    76,
                    76,
                    76,
                    76,
                    76,
                    76,
                    76,
                    76,
                    76,
                    76,
                    76,
                    76,
                    76,
                    76,
                    76,
                    76,
                    76,
                    76,
                    76,
                    76,
                    76,
                    76,
                    76,
                    76,
                    76,
                    76,
                    76,
                    76,
                    76,
                    76,
                    76,
                    76,
                    76,
                    76,
                    76,
                    76,
                    76,
                    76,
                    76,
                    76,
                    76,
                    76,
                    76,
                    76,
                    76,
                    76,
                    76,
                    76,
                    76,
                    76,
                    76,
                    76,
                    76,
                    76,
                    76,
                    76,
                    76,
                    76,
                    76,
                    76,
                    76,
                    76,
                    76,
                    76,
                    76,
                    76,
                    76,
                    76,
                    76,
                    76,
                    76,
                    76,
                    76,
                    76,
                    76,
                    76,
                    76,
                    76,
                    76,
                    76,
                    76,
                    76,
                    76,
                    76,
                    76,
                    76,
                    76,
                    76,
                    76,
                    76,
                    76,
                    76,
                    76,
                    76,
                    76,
                    76,
                    76,
                    76,
                    76,
                    76,
                    76,
                    76,
                    76,
                    76,
                    76,
                    76,
                    76,
                    76,
                    76,
                    76,
                    76,
                    76,
                    76,
                    76,
                    76,
                    76,
                    76,
                    76,
                    76,
                    76,
                    76,
                    76,
                    76,
                    76,
                    76,
                    76,
                    76,
                    76,
                    76,
                    76,
                    76,
                    76,
                    76,
                    76,
                    76,
                    76,
                    76,
                    76,
                    76,
                    76,
                    76,
                    76,
                    76,
                    76,
                    76,
                    76,
                    76,
                    76,
                    76,
                    76,
                    76,
                    76,
                    76,
                    76,
                    76,
                    76,
                    76,
                    76,
                    76,
                    76,
                    76,
                    76,
                    76,
                    76,
                    76,
                    76,
                    76,
                    76,
                    76,
                    76,
                    76,
                    76,
                    76,
                    76,
                    76,
                    76,
                    76,
                    76,
                    76,
                    76,
                    76,
                    76,
                    76,
                    76,
                    76,
                    76,
                    76,
                    76,
                    76,
                    76,
                    76,
                    76,
                    76
                  ],
                  "xaxis": "x",
                  "yaxis": "y"
                },
                {
                  "alignmentgroup": "True",
                  "bingroup": "x",
                  "hovertemplate": "Age=%{x}<br>count=%{y}<extra></extra>",
                  "legendgroup": "31",
                  "marker": {
                    "color": "#FF6692",
                    "pattern": {
                      "shape": ""
                    }
                  },
                  "name": "31",
                  "offsetgroup": "31",
                  "orientation": "v",
                  "showlegend": true,
                  "type": "histogram",
                  "x": [
                    31,
                    31,
                    31,
                    31,
                    31,
                    31,
                    31,
                    31,
                    31,
                    31,
                    31,
                    31,
                    31,
                    31,
                    31,
                    31,
                    31,
                    31,
                    31,
                    31,
                    31,
                    31,
                    31,
                    31,
                    31,
                    31,
                    31,
                    31,
                    31,
                    31,
                    31,
                    31,
                    31,
                    31,
                    31,
                    31,
                    31,
                    31,
                    31,
                    31,
                    31,
                    31,
                    31,
                    31,
                    31,
                    31,
                    31,
                    31,
                    31,
                    31,
                    31,
                    31,
                    31,
                    31,
                    31,
                    31,
                    31,
                    31,
                    31,
                    31,
                    31,
                    31,
                    31,
                    31,
                    31,
                    31,
                    31,
                    31,
                    31,
                    31,
                    31,
                    31,
                    31,
                    31,
                    31,
                    31,
                    31,
                    31,
                    31,
                    31,
                    31,
                    31,
                    31,
                    31,
                    31,
                    31,
                    31,
                    31,
                    31,
                    31,
                    31,
                    31,
                    31,
                    31,
                    31,
                    31,
                    31,
                    31,
                    31,
                    31,
                    31,
                    31,
                    31,
                    31,
                    31,
                    31,
                    31,
                    31,
                    31,
                    31,
                    31,
                    31,
                    31,
                    31,
                    31,
                    31,
                    31,
                    31,
                    31,
                    31,
                    31,
                    31,
                    31,
                    31,
                    31,
                    31,
                    31,
                    31,
                    31,
                    31,
                    31,
                    31,
                    31,
                    31,
                    31,
                    31,
                    31,
                    31,
                    31,
                    31,
                    31,
                    31,
                    31,
                    31,
                    31,
                    31,
                    31,
                    31,
                    31,
                    31,
                    31,
                    31,
                    31,
                    31,
                    31,
                    31,
                    31,
                    31,
                    31,
                    31,
                    31,
                    31,
                    31,
                    31,
                    31,
                    31,
                    31,
                    31,
                    31,
                    31,
                    31,
                    31,
                    31,
                    31,
                    31,
                    31,
                    31,
                    31,
                    31,
                    31,
                    31,
                    31,
                    31,
                    31,
                    31,
                    31,
                    31,
                    31,
                    31,
                    31,
                    31,
                    31,
                    31,
                    31,
                    31,
                    31,
                    31,
                    31,
                    31,
                    31,
                    31,
                    31,
                    31,
                    31,
                    31,
                    31,
                    31,
                    31,
                    31,
                    31,
                    31,
                    31,
                    31,
                    31,
                    31,
                    31,
                    31,
                    31,
                    31
                  ],
                  "xaxis": "x",
                  "yaxis": "y"
                },
                {
                  "alignmentgroup": "True",
                  "bingroup": "x",
                  "hovertemplate": "Age=%{x}<br>count=%{y}<extra></extra>",
                  "legendgroup": "29",
                  "marker": {
                    "color": "#B6E880",
                    "pattern": {
                      "shape": ""
                    }
                  },
                  "name": "29",
                  "offsetgroup": "29",
                  "orientation": "v",
                  "showlegend": true,
                  "type": "histogram",
                  "x": [
                    29,
                    29,
                    29,
                    29,
                    29,
                    29,
                    29,
                    29,
                    29,
                    29,
                    29,
                    29,
                    29,
                    29,
                    29,
                    29,
                    29,
                    29,
                    29,
                    29,
                    29,
                    29,
                    29,
                    29,
                    29,
                    29,
                    29,
                    29,
                    29,
                    29,
                    29,
                    29,
                    29,
                    29,
                    29,
                    29,
                    29,
                    29,
                    29,
                    29,
                    29,
                    29,
                    29,
                    29,
                    29,
                    29,
                    29,
                    29,
                    29,
                    29,
                    29,
                    29,
                    29,
                    29,
                    29,
                    29,
                    29,
                    29,
                    29,
                    29,
                    29,
                    29,
                    29,
                    29,
                    29,
                    29,
                    29,
                    29,
                    29,
                    29,
                    29,
                    29,
                    29,
                    29,
                    29,
                    29,
                    29,
                    29,
                    29,
                    29,
                    29,
                    29,
                    29,
                    29,
                    29,
                    29,
                    29,
                    29,
                    29,
                    29,
                    29,
                    29,
                    29,
                    29,
                    29,
                    29,
                    29,
                    29,
                    29,
                    29,
                    29,
                    29,
                    29,
                    29,
                    29,
                    29,
                    29,
                    29,
                    29,
                    29,
                    29,
                    29,
                    29,
                    29,
                    29,
                    29,
                    29,
                    29,
                    29,
                    29,
                    29,
                    29,
                    29,
                    29,
                    29,
                    29,
                    29,
                    29,
                    29,
                    29,
                    29,
                    29,
                    29,
                    29,
                    29,
                    29,
                    29,
                    29,
                    29,
                    29,
                    29,
                    29,
                    29,
                    29,
                    29,
                    29,
                    29,
                    29,
                    29,
                    29,
                    29,
                    29,
                    29,
                    29,
                    29,
                    29,
                    29,
                    29,
                    29,
                    29,
                    29,
                    29,
                    29,
                    29,
                    29,
                    29,
                    29,
                    29,
                    29,
                    29,
                    29,
                    29,
                    29,
                    29,
                    29,
                    29,
                    29,
                    29,
                    29,
                    29,
                    29,
                    29,
                    29,
                    29,
                    29,
                    29,
                    29,
                    29,
                    29,
                    29,
                    29,
                    29,
                    29,
                    29,
                    29,
                    29,
                    29,
                    29,
                    29,
                    29,
                    29,
                    29,
                    29,
                    29,
                    29,
                    29,
                    29,
                    29,
                    29,
                    29,
                    29,
                    29,
                    29,
                    29,
                    29,
                    29,
                    29,
                    29,
                    29,
                    29
                  ],
                  "xaxis": "x",
                  "yaxis": "y"
                },
                {
                  "alignmentgroup": "True",
                  "bingroup": "x",
                  "hovertemplate": "Age=%{x}<br>count=%{y}<extra></extra>",
                  "legendgroup": "45",
                  "marker": {
                    "color": "#FF97FF",
                    "pattern": {
                      "shape": ""
                    }
                  },
                  "name": "45",
                  "offsetgroup": "45",
                  "orientation": "v",
                  "showlegend": true,
                  "type": "histogram",
                  "x": [
                    45,
                    45,
                    45,
                    45,
                    45,
                    45,
                    45,
                    45,
                    45,
                    45,
                    45,
                    45,
                    45,
                    45,
                    45,
                    45,
                    45,
                    45,
                    45,
                    45,
                    45,
                    45,
                    45,
                    45,
                    45,
                    45,
                    45,
                    45,
                    45,
                    45,
                    45,
                    45,
                    45,
                    45,
                    45,
                    45,
                    45,
                    45,
                    45,
                    45,
                    45,
                    45,
                    45,
                    45,
                    45,
                    45,
                    45,
                    45,
                    45,
                    45,
                    45,
                    45,
                    45,
                    45,
                    45,
                    45,
                    45,
                    45,
                    45,
                    45,
                    45,
                    45,
                    45,
                    45,
                    45,
                    45,
                    45,
                    45,
                    45,
                    45,
                    45,
                    45,
                    45,
                    45,
                    45,
                    45,
                    45,
                    45,
                    45,
                    45,
                    45,
                    45,
                    45,
                    45,
                    45,
                    45,
                    45,
                    45,
                    45,
                    45,
                    45,
                    45,
                    45,
                    45,
                    45,
                    45,
                    45,
                    45,
                    45,
                    45,
                    45,
                    45,
                    45,
                    45,
                    45,
                    45,
                    45,
                    45,
                    45,
                    45,
                    45,
                    45,
                    45,
                    45,
                    45,
                    45,
                    45,
                    45,
                    45,
                    45,
                    45,
                    45,
                    45,
                    45,
                    45,
                    45,
                    45,
                    45,
                    45,
                    45,
                    45,
                    45,
                    45,
                    45,
                    45,
                    45,
                    45,
                    45,
                    45,
                    45,
                    45,
                    45,
                    45,
                    45,
                    45,
                    45,
                    45,
                    45,
                    45,
                    45,
                    45,
                    45,
                    45,
                    45,
                    45,
                    45,
                    45,
                    45,
                    45,
                    45,
                    45,
                    45,
                    45,
                    45,
                    45,
                    45,
                    45,
                    45,
                    45,
                    45,
                    45,
                    45,
                    45,
                    45,
                    45,
                    45,
                    45,
                    45,
                    45,
                    45,
                    45,
                    45,
                    45,
                    45,
                    45,
                    45,
                    45,
                    45,
                    45,
                    45,
                    45,
                    45,
                    45,
                    45,
                    45,
                    45,
                    45,
                    45,
                    45,
                    45,
                    45,
                    45,
                    45,
                    45,
                    45,
                    45,
                    45,
                    45,
                    45,
                    45,
                    45
                  ],
                  "xaxis": "x",
                  "yaxis": "y"
                },
                {
                  "alignmentgroup": "True",
                  "bingroup": "x",
                  "hovertemplate": "Age=%{x}<br>count=%{y}<extra></extra>",
                  "legendgroup": "48",
                  "marker": {
                    "color": "#FECB52",
                    "pattern": {
                      "shape": ""
                    }
                  },
                  "name": "48",
                  "offsetgroup": "48",
                  "orientation": "v",
                  "showlegend": true,
                  "type": "histogram",
                  "x": [
                    48,
                    48,
                    48,
                    48,
                    48,
                    48,
                    48,
                    48,
                    48,
                    48,
                    48,
                    48,
                    48,
                    48,
                    48,
                    48,
                    48,
                    48,
                    48,
                    48,
                    48,
                    48,
                    48,
                    48,
                    48,
                    48,
                    48,
                    48,
                    48,
                    48,
                    48,
                    48,
                    48,
                    48,
                    48,
                    48,
                    48,
                    48,
                    48,
                    48,
                    48,
                    48,
                    48,
                    48,
                    48,
                    48,
                    48,
                    48,
                    48,
                    48,
                    48,
                    48,
                    48,
                    48,
                    48,
                    48,
                    48,
                    48,
                    48,
                    48,
                    48,
                    48,
                    48,
                    48,
                    48,
                    48,
                    48,
                    48,
                    48,
                    48,
                    48,
                    48,
                    48,
                    48,
                    48,
                    48,
                    48,
                    48,
                    48,
                    48,
                    48,
                    48,
                    48,
                    48,
                    48,
                    48,
                    48,
                    48,
                    48,
                    48,
                    48,
                    48,
                    48,
                    48,
                    48,
                    48,
                    48,
                    48,
                    48,
                    48,
                    48,
                    48,
                    48,
                    48,
                    48,
                    48,
                    48,
                    48,
                    48,
                    48,
                    48,
                    48,
                    48,
                    48,
                    48,
                    48,
                    48,
                    48,
                    48,
                    48,
                    48,
                    48,
                    48,
                    48,
                    48,
                    48,
                    48,
                    48,
                    48,
                    48,
                    48,
                    48,
                    48,
                    48,
                    48,
                    48,
                    48,
                    48,
                    48,
                    48,
                    48,
                    48,
                    48,
                    48,
                    48,
                    48,
                    48,
                    48,
                    48,
                    48,
                    48,
                    48,
                    48,
                    48,
                    48,
                    48,
                    48,
                    48,
                    48,
                    48,
                    48,
                    48,
                    48,
                    48,
                    48,
                    48,
                    48,
                    48,
                    48,
                    48,
                    48,
                    48,
                    48,
                    48,
                    48,
                    48,
                    48,
                    48,
                    48,
                    48,
                    48,
                    48,
                    48,
                    48,
                    48,
                    48,
                    48,
                    48,
                    48,
                    48,
                    48,
                    48,
                    48,
                    48,
                    48,
                    48,
                    48,
                    48,
                    48,
                    48,
                    48,
                    48,
                    48,
                    48,
                    48,
                    48,
                    48,
                    48,
                    48,
                    48,
                    48,
                    48,
                    48,
                    48,
                    48,
                    48,
                    48,
                    48,
                    48,
                    48,
                    48,
                    48
                  ],
                  "xaxis": "x",
                  "yaxis": "y"
                },
                {
                  "alignmentgroup": "True",
                  "bingroup": "x",
                  "hovertemplate": "Age=%{x}<br>count=%{y}<extra></extra>",
                  "legendgroup": "65",
                  "marker": {
                    "color": "#636efa",
                    "pattern": {
                      "shape": ""
                    }
                  },
                  "name": "65",
                  "offsetgroup": "65",
                  "orientation": "v",
                  "showlegend": true,
                  "type": "histogram",
                  "x": [
                    65,
                    65,
                    65,
                    65,
                    65,
                    65,
                    65,
                    65,
                    65,
                    65,
                    65,
                    65,
                    65,
                    65,
                    65,
                    65,
                    65,
                    65,
                    65,
                    65,
                    65,
                    65,
                    65,
                    65,
                    65,
                    65,
                    65,
                    65,
                    65,
                    65,
                    65,
                    65,
                    65,
                    65,
                    65,
                    65,
                    65,
                    65,
                    65,
                    65,
                    65,
                    65,
                    65,
                    65,
                    65,
                    65,
                    65,
                    65,
                    65,
                    65,
                    65,
                    65,
                    65,
                    65,
                    65,
                    65,
                    65,
                    65,
                    65,
                    65,
                    65,
                    65,
                    65,
                    65,
                    65,
                    65,
                    65,
                    65,
                    65,
                    65,
                    65,
                    65,
                    65,
                    65,
                    65,
                    65,
                    65,
                    65,
                    65,
                    65,
                    65,
                    65,
                    65,
                    65,
                    65,
                    65,
                    65,
                    65,
                    65,
                    65,
                    65,
                    65,
                    65,
                    65,
                    65,
                    65,
                    65,
                    65,
                    65,
                    65,
                    65,
                    65,
                    65,
                    65,
                    65,
                    65,
                    65,
                    65,
                    65,
                    65,
                    65,
                    65,
                    65,
                    65,
                    65,
                    65,
                    65,
                    65,
                    65,
                    65,
                    65,
                    65,
                    65,
                    65,
                    65,
                    65,
                    65,
                    65,
                    65,
                    65,
                    65,
                    65,
                    65,
                    65,
                    65,
                    65,
                    65,
                    65,
                    65,
                    65,
                    65,
                    65,
                    65,
                    65,
                    65,
                    65,
                    65,
                    65,
                    65,
                    65,
                    65,
                    65,
                    65,
                    65,
                    65,
                    65,
                    65,
                    65,
                    65,
                    65,
                    65,
                    65,
                    65,
                    65,
                    65,
                    65,
                    65,
                    65,
                    65,
                    65,
                    65,
                    65,
                    65,
                    65,
                    65,
                    65,
                    65,
                    65,
                    65,
                    65,
                    65,
                    65,
                    65,
                    65,
                    65,
                    65,
                    65,
                    65,
                    65,
                    65,
                    65,
                    65,
                    65,
                    65,
                    65,
                    65,
                    65,
                    65,
                    65,
                    65,
                    65,
                    65,
                    65,
                    65,
                    65,
                    65,
                    65,
                    65,
                    65,
                    65,
                    65,
                    65,
                    65,
                    65,
                    65,
                    65,
                    65,
                    65,
                    65,
                    65,
                    65,
                    65,
                    65,
                    65,
                    65,
                    65,
                    65,
                    65,
                    65,
                    65,
                    65,
                    65,
                    65,
                    65,
                    65,
                    65
                  ],
                  "xaxis": "x",
                  "yaxis": "y"
                },
                {
                  "alignmentgroup": "True",
                  "bingroup": "x",
                  "hovertemplate": "Age=%{x}<br>count=%{y}<extra></extra>",
                  "legendgroup": "23",
                  "marker": {
                    "color": "#EF553B",
                    "pattern": {
                      "shape": ""
                    }
                  },
                  "name": "23",
                  "offsetgroup": "23",
                  "orientation": "v",
                  "showlegend": true,
                  "type": "histogram",
                  "x": [
                    23,
                    23,
                    23,
                    23,
                    23,
                    23,
                    23,
                    23,
                    23,
                    23,
                    23,
                    23,
                    23,
                    23,
                    23,
                    23,
                    23,
                    23,
                    23,
                    23,
                    23,
                    23,
                    23,
                    23,
                    23,
                    23,
                    23,
                    23,
                    23,
                    23,
                    23,
                    23,
                    23,
                    23,
                    23,
                    23,
                    23,
                    23,
                    23,
                    23,
                    23,
                    23,
                    23,
                    23,
                    23,
                    23,
                    23,
                    23,
                    23,
                    23,
                    23,
                    23,
                    23,
                    23,
                    23,
                    23,
                    23,
                    23,
                    23,
                    23,
                    23,
                    23,
                    23,
                    23,
                    23,
                    23,
                    23,
                    23,
                    23,
                    23,
                    23,
                    23,
                    23,
                    23,
                    23,
                    23,
                    23,
                    23,
                    23,
                    23,
                    23,
                    23,
                    23,
                    23,
                    23,
                    23,
                    23,
                    23,
                    23,
                    23,
                    23,
                    23,
                    23,
                    23,
                    23,
                    23,
                    23,
                    23,
                    23,
                    23,
                    23,
                    23,
                    23,
                    23,
                    23,
                    23,
                    23,
                    23,
                    23,
                    23,
                    23,
                    23,
                    23,
                    23,
                    23,
                    23,
                    23,
                    23,
                    23,
                    23,
                    23,
                    23,
                    23,
                    23,
                    23,
                    23,
                    23,
                    23,
                    23,
                    23,
                    23,
                    23,
                    23,
                    23,
                    23,
                    23,
                    23,
                    23,
                    23,
                    23,
                    23,
                    23,
                    23,
                    23,
                    23,
                    23,
                    23,
                    23,
                    23,
                    23,
                    23,
                    23,
                    23,
                    23,
                    23,
                    23,
                    23,
                    23,
                    23,
                    23,
                    23,
                    23,
                    23,
                    23,
                    23,
                    23,
                    23,
                    23,
                    23,
                    23,
                    23,
                    23,
                    23,
                    23,
                    23,
                    23,
                    23,
                    23,
                    23,
                    23,
                    23,
                    23,
                    23,
                    23,
                    23,
                    23,
                    23,
                    23,
                    23,
                    23,
                    23,
                    23,
                    23,
                    23,
                    23,
                    23,
                    23,
                    23,
                    23,
                    23,
                    23,
                    23,
                    23,
                    23,
                    23,
                    23,
                    23,
                    23,
                    23,
                    23,
                    23,
                    23,
                    23,
                    23,
                    23,
                    23,
                    23,
                    23,
                    23,
                    23,
                    23,
                    23,
                    23,
                    23,
                    23,
                    23,
                    23,
                    23,
                    23,
                    23,
                    23,
                    23,
                    23,
                    23,
                    23,
                    23,
                    23,
                    23,
                    23,
                    23,
                    23,
                    23,
                    23,
                    23,
                    23,
                    23,
                    23,
                    23,
                    23,
                    23,
                    23,
                    23,
                    23,
                    23,
                    23,
                    23,
                    23,
                    23,
                    23,
                    23,
                    23,
                    23,
                    23,
                    23,
                    23,
                    23,
                    23,
                    23,
                    23,
                    23
                  ],
                  "xaxis": "x",
                  "yaxis": "y"
                },
                {
                  "alignmentgroup": "True",
                  "bingroup": "x",
                  "hovertemplate": "Age=%{x}<br>count=%{y}<extra></extra>",
                  "legendgroup": "81",
                  "marker": {
                    "color": "#00cc96",
                    "pattern": {
                      "shape": ""
                    }
                  },
                  "name": "81",
                  "offsetgroup": "81",
                  "orientation": "v",
                  "showlegend": true,
                  "type": "histogram",
                  "x": [
                    81,
                    81,
                    81,
                    81,
                    81,
                    81,
                    81,
                    81,
                    81,
                    81,
                    81,
                    81,
                    81,
                    81,
                    81,
                    81,
                    81,
                    81,
                    81,
                    81,
                    81,
                    81,
                    81,
                    81,
                    81,
                    81,
                    81,
                    81,
                    81,
                    81,
                    81,
                    81,
                    81,
                    81,
                    81,
                    81,
                    81,
                    81,
                    81,
                    81,
                    81,
                    81,
                    81,
                    81,
                    81,
                    81,
                    81,
                    81,
                    81,
                    81,
                    81,
                    81,
                    81,
                    81,
                    81,
                    81,
                    81,
                    81,
                    81,
                    81,
                    81,
                    81,
                    81,
                    81,
                    81,
                    81,
                    81,
                    81,
                    81,
                    81,
                    81,
                    81,
                    81,
                    81,
                    81,
                    81,
                    81,
                    81,
                    81,
                    81,
                    81,
                    81,
                    81,
                    81,
                    81,
                    81,
                    81,
                    81,
                    81,
                    81,
                    81,
                    81,
                    81,
                    81,
                    81,
                    81,
                    81,
                    81,
                    81,
                    81,
                    81,
                    81,
                    81,
                    81,
                    81,
                    81,
                    81,
                    81,
                    81,
                    81,
                    81,
                    81,
                    81,
                    81,
                    81,
                    81,
                    81,
                    81,
                    81,
                    81,
                    81,
                    81,
                    81,
                    81,
                    81,
                    81,
                    81,
                    81,
                    81,
                    81,
                    81,
                    81,
                    81,
                    81,
                    81,
                    81,
                    81,
                    81,
                    81,
                    81,
                    81,
                    81,
                    81,
                    81,
                    81,
                    81,
                    81,
                    81,
                    81,
                    81,
                    81,
                    81,
                    81,
                    81,
                    81,
                    81,
                    81,
                    81,
                    81,
                    81,
                    81,
                    81,
                    81,
                    81,
                    81,
                    81,
                    81,
                    81,
                    81,
                    81,
                    81,
                    81,
                    81,
                    81,
                    81,
                    81,
                    81,
                    81,
                    81,
                    81,
                    81,
                    81,
                    81,
                    81,
                    81,
                    81,
                    81,
                    81,
                    81,
                    81,
                    81,
                    81,
                    81,
                    81,
                    81,
                    81,
                    81,
                    81,
                    81,
                    81,
                    81,
                    81,
                    81,
                    81,
                    81,
                    81,
                    81,
                    81,
                    81,
                    81,
                    81,
                    81,
                    81,
                    81,
                    81,
                    81,
                    81,
                    81,
                    81,
                    81,
                    81,
                    81,
                    81,
                    81,
                    81,
                    81,
                    81
                  ],
                  "xaxis": "x",
                  "yaxis": "y"
                },
                {
                  "alignmentgroup": "True",
                  "bingroup": "x",
                  "hovertemplate": "Age=%{x}<br>count=%{y}<extra></extra>",
                  "legendgroup": "26",
                  "marker": {
                    "color": "#ab63fa",
                    "pattern": {
                      "shape": ""
                    }
                  },
                  "name": "26",
                  "offsetgroup": "26",
                  "orientation": "v",
                  "showlegend": true,
                  "type": "histogram",
                  "x": [
                    26,
                    26,
                    26,
                    26,
                    26,
                    26,
                    26,
                    26,
                    26,
                    26,
                    26,
                    26,
                    26,
                    26,
                    26,
                    26,
                    26,
                    26,
                    26,
                    26,
                    26,
                    26,
                    26,
                    26,
                    26,
                    26,
                    26,
                    26,
                    26,
                    26,
                    26,
                    26,
                    26,
                    26,
                    26,
                    26,
                    26,
                    26,
                    26,
                    26,
                    26,
                    26,
                    26,
                    26,
                    26,
                    26,
                    26,
                    26,
                    26,
                    26,
                    26,
                    26,
                    26,
                    26,
                    26,
                    26,
                    26,
                    26,
                    26,
                    26,
                    26,
                    26,
                    26,
                    26,
                    26,
                    26,
                    26,
                    26,
                    26,
                    26,
                    26,
                    26,
                    26,
                    26,
                    26,
                    26,
                    26,
                    26,
                    26,
                    26,
                    26,
                    26,
                    26,
                    26,
                    26,
                    26,
                    26,
                    26,
                    26,
                    26,
                    26,
                    26,
                    26,
                    26,
                    26,
                    26,
                    26,
                    26,
                    26,
                    26,
                    26,
                    26,
                    26,
                    26,
                    26,
                    26,
                    26,
                    26,
                    26,
                    26,
                    26,
                    26,
                    26,
                    26,
                    26,
                    26,
                    26,
                    26,
                    26,
                    26,
                    26,
                    26,
                    26,
                    26,
                    26,
                    26,
                    26,
                    26,
                    26,
                    26,
                    26,
                    26,
                    26,
                    26,
                    26,
                    26,
                    26,
                    26,
                    26,
                    26,
                    26,
                    26,
                    26,
                    26,
                    26,
                    26,
                    26,
                    26,
                    26,
                    26,
                    26,
                    26,
                    26,
                    26,
                    26,
                    26,
                    26,
                    26,
                    26,
                    26,
                    26,
                    26,
                    26,
                    26,
                    26,
                    26,
                    26,
                    26,
                    26,
                    26,
                    26,
                    26,
                    26,
                    26,
                    26,
                    26,
                    26,
                    26,
                    26,
                    26,
                    26,
                    26,
                    26,
                    26,
                    26,
                    26,
                    26,
                    26,
                    26,
                    26,
                    26,
                    26,
                    26,
                    26,
                    26,
                    26,
                    26,
                    26,
                    26,
                    26,
                    26,
                    26,
                    26,
                    26,
                    26,
                    26,
                    26,
                    26,
                    26,
                    26,
                    26
                  ],
                  "xaxis": "x",
                  "yaxis": "y"
                },
                {
                  "alignmentgroup": "True",
                  "bingroup": "x",
                  "hovertemplate": "Age=%{x}<br>count=%{y}<extra></extra>",
                  "legendgroup": "82",
                  "marker": {
                    "color": "#FFA15A",
                    "pattern": {
                      "shape": ""
                    }
                  },
                  "name": "82",
                  "offsetgroup": "82",
                  "orientation": "v",
                  "showlegend": true,
                  "type": "histogram",
                  "x": [
                    82,
                    82,
                    82,
                    82,
                    82,
                    82,
                    82,
                    82,
                    82,
                    82,
                    82,
                    82,
                    82,
                    82,
                    82,
                    82,
                    82,
                    82,
                    82,
                    82,
                    82,
                    82,
                    82,
                    82,
                    82,
                    82,
                    82,
                    82,
                    82,
                    82,
                    82,
                    82,
                    82,
                    82,
                    82,
                    82,
                    82,
                    82,
                    82,
                    82,
                    82,
                    82,
                    82,
                    82,
                    82,
                    82,
                    82,
                    82,
                    82,
                    82,
                    82,
                    82,
                    82,
                    82,
                    82,
                    82,
                    82,
                    82,
                    82,
                    82,
                    82,
                    82,
                    82,
                    82,
                    82,
                    82,
                    82,
                    82,
                    82,
                    82,
                    82,
                    82,
                    82,
                    82,
                    82,
                    82,
                    82,
                    82,
                    82,
                    82,
                    82,
                    82,
                    82,
                    82,
                    82,
                    82,
                    82,
                    82,
                    82,
                    82,
                    82,
                    82,
                    82,
                    82,
                    82,
                    82,
                    82,
                    82,
                    82,
                    82,
                    82,
                    82,
                    82,
                    82,
                    82,
                    82,
                    82,
                    82,
                    82,
                    82,
                    82,
                    82,
                    82,
                    82,
                    82,
                    82,
                    82,
                    82,
                    82,
                    82,
                    82,
                    82,
                    82,
                    82,
                    82,
                    82,
                    82,
                    82,
                    82,
                    82,
                    82,
                    82,
                    82,
                    82,
                    82,
                    82,
                    82,
                    82,
                    82,
                    82,
                    82,
                    82,
                    82,
                    82,
                    82,
                    82,
                    82,
                    82,
                    82,
                    82,
                    82,
                    82,
                    82,
                    82,
                    82,
                    82,
                    82,
                    82,
                    82,
                    82,
                    82,
                    82,
                    82,
                    82,
                    82,
                    82,
                    82,
                    82,
                    82,
                    82,
                    82,
                    82,
                    82,
                    82,
                    82,
                    82,
                    82,
                    82,
                    82,
                    82,
                    82,
                    82,
                    82,
                    82,
                    82,
                    82,
                    82,
                    82,
                    82,
                    82,
                    82,
                    82,
                    82,
                    82,
                    82,
                    82,
                    82,
                    82,
                    82,
                    82,
                    82,
                    82,
                    82,
                    82,
                    82,
                    82,
                    82,
                    82,
                    82,
                    82,
                    82,
                    82,
                    82,
                    82
                  ],
                  "xaxis": "x",
                  "yaxis": "y"
                },
                {
                  "alignmentgroup": "True",
                  "bingroup": "x",
                  "hovertemplate": "Age=%{x}<br>count=%{y}<extra></extra>",
                  "legendgroup": "80",
                  "marker": {
                    "color": "#19d3f3",
                    "pattern": {
                      "shape": ""
                    }
                  },
                  "name": "80",
                  "offsetgroup": "80",
                  "orientation": "v",
                  "showlegend": true,
                  "type": "histogram",
                  "x": [
                    80,
                    80,
                    80,
                    80,
                    80,
                    80,
                    80,
                    80,
                    80,
                    80,
                    80,
                    80,
                    80,
                    80,
                    80,
                    80,
                    80,
                    80,
                    80,
                    80,
                    80,
                    80,
                    80,
                    80,
                    80,
                    80,
                    80,
                    80,
                    80,
                    80,
                    80,
                    80,
                    80,
                    80,
                    80,
                    80,
                    80,
                    80,
                    80,
                    80,
                    80,
                    80,
                    80,
                    80,
                    80,
                    80,
                    80,
                    80,
                    80,
                    80,
                    80,
                    80,
                    80,
                    80,
                    80,
                    80,
                    80,
                    80,
                    80,
                    80,
                    80,
                    80,
                    80,
                    80,
                    80,
                    80,
                    80,
                    80,
                    80,
                    80,
                    80,
                    80,
                    80,
                    80,
                    80,
                    80,
                    80,
                    80,
                    80,
                    80,
                    80,
                    80,
                    80,
                    80,
                    80,
                    80,
                    80,
                    80,
                    80,
                    80,
                    80,
                    80,
                    80,
                    80,
                    80,
                    80,
                    80,
                    80,
                    80,
                    80,
                    80,
                    80,
                    80,
                    80,
                    80,
                    80,
                    80,
                    80,
                    80,
                    80,
                    80,
                    80,
                    80,
                    80,
                    80,
                    80,
                    80,
                    80,
                    80,
                    80,
                    80,
                    80,
                    80,
                    80,
                    80,
                    80,
                    80,
                    80,
                    80,
                    80,
                    80,
                    80,
                    80,
                    80,
                    80,
                    80,
                    80,
                    80,
                    80,
                    80,
                    80,
                    80,
                    80,
                    80,
                    80,
                    80,
                    80,
                    80,
                    80,
                    80,
                    80,
                    80,
                    80,
                    80,
                    80,
                    80,
                    80,
                    80,
                    80,
                    80,
                    80,
                    80,
                    80,
                    80,
                    80,
                    80,
                    80,
                    80,
                    80,
                    80,
                    80,
                    80,
                    80,
                    80,
                    80,
                    80,
                    80,
                    80,
                    80,
                    80,
                    80,
                    80,
                    80,
                    80,
                    80,
                    80,
                    80,
                    80,
                    80,
                    80,
                    80,
                    80,
                    80,
                    80,
                    80,
                    80,
                    80,
                    80,
                    80,
                    80,
                    80,
                    80,
                    80,
                    80,
                    80,
                    80,
                    80,
                    80,
                    80,
                    80,
                    80,
                    80,
                    80,
                    80,
                    80
                  ],
                  "xaxis": "x",
                  "yaxis": "y"
                },
                {
                  "alignmentgroup": "True",
                  "bingroup": "x",
                  "hovertemplate": "Age=%{x}<br>count=%{y}<extra></extra>",
                  "legendgroup": "33",
                  "marker": {
                    "color": "#FF6692",
                    "pattern": {
                      "shape": ""
                    }
                  },
                  "name": "33",
                  "offsetgroup": "33",
                  "orientation": "v",
                  "showlegend": true,
                  "type": "histogram",
                  "x": [
                    33,
                    33,
                    33,
                    33,
                    33,
                    33,
                    33,
                    33,
                    33,
                    33,
                    33,
                    33,
                    33,
                    33,
                    33,
                    33,
                    33,
                    33,
                    33,
                    33,
                    33,
                    33,
                    33,
                    33,
                    33,
                    33,
                    33,
                    33,
                    33,
                    33,
                    33,
                    33,
                    33,
                    33,
                    33,
                    33,
                    33,
                    33,
                    33,
                    33,
                    33,
                    33,
                    33,
                    33,
                    33,
                    33,
                    33,
                    33,
                    33,
                    33,
                    33,
                    33,
                    33,
                    33,
                    33,
                    33,
                    33,
                    33,
                    33,
                    33,
                    33,
                    33,
                    33,
                    33,
                    33,
                    33,
                    33,
                    33,
                    33,
                    33,
                    33,
                    33,
                    33,
                    33,
                    33,
                    33,
                    33,
                    33,
                    33,
                    33,
                    33,
                    33,
                    33,
                    33,
                    33,
                    33,
                    33,
                    33,
                    33,
                    33,
                    33,
                    33,
                    33,
                    33,
                    33,
                    33,
                    33,
                    33,
                    33,
                    33,
                    33,
                    33,
                    33,
                    33,
                    33,
                    33,
                    33,
                    33,
                    33,
                    33,
                    33,
                    33,
                    33,
                    33,
                    33,
                    33,
                    33,
                    33,
                    33,
                    33,
                    33,
                    33,
                    33,
                    33,
                    33,
                    33,
                    33,
                    33,
                    33,
                    33,
                    33,
                    33,
                    33,
                    33,
                    33,
                    33,
                    33,
                    33,
                    33,
                    33,
                    33,
                    33,
                    33,
                    33,
                    33,
                    33,
                    33,
                    33,
                    33,
                    33,
                    33,
                    33,
                    33,
                    33,
                    33,
                    33,
                    33,
                    33,
                    33,
                    33,
                    33,
                    33,
                    33,
                    33,
                    33,
                    33,
                    33,
                    33,
                    33,
                    33,
                    33,
                    33,
                    33,
                    33,
                    33,
                    33,
                    33,
                    33,
                    33,
                    33,
                    33,
                    33,
                    33,
                    33,
                    33,
                    33,
                    33,
                    33,
                    33,
                    33,
                    33,
                    33,
                    33,
                    33,
                    33,
                    33,
                    33,
                    33,
                    33,
                    33,
                    33,
                    33,
                    33,
                    33,
                    33,
                    33,
                    33,
                    33,
                    33,
                    33,
                    33,
                    33,
                    33,
                    33,
                    33,
                    33,
                    33,
                    33,
                    33,
                    33,
                    33,
                    33,
                    33,
                    33,
                    33,
                    33,
                    33,
                    33,
                    33,
                    33,
                    33,
                    33,
                    33,
                    33,
                    33,
                    33,
                    33,
                    33,
                    33,
                    33,
                    33,
                    33,
                    33,
                    33
                  ],
                  "xaxis": "x",
                  "yaxis": "y"
                },
                {
                  "alignmentgroup": "True",
                  "bingroup": "x",
                  "hovertemplate": "Age=%{x}<br>count=%{y}<extra></extra>",
                  "legendgroup": "60",
                  "marker": {
                    "color": "#B6E880",
                    "pattern": {
                      "shape": ""
                    }
                  },
                  "name": "60",
                  "offsetgroup": "60",
                  "orientation": "v",
                  "showlegend": true,
                  "type": "histogram",
                  "x": [
                    60,
                    60,
                    60,
                    60,
                    60,
                    60,
                    60,
                    60,
                    60,
                    60,
                    60,
                    60,
                    60,
                    60,
                    60,
                    60,
                    60,
                    60,
                    60,
                    60,
                    60,
                    60,
                    60,
                    60,
                    60,
                    60,
                    60,
                    60,
                    60,
                    60,
                    60,
                    60,
                    60,
                    60,
                    60,
                    60,
                    60,
                    60,
                    60,
                    60,
                    60,
                    60,
                    60,
                    60,
                    60,
                    60,
                    60,
                    60,
                    60,
                    60,
                    60,
                    60,
                    60,
                    60,
                    60,
                    60,
                    60,
                    60,
                    60,
                    60,
                    60,
                    60,
                    60,
                    60,
                    60,
                    60,
                    60,
                    60,
                    60,
                    60,
                    60,
                    60,
                    60,
                    60,
                    60,
                    60,
                    60,
                    60,
                    60,
                    60,
                    60,
                    60,
                    60,
                    60,
                    60,
                    60,
                    60,
                    60,
                    60,
                    60,
                    60,
                    60,
                    60,
                    60,
                    60,
                    60,
                    60,
                    60,
                    60,
                    60,
                    60,
                    60,
                    60,
                    60,
                    60,
                    60,
                    60,
                    60,
                    60,
                    60,
                    60,
                    60,
                    60,
                    60,
                    60,
                    60,
                    60,
                    60,
                    60,
                    60,
                    60,
                    60,
                    60,
                    60,
                    60,
                    60,
                    60,
                    60,
                    60,
                    60,
                    60,
                    60,
                    60,
                    60,
                    60,
                    60,
                    60,
                    60,
                    60,
                    60,
                    60,
                    60,
                    60,
                    60,
                    60,
                    60,
                    60,
                    60,
                    60,
                    60,
                    60,
                    60,
                    60,
                    60,
                    60,
                    60,
                    60,
                    60,
                    60,
                    60,
                    60,
                    60,
                    60,
                    60,
                    60,
                    60,
                    60,
                    60,
                    60,
                    60,
                    60,
                    60,
                    60,
                    60,
                    60,
                    60,
                    60,
                    60,
                    60,
                    60,
                    60,
                    60,
                    60,
                    60,
                    60,
                    60,
                    60,
                    60,
                    60,
                    60,
                    60,
                    60,
                    60,
                    60,
                    60,
                    60,
                    60,
                    60,
                    60,
                    60,
                    60,
                    60,
                    60,
                    60,
                    60,
                    60,
                    60,
                    60,
                    60,
                    60,
                    60,
                    60,
                    60,
                    60,
                    60,
                    60,
                    60,
                    60,
                    60,
                    60,
                    60,
                    60,
                    60,
                    60,
                    60,
                    60,
                    60,
                    60,
                    60
                  ],
                  "xaxis": "x",
                  "yaxis": "y"
                },
                {
                  "alignmentgroup": "True",
                  "bingroup": "x",
                  "hovertemplate": "Age=%{x}<br>count=%{y}<extra></extra>",
                  "legendgroup": "78",
                  "marker": {
                    "color": "#FF97FF",
                    "pattern": {
                      "shape": ""
                    }
                  },
                  "name": "78",
                  "offsetgroup": "78",
                  "orientation": "v",
                  "showlegend": true,
                  "type": "histogram",
                  "x": [
                    78,
                    78,
                    78,
                    78,
                    78,
                    78,
                    78,
                    78,
                    78,
                    78,
                    78,
                    78,
                    78,
                    78,
                    78,
                    78,
                    78,
                    78,
                    78,
                    78,
                    78,
                    78,
                    78,
                    78,
                    78,
                    78,
                    78,
                    78,
                    78,
                    78,
                    78,
                    78,
                    78,
                    78,
                    78,
                    78,
                    78,
                    78,
                    78,
                    78,
                    78,
                    78,
                    78,
                    78,
                    78,
                    78,
                    78,
                    78,
                    78,
                    78,
                    78,
                    78,
                    78,
                    78,
                    78,
                    78,
                    78,
                    78,
                    78,
                    78,
                    78,
                    78,
                    78,
                    78,
                    78,
                    78,
                    78,
                    78,
                    78,
                    78,
                    78,
                    78,
                    78,
                    78,
                    78,
                    78,
                    78,
                    78,
                    78,
                    78,
                    78,
                    78,
                    78,
                    78,
                    78,
                    78,
                    78,
                    78,
                    78,
                    78,
                    78,
                    78,
                    78,
                    78,
                    78,
                    78,
                    78,
                    78,
                    78,
                    78,
                    78,
                    78,
                    78,
                    78,
                    78,
                    78,
                    78,
                    78,
                    78,
                    78,
                    78,
                    78,
                    78,
                    78,
                    78,
                    78,
                    78,
                    78,
                    78,
                    78,
                    78,
                    78,
                    78,
                    78,
                    78,
                    78,
                    78,
                    78,
                    78,
                    78,
                    78,
                    78,
                    78,
                    78,
                    78,
                    78,
                    78,
                    78,
                    78,
                    78,
                    78,
                    78,
                    78,
                    78,
                    78,
                    78,
                    78,
                    78,
                    78,
                    78,
                    78,
                    78,
                    78,
                    78,
                    78,
                    78,
                    78,
                    78,
                    78,
                    78,
                    78,
                    78,
                    78,
                    78,
                    78,
                    78,
                    78,
                    78,
                    78,
                    78,
                    78,
                    78,
                    78,
                    78,
                    78,
                    78,
                    78,
                    78,
                    78,
                    78,
                    78,
                    78,
                    78,
                    78,
                    78,
                    78,
                    78,
                    78,
                    78,
                    78,
                    78,
                    78,
                    78,
                    78,
                    78,
                    78,
                    78,
                    78,
                    78,
                    78,
                    78,
                    78,
                    78,
                    78,
                    78,
                    78,
                    78,
                    78,
                    78,
                    78,
                    78,
                    78,
                    78,
                    78,
                    78,
                    78,
                    78,
                    78,
                    78,
                    78,
                    78,
                    78,
                    78,
                    78,
                    78,
                    78,
                    78,
                    78,
                    78,
                    78,
                    78
                  ],
                  "xaxis": "x",
                  "yaxis": "y"
                },
                {
                  "alignmentgroup": "True",
                  "bingroup": "x",
                  "hovertemplate": "Age=%{x}<br>count=%{y}<extra></extra>",
                  "legendgroup": "72",
                  "marker": {
                    "color": "#FECB52",
                    "pattern": {
                      "shape": ""
                    }
                  },
                  "name": "72",
                  "offsetgroup": "72",
                  "orientation": "v",
                  "showlegend": true,
                  "type": "histogram",
                  "x": [
                    72,
                    72,
                    72,
                    72,
                    72,
                    72,
                    72,
                    72,
                    72,
                    72,
                    72,
                    72,
                    72,
                    72,
                    72,
                    72,
                    72,
                    72,
                    72,
                    72,
                    72,
                    72,
                    72,
                    72,
                    72,
                    72,
                    72,
                    72,
                    72,
                    72,
                    72,
                    72,
                    72,
                    72,
                    72,
                    72,
                    72,
                    72,
                    72,
                    72,
                    72,
                    72,
                    72,
                    72,
                    72,
                    72,
                    72,
                    72,
                    72,
                    72,
                    72,
                    72,
                    72,
                    72,
                    72,
                    72,
                    72,
                    72,
                    72,
                    72,
                    72,
                    72,
                    72,
                    72,
                    72,
                    72,
                    72,
                    72,
                    72,
                    72,
                    72,
                    72,
                    72,
                    72,
                    72,
                    72,
                    72,
                    72,
                    72,
                    72,
                    72,
                    72,
                    72,
                    72,
                    72,
                    72,
                    72,
                    72,
                    72,
                    72,
                    72,
                    72,
                    72,
                    72,
                    72,
                    72,
                    72,
                    72,
                    72,
                    72,
                    72,
                    72,
                    72,
                    72,
                    72,
                    72,
                    72,
                    72,
                    72,
                    72,
                    72,
                    72,
                    72,
                    72,
                    72,
                    72,
                    72,
                    72,
                    72,
                    72,
                    72,
                    72,
                    72,
                    72,
                    72,
                    72,
                    72,
                    72,
                    72,
                    72,
                    72,
                    72,
                    72,
                    72,
                    72,
                    72,
                    72,
                    72,
                    72,
                    72,
                    72,
                    72,
                    72,
                    72,
                    72,
                    72,
                    72,
                    72,
                    72,
                    72,
                    72,
                    72,
                    72,
                    72,
                    72,
                    72,
                    72,
                    72,
                    72,
                    72,
                    72,
                    72,
                    72,
                    72,
                    72,
                    72,
                    72,
                    72,
                    72,
                    72,
                    72,
                    72,
                    72,
                    72,
                    72,
                    72,
                    72,
                    72,
                    72,
                    72,
                    72,
                    72,
                    72,
                    72,
                    72,
                    72,
                    72,
                    72,
                    72,
                    72,
                    72,
                    72,
                    72,
                    72,
                    72,
                    72,
                    72,
                    72,
                    72,
                    72,
                    72,
                    72,
                    72,
                    72,
                    72,
                    72
                  ],
                  "xaxis": "x",
                  "yaxis": "y"
                },
                {
                  "alignmentgroup": "True",
                  "bingroup": "x",
                  "hovertemplate": "Age=%{x}<br>count=%{y}<extra></extra>",
                  "legendgroup": "53",
                  "marker": {
                    "color": "#636efa",
                    "pattern": {
                      "shape": ""
                    }
                  },
                  "name": "53",
                  "offsetgroup": "53",
                  "orientation": "v",
                  "showlegend": true,
                  "type": "histogram",
                  "x": [
                    53,
                    53,
                    53,
                    53,
                    53,
                    53,
                    53,
                    53,
                    53,
                    53,
                    53,
                    53,
                    53,
                    53,
                    53,
                    53,
                    53,
                    53,
                    53,
                    53,
                    53,
                    53,
                    53,
                    53,
                    53,
                    53,
                    53,
                    53,
                    53,
                    53,
                    53,
                    53,
                    53,
                    53,
                    53,
                    53,
                    53,
                    53,
                    53,
                    53,
                    53,
                    53,
                    53,
                    53,
                    53,
                    53,
                    53,
                    53,
                    53,
                    53,
                    53,
                    53,
                    53,
                    53,
                    53,
                    53,
                    53,
                    53,
                    53,
                    53,
                    53,
                    53,
                    53,
                    53,
                    53,
                    53,
                    53,
                    53,
                    53,
                    53,
                    53,
                    53,
                    53,
                    53,
                    53,
                    53,
                    53,
                    53,
                    53,
                    53,
                    53,
                    53,
                    53,
                    53,
                    53,
                    53,
                    53,
                    53,
                    53,
                    53,
                    53,
                    53,
                    53,
                    53,
                    53,
                    53,
                    53,
                    53,
                    53,
                    53,
                    53,
                    53,
                    53,
                    53,
                    53,
                    53,
                    53,
                    53,
                    53,
                    53,
                    53,
                    53,
                    53,
                    53,
                    53,
                    53,
                    53,
                    53,
                    53,
                    53,
                    53,
                    53,
                    53,
                    53,
                    53,
                    53,
                    53,
                    53,
                    53,
                    53,
                    53,
                    53,
                    53,
                    53,
                    53,
                    53,
                    53,
                    53,
                    53,
                    53,
                    53,
                    53,
                    53,
                    53,
                    53,
                    53,
                    53,
                    53,
                    53,
                    53,
                    53,
                    53,
                    53,
                    53,
                    53,
                    53,
                    53,
                    53,
                    53,
                    53,
                    53,
                    53,
                    53,
                    53,
                    53,
                    53,
                    53,
                    53,
                    53,
                    53,
                    53,
                    53,
                    53,
                    53,
                    53,
                    53,
                    53,
                    53,
                    53,
                    53,
                    53,
                    53,
                    53,
                    53,
                    53,
                    53,
                    53,
                    53,
                    53,
                    53,
                    53,
                    53,
                    53,
                    53,
                    53,
                    53,
                    53,
                    53,
                    53,
                    53,
                    53,
                    53,
                    53,
                    53,
                    53,
                    53,
                    53,
                    53,
                    53,
                    53,
                    53,
                    53,
                    53,
                    53,
                    53,
                    53,
                    53,
                    53,
                    53,
                    53,
                    53,
                    53,
                    53,
                    53,
                    53,
                    53,
                    53
                  ],
                  "xaxis": "x",
                  "yaxis": "y"
                },
                {
                  "alignmentgroup": "True",
                  "bingroup": "x",
                  "hovertemplate": "Age=%{x}<br>count=%{y}<extra></extra>",
                  "legendgroup": "25",
                  "marker": {
                    "color": "#EF553B",
                    "pattern": {
                      "shape": ""
                    }
                  },
                  "name": "25",
                  "offsetgroup": "25",
                  "orientation": "v",
                  "showlegend": true,
                  "type": "histogram",
                  "x": [
                    25,
                    25,
                    25,
                    25,
                    25,
                    25,
                    25,
                    25,
                    25,
                    25,
                    25,
                    25,
                    25,
                    25,
                    25,
                    25,
                    25,
                    25,
                    25,
                    25,
                    25,
                    25,
                    25,
                    25,
                    25,
                    25,
                    25,
                    25,
                    25,
                    25,
                    25,
                    25,
                    25,
                    25,
                    25,
                    25,
                    25,
                    25,
                    25,
                    25,
                    25,
                    25,
                    25,
                    25,
                    25,
                    25,
                    25,
                    25,
                    25,
                    25,
                    25,
                    25,
                    25,
                    25,
                    25,
                    25,
                    25,
                    25,
                    25,
                    25,
                    25,
                    25,
                    25,
                    25,
                    25,
                    25,
                    25,
                    25,
                    25,
                    25,
                    25,
                    25,
                    25,
                    25,
                    25,
                    25,
                    25,
                    25,
                    25,
                    25,
                    25,
                    25,
                    25,
                    25,
                    25,
                    25,
                    25,
                    25,
                    25,
                    25,
                    25,
                    25,
                    25,
                    25,
                    25,
                    25,
                    25,
                    25,
                    25,
                    25,
                    25,
                    25,
                    25,
                    25,
                    25,
                    25,
                    25,
                    25,
                    25,
                    25,
                    25,
                    25,
                    25,
                    25,
                    25,
                    25,
                    25,
                    25,
                    25,
                    25,
                    25,
                    25,
                    25,
                    25,
                    25,
                    25,
                    25,
                    25,
                    25,
                    25,
                    25,
                    25,
                    25,
                    25,
                    25,
                    25,
                    25,
                    25,
                    25,
                    25,
                    25,
                    25,
                    25,
                    25,
                    25,
                    25,
                    25,
                    25,
                    25,
                    25,
                    25,
                    25,
                    25,
                    25,
                    25,
                    25,
                    25,
                    25,
                    25,
                    25,
                    25,
                    25,
                    25,
                    25,
                    25,
                    25,
                    25,
                    25,
                    25,
                    25,
                    25,
                    25,
                    25,
                    25,
                    25,
                    25,
                    25,
                    25,
                    25,
                    25,
                    25,
                    25,
                    25,
                    25,
                    25,
                    25,
                    25,
                    25,
                    25,
                    25,
                    25,
                    25,
                    25,
                    25,
                    25,
                    25,
                    25,
                    25,
                    25,
                    25,
                    25,
                    25,
                    25,
                    25,
                    25,
                    25,
                    25,
                    25,
                    25,
                    25,
                    25,
                    25,
                    25,
                    25,
                    25,
                    25,
                    25,
                    25,
                    25,
                    25,
                    25,
                    25,
                    25,
                    25,
                    25,
                    25,
                    25,
                    25,
                    25,
                    25,
                    25,
                    25,
                    25,
                    25,
                    25,
                    25
                  ],
                  "xaxis": "x",
                  "yaxis": "y"
                },
                {
                  "alignmentgroup": "True",
                  "bingroup": "x",
                  "hovertemplate": "Age=%{x}<br>count=%{y}<extra></extra>",
                  "legendgroup": "79",
                  "marker": {
                    "color": "#00cc96",
                    "pattern": {
                      "shape": ""
                    }
                  },
                  "name": "79",
                  "offsetgroup": "79",
                  "orientation": "v",
                  "showlegend": true,
                  "type": "histogram",
                  "x": [
                    79,
                    79,
                    79,
                    79,
                    79,
                    79,
                    79,
                    79,
                    79,
                    79,
                    79,
                    79,
                    79,
                    79,
                    79,
                    79,
                    79,
                    79,
                    79,
                    79,
                    79,
                    79,
                    79,
                    79,
                    79,
                    79,
                    79,
                    79,
                    79,
                    79,
                    79,
                    79,
                    79,
                    79,
                    79,
                    79,
                    79,
                    79,
                    79,
                    79,
                    79,
                    79,
                    79,
                    79,
                    79,
                    79,
                    79,
                    79,
                    79,
                    79,
                    79,
                    79,
                    79,
                    79,
                    79,
                    79,
                    79,
                    79,
                    79,
                    79,
                    79,
                    79,
                    79,
                    79,
                    79,
                    79,
                    79,
                    79,
                    79,
                    79,
                    79,
                    79,
                    79,
                    79,
                    79,
                    79,
                    79,
                    79,
                    79,
                    79,
                    79,
                    79,
                    79,
                    79,
                    79,
                    79,
                    79,
                    79,
                    79,
                    79,
                    79,
                    79,
                    79,
                    79,
                    79,
                    79,
                    79,
                    79,
                    79,
                    79,
                    79,
                    79,
                    79,
                    79,
                    79,
                    79,
                    79,
                    79,
                    79,
                    79,
                    79,
                    79,
                    79,
                    79,
                    79,
                    79,
                    79,
                    79,
                    79,
                    79,
                    79,
                    79,
                    79,
                    79,
                    79,
                    79,
                    79,
                    79,
                    79,
                    79,
                    79,
                    79,
                    79,
                    79,
                    79,
                    79,
                    79,
                    79,
                    79,
                    79,
                    79,
                    79,
                    79,
                    79,
                    79,
                    79,
                    79,
                    79,
                    79,
                    79,
                    79,
                    79,
                    79,
                    79,
                    79,
                    79,
                    79,
                    79,
                    79,
                    79,
                    79,
                    79,
                    79,
                    79,
                    79,
                    79,
                    79,
                    79,
                    79,
                    79,
                    79,
                    79,
                    79,
                    79,
                    79,
                    79,
                    79,
                    79,
                    79,
                    79,
                    79,
                    79,
                    79,
                    79,
                    79,
                    79,
                    79,
                    79,
                    79,
                    79,
                    79,
                    79,
                    79,
                    79,
                    79,
                    79,
                    79,
                    79,
                    79,
                    79,
                    79,
                    79,
                    79,
                    79,
                    79,
                    79,
                    79,
                    79,
                    79,
                    79,
                    79,
                    79,
                    79,
                    79,
                    79,
                    79,
                    79,
                    79,
                    79,
                    79,
                    79,
                    79,
                    79,
                    79,
                    79,
                    79,
                    79,
                    79,
                    79,
                    79,
                    79,
                    79,
                    79,
                    79,
                    79,
                    79
                  ],
                  "xaxis": "x",
                  "yaxis": "y"
                },
                {
                  "alignmentgroup": "True",
                  "bingroup": "x",
                  "hovertemplate": "Age=%{x}<br>count=%{y}<extra></extra>",
                  "legendgroup": "46",
                  "marker": {
                    "color": "#ab63fa",
                    "pattern": {
                      "shape": ""
                    }
                  },
                  "name": "46",
                  "offsetgroup": "46",
                  "orientation": "v",
                  "showlegend": true,
                  "type": "histogram",
                  "x": [
                    46,
                    46,
                    46,
                    46,
                    46,
                    46,
                    46,
                    46,
                    46,
                    46,
                    46,
                    46,
                    46,
                    46,
                    46,
                    46,
                    46,
                    46,
                    46,
                    46,
                    46,
                    46,
                    46,
                    46,
                    46,
                    46,
                    46,
                    46,
                    46,
                    46,
                    46,
                    46,
                    46,
                    46,
                    46,
                    46,
                    46,
                    46,
                    46,
                    46,
                    46,
                    46,
                    46,
                    46,
                    46,
                    46,
                    46,
                    46,
                    46,
                    46,
                    46,
                    46,
                    46,
                    46,
                    46,
                    46,
                    46,
                    46,
                    46,
                    46,
                    46,
                    46,
                    46,
                    46,
                    46,
                    46,
                    46,
                    46,
                    46,
                    46,
                    46,
                    46,
                    46,
                    46,
                    46,
                    46,
                    46,
                    46,
                    46,
                    46,
                    46,
                    46,
                    46,
                    46,
                    46,
                    46,
                    46,
                    46,
                    46,
                    46,
                    46,
                    46,
                    46,
                    46,
                    46,
                    46,
                    46,
                    46,
                    46,
                    46,
                    46,
                    46,
                    46,
                    46,
                    46,
                    46,
                    46,
                    46,
                    46,
                    46,
                    46,
                    46,
                    46,
                    46,
                    46,
                    46,
                    46,
                    46,
                    46,
                    46,
                    46,
                    46,
                    46,
                    46,
                    46,
                    46,
                    46,
                    46,
                    46,
                    46,
                    46,
                    46,
                    46,
                    46,
                    46,
                    46,
                    46,
                    46,
                    46,
                    46,
                    46,
                    46,
                    46,
                    46,
                    46,
                    46,
                    46,
                    46,
                    46,
                    46,
                    46,
                    46,
                    46,
                    46,
                    46,
                    46,
                    46,
                    46,
                    46,
                    46,
                    46,
                    46,
                    46,
                    46,
                    46,
                    46,
                    46,
                    46,
                    46,
                    46,
                    46,
                    46,
                    46,
                    46,
                    46,
                    46,
                    46,
                    46,
                    46,
                    46,
                    46,
                    46,
                    46,
                    46,
                    46,
                    46,
                    46,
                    46,
                    46,
                    46,
                    46,
                    46,
                    46,
                    46,
                    46,
                    46,
                    46,
                    46,
                    46,
                    46,
                    46,
                    46,
                    46,
                    46,
                    46,
                    46,
                    46,
                    46,
                    46,
                    46,
                    46,
                    46,
                    46,
                    46,
                    46,
                    46,
                    46,
                    46,
                    46,
                    46,
                    46,
                    46,
                    46,
                    46,
                    46,
                    46,
                    46,
                    46,
                    46,
                    46,
                    46,
                    46,
                    46,
                    46,
                    46,
                    46,
                    46,
                    46,
                    46,
                    46,
                    46,
                    46,
                    46,
                    46
                  ],
                  "xaxis": "x",
                  "yaxis": "y"
                },
                {
                  "alignmentgroup": "True",
                  "bingroup": "x",
                  "hovertemplate": "Age=%{x}<br>count=%{y}<extra></extra>",
                  "legendgroup": "57",
                  "marker": {
                    "color": "#FFA15A",
                    "pattern": {
                      "shape": ""
                    }
                  },
                  "name": "57",
                  "offsetgroup": "57",
                  "orientation": "v",
                  "showlegend": true,
                  "type": "histogram",
                  "x": [
                    57,
                    57,
                    57,
                    57,
                    57,
                    57,
                    57,
                    57,
                    57,
                    57,
                    57,
                    57,
                    57,
                    57,
                    57,
                    57,
                    57,
                    57,
                    57,
                    57,
                    57,
                    57,
                    57,
                    57,
                    57,
                    57,
                    57,
                    57,
                    57,
                    57,
                    57,
                    57,
                    57,
                    57,
                    57,
                    57,
                    57,
                    57,
                    57,
                    57,
                    57,
                    57,
                    57,
                    57,
                    57,
                    57,
                    57,
                    57,
                    57,
                    57,
                    57,
                    57,
                    57,
                    57,
                    57,
                    57,
                    57,
                    57,
                    57,
                    57,
                    57,
                    57,
                    57,
                    57,
                    57,
                    57,
                    57,
                    57,
                    57,
                    57,
                    57,
                    57,
                    57,
                    57,
                    57,
                    57,
                    57,
                    57,
                    57,
                    57,
                    57,
                    57,
                    57,
                    57,
                    57,
                    57,
                    57,
                    57,
                    57,
                    57,
                    57,
                    57,
                    57,
                    57,
                    57,
                    57,
                    57,
                    57,
                    57,
                    57,
                    57,
                    57,
                    57,
                    57,
                    57,
                    57,
                    57,
                    57,
                    57,
                    57,
                    57,
                    57,
                    57,
                    57,
                    57,
                    57,
                    57,
                    57,
                    57,
                    57,
                    57,
                    57,
                    57,
                    57,
                    57,
                    57,
                    57,
                    57,
                    57,
                    57,
                    57,
                    57,
                    57,
                    57,
                    57,
                    57,
                    57,
                    57,
                    57,
                    57,
                    57,
                    57,
                    57,
                    57,
                    57,
                    57,
                    57,
                    57,
                    57,
                    57,
                    57,
                    57,
                    57,
                    57,
                    57,
                    57,
                    57,
                    57,
                    57,
                    57,
                    57,
                    57,
                    57,
                    57,
                    57,
                    57,
                    57,
                    57,
                    57,
                    57,
                    57,
                    57,
                    57,
                    57,
                    57,
                    57,
                    57,
                    57,
                    57,
                    57,
                    57,
                    57,
                    57,
                    57,
                    57,
                    57,
                    57,
                    57,
                    57,
                    57,
                    57,
                    57,
                    57,
                    57,
                    57,
                    57,
                    57,
                    57,
                    57,
                    57,
                    57,
                    57,
                    57,
                    57
                  ],
                  "xaxis": "x",
                  "yaxis": "y"
                },
                {
                  "alignmentgroup": "True",
                  "bingroup": "x",
                  "hovertemplate": "Age=%{x}<br>count=%{y}<extra></extra>",
                  "legendgroup": "63",
                  "marker": {
                    "color": "#19d3f3",
                    "pattern": {
                      "shape": ""
                    }
                  },
                  "name": "63",
                  "offsetgroup": "63",
                  "orientation": "v",
                  "showlegend": true,
                  "type": "histogram",
                  "x": [
                    63,
                    63,
                    63,
                    63,
                    63,
                    63,
                    63,
                    63,
                    63,
                    63,
                    63,
                    63,
                    63,
                    63,
                    63,
                    63,
                    63,
                    63,
                    63,
                    63,
                    63,
                    63,
                    63,
                    63,
                    63,
                    63,
                    63,
                    63,
                    63,
                    63,
                    63,
                    63,
                    63,
                    63,
                    63,
                    63,
                    63,
                    63,
                    63,
                    63,
                    63,
                    63,
                    63,
                    63,
                    63,
                    63,
                    63,
                    63,
                    63,
                    63,
                    63,
                    63,
                    63,
                    63,
                    63,
                    63,
                    63,
                    63,
                    63,
                    63,
                    63,
                    63,
                    63,
                    63,
                    63,
                    63,
                    63,
                    63,
                    63,
                    63,
                    63,
                    63,
                    63,
                    63,
                    63,
                    63,
                    63,
                    63,
                    63,
                    63,
                    63,
                    63,
                    63,
                    63,
                    63,
                    63,
                    63,
                    63,
                    63,
                    63,
                    63,
                    63,
                    63,
                    63,
                    63,
                    63,
                    63,
                    63,
                    63,
                    63,
                    63,
                    63,
                    63,
                    63,
                    63,
                    63,
                    63,
                    63,
                    63,
                    63,
                    63,
                    63,
                    63,
                    63,
                    63,
                    63,
                    63,
                    63,
                    63,
                    63,
                    63,
                    63,
                    63,
                    63,
                    63,
                    63,
                    63,
                    63,
                    63,
                    63,
                    63,
                    63,
                    63,
                    63,
                    63,
                    63,
                    63,
                    63,
                    63,
                    63,
                    63,
                    63,
                    63,
                    63,
                    63,
                    63,
                    63,
                    63,
                    63,
                    63,
                    63,
                    63,
                    63,
                    63,
                    63,
                    63,
                    63,
                    63,
                    63,
                    63,
                    63,
                    63,
                    63,
                    63,
                    63,
                    63,
                    63,
                    63,
                    63,
                    63,
                    63,
                    63,
                    63,
                    63,
                    63,
                    63,
                    63,
                    63,
                    63,
                    63,
                    63,
                    63,
                    63,
                    63,
                    63,
                    63,
                    63,
                    63,
                    63,
                    63,
                    63,
                    63,
                    63,
                    63,
                    63,
                    63,
                    63,
                    63,
                    63,
                    63,
                    63,
                    63,
                    63,
                    63,
                    63,
                    63,
                    63,
                    63,
                    63,
                    63,
                    63,
                    63,
                    63,
                    63,
                    63,
                    63,
                    63,
                    63,
                    63,
                    63,
                    63,
                    63,
                    63,
                    63,
                    63,
                    63,
                    63,
                    63,
                    63,
                    63,
                    63,
                    63,
                    63,
                    63
                  ],
                  "xaxis": "x",
                  "yaxis": "y"
                },
                {
                  "alignmentgroup": "True",
                  "bingroup": "x",
                  "hovertemplate": "Age=%{x}<br>count=%{y}<extra></extra>",
                  "legendgroup": "61",
                  "marker": {
                    "color": "#FF6692",
                    "pattern": {
                      "shape": ""
                    }
                  },
                  "name": "61",
                  "offsetgroup": "61",
                  "orientation": "v",
                  "showlegend": true,
                  "type": "histogram",
                  "x": [
                    61,
                    61,
                    61,
                    61,
                    61,
                    61,
                    61,
                    61,
                    61,
                    61,
                    61,
                    61,
                    61,
                    61,
                    61,
                    61,
                    61,
                    61,
                    61,
                    61,
                    61,
                    61,
                    61,
                    61,
                    61,
                    61,
                    61,
                    61,
                    61,
                    61,
                    61,
                    61,
                    61,
                    61,
                    61,
                    61,
                    61,
                    61,
                    61,
                    61,
                    61,
                    61,
                    61,
                    61,
                    61,
                    61,
                    61,
                    61,
                    61,
                    61,
                    61,
                    61,
                    61,
                    61,
                    61,
                    61,
                    61,
                    61,
                    61,
                    61,
                    61,
                    61,
                    61,
                    61,
                    61,
                    61,
                    61,
                    61,
                    61,
                    61,
                    61,
                    61,
                    61,
                    61,
                    61,
                    61,
                    61,
                    61,
                    61,
                    61,
                    61,
                    61,
                    61,
                    61,
                    61,
                    61,
                    61,
                    61,
                    61,
                    61,
                    61,
                    61,
                    61,
                    61,
                    61,
                    61,
                    61,
                    61,
                    61,
                    61,
                    61,
                    61,
                    61,
                    61,
                    61,
                    61,
                    61,
                    61,
                    61,
                    61,
                    61,
                    61,
                    61,
                    61,
                    61,
                    61,
                    61,
                    61,
                    61,
                    61,
                    61,
                    61,
                    61,
                    61,
                    61,
                    61,
                    61,
                    61,
                    61,
                    61,
                    61,
                    61,
                    61,
                    61,
                    61,
                    61,
                    61,
                    61,
                    61,
                    61,
                    61,
                    61,
                    61,
                    61,
                    61,
                    61,
                    61,
                    61,
                    61,
                    61,
                    61,
                    61,
                    61,
                    61,
                    61,
                    61,
                    61,
                    61,
                    61,
                    61,
                    61,
                    61,
                    61,
                    61,
                    61,
                    61,
                    61,
                    61,
                    61,
                    61,
                    61,
                    61,
                    61,
                    61,
                    61,
                    61,
                    61,
                    61,
                    61,
                    61,
                    61,
                    61,
                    61,
                    61,
                    61,
                    61,
                    61,
                    61,
                    61,
                    61,
                    61,
                    61,
                    61,
                    61,
                    61,
                    61,
                    61,
                    61,
                    61,
                    61,
                    61,
                    61,
                    61,
                    61,
                    61,
                    61,
                    61,
                    61,
                    61,
                    61,
                    61,
                    61,
                    61,
                    61,
                    61,
                    61,
                    61
                  ],
                  "xaxis": "x",
                  "yaxis": "y"
                },
                {
                  "alignmentgroup": "True",
                  "bingroup": "x",
                  "hovertemplate": "Age=%{x}<br>count=%{y}<extra></extra>",
                  "legendgroup": "69",
                  "marker": {
                    "color": "#B6E880",
                    "pattern": {
                      "shape": ""
                    }
                  },
                  "name": "69",
                  "offsetgroup": "69",
                  "orientation": "v",
                  "showlegend": true,
                  "type": "histogram",
                  "x": [
                    69,
                    69,
                    69,
                    69,
                    69,
                    69,
                    69,
                    69,
                    69,
                    69,
                    69,
                    69,
                    69,
                    69,
                    69,
                    69,
                    69,
                    69,
                    69,
                    69,
                    69,
                    69,
                    69,
                    69,
                    69,
                    69,
                    69,
                    69,
                    69,
                    69,
                    69,
                    69,
                    69,
                    69,
                    69,
                    69,
                    69,
                    69,
                    69,
                    69,
                    69,
                    69,
                    69,
                    69,
                    69,
                    69,
                    69,
                    69,
                    69,
                    69,
                    69,
                    69,
                    69,
                    69,
                    69,
                    69,
                    69,
                    69,
                    69,
                    69,
                    69,
                    69,
                    69,
                    69,
                    69,
                    69,
                    69,
                    69,
                    69,
                    69,
                    69,
                    69,
                    69,
                    69,
                    69,
                    69,
                    69,
                    69,
                    69,
                    69,
                    69,
                    69,
                    69,
                    69,
                    69,
                    69,
                    69,
                    69,
                    69,
                    69,
                    69,
                    69,
                    69,
                    69,
                    69,
                    69,
                    69,
                    69,
                    69,
                    69,
                    69,
                    69,
                    69,
                    69,
                    69,
                    69,
                    69,
                    69,
                    69,
                    69,
                    69,
                    69,
                    69,
                    69,
                    69,
                    69,
                    69,
                    69,
                    69,
                    69,
                    69,
                    69,
                    69,
                    69,
                    69,
                    69,
                    69,
                    69,
                    69,
                    69,
                    69,
                    69,
                    69,
                    69,
                    69,
                    69,
                    69,
                    69,
                    69,
                    69,
                    69,
                    69,
                    69,
                    69,
                    69,
                    69,
                    69,
                    69,
                    69,
                    69,
                    69,
                    69,
                    69,
                    69,
                    69,
                    69,
                    69,
                    69,
                    69,
                    69,
                    69,
                    69,
                    69,
                    69,
                    69,
                    69,
                    69,
                    69,
                    69,
                    69,
                    69,
                    69,
                    69,
                    69,
                    69,
                    69,
                    69,
                    69,
                    69,
                    69,
                    69,
                    69,
                    69,
                    69,
                    69,
                    69,
                    69,
                    69,
                    69,
                    69,
                    69,
                    69,
                    69,
                    69,
                    69,
                    69,
                    69,
                    69,
                    69,
                    69,
                    69,
                    69,
                    69,
                    69,
                    69,
                    69,
                    69,
                    69,
                    69,
                    69,
                    69,
                    69,
                    69,
                    69,
                    69,
                    69,
                    69,
                    69,
                    69,
                    69,
                    69,
                    69,
                    69,
                    69,
                    69,
                    69,
                    69,
                    69,
                    69,
                    69,
                    69,
                    69,
                    69,
                    69,
                    69
                  ],
                  "xaxis": "x",
                  "yaxis": "y"
                },
                {
                  "alignmentgroup": "True",
                  "bingroup": "x",
                  "hovertemplate": "Age=%{x}<br>count=%{y}<extra></extra>",
                  "legendgroup": "71",
                  "marker": {
                    "color": "#FF97FF",
                    "pattern": {
                      "shape": ""
                    }
                  },
                  "name": "71",
                  "offsetgroup": "71",
                  "orientation": "v",
                  "showlegend": true,
                  "type": "histogram",
                  "x": [
                    71,
                    71,
                    71,
                    71,
                    71,
                    71,
                    71,
                    71,
                    71,
                    71,
                    71,
                    71,
                    71,
                    71,
                    71,
                    71,
                    71,
                    71,
                    71,
                    71,
                    71,
                    71,
                    71,
                    71,
                    71,
                    71,
                    71,
                    71,
                    71,
                    71,
                    71,
                    71,
                    71,
                    71,
                    71,
                    71,
                    71,
                    71,
                    71,
                    71,
                    71,
                    71,
                    71,
                    71,
                    71,
                    71,
                    71,
                    71,
                    71,
                    71,
                    71,
                    71,
                    71,
                    71,
                    71,
                    71,
                    71,
                    71,
                    71,
                    71,
                    71,
                    71,
                    71,
                    71,
                    71,
                    71,
                    71,
                    71,
                    71,
                    71,
                    71,
                    71,
                    71,
                    71,
                    71,
                    71,
                    71,
                    71,
                    71,
                    71,
                    71,
                    71,
                    71,
                    71,
                    71,
                    71,
                    71,
                    71,
                    71,
                    71,
                    71,
                    71,
                    71,
                    71,
                    71,
                    71,
                    71,
                    71,
                    71,
                    71,
                    71,
                    71,
                    71,
                    71,
                    71,
                    71,
                    71,
                    71,
                    71,
                    71,
                    71,
                    71,
                    71,
                    71,
                    71,
                    71,
                    71,
                    71,
                    71,
                    71,
                    71,
                    71,
                    71,
                    71,
                    71,
                    71,
                    71,
                    71,
                    71,
                    71,
                    71,
                    71,
                    71,
                    71,
                    71,
                    71,
                    71,
                    71,
                    71,
                    71,
                    71,
                    71,
                    71,
                    71,
                    71,
                    71,
                    71,
                    71,
                    71,
                    71,
                    71,
                    71,
                    71,
                    71,
                    71,
                    71,
                    71,
                    71,
                    71,
                    71,
                    71,
                    71,
                    71,
                    71,
                    71,
                    71,
                    71,
                    71,
                    71,
                    71,
                    71,
                    71,
                    71,
                    71,
                    71,
                    71,
                    71,
                    71,
                    71,
                    71,
                    71,
                    71,
                    71,
                    71,
                    71,
                    71,
                    71,
                    71,
                    71,
                    71,
                    71,
                    71,
                    71,
                    71,
                    71,
                    71,
                    71,
                    71,
                    71,
                    71,
                    71,
                    71,
                    71,
                    71,
                    71,
                    71,
                    71,
                    71,
                    71,
                    71,
                    71,
                    71,
                    71,
                    71,
                    71,
                    71,
                    71,
                    71,
                    71,
                    71,
                    71
                  ],
                  "xaxis": "x",
                  "yaxis": "y"
                },
                {
                  "alignmentgroup": "True",
                  "bingroup": "x",
                  "hovertemplate": "Age=%{x}<br>count=%{y}<extra></extra>",
                  "legendgroup": "68",
                  "marker": {
                    "color": "#FECB52",
                    "pattern": {
                      "shape": ""
                    }
                  },
                  "name": "68",
                  "offsetgroup": "68",
                  "orientation": "v",
                  "showlegend": true,
                  "type": "histogram",
                  "x": [
                    68,
                    68,
                    68,
                    68,
                    68,
                    68,
                    68,
                    68,
                    68,
                    68,
                    68,
                    68,
                    68,
                    68,
                    68,
                    68,
                    68,
                    68,
                    68,
                    68,
                    68,
                    68,
                    68,
                    68,
                    68,
                    68,
                    68,
                    68,
                    68,
                    68,
                    68,
                    68,
                    68,
                    68,
                    68,
                    68,
                    68,
                    68,
                    68,
                    68,
                    68,
                    68,
                    68,
                    68,
                    68,
                    68,
                    68,
                    68,
                    68,
                    68,
                    68,
                    68,
                    68,
                    68,
                    68,
                    68,
                    68,
                    68,
                    68,
                    68,
                    68,
                    68,
                    68,
                    68,
                    68,
                    68,
                    68,
                    68,
                    68,
                    68,
                    68,
                    68,
                    68,
                    68,
                    68,
                    68,
                    68,
                    68,
                    68,
                    68,
                    68,
                    68,
                    68,
                    68,
                    68,
                    68,
                    68,
                    68,
                    68,
                    68,
                    68,
                    68,
                    68,
                    68,
                    68,
                    68,
                    68,
                    68,
                    68,
                    68,
                    68,
                    68,
                    68,
                    68,
                    68,
                    68,
                    68,
                    68,
                    68,
                    68,
                    68,
                    68,
                    68,
                    68,
                    68,
                    68,
                    68,
                    68,
                    68,
                    68,
                    68,
                    68,
                    68,
                    68,
                    68,
                    68,
                    68,
                    68,
                    68,
                    68,
                    68,
                    68,
                    68,
                    68,
                    68,
                    68,
                    68,
                    68,
                    68,
                    68,
                    68,
                    68,
                    68,
                    68,
                    68,
                    68,
                    68,
                    68,
                    68,
                    68,
                    68,
                    68,
                    68,
                    68,
                    68,
                    68,
                    68,
                    68,
                    68,
                    68,
                    68,
                    68,
                    68,
                    68,
                    68,
                    68,
                    68,
                    68,
                    68,
                    68,
                    68,
                    68,
                    68,
                    68,
                    68,
                    68,
                    68,
                    68,
                    68,
                    68,
                    68,
                    68,
                    68,
                    68,
                    68,
                    68,
                    68,
                    68,
                    68,
                    68,
                    68,
                    68,
                    68,
                    68,
                    68,
                    68,
                    68,
                    68,
                    68,
                    68,
                    68,
                    68,
                    68,
                    68,
                    68,
                    68,
                    68,
                    68,
                    68,
                    68,
                    68,
                    68,
                    68,
                    68,
                    68,
                    68,
                    68,
                    68,
                    68,
                    68,
                    68,
                    68,
                    68,
                    68,
                    68,
                    68,
                    68,
                    68,
                    68,
                    68,
                    68,
                    68,
                    68,
                    68,
                    68,
                    68,
                    68,
                    68,
                    68
                  ],
                  "xaxis": "x",
                  "yaxis": "y"
                },
                {
                  "alignmentgroup": "True",
                  "bingroup": "x",
                  "hovertemplate": "Age=%{x}<br>count=%{y}<extra></extra>",
                  "legendgroup": "83",
                  "marker": {
                    "color": "#636efa",
                    "pattern": {
                      "shape": ""
                    }
                  },
                  "name": "83",
                  "offsetgroup": "83",
                  "orientation": "v",
                  "showlegend": true,
                  "type": "histogram",
                  "x": [
                    83,
                    83,
                    83,
                    83,
                    83,
                    83,
                    83,
                    83,
                    83,
                    83,
                    83,
                    83,
                    83,
                    83,
                    83,
                    83,
                    83,
                    83,
                    83,
                    83,
                    83,
                    83,
                    83,
                    83,
                    83,
                    83,
                    83,
                    83,
                    83,
                    83,
                    83,
                    83,
                    83,
                    83,
                    83,
                    83,
                    83,
                    83,
                    83,
                    83,
                    83,
                    83,
                    83,
                    83,
                    83,
                    83,
                    83,
                    83,
                    83,
                    83,
                    83,
                    83,
                    83,
                    83,
                    83,
                    83,
                    83,
                    83,
                    83,
                    83,
                    83,
                    83,
                    83,
                    83,
                    83,
                    83,
                    83,
                    83,
                    83,
                    83,
                    83,
                    83,
                    83,
                    83,
                    83,
                    83,
                    83,
                    83,
                    83,
                    83,
                    83,
                    83,
                    83,
                    83,
                    83,
                    83,
                    83,
                    83,
                    83,
                    83,
                    83,
                    83,
                    83,
                    83,
                    83,
                    83,
                    83,
                    83,
                    83,
                    83,
                    83,
                    83,
                    83,
                    83,
                    83,
                    83,
                    83,
                    83,
                    83,
                    83,
                    83,
                    83,
                    83,
                    83,
                    83,
                    83,
                    83,
                    83,
                    83,
                    83,
                    83,
                    83,
                    83,
                    83,
                    83,
                    83,
                    83,
                    83,
                    83,
                    83,
                    83,
                    83,
                    83,
                    83,
                    83,
                    83,
                    83,
                    83,
                    83,
                    83,
                    83,
                    83,
                    83,
                    83,
                    83,
                    83,
                    83,
                    83,
                    83,
                    83,
                    83,
                    83,
                    83,
                    83,
                    83,
                    83,
                    83,
                    83,
                    83,
                    83,
                    83,
                    83,
                    83,
                    83,
                    83,
                    83,
                    83,
                    83,
                    83,
                    83,
                    83,
                    83,
                    83,
                    83,
                    83,
                    83,
                    83,
                    83,
                    83,
                    83,
                    83,
                    83,
                    83,
                    83,
                    83,
                    83,
                    83,
                    83,
                    83,
                    83,
                    83,
                    83,
                    83,
                    83,
                    83,
                    83,
                    83,
                    83,
                    83,
                    83,
                    83,
                    83,
                    83,
                    83,
                    83,
                    83,
                    83,
                    83,
                    83,
                    83,
                    83,
                    83,
                    83,
                    83,
                    83,
                    83,
                    83
                  ],
                  "xaxis": "x",
                  "yaxis": "y"
                },
                {
                  "alignmentgroup": "True",
                  "bingroup": "x",
                  "hovertemplate": "Age=%{x}<br>count=%{y}<extra></extra>",
                  "legendgroup": "32",
                  "marker": {
                    "color": "#EF553B",
                    "pattern": {
                      "shape": ""
                    }
                  },
                  "name": "32",
                  "offsetgroup": "32",
                  "orientation": "v",
                  "showlegend": true,
                  "type": "histogram",
                  "x": [
                    32,
                    32,
                    32,
                    32,
                    32,
                    32,
                    32,
                    32,
                    32,
                    32,
                    32,
                    32,
                    32,
                    32,
                    32,
                    32,
                    32,
                    32,
                    32,
                    32,
                    32,
                    32,
                    32,
                    32,
                    32,
                    32,
                    32,
                    32,
                    32,
                    32,
                    32,
                    32,
                    32,
                    32,
                    32,
                    32,
                    32,
                    32,
                    32,
                    32,
                    32,
                    32,
                    32,
                    32,
                    32,
                    32,
                    32,
                    32,
                    32,
                    32,
                    32,
                    32,
                    32,
                    32,
                    32,
                    32,
                    32,
                    32,
                    32,
                    32,
                    32,
                    32,
                    32,
                    32,
                    32,
                    32,
                    32,
                    32,
                    32,
                    32,
                    32,
                    32,
                    32,
                    32,
                    32,
                    32,
                    32,
                    32,
                    32,
                    32,
                    32,
                    32,
                    32,
                    32,
                    32,
                    32,
                    32,
                    32,
                    32,
                    32,
                    32,
                    32,
                    32,
                    32,
                    32,
                    32,
                    32,
                    32,
                    32,
                    32,
                    32,
                    32,
                    32,
                    32,
                    32,
                    32,
                    32,
                    32,
                    32,
                    32,
                    32,
                    32,
                    32,
                    32,
                    32,
                    32,
                    32,
                    32,
                    32,
                    32,
                    32,
                    32,
                    32,
                    32,
                    32,
                    32,
                    32,
                    32,
                    32,
                    32,
                    32,
                    32,
                    32,
                    32,
                    32,
                    32,
                    32,
                    32,
                    32,
                    32,
                    32,
                    32,
                    32,
                    32,
                    32,
                    32,
                    32,
                    32,
                    32,
                    32,
                    32,
                    32,
                    32,
                    32,
                    32,
                    32,
                    32,
                    32,
                    32,
                    32,
                    32,
                    32,
                    32,
                    32,
                    32,
                    32,
                    32,
                    32,
                    32,
                    32,
                    32,
                    32,
                    32,
                    32,
                    32,
                    32,
                    32,
                    32,
                    32,
                    32,
                    32,
                    32,
                    32,
                    32,
                    32,
                    32,
                    32,
                    32,
                    32,
                    32,
                    32,
                    32,
                    32,
                    32,
                    32,
                    32,
                    32,
                    32,
                    32,
                    32,
                    32,
                    32,
                    32,
                    32,
                    32,
                    32,
                    32,
                    32,
                    32,
                    32,
                    32,
                    32,
                    32,
                    32,
                    32,
                    32,
                    32,
                    32,
                    32,
                    32,
                    32,
                    32,
                    32,
                    32,
                    32,
                    32,
                    32,
                    32,
                    32,
                    32,
                    32,
                    32,
                    32,
                    32,
                    32,
                    32,
                    32,
                    32,
                    32,
                    32,
                    32,
                    32,
                    32,
                    32,
                    32,
                    32,
                    32,
                    32,
                    32,
                    32
                  ],
                  "xaxis": "x",
                  "yaxis": "y"
                },
                {
                  "alignmentgroup": "True",
                  "bingroup": "x",
                  "hovertemplate": "Age=%{x}<br>count=%{y}<extra></extra>",
                  "legendgroup": "62",
                  "marker": {
                    "color": "#00cc96",
                    "pattern": {
                      "shape": ""
                    }
                  },
                  "name": "62",
                  "offsetgroup": "62",
                  "orientation": "v",
                  "showlegend": true,
                  "type": "histogram",
                  "x": [
                    62,
                    62,
                    62,
                    62,
                    62,
                    62,
                    62,
                    62,
                    62,
                    62,
                    62,
                    62,
                    62,
                    62,
                    62,
                    62,
                    62,
                    62,
                    62,
                    62,
                    62,
                    62,
                    62,
                    62,
                    62,
                    62,
                    62,
                    62,
                    62,
                    62,
                    62,
                    62,
                    62,
                    62,
                    62,
                    62,
                    62,
                    62,
                    62,
                    62,
                    62,
                    62,
                    62,
                    62,
                    62,
                    62,
                    62,
                    62,
                    62,
                    62,
                    62,
                    62,
                    62,
                    62,
                    62,
                    62,
                    62,
                    62,
                    62,
                    62,
                    62,
                    62,
                    62,
                    62,
                    62,
                    62,
                    62,
                    62,
                    62,
                    62,
                    62,
                    62,
                    62,
                    62,
                    62,
                    62,
                    62,
                    62,
                    62,
                    62,
                    62,
                    62,
                    62,
                    62,
                    62,
                    62,
                    62,
                    62,
                    62,
                    62,
                    62,
                    62,
                    62,
                    62,
                    62,
                    62,
                    62,
                    62,
                    62,
                    62,
                    62,
                    62,
                    62,
                    62,
                    62,
                    62,
                    62,
                    62,
                    62,
                    62,
                    62,
                    62,
                    62,
                    62,
                    62,
                    62,
                    62,
                    62,
                    62,
                    62,
                    62,
                    62,
                    62,
                    62,
                    62,
                    62,
                    62,
                    62,
                    62,
                    62,
                    62,
                    62,
                    62,
                    62,
                    62,
                    62,
                    62,
                    62,
                    62,
                    62,
                    62,
                    62,
                    62,
                    62,
                    62,
                    62,
                    62,
                    62,
                    62,
                    62,
                    62,
                    62,
                    62,
                    62,
                    62,
                    62,
                    62,
                    62,
                    62,
                    62,
                    62,
                    62,
                    62,
                    62,
                    62,
                    62,
                    62,
                    62,
                    62,
                    62,
                    62,
                    62,
                    62,
                    62,
                    62,
                    62,
                    62,
                    62,
                    62,
                    62,
                    62,
                    62,
                    62,
                    62,
                    62,
                    62,
                    62,
                    62,
                    62,
                    62,
                    62,
                    62,
                    62,
                    62,
                    62,
                    62,
                    62,
                    62,
                    62,
                    62,
                    62,
                    62,
                    62,
                    62,
                    62,
                    62,
                    62,
                    62,
                    62,
                    62,
                    62,
                    62,
                    62,
                    62,
                    62,
                    62,
                    62,
                    62,
                    62,
                    62,
                    62,
                    62,
                    62,
                    62,
                    62,
                    62,
                    62,
                    62,
                    62,
                    62,
                    62,
                    62,
                    62,
                    62,
                    62,
                    62,
                    62,
                    62,
                    62,
                    62,
                    62,
                    62,
                    62,
                    62,
                    62,
                    62,
                    62,
                    62
                  ],
                  "xaxis": "x",
                  "yaxis": "y"
                },
                {
                  "alignmentgroup": "True",
                  "bingroup": "x",
                  "hovertemplate": "Age=%{x}<br>count=%{y}<extra></extra>",
                  "legendgroup": "51",
                  "marker": {
                    "color": "#ab63fa",
                    "pattern": {
                      "shape": ""
                    }
                  },
                  "name": "51",
                  "offsetgroup": "51",
                  "orientation": "v",
                  "showlegend": true,
                  "type": "histogram",
                  "x": [
                    51,
                    51,
                    51,
                    51,
                    51,
                    51,
                    51,
                    51,
                    51,
                    51,
                    51,
                    51,
                    51,
                    51,
                    51,
                    51,
                    51,
                    51,
                    51,
                    51,
                    51,
                    51,
                    51,
                    51,
                    51,
                    51,
                    51,
                    51,
                    51,
                    51,
                    51,
                    51,
                    51,
                    51,
                    51,
                    51,
                    51,
                    51,
                    51,
                    51,
                    51,
                    51,
                    51,
                    51,
                    51,
                    51,
                    51,
                    51,
                    51,
                    51,
                    51,
                    51,
                    51,
                    51,
                    51,
                    51,
                    51,
                    51,
                    51,
                    51,
                    51,
                    51,
                    51,
                    51,
                    51,
                    51,
                    51,
                    51,
                    51,
                    51,
                    51,
                    51,
                    51,
                    51,
                    51,
                    51,
                    51,
                    51,
                    51,
                    51,
                    51,
                    51,
                    51,
                    51,
                    51,
                    51,
                    51,
                    51,
                    51,
                    51,
                    51,
                    51,
                    51,
                    51,
                    51,
                    51,
                    51,
                    51,
                    51,
                    51,
                    51,
                    51,
                    51,
                    51,
                    51,
                    51,
                    51,
                    51,
                    51,
                    51,
                    51,
                    51,
                    51,
                    51,
                    51,
                    51,
                    51,
                    51,
                    51,
                    51,
                    51,
                    51,
                    51,
                    51,
                    51,
                    51,
                    51,
                    51,
                    51,
                    51,
                    51,
                    51,
                    51,
                    51,
                    51,
                    51,
                    51,
                    51,
                    51,
                    51,
                    51,
                    51,
                    51,
                    51,
                    51,
                    51,
                    51,
                    51,
                    51,
                    51,
                    51,
                    51,
                    51,
                    51,
                    51,
                    51,
                    51,
                    51,
                    51,
                    51,
                    51,
                    51,
                    51,
                    51,
                    51,
                    51,
                    51,
                    51,
                    51,
                    51,
                    51,
                    51,
                    51,
                    51,
                    51,
                    51,
                    51,
                    51,
                    51,
                    51,
                    51,
                    51,
                    51,
                    51,
                    51,
                    51,
                    51,
                    51,
                    51,
                    51,
                    51,
                    51,
                    51,
                    51,
                    51,
                    51,
                    51,
                    51,
                    51,
                    51,
                    51,
                    51,
                    51,
                    51,
                    51,
                    51,
                    51,
                    51,
                    51,
                    51,
                    51,
                    51,
                    51,
                    51,
                    51,
                    51,
                    51,
                    51,
                    51,
                    51,
                    51,
                    51,
                    51,
                    51,
                    51,
                    51,
                    51,
                    51,
                    51,
                    51,
                    51,
                    51,
                    51,
                    51,
                    51,
                    51,
                    51,
                    51
                  ],
                  "xaxis": "x",
                  "yaxis": "y"
                },
                {
                  "alignmentgroup": "True",
                  "bingroup": "x",
                  "hovertemplate": "Age=%{x}<br>count=%{y}<extra></extra>",
                  "legendgroup": "87",
                  "marker": {
                    "color": "#FFA15A",
                    "pattern": {
                      "shape": ""
                    }
                  },
                  "name": "87",
                  "offsetgroup": "87",
                  "orientation": "v",
                  "showlegend": true,
                  "type": "histogram",
                  "x": [
                    87,
                    87,
                    87,
                    87,
                    87,
                    87,
                    87,
                    87,
                    87,
                    87,
                    87,
                    87,
                    87,
                    87,
                    87,
                    87,
                    87,
                    87,
                    87,
                    87,
                    87,
                    87,
                    87,
                    87,
                    87,
                    87,
                    87,
                    87,
                    87,
                    87,
                    87,
                    87,
                    87,
                    87,
                    87,
                    87,
                    87,
                    87,
                    87,
                    87,
                    87,
                    87,
                    87,
                    87,
                    87,
                    87,
                    87,
                    87,
                    87,
                    87,
                    87,
                    87,
                    87,
                    87,
                    87,
                    87,
                    87,
                    87,
                    87,
                    87,
                    87,
                    87,
                    87,
                    87,
                    87,
                    87,
                    87,
                    87,
                    87,
                    87,
                    87,
                    87,
                    87,
                    87,
                    87,
                    87,
                    87,
                    87,
                    87,
                    87,
                    87,
                    87,
                    87,
                    87,
                    87,
                    87,
                    87,
                    87,
                    87,
                    87,
                    87,
                    87,
                    87,
                    87,
                    87,
                    87,
                    87,
                    87,
                    87,
                    87,
                    87,
                    87,
                    87,
                    87,
                    87,
                    87,
                    87,
                    87,
                    87,
                    87,
                    87,
                    87,
                    87,
                    87,
                    87,
                    87,
                    87,
                    87,
                    87,
                    87,
                    87,
                    87,
                    87,
                    87,
                    87,
                    87,
                    87,
                    87,
                    87,
                    87,
                    87,
                    87,
                    87,
                    87,
                    87,
                    87,
                    87,
                    87,
                    87,
                    87,
                    87,
                    87,
                    87,
                    87,
                    87,
                    87,
                    87,
                    87,
                    87,
                    87,
                    87,
                    87,
                    87,
                    87,
                    87,
                    87,
                    87,
                    87,
                    87,
                    87,
                    87,
                    87,
                    87,
                    87,
                    87,
                    87,
                    87,
                    87,
                    87,
                    87,
                    87,
                    87,
                    87,
                    87,
                    87,
                    87,
                    87,
                    87,
                    87,
                    87,
                    87,
                    87,
                    87,
                    87,
                    87,
                    87,
                    87,
                    87,
                    87,
                    87,
                    87,
                    87,
                    87,
                    87,
                    87,
                    87,
                    87,
                    87,
                    87,
                    87,
                    87,
                    87,
                    87,
                    87,
                    87,
                    87,
                    87,
                    87,
                    87,
                    87,
                    87,
                    87,
                    87,
                    87,
                    87,
                    87,
                    87,
                    87,
                    87,
                    87,
                    87,
                    87,
                    87,
                    87,
                    87,
                    87,
                    87,
                    87,
                    87,
                    87,
                    87,
                    87,
                    87,
                    87,
                    87,
                    87,
                    87,
                    87,
                    87,
                    87,
                    87,
                    87,
                    87,
                    87,
                    87,
                    87,
                    87,
                    87,
                    87,
                    87,
                    87,
                    87,
                    87,
                    87,
                    87,
                    87,
                    87,
                    87
                  ],
                  "xaxis": "x",
                  "yaxis": "y"
                },
                {
                  "alignmentgroup": "True",
                  "bingroup": "x",
                  "hovertemplate": "Age=%{x}<br>count=%{y}<extra></extra>",
                  "legendgroup": "42",
                  "marker": {
                    "color": "#19d3f3",
                    "pattern": {
                      "shape": ""
                    }
                  },
                  "name": "42",
                  "offsetgroup": "42",
                  "orientation": "v",
                  "showlegend": true,
                  "type": "histogram",
                  "x": [
                    42,
                    42,
                    42,
                    42,
                    42,
                    42,
                    42,
                    42,
                    42,
                    42,
                    42,
                    42,
                    42,
                    42,
                    42,
                    42,
                    42,
                    42,
                    42,
                    42,
                    42,
                    42,
                    42,
                    42,
                    42,
                    42,
                    42,
                    42,
                    42,
                    42,
                    42,
                    42,
                    42,
                    42,
                    42,
                    42,
                    42,
                    42,
                    42,
                    42,
                    42,
                    42,
                    42,
                    42,
                    42,
                    42,
                    42,
                    42,
                    42,
                    42,
                    42,
                    42,
                    42,
                    42,
                    42,
                    42,
                    42,
                    42,
                    42,
                    42,
                    42,
                    42,
                    42,
                    42,
                    42,
                    42,
                    42,
                    42,
                    42,
                    42,
                    42,
                    42,
                    42,
                    42,
                    42,
                    42,
                    42,
                    42,
                    42,
                    42,
                    42,
                    42,
                    42,
                    42,
                    42,
                    42,
                    42,
                    42,
                    42,
                    42,
                    42,
                    42,
                    42,
                    42,
                    42,
                    42,
                    42,
                    42,
                    42,
                    42,
                    42,
                    42,
                    42,
                    42,
                    42,
                    42,
                    42,
                    42,
                    42,
                    42,
                    42,
                    42,
                    42,
                    42,
                    42,
                    42,
                    42,
                    42,
                    42,
                    42,
                    42,
                    42,
                    42,
                    42,
                    42,
                    42,
                    42,
                    42,
                    42,
                    42,
                    42,
                    42,
                    42,
                    42,
                    42,
                    42,
                    42,
                    42,
                    42,
                    42,
                    42,
                    42,
                    42,
                    42,
                    42,
                    42,
                    42,
                    42,
                    42,
                    42,
                    42,
                    42,
                    42,
                    42,
                    42,
                    42,
                    42,
                    42,
                    42,
                    42,
                    42,
                    42,
                    42,
                    42,
                    42,
                    42,
                    42,
                    42,
                    42,
                    42,
                    42,
                    42,
                    42,
                    42,
                    42,
                    42,
                    42,
                    42,
                    42,
                    42,
                    42,
                    42,
                    42,
                    42,
                    42,
                    42,
                    42,
                    42,
                    42,
                    42,
                    42,
                    42,
                    42,
                    42,
                    42,
                    42,
                    42,
                    42,
                    42,
                    42,
                    42,
                    42,
                    42,
                    42,
                    42,
                    42,
                    42,
                    42,
                    42,
                    42,
                    42,
                    42,
                    42,
                    42,
                    42,
                    42,
                    42,
                    42,
                    42,
                    42,
                    42,
                    42,
                    42,
                    42,
                    42,
                    42,
                    42,
                    42,
                    42,
                    42,
                    42,
                    42,
                    42,
                    42,
                    42,
                    42,
                    42,
                    42,
                    42,
                    42,
                    42,
                    42,
                    42,
                    42,
                    42
                  ],
                  "xaxis": "x",
                  "yaxis": "y"
                },
                {
                  "alignmentgroup": "True",
                  "bingroup": "x",
                  "hovertemplate": "Age=%{x}<br>count=%{y}<extra></extra>",
                  "legendgroup": "28",
                  "marker": {
                    "color": "#FF6692",
                    "pattern": {
                      "shape": ""
                    }
                  },
                  "name": "28",
                  "offsetgroup": "28",
                  "orientation": "v",
                  "showlegend": true,
                  "type": "histogram",
                  "x": [
                    28,
                    28,
                    28,
                    28,
                    28,
                    28,
                    28,
                    28,
                    28,
                    28,
                    28,
                    28,
                    28,
                    28,
                    28,
                    28,
                    28,
                    28,
                    28,
                    28,
                    28,
                    28,
                    28,
                    28,
                    28,
                    28,
                    28,
                    28,
                    28,
                    28,
                    28,
                    28,
                    28,
                    28,
                    28,
                    28,
                    28,
                    28,
                    28,
                    28,
                    28,
                    28,
                    28,
                    28,
                    28,
                    28,
                    28,
                    28,
                    28,
                    28,
                    28,
                    28,
                    28,
                    28,
                    28,
                    28,
                    28,
                    28,
                    28,
                    28,
                    28,
                    28,
                    28,
                    28,
                    28,
                    28,
                    28,
                    28,
                    28,
                    28,
                    28,
                    28,
                    28,
                    28,
                    28,
                    28,
                    28,
                    28,
                    28,
                    28,
                    28,
                    28,
                    28,
                    28,
                    28,
                    28,
                    28,
                    28,
                    28,
                    28,
                    28,
                    28,
                    28,
                    28,
                    28,
                    28,
                    28,
                    28,
                    28,
                    28,
                    28,
                    28,
                    28,
                    28,
                    28,
                    28,
                    28,
                    28,
                    28,
                    28,
                    28,
                    28,
                    28,
                    28,
                    28,
                    28,
                    28,
                    28,
                    28,
                    28,
                    28,
                    28,
                    28,
                    28,
                    28,
                    28,
                    28,
                    28,
                    28,
                    28,
                    28,
                    28,
                    28,
                    28,
                    28,
                    28,
                    28,
                    28,
                    28,
                    28,
                    28,
                    28,
                    28,
                    28,
                    28,
                    28,
                    28,
                    28,
                    28,
                    28,
                    28,
                    28,
                    28,
                    28,
                    28,
                    28,
                    28,
                    28,
                    28,
                    28,
                    28,
                    28,
                    28,
                    28,
                    28,
                    28,
                    28,
                    28,
                    28,
                    28,
                    28,
                    28,
                    28,
                    28,
                    28,
                    28,
                    28,
                    28,
                    28,
                    28,
                    28,
                    28,
                    28,
                    28,
                    28,
                    28,
                    28,
                    28,
                    28,
                    28,
                    28,
                    28,
                    28,
                    28,
                    28,
                    28,
                    28,
                    28,
                    28,
                    28,
                    28,
                    28,
                    28,
                    28,
                    28,
                    28,
                    28,
                    28,
                    28,
                    28,
                    28,
                    28,
                    28,
                    28,
                    28,
                    28,
                    28,
                    28,
                    28,
                    28,
                    28,
                    28,
                    28,
                    28,
                    28,
                    28,
                    28,
                    28,
                    28,
                    28
                  ],
                  "xaxis": "x",
                  "yaxis": "y"
                },
                {
                  "alignmentgroup": "True",
                  "bingroup": "x",
                  "hovertemplate": "Age=%{x}<br>count=%{y}<extra></extra>",
                  "legendgroup": "47",
                  "marker": {
                    "color": "#B6E880",
                    "pattern": {
                      "shape": ""
                    }
                  },
                  "name": "47",
                  "offsetgroup": "47",
                  "orientation": "v",
                  "showlegend": true,
                  "type": "histogram",
                  "x": [
                    47,
                    47,
                    47,
                    47,
                    47,
                    47,
                    47,
                    47,
                    47,
                    47,
                    47,
                    47,
                    47,
                    47,
                    47,
                    47,
                    47,
                    47,
                    47,
                    47,
                    47,
                    47,
                    47,
                    47,
                    47,
                    47,
                    47,
                    47,
                    47,
                    47,
                    47,
                    47,
                    47,
                    47,
                    47,
                    47,
                    47,
                    47,
                    47,
                    47,
                    47,
                    47,
                    47,
                    47,
                    47,
                    47,
                    47,
                    47,
                    47,
                    47,
                    47,
                    47,
                    47,
                    47,
                    47,
                    47,
                    47,
                    47,
                    47,
                    47,
                    47,
                    47,
                    47,
                    47,
                    47,
                    47,
                    47,
                    47,
                    47,
                    47,
                    47,
                    47,
                    47,
                    47,
                    47,
                    47,
                    47,
                    47,
                    47,
                    47,
                    47,
                    47,
                    47,
                    47,
                    47,
                    47,
                    47,
                    47,
                    47,
                    47,
                    47,
                    47,
                    47,
                    47,
                    47,
                    47,
                    47,
                    47,
                    47,
                    47,
                    47,
                    47,
                    47,
                    47,
                    47,
                    47,
                    47,
                    47,
                    47,
                    47,
                    47,
                    47,
                    47,
                    47,
                    47,
                    47,
                    47,
                    47,
                    47,
                    47,
                    47,
                    47,
                    47,
                    47,
                    47,
                    47,
                    47,
                    47,
                    47,
                    47,
                    47,
                    47,
                    47,
                    47,
                    47,
                    47,
                    47,
                    47,
                    47,
                    47,
                    47,
                    47,
                    47,
                    47,
                    47,
                    47,
                    47,
                    47,
                    47,
                    47,
                    47,
                    47,
                    47,
                    47,
                    47,
                    47,
                    47,
                    47,
                    47,
                    47,
                    47,
                    47,
                    47,
                    47,
                    47,
                    47,
                    47,
                    47,
                    47,
                    47,
                    47,
                    47,
                    47,
                    47,
                    47,
                    47,
                    47,
                    47,
                    47,
                    47,
                    47,
                    47,
                    47,
                    47,
                    47,
                    47,
                    47,
                    47,
                    47,
                    47,
                    47,
                    47,
                    47,
                    47,
                    47,
                    47,
                    47,
                    47,
                    47,
                    47,
                    47,
                    47,
                    47,
                    47,
                    47,
                    47,
                    47,
                    47,
                    47,
                    47,
                    47,
                    47,
                    47,
                    47,
                    47,
                    47,
                    47,
                    47,
                    47,
                    47,
                    47,
                    47,
                    47,
                    47,
                    47,
                    47,
                    47
                  ],
                  "xaxis": "x",
                  "yaxis": "y"
                },
                {
                  "alignmentgroup": "True",
                  "bingroup": "x",
                  "hovertemplate": "Age=%{x}<br>count=%{y}<extra></extra>",
                  "legendgroup": "43",
                  "marker": {
                    "color": "#FF97FF",
                    "pattern": {
                      "shape": ""
                    }
                  },
                  "name": "43",
                  "offsetgroup": "43",
                  "orientation": "v",
                  "showlegend": true,
                  "type": "histogram",
                  "x": [
                    43,
                    43,
                    43,
                    43,
                    43,
                    43,
                    43,
                    43,
                    43,
                    43,
                    43,
                    43,
                    43,
                    43,
                    43,
                    43,
                    43,
                    43,
                    43,
                    43,
                    43,
                    43,
                    43,
                    43,
                    43,
                    43,
                    43,
                    43,
                    43,
                    43,
                    43,
                    43,
                    43,
                    43,
                    43,
                    43,
                    43,
                    43,
                    43,
                    43,
                    43,
                    43,
                    43,
                    43,
                    43,
                    43,
                    43,
                    43,
                    43,
                    43,
                    43,
                    43,
                    43,
                    43,
                    43,
                    43,
                    43,
                    43,
                    43,
                    43,
                    43,
                    43,
                    43,
                    43,
                    43,
                    43,
                    43,
                    43,
                    43,
                    43,
                    43,
                    43,
                    43,
                    43,
                    43,
                    43,
                    43,
                    43,
                    43,
                    43,
                    43,
                    43,
                    43,
                    43,
                    43,
                    43,
                    43,
                    43,
                    43,
                    43,
                    43,
                    43,
                    43,
                    43,
                    43,
                    43,
                    43,
                    43,
                    43,
                    43,
                    43,
                    43,
                    43,
                    43,
                    43,
                    43,
                    43,
                    43,
                    43,
                    43,
                    43,
                    43,
                    43,
                    43,
                    43,
                    43,
                    43,
                    43,
                    43,
                    43,
                    43,
                    43,
                    43,
                    43,
                    43,
                    43,
                    43,
                    43,
                    43,
                    43,
                    43,
                    43,
                    43,
                    43,
                    43,
                    43,
                    43,
                    43,
                    43,
                    43,
                    43,
                    43,
                    43,
                    43,
                    43,
                    43,
                    43,
                    43,
                    43,
                    43,
                    43,
                    43,
                    43,
                    43,
                    43,
                    43,
                    43,
                    43,
                    43,
                    43,
                    43,
                    43,
                    43,
                    43,
                    43,
                    43,
                    43,
                    43,
                    43,
                    43,
                    43,
                    43,
                    43,
                    43,
                    43,
                    43,
                    43,
                    43,
                    43,
                    43,
                    43,
                    43,
                    43,
                    43,
                    43,
                    43,
                    43,
                    43,
                    43,
                    43,
                    43,
                    43,
                    43,
                    43,
                    43,
                    43,
                    43,
                    43,
                    43,
                    43,
                    43,
                    43,
                    43,
                    43,
                    43,
                    43,
                    43,
                    43,
                    43,
                    43,
                    43,
                    43,
                    43,
                    43,
                    43,
                    43,
                    43,
                    43,
                    43,
                    43
                  ],
                  "xaxis": "x",
                  "yaxis": "y"
                },
                {
                  "alignmentgroup": "True",
                  "bingroup": "x",
                  "hovertemplate": "Age=%{x}<br>count=%{y}<extra></extra>",
                  "legendgroup": "84",
                  "marker": {
                    "color": "#FECB52",
                    "pattern": {
                      "shape": ""
                    }
                  },
                  "name": "84",
                  "offsetgroup": "84",
                  "orientation": "v",
                  "showlegend": true,
                  "type": "histogram",
                  "x": [
                    84,
                    84,
                    84,
                    84,
                    84,
                    84,
                    84,
                    84,
                    84,
                    84,
                    84,
                    84,
                    84,
                    84,
                    84,
                    84,
                    84,
                    84,
                    84,
                    84,
                    84,
                    84,
                    84,
                    84,
                    84,
                    84,
                    84,
                    84,
                    84,
                    84,
                    84,
                    84,
                    84,
                    84,
                    84,
                    84,
                    84,
                    84,
                    84,
                    84,
                    84,
                    84,
                    84,
                    84,
                    84,
                    84,
                    84,
                    84,
                    84,
                    84,
                    84,
                    84,
                    84,
                    84,
                    84,
                    84,
                    84,
                    84,
                    84,
                    84,
                    84,
                    84,
                    84,
                    84,
                    84,
                    84,
                    84,
                    84,
                    84,
                    84,
                    84,
                    84,
                    84,
                    84,
                    84,
                    84,
                    84,
                    84,
                    84,
                    84,
                    84,
                    84,
                    84,
                    84,
                    84,
                    84,
                    84,
                    84,
                    84,
                    84,
                    84,
                    84,
                    84,
                    84,
                    84,
                    84,
                    84,
                    84,
                    84,
                    84,
                    84,
                    84,
                    84,
                    84,
                    84,
                    84,
                    84,
                    84,
                    84,
                    84,
                    84,
                    84,
                    84,
                    84,
                    84,
                    84,
                    84,
                    84,
                    84,
                    84,
                    84,
                    84,
                    84,
                    84,
                    84,
                    84,
                    84,
                    84,
                    84,
                    84,
                    84,
                    84,
                    84,
                    84,
                    84,
                    84,
                    84,
                    84,
                    84,
                    84,
                    84,
                    84,
                    84,
                    84,
                    84,
                    84,
                    84,
                    84,
                    84,
                    84,
                    84,
                    84,
                    84,
                    84,
                    84,
                    84,
                    84,
                    84,
                    84,
                    84,
                    84,
                    84,
                    84,
                    84,
                    84,
                    84,
                    84,
                    84,
                    84,
                    84,
                    84,
                    84,
                    84,
                    84,
                    84,
                    84,
                    84,
                    84,
                    84,
                    84,
                    84,
                    84,
                    84,
                    84,
                    84,
                    84,
                    84,
                    84,
                    84,
                    84,
                    84,
                    84,
                    84,
                    84,
                    84,
                    84,
                    84,
                    84,
                    84,
                    84,
                    84,
                    84,
                    84,
                    84,
                    84,
                    84,
                    84,
                    84,
                    84,
                    84,
                    84,
                    84,
                    84,
                    84,
                    84,
                    84,
                    84,
                    84,
                    84,
                    84,
                    84,
                    84,
                    84,
                    84,
                    84,
                    84,
                    84,
                    84,
                    84
                  ],
                  "xaxis": "x",
                  "yaxis": "y"
                },
                {
                  "alignmentgroup": "True",
                  "bingroup": "x",
                  "hovertemplate": "Age=%{x}<br>count=%{y}<extra></extra>",
                  "legendgroup": "66",
                  "marker": {
                    "color": "#636efa",
                    "pattern": {
                      "shape": ""
                    }
                  },
                  "name": "66",
                  "offsetgroup": "66",
                  "orientation": "v",
                  "showlegend": true,
                  "type": "histogram",
                  "x": [
                    66,
                    66,
                    66,
                    66,
                    66,
                    66,
                    66,
                    66,
                    66,
                    66,
                    66,
                    66,
                    66,
                    66,
                    66,
                    66,
                    66,
                    66,
                    66,
                    66,
                    66,
                    66,
                    66,
                    66,
                    66,
                    66,
                    66,
                    66,
                    66,
                    66,
                    66,
                    66,
                    66,
                    66,
                    66,
                    66,
                    66,
                    66,
                    66,
                    66,
                    66,
                    66,
                    66,
                    66,
                    66,
                    66,
                    66,
                    66,
                    66,
                    66,
                    66,
                    66,
                    66,
                    66,
                    66,
                    66,
                    66,
                    66,
                    66,
                    66,
                    66,
                    66,
                    66,
                    66,
                    66,
                    66,
                    66,
                    66,
                    66,
                    66,
                    66,
                    66,
                    66,
                    66,
                    66,
                    66,
                    66,
                    66,
                    66,
                    66,
                    66,
                    66,
                    66,
                    66,
                    66,
                    66,
                    66,
                    66,
                    66,
                    66,
                    66,
                    66,
                    66,
                    66,
                    66,
                    66,
                    66,
                    66,
                    66,
                    66,
                    66,
                    66,
                    66,
                    66,
                    66,
                    66,
                    66,
                    66,
                    66,
                    66,
                    66,
                    66,
                    66,
                    66,
                    66,
                    66,
                    66,
                    66,
                    66,
                    66,
                    66,
                    66,
                    66,
                    66,
                    66,
                    66,
                    66,
                    66,
                    66,
                    66,
                    66,
                    66,
                    66,
                    66,
                    66,
                    66,
                    66,
                    66,
                    66,
                    66,
                    66,
                    66,
                    66,
                    66,
                    66,
                    66,
                    66,
                    66,
                    66,
                    66,
                    66,
                    66,
                    66,
                    66,
                    66,
                    66,
                    66,
                    66,
                    66,
                    66,
                    66,
                    66,
                    66,
                    66,
                    66,
                    66,
                    66,
                    66,
                    66,
                    66,
                    66,
                    66,
                    66,
                    66,
                    66,
                    66,
                    66,
                    66,
                    66,
                    66,
                    66,
                    66,
                    66,
                    66,
                    66,
                    66,
                    66,
                    66,
                    66,
                    66,
                    66,
                    66,
                    66,
                    66,
                    66,
                    66,
                    66,
                    66,
                    66,
                    66,
                    66,
                    66,
                    66,
                    66,
                    66,
                    66,
                    66,
                    66,
                    66,
                    66,
                    66,
                    66,
                    66,
                    66,
                    66,
                    66,
                    66,
                    66,
                    66,
                    66,
                    66,
                    66,
                    66,
                    66,
                    66,
                    66,
                    66,
                    66,
                    66,
                    66,
                    66,
                    66,
                    66,
                    66,
                    66,
                    66,
                    66,
                    66,
                    66
                  ],
                  "xaxis": "x",
                  "yaxis": "y"
                },
                {
                  "alignmentgroup": "True",
                  "bingroup": "x",
                  "hovertemplate": "Age=%{x}<br>count=%{y}<extra></extra>",
                  "legendgroup": "86",
                  "marker": {
                    "color": "#EF553B",
                    "pattern": {
                      "shape": ""
                    }
                  },
                  "name": "86",
                  "offsetgroup": "86",
                  "orientation": "v",
                  "showlegend": true,
                  "type": "histogram",
                  "x": [
                    86,
                    86,
                    86,
                    86,
                    86,
                    86,
                    86,
                    86,
                    86,
                    86,
                    86,
                    86,
                    86,
                    86,
                    86,
                    86,
                    86,
                    86,
                    86,
                    86,
                    86,
                    86,
                    86,
                    86,
                    86,
                    86,
                    86,
                    86,
                    86,
                    86,
                    86,
                    86,
                    86,
                    86,
                    86,
                    86,
                    86,
                    86,
                    86,
                    86,
                    86,
                    86,
                    86,
                    86,
                    86,
                    86,
                    86,
                    86,
                    86,
                    86,
                    86,
                    86,
                    86,
                    86,
                    86,
                    86,
                    86,
                    86,
                    86,
                    86,
                    86,
                    86,
                    86,
                    86,
                    86,
                    86,
                    86,
                    86,
                    86,
                    86,
                    86,
                    86,
                    86,
                    86,
                    86,
                    86,
                    86,
                    86,
                    86,
                    86,
                    86,
                    86,
                    86,
                    86,
                    86,
                    86,
                    86,
                    86,
                    86,
                    86,
                    86,
                    86,
                    86,
                    86,
                    86,
                    86,
                    86,
                    86,
                    86,
                    86,
                    86,
                    86,
                    86,
                    86,
                    86,
                    86,
                    86,
                    86,
                    86,
                    86,
                    86,
                    86,
                    86,
                    86,
                    86,
                    86,
                    86,
                    86,
                    86,
                    86,
                    86,
                    86,
                    86,
                    86,
                    86,
                    86,
                    86,
                    86,
                    86,
                    86,
                    86,
                    86,
                    86,
                    86,
                    86,
                    86,
                    86,
                    86,
                    86,
                    86,
                    86,
                    86,
                    86,
                    86,
                    86,
                    86,
                    86,
                    86,
                    86,
                    86,
                    86,
                    86,
                    86,
                    86,
                    86,
                    86,
                    86,
                    86,
                    86,
                    86,
                    86,
                    86,
                    86,
                    86,
                    86,
                    86,
                    86,
                    86,
                    86,
                    86,
                    86,
                    86,
                    86,
                    86,
                    86,
                    86,
                    86,
                    86,
                    86,
                    86,
                    86,
                    86,
                    86,
                    86,
                    86,
                    86,
                    86,
                    86,
                    86,
                    86,
                    86,
                    86,
                    86,
                    86,
                    86,
                    86,
                    86,
                    86,
                    86,
                    86,
                    86,
                    86,
                    86,
                    86,
                    86,
                    86,
                    86,
                    86,
                    86,
                    86,
                    86
                  ],
                  "xaxis": "x",
                  "yaxis": "y"
                },
                {
                  "alignmentgroup": "True",
                  "bingroup": "x",
                  "hovertemplate": "Age=%{x}<br>count=%{y}<extra></extra>",
                  "legendgroup": "75",
                  "marker": {
                    "color": "#00cc96",
                    "pattern": {
                      "shape": ""
                    }
                  },
                  "name": "75",
                  "offsetgroup": "75",
                  "orientation": "v",
                  "showlegend": true,
                  "type": "histogram",
                  "x": [
                    75,
                    75,
                    75,
                    75,
                    75,
                    75,
                    75,
                    75,
                    75,
                    75,
                    75,
                    75,
                    75,
                    75,
                    75,
                    75,
                    75,
                    75,
                    75,
                    75,
                    75,
                    75,
                    75,
                    75,
                    75,
                    75,
                    75,
                    75,
                    75,
                    75,
                    75,
                    75,
                    75,
                    75,
                    75,
                    75,
                    75,
                    75,
                    75,
                    75,
                    75,
                    75,
                    75,
                    75,
                    75,
                    75,
                    75,
                    75,
                    75,
                    75,
                    75,
                    75,
                    75,
                    75,
                    75,
                    75,
                    75,
                    75,
                    75,
                    75,
                    75,
                    75,
                    75,
                    75,
                    75,
                    75,
                    75,
                    75,
                    75,
                    75,
                    75,
                    75,
                    75,
                    75,
                    75,
                    75,
                    75,
                    75,
                    75,
                    75,
                    75,
                    75,
                    75,
                    75,
                    75,
                    75,
                    75,
                    75,
                    75,
                    75,
                    75,
                    75,
                    75,
                    75,
                    75,
                    75,
                    75,
                    75,
                    75,
                    75,
                    75,
                    75,
                    75,
                    75,
                    75,
                    75,
                    75,
                    75,
                    75,
                    75,
                    75,
                    75,
                    75,
                    75,
                    75,
                    75,
                    75,
                    75,
                    75,
                    75,
                    75,
                    75,
                    75,
                    75,
                    75,
                    75,
                    75,
                    75,
                    75,
                    75,
                    75,
                    75,
                    75,
                    75,
                    75,
                    75,
                    75,
                    75,
                    75,
                    75,
                    75,
                    75,
                    75,
                    75,
                    75,
                    75,
                    75,
                    75,
                    75,
                    75,
                    75,
                    75,
                    75,
                    75,
                    75,
                    75,
                    75,
                    75,
                    75,
                    75,
                    75,
                    75,
                    75,
                    75,
                    75,
                    75,
                    75,
                    75,
                    75,
                    75,
                    75,
                    75,
                    75,
                    75,
                    75,
                    75,
                    75,
                    75,
                    75,
                    75,
                    75,
                    75,
                    75,
                    75,
                    75,
                    75,
                    75,
                    75,
                    75,
                    75,
                    75,
                    75,
                    75,
                    75,
                    75,
                    75,
                    75,
                    75,
                    75,
                    75,
                    75,
                    75,
                    75,
                    75,
                    75,
                    75,
                    75,
                    75,
                    75,
                    75,
                    75,
                    75,
                    75,
                    75,
                    75,
                    75,
                    75,
                    75,
                    75,
                    75,
                    75,
                    75,
                    75,
                    75,
                    75,
                    75,
                    75
                  ],
                  "xaxis": "x",
                  "yaxis": "y"
                },
                {
                  "alignmentgroup": "True",
                  "bingroup": "x",
                  "hovertemplate": "Age=%{x}<br>count=%{y}<extra></extra>",
                  "legendgroup": "41",
                  "marker": {
                    "color": "#ab63fa",
                    "pattern": {
                      "shape": ""
                    }
                  },
                  "name": "41",
                  "offsetgroup": "41",
                  "orientation": "v",
                  "showlegend": true,
                  "type": "histogram",
                  "x": [
                    41,
                    41,
                    41,
                    41,
                    41,
                    41,
                    41,
                    41,
                    41,
                    41,
                    41,
                    41,
                    41,
                    41,
                    41,
                    41,
                    41,
                    41,
                    41,
                    41,
                    41,
                    41,
                    41,
                    41,
                    41,
                    41,
                    41,
                    41,
                    41,
                    41,
                    41,
                    41,
                    41,
                    41,
                    41,
                    41,
                    41,
                    41,
                    41,
                    41,
                    41,
                    41,
                    41,
                    41,
                    41,
                    41,
                    41,
                    41,
                    41,
                    41,
                    41,
                    41,
                    41,
                    41,
                    41,
                    41,
                    41,
                    41,
                    41,
                    41,
                    41,
                    41,
                    41,
                    41,
                    41,
                    41,
                    41,
                    41,
                    41,
                    41,
                    41,
                    41,
                    41,
                    41,
                    41,
                    41,
                    41,
                    41,
                    41,
                    41,
                    41,
                    41,
                    41,
                    41,
                    41,
                    41,
                    41,
                    41,
                    41,
                    41,
                    41,
                    41,
                    41,
                    41,
                    41,
                    41,
                    41,
                    41,
                    41,
                    41,
                    41,
                    41,
                    41,
                    41,
                    41,
                    41,
                    41,
                    41,
                    41,
                    41,
                    41,
                    41,
                    41,
                    41,
                    41,
                    41,
                    41,
                    41,
                    41,
                    41,
                    41,
                    41,
                    41,
                    41,
                    41,
                    41,
                    41,
                    41,
                    41,
                    41,
                    41,
                    41,
                    41,
                    41,
                    41,
                    41,
                    41,
                    41,
                    41,
                    41,
                    41,
                    41,
                    41,
                    41,
                    41,
                    41,
                    41,
                    41,
                    41,
                    41,
                    41,
                    41,
                    41,
                    41,
                    41,
                    41,
                    41,
                    41,
                    41,
                    41,
                    41,
                    41,
                    41,
                    41,
                    41,
                    41,
                    41,
                    41,
                    41,
                    41,
                    41,
                    41,
                    41,
                    41,
                    41,
                    41,
                    41,
                    41,
                    41,
                    41,
                    41,
                    41,
                    41,
                    41,
                    41,
                    41,
                    41,
                    41,
                    41,
                    41,
                    41,
                    41,
                    41,
                    41,
                    41,
                    41,
                    41,
                    41,
                    41,
                    41,
                    41,
                    41,
                    41,
                    41,
                    41,
                    41,
                    41,
                    41,
                    41,
                    41,
                    41,
                    41,
                    41,
                    41,
                    41,
                    41,
                    41,
                    41,
                    41,
                    41,
                    41,
                    41,
                    41,
                    41,
                    41,
                    41,
                    41,
                    41,
                    41,
                    41
                  ],
                  "xaxis": "x",
                  "yaxis": "y"
                },
                {
                  "alignmentgroup": "True",
                  "bingroup": "x",
                  "hovertemplate": "Age=%{x}<br>count=%{y}<extra></extra>",
                  "legendgroup": "88",
                  "marker": {
                    "color": "#FFA15A",
                    "pattern": {
                      "shape": ""
                    }
                  },
                  "name": "88",
                  "offsetgroup": "88",
                  "orientation": "v",
                  "showlegend": true,
                  "type": "histogram",
                  "x": [
                    88,
                    88,
                    88,
                    88,
                    88,
                    88,
                    88,
                    88,
                    88,
                    88,
                    88,
                    88,
                    88,
                    88,
                    88,
                    88,
                    88,
                    88,
                    88,
                    88,
                    88,
                    88,
                    88,
                    88,
                    88,
                    88,
                    88,
                    88,
                    88,
                    88,
                    88,
                    88,
                    88,
                    88,
                    88,
                    88,
                    88,
                    88,
                    88,
                    88,
                    88,
                    88,
                    88,
                    88,
                    88,
                    88,
                    88,
                    88,
                    88,
                    88,
                    88,
                    88,
                    88,
                    88,
                    88,
                    88,
                    88,
                    88,
                    88,
                    88,
                    88,
                    88,
                    88,
                    88,
                    88,
                    88,
                    88,
                    88,
                    88,
                    88,
                    88,
                    88,
                    88,
                    88,
                    88,
                    88,
                    88,
                    88,
                    88,
                    88,
                    88,
                    88,
                    88,
                    88,
                    88,
                    88,
                    88,
                    88,
                    88,
                    88,
                    88,
                    88,
                    88,
                    88,
                    88,
                    88,
                    88,
                    88,
                    88,
                    88,
                    88,
                    88,
                    88,
                    88,
                    88,
                    88,
                    88,
                    88,
                    88,
                    88,
                    88,
                    88,
                    88,
                    88,
                    88,
                    88,
                    88,
                    88,
                    88,
                    88,
                    88,
                    88,
                    88,
                    88,
                    88,
                    88,
                    88,
                    88,
                    88,
                    88,
                    88,
                    88,
                    88,
                    88,
                    88,
                    88,
                    88,
                    88,
                    88,
                    88,
                    88,
                    88,
                    88,
                    88,
                    88,
                    88,
                    88,
                    88,
                    88,
                    88,
                    88,
                    88,
                    88,
                    88,
                    88,
                    88,
                    88,
                    88,
                    88,
                    88,
                    88,
                    88,
                    88,
                    88,
                    88,
                    88,
                    88,
                    88,
                    88,
                    88,
                    88,
                    88,
                    88,
                    88,
                    88,
                    88,
                    88,
                    88,
                    88,
                    88,
                    88,
                    88,
                    88,
                    88,
                    88,
                    88,
                    88,
                    88,
                    88,
                    88,
                    88,
                    88,
                    88,
                    88,
                    88,
                    88,
                    88,
                    88,
                    88,
                    88,
                    88,
                    88,
                    88,
                    88,
                    88
                  ],
                  "xaxis": "x",
                  "yaxis": "y"
                },
                {
                  "alignmentgroup": "True",
                  "bingroup": "x",
                  "hovertemplate": "Age=%{x}<br>count=%{y}<extra></extra>",
                  "legendgroup": "35",
                  "marker": {
                    "color": "#19d3f3",
                    "pattern": {
                      "shape": ""
                    }
                  },
                  "name": "35",
                  "offsetgroup": "35",
                  "orientation": "v",
                  "showlegend": true,
                  "type": "histogram",
                  "x": [
                    35,
                    35,
                    35,
                    35,
                    35,
                    35,
                    35,
                    35,
                    35,
                    35,
                    35,
                    35,
                    35,
                    35,
                    35,
                    35,
                    35,
                    35,
                    35,
                    35,
                    35,
                    35,
                    35,
                    35,
                    35,
                    35,
                    35,
                    35,
                    35,
                    35,
                    35,
                    35,
                    35,
                    35,
                    35,
                    35,
                    35,
                    35,
                    35,
                    35,
                    35,
                    35,
                    35,
                    35,
                    35,
                    35,
                    35,
                    35,
                    35,
                    35,
                    35,
                    35,
                    35,
                    35,
                    35,
                    35,
                    35,
                    35,
                    35,
                    35,
                    35,
                    35,
                    35,
                    35,
                    35,
                    35,
                    35,
                    35,
                    35,
                    35,
                    35,
                    35,
                    35,
                    35,
                    35,
                    35,
                    35,
                    35,
                    35,
                    35,
                    35,
                    35,
                    35,
                    35,
                    35,
                    35,
                    35,
                    35,
                    35,
                    35,
                    35,
                    35,
                    35,
                    35,
                    35,
                    35,
                    35,
                    35,
                    35,
                    35,
                    35,
                    35,
                    35,
                    35,
                    35,
                    35,
                    35,
                    35,
                    35,
                    35,
                    35,
                    35,
                    35,
                    35,
                    35,
                    35,
                    35,
                    35,
                    35,
                    35,
                    35,
                    35,
                    35,
                    35,
                    35,
                    35,
                    35,
                    35,
                    35,
                    35,
                    35,
                    35,
                    35,
                    35,
                    35,
                    35,
                    35,
                    35,
                    35,
                    35,
                    35,
                    35,
                    35,
                    35,
                    35,
                    35,
                    35,
                    35,
                    35,
                    35,
                    35,
                    35,
                    35,
                    35,
                    35,
                    35,
                    35,
                    35,
                    35,
                    35,
                    35,
                    35,
                    35,
                    35,
                    35,
                    35,
                    35,
                    35,
                    35,
                    35,
                    35,
                    35,
                    35,
                    35,
                    35,
                    35,
                    35,
                    35,
                    35,
                    35,
                    35,
                    35,
                    35,
                    35,
                    35,
                    35,
                    35,
                    35,
                    35,
                    35,
                    35,
                    35,
                    35,
                    35,
                    35,
                    35,
                    35,
                    35,
                    35,
                    35,
                    35,
                    35,
                    35,
                    35,
                    35,
                    35,
                    35,
                    35,
                    35,
                    35,
                    35,
                    35
                  ],
                  "xaxis": "x",
                  "yaxis": "y"
                },
                {
                  "alignmentgroup": "True",
                  "bingroup": "x",
                  "hovertemplate": "Age=%{x}<br>count=%{y}<extra></extra>",
                  "legendgroup": "24",
                  "marker": {
                    "color": "#FF6692",
                    "pattern": {
                      "shape": ""
                    }
                  },
                  "name": "24",
                  "offsetgroup": "24",
                  "orientation": "v",
                  "showlegend": true,
                  "type": "histogram",
                  "x": [
                    24,
                    24,
                    24,
                    24,
                    24,
                    24,
                    24,
                    24,
                    24,
                    24,
                    24,
                    24,
                    24,
                    24,
                    24,
                    24,
                    24,
                    24,
                    24,
                    24,
                    24,
                    24,
                    24,
                    24,
                    24,
                    24,
                    24,
                    24,
                    24,
                    24,
                    24,
                    24,
                    24,
                    24,
                    24,
                    24,
                    24,
                    24,
                    24,
                    24,
                    24,
                    24,
                    24,
                    24,
                    24,
                    24,
                    24,
                    24,
                    24,
                    24,
                    24,
                    24,
                    24,
                    24,
                    24,
                    24,
                    24,
                    24,
                    24,
                    24,
                    24,
                    24,
                    24,
                    24,
                    24,
                    24,
                    24,
                    24,
                    24,
                    24,
                    24,
                    24,
                    24,
                    24,
                    24,
                    24,
                    24,
                    24,
                    24,
                    24,
                    24,
                    24,
                    24,
                    24,
                    24,
                    24,
                    24,
                    24,
                    24,
                    24,
                    24,
                    24,
                    24,
                    24,
                    24,
                    24,
                    24,
                    24,
                    24,
                    24,
                    24,
                    24,
                    24,
                    24,
                    24,
                    24,
                    24,
                    24,
                    24,
                    24,
                    24,
                    24,
                    24,
                    24,
                    24,
                    24,
                    24,
                    24,
                    24,
                    24,
                    24,
                    24,
                    24,
                    24,
                    24,
                    24,
                    24,
                    24,
                    24,
                    24,
                    24,
                    24,
                    24,
                    24,
                    24,
                    24,
                    24,
                    24,
                    24,
                    24,
                    24,
                    24,
                    24,
                    24,
                    24,
                    24,
                    24,
                    24,
                    24,
                    24,
                    24,
                    24,
                    24,
                    24,
                    24,
                    24,
                    24,
                    24,
                    24,
                    24,
                    24,
                    24,
                    24,
                    24,
                    24,
                    24,
                    24,
                    24,
                    24,
                    24,
                    24,
                    24,
                    24,
                    24,
                    24,
                    24,
                    24,
                    24,
                    24,
                    24,
                    24,
                    24,
                    24,
                    24,
                    24,
                    24,
                    24,
                    24,
                    24,
                    24,
                    24,
                    24,
                    24,
                    24,
                    24,
                    24,
                    24,
                    24,
                    24,
                    24,
                    24,
                    24,
                    24,
                    24,
                    24,
                    24,
                    24,
                    24,
                    24,
                    24,
                    24,
                    24,
                    24,
                    24,
                    24,
                    24,
                    24,
                    24,
                    24,
                    24,
                    24,
                    24,
                    24,
                    24,
                    24,
                    24,
                    24,
                    24,
                    24,
                    24,
                    24,
                    24,
                    24,
                    24,
                    24,
                    24,
                    24,
                    24,
                    24
                  ],
                  "xaxis": "x",
                  "yaxis": "y"
                },
                {
                  "alignmentgroup": "True",
                  "bingroup": "x",
                  "hovertemplate": "Age=%{x}<br>count=%{y}<extra></extra>",
                  "legendgroup": "55",
                  "marker": {
                    "color": "#B6E880",
                    "pattern": {
                      "shape": ""
                    }
                  },
                  "name": "55",
                  "offsetgroup": "55",
                  "orientation": "v",
                  "showlegend": true,
                  "type": "histogram",
                  "x": [
                    55,
                    55,
                    55,
                    55,
                    55,
                    55,
                    55,
                    55,
                    55,
                    55,
                    55,
                    55,
                    55,
                    55,
                    55,
                    55,
                    55,
                    55,
                    55,
                    55,
                    55,
                    55,
                    55,
                    55,
                    55,
                    55,
                    55,
                    55,
                    55,
                    55,
                    55,
                    55,
                    55,
                    55,
                    55,
                    55,
                    55,
                    55,
                    55,
                    55,
                    55,
                    55,
                    55,
                    55,
                    55,
                    55,
                    55,
                    55,
                    55,
                    55,
                    55,
                    55,
                    55,
                    55,
                    55,
                    55,
                    55,
                    55,
                    55,
                    55,
                    55,
                    55,
                    55,
                    55,
                    55,
                    55,
                    55,
                    55,
                    55,
                    55,
                    55,
                    55,
                    55,
                    55,
                    55,
                    55,
                    55,
                    55,
                    55,
                    55,
                    55,
                    55,
                    55,
                    55,
                    55,
                    55,
                    55,
                    55,
                    55,
                    55,
                    55,
                    55,
                    55,
                    55,
                    55,
                    55,
                    55,
                    55,
                    55,
                    55,
                    55,
                    55,
                    55,
                    55,
                    55,
                    55,
                    55,
                    55,
                    55,
                    55,
                    55,
                    55,
                    55,
                    55,
                    55,
                    55,
                    55,
                    55,
                    55,
                    55,
                    55,
                    55,
                    55,
                    55,
                    55,
                    55,
                    55,
                    55,
                    55,
                    55,
                    55,
                    55,
                    55,
                    55,
                    55,
                    55,
                    55,
                    55,
                    55,
                    55,
                    55,
                    55,
                    55,
                    55,
                    55,
                    55,
                    55,
                    55,
                    55,
                    55,
                    55,
                    55,
                    55,
                    55,
                    55,
                    55,
                    55,
                    55,
                    55,
                    55,
                    55,
                    55,
                    55,
                    55,
                    55,
                    55,
                    55,
                    55,
                    55,
                    55,
                    55,
                    55,
                    55,
                    55,
                    55,
                    55,
                    55,
                    55,
                    55,
                    55,
                    55,
                    55,
                    55,
                    55,
                    55,
                    55,
                    55,
                    55,
                    55,
                    55,
                    55,
                    55,
                    55,
                    55,
                    55,
                    55,
                    55,
                    55,
                    55,
                    55,
                    55,
                    55,
                    55,
                    55,
                    55,
                    55,
                    55,
                    55,
                    55,
                    55,
                    55,
                    55,
                    55,
                    55,
                    55,
                    55,
                    55,
                    55,
                    55,
                    55,
                    55,
                    55,
                    55,
                    55,
                    55,
                    55,
                    55,
                    55,
                    55,
                    55,
                    55,
                    55,
                    55,
                    55,
                    55,
                    55,
                    55,
                    55,
                    55,
                    55,
                    55,
                    55,
                    55
                  ],
                  "xaxis": "x",
                  "yaxis": "y"
                },
                {
                  "alignmentgroup": "True",
                  "bingroup": "x",
                  "hovertemplate": "Age=%{x}<br>count=%{y}<extra></extra>",
                  "legendgroup": "52",
                  "marker": {
                    "color": "#FF97FF",
                    "pattern": {
                      "shape": ""
                    }
                  },
                  "name": "52",
                  "offsetgroup": "52",
                  "orientation": "v",
                  "showlegend": true,
                  "type": "histogram",
                  "x": [
                    52,
                    52,
                    52,
                    52,
                    52,
                    52,
                    52,
                    52,
                    52,
                    52,
                    52,
                    52,
                    52,
                    52,
                    52,
                    52,
                    52,
                    52,
                    52,
                    52,
                    52,
                    52,
                    52,
                    52,
                    52,
                    52,
                    52,
                    52,
                    52,
                    52,
                    52,
                    52,
                    52,
                    52,
                    52,
                    52,
                    52,
                    52,
                    52,
                    52,
                    52,
                    52,
                    52,
                    52,
                    52,
                    52,
                    52,
                    52,
                    52,
                    52,
                    52,
                    52,
                    52,
                    52,
                    52,
                    52,
                    52,
                    52,
                    52,
                    52,
                    52,
                    52,
                    52,
                    52,
                    52,
                    52,
                    52,
                    52,
                    52,
                    52,
                    52,
                    52,
                    52,
                    52,
                    52,
                    52,
                    52,
                    52,
                    52,
                    52,
                    52,
                    52,
                    52,
                    52,
                    52,
                    52,
                    52,
                    52,
                    52,
                    52,
                    52,
                    52,
                    52,
                    52,
                    52,
                    52,
                    52,
                    52,
                    52,
                    52,
                    52,
                    52,
                    52,
                    52,
                    52,
                    52,
                    52,
                    52,
                    52,
                    52,
                    52,
                    52,
                    52,
                    52,
                    52,
                    52,
                    52,
                    52,
                    52,
                    52,
                    52,
                    52,
                    52,
                    52,
                    52,
                    52,
                    52,
                    52,
                    52,
                    52,
                    52,
                    52,
                    52,
                    52,
                    52,
                    52,
                    52,
                    52,
                    52,
                    52,
                    52,
                    52,
                    52,
                    52,
                    52,
                    52,
                    52,
                    52,
                    52,
                    52,
                    52,
                    52,
                    52,
                    52,
                    52,
                    52,
                    52,
                    52,
                    52,
                    52,
                    52,
                    52,
                    52,
                    52,
                    52,
                    52,
                    52,
                    52,
                    52,
                    52,
                    52,
                    52,
                    52,
                    52,
                    52,
                    52,
                    52,
                    52,
                    52,
                    52,
                    52,
                    52,
                    52,
                    52,
                    52,
                    52,
                    52,
                    52,
                    52,
                    52,
                    52,
                    52,
                    52,
                    52,
                    52,
                    52,
                    52,
                    52,
                    52,
                    52,
                    52,
                    52,
                    52,
                    52,
                    52,
                    52,
                    52,
                    52,
                    52,
                    52,
                    52
                  ],
                  "xaxis": "x",
                  "yaxis": "y"
                },
                {
                  "alignmentgroup": "True",
                  "bingroup": "x",
                  "hovertemplate": "Age=%{x}<br>count=%{y}<extra></extra>",
                  "legendgroup": "27",
                  "marker": {
                    "color": "#FECB52",
                    "pattern": {
                      "shape": ""
                    }
                  },
                  "name": "27",
                  "offsetgroup": "27",
                  "orientation": "v",
                  "showlegend": true,
                  "type": "histogram",
                  "x": [
                    27,
                    27,
                    27,
                    27,
                    27,
                    27,
                    27,
                    27,
                    27,
                    27,
                    27,
                    27,
                    27,
                    27,
                    27,
                    27,
                    27,
                    27,
                    27,
                    27,
                    27,
                    27,
                    27,
                    27,
                    27,
                    27,
                    27,
                    27,
                    27,
                    27,
                    27,
                    27,
                    27,
                    27,
                    27,
                    27,
                    27,
                    27,
                    27,
                    27,
                    27,
                    27,
                    27,
                    27,
                    27,
                    27,
                    27,
                    27,
                    27,
                    27,
                    27,
                    27,
                    27,
                    27,
                    27,
                    27,
                    27,
                    27,
                    27,
                    27,
                    27,
                    27,
                    27,
                    27,
                    27,
                    27,
                    27,
                    27,
                    27,
                    27,
                    27,
                    27,
                    27,
                    27,
                    27,
                    27,
                    27,
                    27,
                    27,
                    27,
                    27,
                    27,
                    27,
                    27,
                    27,
                    27,
                    27,
                    27,
                    27,
                    27,
                    27,
                    27,
                    27,
                    27,
                    27,
                    27,
                    27,
                    27,
                    27,
                    27,
                    27,
                    27,
                    27,
                    27,
                    27,
                    27,
                    27,
                    27,
                    27,
                    27,
                    27,
                    27,
                    27,
                    27,
                    27,
                    27,
                    27,
                    27,
                    27,
                    27,
                    27,
                    27,
                    27,
                    27,
                    27,
                    27,
                    27,
                    27,
                    27,
                    27,
                    27,
                    27,
                    27,
                    27,
                    27,
                    27,
                    27,
                    27,
                    27,
                    27,
                    27,
                    27,
                    27,
                    27,
                    27,
                    27,
                    27,
                    27,
                    27,
                    27,
                    27,
                    27,
                    27,
                    27,
                    27,
                    27,
                    27,
                    27,
                    27,
                    27,
                    27,
                    27,
                    27,
                    27,
                    27,
                    27,
                    27,
                    27,
                    27,
                    27,
                    27,
                    27,
                    27,
                    27,
                    27,
                    27,
                    27,
                    27,
                    27,
                    27,
                    27,
                    27,
                    27,
                    27,
                    27,
                    27,
                    27,
                    27,
                    27,
                    27,
                    27,
                    27,
                    27,
                    27,
                    27,
                    27,
                    27,
                    27,
                    27,
                    27,
                    27,
                    27,
                    27,
                    27,
                    27,
                    27,
                    27,
                    27,
                    27,
                    27,
                    27,
                    27,
                    27,
                    27,
                    27,
                    27,
                    27,
                    27,
                    27,
                    27,
                    27,
                    27,
                    27,
                    27,
                    27
                  ],
                  "xaxis": "x",
                  "yaxis": "y"
                },
                {
                  "alignmentgroup": "True",
                  "bingroup": "x",
                  "hovertemplate": "Age=%{x}<br>count=%{y}<extra></extra>",
                  "legendgroup": "30",
                  "marker": {
                    "color": "#636efa",
                    "pattern": {
                      "shape": ""
                    }
                  },
                  "name": "30",
                  "offsetgroup": "30",
                  "orientation": "v",
                  "showlegend": true,
                  "type": "histogram",
                  "x": [
                    30,
                    30,
                    30,
                    30,
                    30,
                    30,
                    30,
                    30,
                    30,
                    30,
                    30,
                    30,
                    30,
                    30,
                    30,
                    30,
                    30,
                    30,
                    30,
                    30,
                    30,
                    30,
                    30,
                    30,
                    30,
                    30,
                    30,
                    30,
                    30,
                    30,
                    30,
                    30,
                    30,
                    30,
                    30,
                    30,
                    30,
                    30,
                    30,
                    30,
                    30,
                    30,
                    30,
                    30,
                    30,
                    30,
                    30,
                    30,
                    30,
                    30,
                    30,
                    30,
                    30,
                    30,
                    30,
                    30,
                    30,
                    30,
                    30,
                    30,
                    30,
                    30,
                    30,
                    30,
                    30,
                    30,
                    30,
                    30,
                    30,
                    30,
                    30,
                    30,
                    30,
                    30,
                    30,
                    30,
                    30,
                    30,
                    30,
                    30,
                    30,
                    30,
                    30,
                    30,
                    30,
                    30,
                    30,
                    30,
                    30,
                    30,
                    30,
                    30,
                    30,
                    30,
                    30,
                    30,
                    30,
                    30,
                    30,
                    30,
                    30,
                    30,
                    30,
                    30,
                    30,
                    30,
                    30,
                    30,
                    30,
                    30,
                    30,
                    30,
                    30,
                    30,
                    30,
                    30,
                    30,
                    30,
                    30,
                    30,
                    30,
                    30,
                    30,
                    30,
                    30,
                    30,
                    30,
                    30,
                    30,
                    30,
                    30,
                    30,
                    30,
                    30,
                    30,
                    30,
                    30,
                    30,
                    30,
                    30,
                    30,
                    30,
                    30,
                    30,
                    30,
                    30,
                    30,
                    30,
                    30,
                    30,
                    30,
                    30,
                    30,
                    30,
                    30,
                    30,
                    30,
                    30,
                    30,
                    30,
                    30,
                    30,
                    30,
                    30,
                    30,
                    30,
                    30,
                    30,
                    30,
                    30,
                    30,
                    30,
                    30,
                    30,
                    30,
                    30,
                    30,
                    30,
                    30,
                    30,
                    30,
                    30,
                    30,
                    30,
                    30,
                    30,
                    30,
                    30,
                    30,
                    30,
                    30,
                    30,
                    30,
                    30,
                    30,
                    30,
                    30,
                    30,
                    30,
                    30,
                    30,
                    30,
                    30,
                    30,
                    30,
                    30,
                    30,
                    30,
                    30,
                    30,
                    30,
                    30,
                    30,
                    30,
                    30,
                    30,
                    30,
                    30,
                    30,
                    30,
                    30,
                    30,
                    30,
                    30,
                    30
                  ],
                  "xaxis": "x",
                  "yaxis": "y"
                },
                {
                  "alignmentgroup": "True",
                  "bingroup": "x",
                  "hovertemplate": "Age=%{x}<br>count=%{y}<extra></extra>",
                  "legendgroup": "64",
                  "marker": {
                    "color": "#EF553B",
                    "pattern": {
                      "shape": ""
                    }
                  },
                  "name": "64",
                  "offsetgroup": "64",
                  "orientation": "v",
                  "showlegend": true,
                  "type": "histogram",
                  "x": [
                    64,
                    64,
                    64,
                    64,
                    64,
                    64,
                    64,
                    64,
                    64,
                    64,
                    64,
                    64,
                    64,
                    64,
                    64,
                    64,
                    64,
                    64,
                    64,
                    64,
                    64,
                    64,
                    64,
                    64,
                    64,
                    64,
                    64,
                    64,
                    64,
                    64,
                    64,
                    64,
                    64,
                    64,
                    64,
                    64,
                    64,
                    64,
                    64,
                    64,
                    64,
                    64,
                    64,
                    64,
                    64,
                    64,
                    64,
                    64,
                    64,
                    64,
                    64,
                    64,
                    64,
                    64,
                    64,
                    64,
                    64,
                    64,
                    64,
                    64,
                    64,
                    64,
                    64,
                    64,
                    64,
                    64,
                    64,
                    64,
                    64,
                    64,
                    64,
                    64,
                    64,
                    64,
                    64,
                    64,
                    64,
                    64,
                    64,
                    64,
                    64,
                    64,
                    64,
                    64,
                    64,
                    64,
                    64,
                    64,
                    64,
                    64,
                    64,
                    64,
                    64,
                    64,
                    64,
                    64,
                    64,
                    64,
                    64,
                    64,
                    64,
                    64,
                    64,
                    64,
                    64,
                    64,
                    64,
                    64,
                    64,
                    64,
                    64,
                    64,
                    64,
                    64,
                    64,
                    64,
                    64,
                    64,
                    64,
                    64,
                    64,
                    64,
                    64,
                    64,
                    64,
                    64,
                    64,
                    64,
                    64,
                    64,
                    64,
                    64,
                    64,
                    64,
                    64,
                    64,
                    64,
                    64,
                    64,
                    64,
                    64,
                    64,
                    64,
                    64,
                    64,
                    64,
                    64,
                    64,
                    64,
                    64,
                    64,
                    64,
                    64,
                    64,
                    64,
                    64,
                    64,
                    64,
                    64,
                    64,
                    64,
                    64,
                    64,
                    64,
                    64,
                    64,
                    64,
                    64,
                    64,
                    64,
                    64,
                    64,
                    64,
                    64,
                    64,
                    64,
                    64,
                    64,
                    64,
                    64,
                    64,
                    64,
                    64,
                    64,
                    64,
                    64,
                    64,
                    64,
                    64,
                    64,
                    64,
                    64,
                    64,
                    64,
                    64,
                    64,
                    64,
                    64,
                    64,
                    64,
                    64,
                    64,
                    64,
                    64,
                    64,
                    64,
                    64,
                    64,
                    64,
                    64,
                    64,
                    64,
                    64,
                    64,
                    64,
                    64,
                    64,
                    64,
                    64
                  ],
                  "xaxis": "x",
                  "yaxis": "y"
                },
                {
                  "alignmentgroup": "True",
                  "bingroup": "x",
                  "hovertemplate": "Age=%{x}<br>count=%{y}<extra></extra>",
                  "legendgroup": "73",
                  "marker": {
                    "color": "#00cc96",
                    "pattern": {
                      "shape": ""
                    }
                  },
                  "name": "73",
                  "offsetgroup": "73",
                  "orientation": "v",
                  "showlegend": true,
                  "type": "histogram",
                  "x": [
                    73,
                    73,
                    73,
                    73,
                    73,
                    73,
                    73,
                    73,
                    73,
                    73,
                    73,
                    73,
                    73,
                    73,
                    73,
                    73,
                    73,
                    73,
                    73,
                    73,
                    73,
                    73,
                    73,
                    73,
                    73,
                    73,
                    73,
                    73,
                    73,
                    73,
                    73,
                    73,
                    73,
                    73,
                    73,
                    73,
                    73,
                    73,
                    73,
                    73,
                    73,
                    73,
                    73,
                    73,
                    73,
                    73,
                    73,
                    73,
                    73,
                    73,
                    73,
                    73,
                    73,
                    73,
                    73,
                    73,
                    73,
                    73,
                    73,
                    73,
                    73,
                    73,
                    73,
                    73,
                    73,
                    73,
                    73,
                    73,
                    73,
                    73,
                    73,
                    73,
                    73,
                    73,
                    73,
                    73,
                    73,
                    73,
                    73,
                    73,
                    73,
                    73,
                    73,
                    73,
                    73,
                    73,
                    73,
                    73,
                    73,
                    73,
                    73,
                    73,
                    73,
                    73,
                    73,
                    73,
                    73,
                    73,
                    73,
                    73,
                    73,
                    73,
                    73,
                    73,
                    73,
                    73,
                    73,
                    73,
                    73,
                    73,
                    73,
                    73,
                    73,
                    73,
                    73,
                    73,
                    73,
                    73,
                    73,
                    73,
                    73,
                    73,
                    73,
                    73,
                    73,
                    73,
                    73,
                    73,
                    73,
                    73,
                    73,
                    73,
                    73,
                    73,
                    73,
                    73,
                    73,
                    73,
                    73,
                    73,
                    73,
                    73,
                    73,
                    73,
                    73,
                    73,
                    73,
                    73,
                    73,
                    73,
                    73,
                    73,
                    73,
                    73,
                    73,
                    73,
                    73,
                    73,
                    73,
                    73,
                    73,
                    73,
                    73,
                    73,
                    73,
                    73,
                    73,
                    73,
                    73,
                    73,
                    73,
                    73,
                    73,
                    73,
                    73,
                    73,
                    73,
                    73,
                    73,
                    73,
                    73,
                    73,
                    73,
                    73,
                    73,
                    73,
                    73,
                    73,
                    73,
                    73,
                    73,
                    73,
                    73,
                    73,
                    73,
                    73,
                    73,
                    73,
                    73,
                    73,
                    73,
                    73,
                    73,
                    73,
                    73,
                    73,
                    73,
                    73,
                    73,
                    73,
                    73,
                    73,
                    73,
                    73,
                    73,
                    73,
                    73,
                    73,
                    73,
                    73,
                    73,
                    73,
                    73,
                    73,
                    73,
                    73,
                    73,
                    73,
                    73,
                    73,
                    73,
                    73,
                    73,
                    73,
                    73,
                    73,
                    73,
                    73,
                    73,
                    73,
                    73,
                    73,
                    73,
                    73,
                    73,
                    73,
                    73,
                    73,
                    73,
                    73
                  ],
                  "xaxis": "x",
                  "yaxis": "y"
                },
                {
                  "alignmentgroup": "True",
                  "bingroup": "x",
                  "hovertemplate": "Age=%{x}<br>count=%{y}<extra></extra>",
                  "legendgroup": "37",
                  "marker": {
                    "color": "#ab63fa",
                    "pattern": {
                      "shape": ""
                    }
                  },
                  "name": "37",
                  "offsetgroup": "37",
                  "orientation": "v",
                  "showlegend": true,
                  "type": "histogram",
                  "x": [
                    37,
                    37,
                    37,
                    37,
                    37,
                    37,
                    37,
                    37,
                    37,
                    37,
                    37,
                    37,
                    37,
                    37,
                    37,
                    37,
                    37,
                    37,
                    37,
                    37,
                    37,
                    37,
                    37,
                    37,
                    37,
                    37,
                    37,
                    37,
                    37,
                    37,
                    37,
                    37,
                    37,
                    37,
                    37,
                    37,
                    37,
                    37,
                    37,
                    37,
                    37,
                    37,
                    37,
                    37,
                    37,
                    37,
                    37,
                    37,
                    37,
                    37,
                    37,
                    37,
                    37,
                    37,
                    37,
                    37,
                    37,
                    37,
                    37,
                    37,
                    37,
                    37,
                    37,
                    37,
                    37,
                    37,
                    37,
                    37,
                    37,
                    37,
                    37,
                    37,
                    37,
                    37,
                    37,
                    37,
                    37,
                    37,
                    37,
                    37,
                    37,
                    37,
                    37,
                    37,
                    37,
                    37,
                    37,
                    37,
                    37,
                    37,
                    37,
                    37,
                    37,
                    37,
                    37,
                    37,
                    37,
                    37,
                    37,
                    37,
                    37,
                    37,
                    37,
                    37,
                    37,
                    37,
                    37,
                    37,
                    37,
                    37,
                    37,
                    37,
                    37,
                    37,
                    37,
                    37,
                    37,
                    37,
                    37,
                    37,
                    37,
                    37,
                    37,
                    37,
                    37,
                    37,
                    37,
                    37,
                    37,
                    37,
                    37,
                    37,
                    37,
                    37,
                    37,
                    37,
                    37,
                    37,
                    37,
                    37,
                    37,
                    37,
                    37,
                    37,
                    37,
                    37,
                    37,
                    37,
                    37,
                    37,
                    37,
                    37,
                    37,
                    37,
                    37,
                    37,
                    37,
                    37,
                    37,
                    37,
                    37,
                    37,
                    37,
                    37,
                    37,
                    37,
                    37,
                    37,
                    37,
                    37,
                    37,
                    37,
                    37,
                    37,
                    37,
                    37,
                    37,
                    37,
                    37,
                    37,
                    37,
                    37,
                    37,
                    37,
                    37,
                    37,
                    37,
                    37,
                    37,
                    37,
                    37,
                    37,
                    37,
                    37,
                    37,
                    37,
                    37,
                    37,
                    37,
                    37,
                    37,
                    37,
                    37,
                    37,
                    37,
                    37,
                    37,
                    37,
                    37,
                    37,
                    37,
                    37,
                    37,
                    37,
                    37,
                    37,
                    37,
                    37,
                    37,
                    37,
                    37,
                    37,
                    37,
                    37,
                    37,
                    37,
                    37,
                    37,
                    37
                  ],
                  "xaxis": "x",
                  "yaxis": "y"
                },
                {
                  "alignmentgroup": "True",
                  "bingroup": "x",
                  "hovertemplate": "Age=%{x}<br>count=%{y}<extra></extra>",
                  "legendgroup": "50",
                  "marker": {
                    "color": "#FFA15A",
                    "pattern": {
                      "shape": ""
                    }
                  },
                  "name": "50",
                  "offsetgroup": "50",
                  "orientation": "v",
                  "showlegend": true,
                  "type": "histogram",
                  "x": [
                    50,
                    50,
                    50,
                    50,
                    50,
                    50,
                    50,
                    50,
                    50,
                    50,
                    50,
                    50,
                    50,
                    50,
                    50,
                    50,
                    50,
                    50,
                    50,
                    50,
                    50,
                    50,
                    50,
                    50,
                    50,
                    50,
                    50,
                    50,
                    50,
                    50,
                    50,
                    50,
                    50,
                    50,
                    50,
                    50,
                    50,
                    50,
                    50,
                    50,
                    50,
                    50,
                    50,
                    50,
                    50,
                    50,
                    50,
                    50,
                    50,
                    50,
                    50,
                    50,
                    50,
                    50,
                    50,
                    50,
                    50,
                    50,
                    50,
                    50,
                    50,
                    50,
                    50,
                    50,
                    50,
                    50,
                    50,
                    50,
                    50,
                    50,
                    50,
                    50,
                    50,
                    50,
                    50,
                    50,
                    50,
                    50,
                    50,
                    50,
                    50,
                    50,
                    50,
                    50,
                    50,
                    50,
                    50,
                    50,
                    50,
                    50,
                    50,
                    50,
                    50,
                    50,
                    50,
                    50,
                    50,
                    50,
                    50,
                    50,
                    50,
                    50,
                    50,
                    50,
                    50,
                    50,
                    50,
                    50,
                    50,
                    50,
                    50,
                    50,
                    50,
                    50,
                    50,
                    50,
                    50,
                    50,
                    50,
                    50,
                    50,
                    50,
                    50,
                    50,
                    50,
                    50,
                    50,
                    50,
                    50,
                    50,
                    50,
                    50,
                    50,
                    50,
                    50,
                    50,
                    50,
                    50,
                    50,
                    50,
                    50,
                    50,
                    50,
                    50,
                    50,
                    50,
                    50,
                    50,
                    50,
                    50,
                    50,
                    50,
                    50,
                    50,
                    50,
                    50,
                    50,
                    50,
                    50,
                    50,
                    50,
                    50,
                    50,
                    50,
                    50,
                    50,
                    50,
                    50,
                    50,
                    50,
                    50,
                    50,
                    50,
                    50,
                    50,
                    50,
                    50,
                    50,
                    50,
                    50,
                    50,
                    50,
                    50,
                    50,
                    50,
                    50,
                    50,
                    50,
                    50,
                    50,
                    50,
                    50,
                    50,
                    50,
                    50,
                    50,
                    50,
                    50,
                    50,
                    50,
                    50,
                    50,
                    50,
                    50,
                    50,
                    50,
                    50,
                    50,
                    50,
                    50,
                    50,
                    50,
                    50,
                    50,
                    50
                  ],
                  "xaxis": "x",
                  "yaxis": "y"
                },
                {
                  "alignmentgroup": "True",
                  "bingroup": "x",
                  "hovertemplate": "Age=%{x}<br>count=%{y}<extra></extra>",
                  "legendgroup": "40",
                  "marker": {
                    "color": "#19d3f3",
                    "pattern": {
                      "shape": ""
                    }
                  },
                  "name": "40",
                  "offsetgroup": "40",
                  "orientation": "v",
                  "showlegend": true,
                  "type": "histogram",
                  "x": [
                    40,
                    40,
                    40,
                    40,
                    40,
                    40,
                    40,
                    40,
                    40,
                    40,
                    40,
                    40,
                    40,
                    40,
                    40,
                    40,
                    40,
                    40,
                    40,
                    40,
                    40,
                    40,
                    40,
                    40,
                    40,
                    40,
                    40,
                    40,
                    40,
                    40,
                    40,
                    40,
                    40,
                    40,
                    40,
                    40,
                    40,
                    40,
                    40,
                    40,
                    40,
                    40,
                    40,
                    40,
                    40,
                    40,
                    40,
                    40,
                    40,
                    40,
                    40,
                    40,
                    40,
                    40,
                    40,
                    40,
                    40,
                    40,
                    40,
                    40,
                    40,
                    40,
                    40,
                    40,
                    40,
                    40,
                    40,
                    40,
                    40,
                    40,
                    40,
                    40,
                    40,
                    40,
                    40,
                    40,
                    40,
                    40,
                    40,
                    40,
                    40,
                    40,
                    40,
                    40,
                    40,
                    40,
                    40,
                    40,
                    40,
                    40,
                    40,
                    40,
                    40,
                    40,
                    40,
                    40,
                    40,
                    40,
                    40,
                    40,
                    40,
                    40,
                    40,
                    40,
                    40,
                    40,
                    40,
                    40,
                    40,
                    40,
                    40,
                    40,
                    40,
                    40,
                    40,
                    40,
                    40,
                    40,
                    40,
                    40,
                    40,
                    40,
                    40,
                    40,
                    40,
                    40,
                    40,
                    40,
                    40,
                    40,
                    40,
                    40,
                    40,
                    40,
                    40,
                    40,
                    40,
                    40,
                    40,
                    40,
                    40,
                    40,
                    40,
                    40,
                    40,
                    40,
                    40,
                    40,
                    40,
                    40,
                    40,
                    40,
                    40,
                    40,
                    40,
                    40,
                    40,
                    40,
                    40,
                    40,
                    40,
                    40,
                    40,
                    40,
                    40,
                    40,
                    40,
                    40,
                    40,
                    40,
                    40,
                    40,
                    40,
                    40,
                    40,
                    40,
                    40,
                    40,
                    40,
                    40,
                    40,
                    40,
                    40,
                    40,
                    40,
                    40,
                    40,
                    40,
                    40,
                    40,
                    40,
                    40,
                    40,
                    40,
                    40,
                    40,
                    40,
                    40,
                    40,
                    40,
                    40,
                    40,
                    40,
                    40,
                    40,
                    40,
                    40,
                    40,
                    40,
                    40,
                    40,
                    40,
                    40,
                    40
                  ],
                  "xaxis": "x",
                  "yaxis": "y"
                },
                {
                  "alignmentgroup": "True",
                  "bingroup": "x",
                  "hovertemplate": "Age=%{x}<br>count=%{y}<extra></extra>",
                  "legendgroup": "22",
                  "marker": {
                    "color": "#FF6692",
                    "pattern": {
                      "shape": ""
                    }
                  },
                  "name": "22",
                  "offsetgroup": "22",
                  "orientation": "v",
                  "showlegend": true,
                  "type": "histogram",
                  "x": [
                    22,
                    22,
                    22,
                    22,
                    22,
                    22,
                    22,
                    22,
                    22,
                    22,
                    22,
                    22,
                    22,
                    22,
                    22,
                    22,
                    22,
                    22,
                    22,
                    22,
                    22,
                    22,
                    22,
                    22,
                    22,
                    22,
                    22,
                    22,
                    22,
                    22,
                    22,
                    22,
                    22,
                    22,
                    22,
                    22,
                    22,
                    22,
                    22,
                    22,
                    22,
                    22,
                    22,
                    22,
                    22,
                    22,
                    22,
                    22,
                    22,
                    22,
                    22,
                    22,
                    22,
                    22,
                    22,
                    22,
                    22,
                    22,
                    22,
                    22,
                    22,
                    22,
                    22,
                    22,
                    22,
                    22,
                    22,
                    22,
                    22,
                    22,
                    22,
                    22,
                    22,
                    22,
                    22,
                    22,
                    22
                  ],
                  "xaxis": "x",
                  "yaxis": "y"
                },
                {
                  "alignmentgroup": "True",
                  "bingroup": "x",
                  "hovertemplate": "Age=%{x}<br>count=%{y}<extra></extra>",
                  "legendgroup": "89",
                  "marker": {
                    "color": "#B6E880",
                    "pattern": {
                      "shape": ""
                    }
                  },
                  "name": "89",
                  "offsetgroup": "89",
                  "orientation": "v",
                  "showlegend": true,
                  "type": "histogram",
                  "x": [
                    89,
                    89,
                    89,
                    89,
                    89,
                    89,
                    89,
                    89,
                    89,
                    89,
                    89,
                    89,
                    89,
                    89,
                    89,
                    89,
                    89,
                    89,
                    89,
                    89,
                    89,
                    89,
                    89,
                    89,
                    89,
                    89,
                    89,
                    89,
                    89,
                    89,
                    89,
                    89,
                    89,
                    89,
                    89,
                    89,
                    89,
                    89,
                    89,
                    89,
                    89,
                    89,
                    89,
                    89,
                    89,
                    89,
                    89,
                    89,
                    89,
                    89,
                    89,
                    89,
                    89,
                    89,
                    89,
                    89,
                    89,
                    89,
                    89,
                    89,
                    89,
                    89,
                    89,
                    89,
                    89,
                    89,
                    89,
                    89,
                    89,
                    89,
                    89,
                    89,
                    89,
                    89,
                    89,
                    89,
                    89,
                    89,
                    89,
                    89,
                    89,
                    89,
                    89,
                    89,
                    89,
                    89,
                    89,
                    89,
                    89,
                    89,
                    89,
                    89,
                    89,
                    89,
                    89,
                    89,
                    89,
                    89,
                    89,
                    89,
                    89,
                    89,
                    89,
                    89,
                    89,
                    89,
                    89,
                    89,
                    89,
                    89,
                    89,
                    89,
                    89,
                    89,
                    89,
                    89,
                    89,
                    89,
                    89,
                    89,
                    89,
                    89,
                    89,
                    89,
                    89,
                    89,
                    89,
                    89,
                    89,
                    89,
                    89,
                    89,
                    89,
                    89,
                    89,
                    89,
                    89,
                    89,
                    89,
                    89
                  ],
                  "xaxis": "x",
                  "yaxis": "y"
                }
              ],
              "layout": {
                "bargap": 0.3,
                "barmode": "relative",
                "legend": {
                  "title": {
                    "text": "Age"
                  },
                  "tracegroupgap": 0
                },
                "template": {
                  "data": {
                    "bar": [
                      {
                        "error_x": {
                          "color": "#2a3f5f"
                        },
                        "error_y": {
                          "color": "#2a3f5f"
                        },
                        "marker": {
                          "line": {
                            "color": "#E5ECF6",
                            "width": 0.5
                          },
                          "pattern": {
                            "fillmode": "overlay",
                            "size": 10,
                            "solidity": 0.2
                          }
                        },
                        "type": "bar"
                      }
                    ],
                    "barpolar": [
                      {
                        "marker": {
                          "line": {
                            "color": "#E5ECF6",
                            "width": 0.5
                          },
                          "pattern": {
                            "fillmode": "overlay",
                            "size": 10,
                            "solidity": 0.2
                          }
                        },
                        "type": "barpolar"
                      }
                    ],
                    "carpet": [
                      {
                        "aaxis": {
                          "endlinecolor": "#2a3f5f",
                          "gridcolor": "white",
                          "linecolor": "white",
                          "minorgridcolor": "white",
                          "startlinecolor": "#2a3f5f"
                        },
                        "baxis": {
                          "endlinecolor": "#2a3f5f",
                          "gridcolor": "white",
                          "linecolor": "white",
                          "minorgridcolor": "white",
                          "startlinecolor": "#2a3f5f"
                        },
                        "type": "carpet"
                      }
                    ],
                    "choropleth": [
                      {
                        "colorbar": {
                          "outlinewidth": 0,
                          "ticks": ""
                        },
                        "type": "choropleth"
                      }
                    ],
                    "contour": [
                      {
                        "colorbar": {
                          "outlinewidth": 0,
                          "ticks": ""
                        },
                        "colorscale": [
                          [
                            0,
                            "#0d0887"
                          ],
                          [
                            0.1111111111111111,
                            "#46039f"
                          ],
                          [
                            0.2222222222222222,
                            "#7201a8"
                          ],
                          [
                            0.3333333333333333,
                            "#9c179e"
                          ],
                          [
                            0.4444444444444444,
                            "#bd3786"
                          ],
                          [
                            0.5555555555555556,
                            "#d8576b"
                          ],
                          [
                            0.6666666666666666,
                            "#ed7953"
                          ],
                          [
                            0.7777777777777778,
                            "#fb9f3a"
                          ],
                          [
                            0.8888888888888888,
                            "#fdca26"
                          ],
                          [
                            1,
                            "#f0f921"
                          ]
                        ],
                        "type": "contour"
                      }
                    ],
                    "contourcarpet": [
                      {
                        "colorbar": {
                          "outlinewidth": 0,
                          "ticks": ""
                        },
                        "type": "contourcarpet"
                      }
                    ],
                    "heatmap": [
                      {
                        "colorbar": {
                          "outlinewidth": 0,
                          "ticks": ""
                        },
                        "colorscale": [
                          [
                            0,
                            "#0d0887"
                          ],
                          [
                            0.1111111111111111,
                            "#46039f"
                          ],
                          [
                            0.2222222222222222,
                            "#7201a8"
                          ],
                          [
                            0.3333333333333333,
                            "#9c179e"
                          ],
                          [
                            0.4444444444444444,
                            "#bd3786"
                          ],
                          [
                            0.5555555555555556,
                            "#d8576b"
                          ],
                          [
                            0.6666666666666666,
                            "#ed7953"
                          ],
                          [
                            0.7777777777777778,
                            "#fb9f3a"
                          ],
                          [
                            0.8888888888888888,
                            "#fdca26"
                          ],
                          [
                            1,
                            "#f0f921"
                          ]
                        ],
                        "type": "heatmap"
                      }
                    ],
                    "heatmapgl": [
                      {
                        "colorbar": {
                          "outlinewidth": 0,
                          "ticks": ""
                        },
                        "colorscale": [
                          [
                            0,
                            "#0d0887"
                          ],
                          [
                            0.1111111111111111,
                            "#46039f"
                          ],
                          [
                            0.2222222222222222,
                            "#7201a8"
                          ],
                          [
                            0.3333333333333333,
                            "#9c179e"
                          ],
                          [
                            0.4444444444444444,
                            "#bd3786"
                          ],
                          [
                            0.5555555555555556,
                            "#d8576b"
                          ],
                          [
                            0.6666666666666666,
                            "#ed7953"
                          ],
                          [
                            0.7777777777777778,
                            "#fb9f3a"
                          ],
                          [
                            0.8888888888888888,
                            "#fdca26"
                          ],
                          [
                            1,
                            "#f0f921"
                          ]
                        ],
                        "type": "heatmapgl"
                      }
                    ],
                    "histogram": [
                      {
                        "marker": {
                          "pattern": {
                            "fillmode": "overlay",
                            "size": 10,
                            "solidity": 0.2
                          }
                        },
                        "type": "histogram"
                      }
                    ],
                    "histogram2d": [
                      {
                        "colorbar": {
                          "outlinewidth": 0,
                          "ticks": ""
                        },
                        "colorscale": [
                          [
                            0,
                            "#0d0887"
                          ],
                          [
                            0.1111111111111111,
                            "#46039f"
                          ],
                          [
                            0.2222222222222222,
                            "#7201a8"
                          ],
                          [
                            0.3333333333333333,
                            "#9c179e"
                          ],
                          [
                            0.4444444444444444,
                            "#bd3786"
                          ],
                          [
                            0.5555555555555556,
                            "#d8576b"
                          ],
                          [
                            0.6666666666666666,
                            "#ed7953"
                          ],
                          [
                            0.7777777777777778,
                            "#fb9f3a"
                          ],
                          [
                            0.8888888888888888,
                            "#fdca26"
                          ],
                          [
                            1,
                            "#f0f921"
                          ]
                        ],
                        "type": "histogram2d"
                      }
                    ],
                    "histogram2dcontour": [
                      {
                        "colorbar": {
                          "outlinewidth": 0,
                          "ticks": ""
                        },
                        "colorscale": [
                          [
                            0,
                            "#0d0887"
                          ],
                          [
                            0.1111111111111111,
                            "#46039f"
                          ],
                          [
                            0.2222222222222222,
                            "#7201a8"
                          ],
                          [
                            0.3333333333333333,
                            "#9c179e"
                          ],
                          [
                            0.4444444444444444,
                            "#bd3786"
                          ],
                          [
                            0.5555555555555556,
                            "#d8576b"
                          ],
                          [
                            0.6666666666666666,
                            "#ed7953"
                          ],
                          [
                            0.7777777777777778,
                            "#fb9f3a"
                          ],
                          [
                            0.8888888888888888,
                            "#fdca26"
                          ],
                          [
                            1,
                            "#f0f921"
                          ]
                        ],
                        "type": "histogram2dcontour"
                      }
                    ],
                    "mesh3d": [
                      {
                        "colorbar": {
                          "outlinewidth": 0,
                          "ticks": ""
                        },
                        "type": "mesh3d"
                      }
                    ],
                    "parcoords": [
                      {
                        "line": {
                          "colorbar": {
                            "outlinewidth": 0,
                            "ticks": ""
                          }
                        },
                        "type": "parcoords"
                      }
                    ],
                    "pie": [
                      {
                        "automargin": true,
                        "type": "pie"
                      }
                    ],
                    "scatter": [
                      {
                        "fillpattern": {
                          "fillmode": "overlay",
                          "size": 10,
                          "solidity": 0.2
                        },
                        "type": "scatter"
                      }
                    ],
                    "scatter3d": [
                      {
                        "line": {
                          "colorbar": {
                            "outlinewidth": 0,
                            "ticks": ""
                          }
                        },
                        "marker": {
                          "colorbar": {
                            "outlinewidth": 0,
                            "ticks": ""
                          }
                        },
                        "type": "scatter3d"
                      }
                    ],
                    "scattercarpet": [
                      {
                        "marker": {
                          "colorbar": {
                            "outlinewidth": 0,
                            "ticks": ""
                          }
                        },
                        "type": "scattercarpet"
                      }
                    ],
                    "scattergeo": [
                      {
                        "marker": {
                          "colorbar": {
                            "outlinewidth": 0,
                            "ticks": ""
                          }
                        },
                        "type": "scattergeo"
                      }
                    ],
                    "scattergl": [
                      {
                        "marker": {
                          "colorbar": {
                            "outlinewidth": 0,
                            "ticks": ""
                          }
                        },
                        "type": "scattergl"
                      }
                    ],
                    "scattermapbox": [
                      {
                        "marker": {
                          "colorbar": {
                            "outlinewidth": 0,
                            "ticks": ""
                          }
                        },
                        "type": "scattermapbox"
                      }
                    ],
                    "scatterpolar": [
                      {
                        "marker": {
                          "colorbar": {
                            "outlinewidth": 0,
                            "ticks": ""
                          }
                        },
                        "type": "scatterpolar"
                      }
                    ],
                    "scatterpolargl": [
                      {
                        "marker": {
                          "colorbar": {
                            "outlinewidth": 0,
                            "ticks": ""
                          }
                        },
                        "type": "scatterpolargl"
                      }
                    ],
                    "scatterternary": [
                      {
                        "marker": {
                          "colorbar": {
                            "outlinewidth": 0,
                            "ticks": ""
                          }
                        },
                        "type": "scatterternary"
                      }
                    ],
                    "surface": [
                      {
                        "colorbar": {
                          "outlinewidth": 0,
                          "ticks": ""
                        },
                        "colorscale": [
                          [
                            0,
                            "#0d0887"
                          ],
                          [
                            0.1111111111111111,
                            "#46039f"
                          ],
                          [
                            0.2222222222222222,
                            "#7201a8"
                          ],
                          [
                            0.3333333333333333,
                            "#9c179e"
                          ],
                          [
                            0.4444444444444444,
                            "#bd3786"
                          ],
                          [
                            0.5555555555555556,
                            "#d8576b"
                          ],
                          [
                            0.6666666666666666,
                            "#ed7953"
                          ],
                          [
                            0.7777777777777778,
                            "#fb9f3a"
                          ],
                          [
                            0.8888888888888888,
                            "#fdca26"
                          ],
                          [
                            1,
                            "#f0f921"
                          ]
                        ],
                        "type": "surface"
                      }
                    ],
                    "table": [
                      {
                        "cells": {
                          "fill": {
                            "color": "#EBF0F8"
                          },
                          "line": {
                            "color": "white"
                          }
                        },
                        "header": {
                          "fill": {
                            "color": "#C8D4E3"
                          },
                          "line": {
                            "color": "white"
                          }
                        },
                        "type": "table"
                      }
                    ]
                  },
                  "layout": {
                    "annotationdefaults": {
                      "arrowcolor": "#2a3f5f",
                      "arrowhead": 0,
                      "arrowwidth": 1
                    },
                    "autotypenumbers": "strict",
                    "coloraxis": {
                      "colorbar": {
                        "outlinewidth": 0,
                        "ticks": ""
                      }
                    },
                    "colorscale": {
                      "diverging": [
                        [
                          0,
                          "#8e0152"
                        ],
                        [
                          0.1,
                          "#c51b7d"
                        ],
                        [
                          0.2,
                          "#de77ae"
                        ],
                        [
                          0.3,
                          "#f1b6da"
                        ],
                        [
                          0.4,
                          "#fde0ef"
                        ],
                        [
                          0.5,
                          "#f7f7f7"
                        ],
                        [
                          0.6,
                          "#e6f5d0"
                        ],
                        [
                          0.7,
                          "#b8e186"
                        ],
                        [
                          0.8,
                          "#7fbc41"
                        ],
                        [
                          0.9,
                          "#4d9221"
                        ],
                        [
                          1,
                          "#276419"
                        ]
                      ],
                      "sequential": [
                        [
                          0,
                          "#0d0887"
                        ],
                        [
                          0.1111111111111111,
                          "#46039f"
                        ],
                        [
                          0.2222222222222222,
                          "#7201a8"
                        ],
                        [
                          0.3333333333333333,
                          "#9c179e"
                        ],
                        [
                          0.4444444444444444,
                          "#bd3786"
                        ],
                        [
                          0.5555555555555556,
                          "#d8576b"
                        ],
                        [
                          0.6666666666666666,
                          "#ed7953"
                        ],
                        [
                          0.7777777777777778,
                          "#fb9f3a"
                        ],
                        [
                          0.8888888888888888,
                          "#fdca26"
                        ],
                        [
                          1,
                          "#f0f921"
                        ]
                      ],
                      "sequentialminus": [
                        [
                          0,
                          "#0d0887"
                        ],
                        [
                          0.1111111111111111,
                          "#46039f"
                        ],
                        [
                          0.2222222222222222,
                          "#7201a8"
                        ],
                        [
                          0.3333333333333333,
                          "#9c179e"
                        ],
                        [
                          0.4444444444444444,
                          "#bd3786"
                        ],
                        [
                          0.5555555555555556,
                          "#d8576b"
                        ],
                        [
                          0.6666666666666666,
                          "#ed7953"
                        ],
                        [
                          0.7777777777777778,
                          "#fb9f3a"
                        ],
                        [
                          0.8888888888888888,
                          "#fdca26"
                        ],
                        [
                          1,
                          "#f0f921"
                        ]
                      ]
                    },
                    "colorway": [
                      "#636efa",
                      "#EF553B",
                      "#00cc96",
                      "#ab63fa",
                      "#FFA15A",
                      "#19d3f3",
                      "#FF6692",
                      "#B6E880",
                      "#FF97FF",
                      "#FECB52"
                    ],
                    "font": {
                      "color": "#2a3f5f"
                    },
                    "geo": {
                      "bgcolor": "white",
                      "lakecolor": "white",
                      "landcolor": "#E5ECF6",
                      "showlakes": true,
                      "showland": true,
                      "subunitcolor": "white"
                    },
                    "hoverlabel": {
                      "align": "left"
                    },
                    "hovermode": "closest",
                    "mapbox": {
                      "style": "light"
                    },
                    "paper_bgcolor": "white",
                    "plot_bgcolor": "#E5ECF6",
                    "polar": {
                      "angularaxis": {
                        "gridcolor": "white",
                        "linecolor": "white",
                        "ticks": ""
                      },
                      "bgcolor": "#E5ECF6",
                      "radialaxis": {
                        "gridcolor": "white",
                        "linecolor": "white",
                        "ticks": ""
                      }
                    },
                    "scene": {
                      "xaxis": {
                        "backgroundcolor": "#E5ECF6",
                        "gridcolor": "white",
                        "gridwidth": 2,
                        "linecolor": "white",
                        "showbackground": true,
                        "ticks": "",
                        "zerolinecolor": "white"
                      },
                      "yaxis": {
                        "backgroundcolor": "#E5ECF6",
                        "gridcolor": "white",
                        "gridwidth": 2,
                        "linecolor": "white",
                        "showbackground": true,
                        "ticks": "",
                        "zerolinecolor": "white"
                      },
                      "zaxis": {
                        "backgroundcolor": "#E5ECF6",
                        "gridcolor": "white",
                        "gridwidth": 2,
                        "linecolor": "white",
                        "showbackground": true,
                        "ticks": "",
                        "zerolinecolor": "white"
                      }
                    },
                    "shapedefaults": {
                      "line": {
                        "color": "#2a3f5f"
                      }
                    },
                    "ternary": {
                      "aaxis": {
                        "gridcolor": "white",
                        "linecolor": "white",
                        "ticks": ""
                      },
                      "baxis": {
                        "gridcolor": "white",
                        "linecolor": "white",
                        "ticks": ""
                      },
                      "bgcolor": "#E5ECF6",
                      "caxis": {
                        "gridcolor": "white",
                        "linecolor": "white",
                        "ticks": ""
                      }
                    },
                    "title": {
                      "x": 0.05
                    },
                    "xaxis": {
                      "automargin": true,
                      "gridcolor": "white",
                      "linecolor": "white",
                      "ticks": "",
                      "title": {
                        "standoff": 15
                      },
                      "zerolinecolor": "white",
                      "zerolinewidth": 2
                    },
                    "yaxis": {
                      "automargin": true,
                      "gridcolor": "white",
                      "linecolor": "white",
                      "ticks": "",
                      "title": {
                        "standoff": 15
                      },
                      "zerolinecolor": "white",
                      "zerolinewidth": 2
                    }
                  }
                },
                "title": {
                  "text": "Age Distribution"
                },
                "xaxis": {
                  "anchor": "y",
                  "categoryarray": [
                    85,
                    44,
                    77,
                    67,
                    58,
                    70,
                    54,
                    74,
                    49,
                    34,
                    38,
                    59,
                    39,
                    36,
                    56,
                    76,
                    31,
                    29,
                    45,
                    48,
                    65,
                    23,
                    81,
                    26,
                    82,
                    80,
                    33,
                    60,
                    78,
                    72,
                    53,
                    25,
                    79,
                    46,
                    57,
                    63,
                    61,
                    69,
                    71,
                    68,
                    83,
                    32,
                    62,
                    51,
                    87,
                    42,
                    28,
                    47,
                    43,
                    84,
                    66,
                    86,
                    75,
                    41,
                    88,
                    35,
                    24,
                    55,
                    52,
                    27,
                    30,
                    64,
                    73,
                    37,
                    50,
                    40,
                    22,
                    89
                  ],
                  "categoryorder": "array",
                  "domain": [
                    0,
                    1
                  ],
                  "title": {
                    "text": "Age"
                  }
                },
                "yaxis": {
                  "anchor": "x",
                  "domain": [
                    0,
                    1
                  ],
                  "title": {
                    "text": "count"
                  }
                }
              }
            }
          },
          "metadata": {},
          "output_type": "display_data"
        }
      ],
      "source": [
        "# Bar chart of age distribution\n",
        "fig= px.histogram(ct, x='Age', title='Age Distribution', color=ct['Age'])\n",
        "fig.update_layout(bargap=0.3)\n",
        "fig.show()\n"
      ]
    },
    {
      "cell_type": "code",
      "execution_count": 8,
      "metadata": {
        "colab": {
          "base_uri": "https://localhost:8080/",
          "height": 542
        },
        "id": "ngKpykGQJrhC",
        "outputId": "4e438949-5388-4f7a-8914-e72d95c8c755"
      },
      "outputs": [
        {
          "data": {
            "application/vnd.plotly.v1+json": {
              "config": {
                "plotlyServerURL": "https://plot.ly"
              },
              "data": [
                {
                  "alignmentgroup": "True",
                  "hovertemplate": "State=%{x}<br>Customers Count=%{y}<br>color=%{marker.color}<extra></extra>",
                  "legendgroup": "",
                  "marker": {
                    "color": [
                      715,
                      644,
                      522,
                      430,
                      423,
                      420,
                      368,
                      348,
                      297,
                      280
                    ],
                    "coloraxis": "coloraxis",
                    "pattern": {
                      "shape": ""
                    }
                  },
                  "name": "",
                  "offsetgroup": "",
                  "orientation": "v",
                  "showlegend": false,
                  "textposition": "auto",
                  "type": "bar",
                  "x": [
                    "California",
                    "Ontario",
                    "Texas",
                    "New South Wales",
                    "New York",
                    "Freistaat Bayern",
                    "Illinois",
                    "Florida",
                    "Queensland",
                    "British Columbia"
                  ],
                  "xaxis": "x",
                  "y": [
                    715,
                    644,
                    522,
                    430,
                    423,
                    420,
                    368,
                    348,
                    297,
                    280
                  ],
                  "yaxis": "y"
                }
              ],
              "layout": {
                "barmode": "relative",
                "coloraxis": {
                  "colorbar": {
                    "title": {
                      "text": "color"
                    }
                  },
                  "colorscale": [
                    [
                      0,
                      "#0d0887"
                    ],
                    [
                      0.1111111111111111,
                      "#46039f"
                    ],
                    [
                      0.2222222222222222,
                      "#7201a8"
                    ],
                    [
                      0.3333333333333333,
                      "#9c179e"
                    ],
                    [
                      0.4444444444444444,
                      "#bd3786"
                    ],
                    [
                      0.5555555555555556,
                      "#d8576b"
                    ],
                    [
                      0.6666666666666666,
                      "#ed7953"
                    ],
                    [
                      0.7777777777777778,
                      "#fb9f3a"
                    ],
                    [
                      0.8888888888888888,
                      "#fdca26"
                    ],
                    [
                      1,
                      "#f0f921"
                    ]
                  ]
                },
                "font": {
                  "size": 9
                },
                "legend": {
                  "tracegroupgap": 0
                },
                "template": {
                  "data": {
                    "bar": [
                      {
                        "error_x": {
                          "color": "#2a3f5f"
                        },
                        "error_y": {
                          "color": "#2a3f5f"
                        },
                        "marker": {
                          "line": {
                            "color": "#E5ECF6",
                            "width": 0.5
                          },
                          "pattern": {
                            "fillmode": "overlay",
                            "size": 10,
                            "solidity": 0.2
                          }
                        },
                        "type": "bar"
                      }
                    ],
                    "barpolar": [
                      {
                        "marker": {
                          "line": {
                            "color": "#E5ECF6",
                            "width": 0.5
                          },
                          "pattern": {
                            "fillmode": "overlay",
                            "size": 10,
                            "solidity": 0.2
                          }
                        },
                        "type": "barpolar"
                      }
                    ],
                    "carpet": [
                      {
                        "aaxis": {
                          "endlinecolor": "#2a3f5f",
                          "gridcolor": "white",
                          "linecolor": "white",
                          "minorgridcolor": "white",
                          "startlinecolor": "#2a3f5f"
                        },
                        "baxis": {
                          "endlinecolor": "#2a3f5f",
                          "gridcolor": "white",
                          "linecolor": "white",
                          "minorgridcolor": "white",
                          "startlinecolor": "#2a3f5f"
                        },
                        "type": "carpet"
                      }
                    ],
                    "choropleth": [
                      {
                        "colorbar": {
                          "outlinewidth": 0,
                          "ticks": ""
                        },
                        "type": "choropleth"
                      }
                    ],
                    "contour": [
                      {
                        "colorbar": {
                          "outlinewidth": 0,
                          "ticks": ""
                        },
                        "colorscale": [
                          [
                            0,
                            "#0d0887"
                          ],
                          [
                            0.1111111111111111,
                            "#46039f"
                          ],
                          [
                            0.2222222222222222,
                            "#7201a8"
                          ],
                          [
                            0.3333333333333333,
                            "#9c179e"
                          ],
                          [
                            0.4444444444444444,
                            "#bd3786"
                          ],
                          [
                            0.5555555555555556,
                            "#d8576b"
                          ],
                          [
                            0.6666666666666666,
                            "#ed7953"
                          ],
                          [
                            0.7777777777777778,
                            "#fb9f3a"
                          ],
                          [
                            0.8888888888888888,
                            "#fdca26"
                          ],
                          [
                            1,
                            "#f0f921"
                          ]
                        ],
                        "type": "contour"
                      }
                    ],
                    "contourcarpet": [
                      {
                        "colorbar": {
                          "outlinewidth": 0,
                          "ticks": ""
                        },
                        "type": "contourcarpet"
                      }
                    ],
                    "heatmap": [
                      {
                        "colorbar": {
                          "outlinewidth": 0,
                          "ticks": ""
                        },
                        "colorscale": [
                          [
                            0,
                            "#0d0887"
                          ],
                          [
                            0.1111111111111111,
                            "#46039f"
                          ],
                          [
                            0.2222222222222222,
                            "#7201a8"
                          ],
                          [
                            0.3333333333333333,
                            "#9c179e"
                          ],
                          [
                            0.4444444444444444,
                            "#bd3786"
                          ],
                          [
                            0.5555555555555556,
                            "#d8576b"
                          ],
                          [
                            0.6666666666666666,
                            "#ed7953"
                          ],
                          [
                            0.7777777777777778,
                            "#fb9f3a"
                          ],
                          [
                            0.8888888888888888,
                            "#fdca26"
                          ],
                          [
                            1,
                            "#f0f921"
                          ]
                        ],
                        "type": "heatmap"
                      }
                    ],
                    "heatmapgl": [
                      {
                        "colorbar": {
                          "outlinewidth": 0,
                          "ticks": ""
                        },
                        "colorscale": [
                          [
                            0,
                            "#0d0887"
                          ],
                          [
                            0.1111111111111111,
                            "#46039f"
                          ],
                          [
                            0.2222222222222222,
                            "#7201a8"
                          ],
                          [
                            0.3333333333333333,
                            "#9c179e"
                          ],
                          [
                            0.4444444444444444,
                            "#bd3786"
                          ],
                          [
                            0.5555555555555556,
                            "#d8576b"
                          ],
                          [
                            0.6666666666666666,
                            "#ed7953"
                          ],
                          [
                            0.7777777777777778,
                            "#fb9f3a"
                          ],
                          [
                            0.8888888888888888,
                            "#fdca26"
                          ],
                          [
                            1,
                            "#f0f921"
                          ]
                        ],
                        "type": "heatmapgl"
                      }
                    ],
                    "histogram": [
                      {
                        "marker": {
                          "pattern": {
                            "fillmode": "overlay",
                            "size": 10,
                            "solidity": 0.2
                          }
                        },
                        "type": "histogram"
                      }
                    ],
                    "histogram2d": [
                      {
                        "colorbar": {
                          "outlinewidth": 0,
                          "ticks": ""
                        },
                        "colorscale": [
                          [
                            0,
                            "#0d0887"
                          ],
                          [
                            0.1111111111111111,
                            "#46039f"
                          ],
                          [
                            0.2222222222222222,
                            "#7201a8"
                          ],
                          [
                            0.3333333333333333,
                            "#9c179e"
                          ],
                          [
                            0.4444444444444444,
                            "#bd3786"
                          ],
                          [
                            0.5555555555555556,
                            "#d8576b"
                          ],
                          [
                            0.6666666666666666,
                            "#ed7953"
                          ],
                          [
                            0.7777777777777778,
                            "#fb9f3a"
                          ],
                          [
                            0.8888888888888888,
                            "#fdca26"
                          ],
                          [
                            1,
                            "#f0f921"
                          ]
                        ],
                        "type": "histogram2d"
                      }
                    ],
                    "histogram2dcontour": [
                      {
                        "colorbar": {
                          "outlinewidth": 0,
                          "ticks": ""
                        },
                        "colorscale": [
                          [
                            0,
                            "#0d0887"
                          ],
                          [
                            0.1111111111111111,
                            "#46039f"
                          ],
                          [
                            0.2222222222222222,
                            "#7201a8"
                          ],
                          [
                            0.3333333333333333,
                            "#9c179e"
                          ],
                          [
                            0.4444444444444444,
                            "#bd3786"
                          ],
                          [
                            0.5555555555555556,
                            "#d8576b"
                          ],
                          [
                            0.6666666666666666,
                            "#ed7953"
                          ],
                          [
                            0.7777777777777778,
                            "#fb9f3a"
                          ],
                          [
                            0.8888888888888888,
                            "#fdca26"
                          ],
                          [
                            1,
                            "#f0f921"
                          ]
                        ],
                        "type": "histogram2dcontour"
                      }
                    ],
                    "mesh3d": [
                      {
                        "colorbar": {
                          "outlinewidth": 0,
                          "ticks": ""
                        },
                        "type": "mesh3d"
                      }
                    ],
                    "parcoords": [
                      {
                        "line": {
                          "colorbar": {
                            "outlinewidth": 0,
                            "ticks": ""
                          }
                        },
                        "type": "parcoords"
                      }
                    ],
                    "pie": [
                      {
                        "automargin": true,
                        "type": "pie"
                      }
                    ],
                    "scatter": [
                      {
                        "fillpattern": {
                          "fillmode": "overlay",
                          "size": 10,
                          "solidity": 0.2
                        },
                        "type": "scatter"
                      }
                    ],
                    "scatter3d": [
                      {
                        "line": {
                          "colorbar": {
                            "outlinewidth": 0,
                            "ticks": ""
                          }
                        },
                        "marker": {
                          "colorbar": {
                            "outlinewidth": 0,
                            "ticks": ""
                          }
                        },
                        "type": "scatter3d"
                      }
                    ],
                    "scattercarpet": [
                      {
                        "marker": {
                          "colorbar": {
                            "outlinewidth": 0,
                            "ticks": ""
                          }
                        },
                        "type": "scattercarpet"
                      }
                    ],
                    "scattergeo": [
                      {
                        "marker": {
                          "colorbar": {
                            "outlinewidth": 0,
                            "ticks": ""
                          }
                        },
                        "type": "scattergeo"
                      }
                    ],
                    "scattergl": [
                      {
                        "marker": {
                          "colorbar": {
                            "outlinewidth": 0,
                            "ticks": ""
                          }
                        },
                        "type": "scattergl"
                      }
                    ],
                    "scattermapbox": [
                      {
                        "marker": {
                          "colorbar": {
                            "outlinewidth": 0,
                            "ticks": ""
                          }
                        },
                        "type": "scattermapbox"
                      }
                    ],
                    "scatterpolar": [
                      {
                        "marker": {
                          "colorbar": {
                            "outlinewidth": 0,
                            "ticks": ""
                          }
                        },
                        "type": "scatterpolar"
                      }
                    ],
                    "scatterpolargl": [
                      {
                        "marker": {
                          "colorbar": {
                            "outlinewidth": 0,
                            "ticks": ""
                          }
                        },
                        "type": "scatterpolargl"
                      }
                    ],
                    "scatterternary": [
                      {
                        "marker": {
                          "colorbar": {
                            "outlinewidth": 0,
                            "ticks": ""
                          }
                        },
                        "type": "scatterternary"
                      }
                    ],
                    "surface": [
                      {
                        "colorbar": {
                          "outlinewidth": 0,
                          "ticks": ""
                        },
                        "colorscale": [
                          [
                            0,
                            "#0d0887"
                          ],
                          [
                            0.1111111111111111,
                            "#46039f"
                          ],
                          [
                            0.2222222222222222,
                            "#7201a8"
                          ],
                          [
                            0.3333333333333333,
                            "#9c179e"
                          ],
                          [
                            0.4444444444444444,
                            "#bd3786"
                          ],
                          [
                            0.5555555555555556,
                            "#d8576b"
                          ],
                          [
                            0.6666666666666666,
                            "#ed7953"
                          ],
                          [
                            0.7777777777777778,
                            "#fb9f3a"
                          ],
                          [
                            0.8888888888888888,
                            "#fdca26"
                          ],
                          [
                            1,
                            "#f0f921"
                          ]
                        ],
                        "type": "surface"
                      }
                    ],
                    "table": [
                      {
                        "cells": {
                          "fill": {
                            "color": "#EBF0F8"
                          },
                          "line": {
                            "color": "white"
                          }
                        },
                        "header": {
                          "fill": {
                            "color": "#C8D4E3"
                          },
                          "line": {
                            "color": "white"
                          }
                        },
                        "type": "table"
                      }
                    ]
                  },
                  "layout": {
                    "annotationdefaults": {
                      "arrowcolor": "#2a3f5f",
                      "arrowhead": 0,
                      "arrowwidth": 1
                    },
                    "autotypenumbers": "strict",
                    "coloraxis": {
                      "colorbar": {
                        "outlinewidth": 0,
                        "ticks": ""
                      }
                    },
                    "colorscale": {
                      "diverging": [
                        [
                          0,
                          "#8e0152"
                        ],
                        [
                          0.1,
                          "#c51b7d"
                        ],
                        [
                          0.2,
                          "#de77ae"
                        ],
                        [
                          0.3,
                          "#f1b6da"
                        ],
                        [
                          0.4,
                          "#fde0ef"
                        ],
                        [
                          0.5,
                          "#f7f7f7"
                        ],
                        [
                          0.6,
                          "#e6f5d0"
                        ],
                        [
                          0.7,
                          "#b8e186"
                        ],
                        [
                          0.8,
                          "#7fbc41"
                        ],
                        [
                          0.9,
                          "#4d9221"
                        ],
                        [
                          1,
                          "#276419"
                        ]
                      ],
                      "sequential": [
                        [
                          0,
                          "#0d0887"
                        ],
                        [
                          0.1111111111111111,
                          "#46039f"
                        ],
                        [
                          0.2222222222222222,
                          "#7201a8"
                        ],
                        [
                          0.3333333333333333,
                          "#9c179e"
                        ],
                        [
                          0.4444444444444444,
                          "#bd3786"
                        ],
                        [
                          0.5555555555555556,
                          "#d8576b"
                        ],
                        [
                          0.6666666666666666,
                          "#ed7953"
                        ],
                        [
                          0.7777777777777778,
                          "#fb9f3a"
                        ],
                        [
                          0.8888888888888888,
                          "#fdca26"
                        ],
                        [
                          1,
                          "#f0f921"
                        ]
                      ],
                      "sequentialminus": [
                        [
                          0,
                          "#0d0887"
                        ],
                        [
                          0.1111111111111111,
                          "#46039f"
                        ],
                        [
                          0.2222222222222222,
                          "#7201a8"
                        ],
                        [
                          0.3333333333333333,
                          "#9c179e"
                        ],
                        [
                          0.4444444444444444,
                          "#bd3786"
                        ],
                        [
                          0.5555555555555556,
                          "#d8576b"
                        ],
                        [
                          0.6666666666666666,
                          "#ed7953"
                        ],
                        [
                          0.7777777777777778,
                          "#fb9f3a"
                        ],
                        [
                          0.8888888888888888,
                          "#fdca26"
                        ],
                        [
                          1,
                          "#f0f921"
                        ]
                      ]
                    },
                    "colorway": [
                      "#636efa",
                      "#EF553B",
                      "#00cc96",
                      "#ab63fa",
                      "#FFA15A",
                      "#19d3f3",
                      "#FF6692",
                      "#B6E880",
                      "#FF97FF",
                      "#FECB52"
                    ],
                    "font": {
                      "color": "#2a3f5f"
                    },
                    "geo": {
                      "bgcolor": "white",
                      "lakecolor": "white",
                      "landcolor": "#E5ECF6",
                      "showlakes": true,
                      "showland": true,
                      "subunitcolor": "white"
                    },
                    "hoverlabel": {
                      "align": "left"
                    },
                    "hovermode": "closest",
                    "mapbox": {
                      "style": "light"
                    },
                    "paper_bgcolor": "white",
                    "plot_bgcolor": "#E5ECF6",
                    "polar": {
                      "angularaxis": {
                        "gridcolor": "white",
                        "linecolor": "white",
                        "ticks": ""
                      },
                      "bgcolor": "#E5ECF6",
                      "radialaxis": {
                        "gridcolor": "white",
                        "linecolor": "white",
                        "ticks": ""
                      }
                    },
                    "scene": {
                      "xaxis": {
                        "backgroundcolor": "#E5ECF6",
                        "gridcolor": "white",
                        "gridwidth": 2,
                        "linecolor": "white",
                        "showbackground": true,
                        "ticks": "",
                        "zerolinecolor": "white"
                      },
                      "yaxis": {
                        "backgroundcolor": "#E5ECF6",
                        "gridcolor": "white",
                        "gridwidth": 2,
                        "linecolor": "white",
                        "showbackground": true,
                        "ticks": "",
                        "zerolinecolor": "white"
                      },
                      "zaxis": {
                        "backgroundcolor": "#E5ECF6",
                        "gridcolor": "white",
                        "gridwidth": 2,
                        "linecolor": "white",
                        "showbackground": true,
                        "ticks": "",
                        "zerolinecolor": "white"
                      }
                    },
                    "shapedefaults": {
                      "line": {
                        "color": "#2a3f5f"
                      }
                    },
                    "ternary": {
                      "aaxis": {
                        "gridcolor": "white",
                        "linecolor": "white",
                        "ticks": ""
                      },
                      "baxis": {
                        "gridcolor": "white",
                        "linecolor": "white",
                        "ticks": ""
                      },
                      "bgcolor": "#E5ECF6",
                      "caxis": {
                        "gridcolor": "white",
                        "linecolor": "white",
                        "ticks": ""
                      }
                    },
                    "title": {
                      "x": 0.05
                    },
                    "xaxis": {
                      "automargin": true,
                      "gridcolor": "white",
                      "linecolor": "white",
                      "ticks": "",
                      "title": {
                        "standoff": 15
                      },
                      "zerolinecolor": "white",
                      "zerolinewidth": 2
                    },
                    "yaxis": {
                      "automargin": true,
                      "gridcolor": "white",
                      "linecolor": "white",
                      "ticks": "",
                      "title": {
                        "standoff": 15
                      },
                      "zerolinecolor": "white",
                      "zerolinewidth": 2
                    }
                  }
                },
                "title": {
                  "text": "Top 10 State based on Customers "
                },
                "xaxis": {
                  "anchor": "y",
                  "domain": [
                    0,
                    1
                  ],
                  "title": {
                    "text": "State"
                  }
                },
                "yaxis": {
                  "anchor": "x",
                  "domain": [
                    0,
                    1
                  ],
                  "title": {
                    "text": "Customers Count"
                  }
                }
              }
            }
          },
          "metadata": {},
          "output_type": "display_data"
        }
      ],
      "source": [
        "\n",
        "# Creating a bar plot for Top 10 State based on customers\n",
        "top_states = ct['State'].value_counts().head(10)\n",
        "fig = px.bar(\n",
        "\n",
        "    x = top_states.index,\n",
        "    y = top_states.values,\n",
        "    title= \"Top 10 State based on Customers \",\n",
        "    labels= {'x': \"State\", 'y': 'Customers Count'},\n",
        "    color = top_states\n",
        "    )\n",
        "fig.update_layout(font=dict(size=9))\n",
        "fig.show()"
      ]
    },
    {
      "cell_type": "code",
      "execution_count": 9,
      "metadata": {
        "colab": {
          "base_uri": "https://localhost:8080/",
          "height": 542
        },
        "id": "fLBYTm7AGlsh",
        "outputId": "57183b1f-159e-46aa-eb3c-f7fb36ef9759"
      },
      "outputs": [
        {
          "data": {
            "application/vnd.plotly.v1+json": {
              "config": {
                "plotlyServerURL": "https://plot.ly"
              },
              "data": [
                {
                  "alignmentgroup": "True",
                  "hovertemplate": "City=%{x}<br>Customers Count=%{y}<br>color=%{marker.color}<extra></extra>",
                  "legendgroup": "",
                  "marker": {
                    "color": [
                      204,
                      130,
                      119,
                      97,
                      92,
                      86,
                      70,
                      68,
                      62,
                      62
                    ],
                    "coloraxis": "coloraxis",
                    "pattern": {
                      "shape": ""
                    }
                  },
                  "name": "",
                  "offsetgroup": "",
                  "orientation": "v",
                  "showlegend": false,
                  "textposition": "auto",
                  "type": "bar",
                  "x": [
                    "toronto",
                    "new york",
                    "los angeles",
                    "montreal",
                    "chicago",
                    "houston",
                    "calgary",
                    "dallas",
                    "philadelphia",
                    "vancouver"
                  ],
                  "xaxis": "x",
                  "y": [
                    204,
                    130,
                    119,
                    97,
                    92,
                    86,
                    70,
                    68,
                    62,
                    62
                  ],
                  "yaxis": "y"
                }
              ],
              "layout": {
                "barmode": "relative",
                "coloraxis": {
                  "colorbar": {
                    "title": {
                      "text": "color"
                    }
                  },
                  "colorscale": [
                    [
                      0,
                      "#0d0887"
                    ],
                    [
                      0.1111111111111111,
                      "#46039f"
                    ],
                    [
                      0.2222222222222222,
                      "#7201a8"
                    ],
                    [
                      0.3333333333333333,
                      "#9c179e"
                    ],
                    [
                      0.4444444444444444,
                      "#bd3786"
                    ],
                    [
                      0.5555555555555556,
                      "#d8576b"
                    ],
                    [
                      0.6666666666666666,
                      "#ed7953"
                    ],
                    [
                      0.7777777777777778,
                      "#fb9f3a"
                    ],
                    [
                      0.8888888888888888,
                      "#fdca26"
                    ],
                    [
                      1,
                      "#f0f921"
                    ]
                  ]
                },
                "font": {
                  "size": 9
                },
                "legend": {
                  "tracegroupgap": 0
                },
                "template": {
                  "data": {
                    "bar": [
                      {
                        "error_x": {
                          "color": "#2a3f5f"
                        },
                        "error_y": {
                          "color": "#2a3f5f"
                        },
                        "marker": {
                          "line": {
                            "color": "#E5ECF6",
                            "width": 0.5
                          },
                          "pattern": {
                            "fillmode": "overlay",
                            "size": 10,
                            "solidity": 0.2
                          }
                        },
                        "type": "bar"
                      }
                    ],
                    "barpolar": [
                      {
                        "marker": {
                          "line": {
                            "color": "#E5ECF6",
                            "width": 0.5
                          },
                          "pattern": {
                            "fillmode": "overlay",
                            "size": 10,
                            "solidity": 0.2
                          }
                        },
                        "type": "barpolar"
                      }
                    ],
                    "carpet": [
                      {
                        "aaxis": {
                          "endlinecolor": "#2a3f5f",
                          "gridcolor": "white",
                          "linecolor": "white",
                          "minorgridcolor": "white",
                          "startlinecolor": "#2a3f5f"
                        },
                        "baxis": {
                          "endlinecolor": "#2a3f5f",
                          "gridcolor": "white",
                          "linecolor": "white",
                          "minorgridcolor": "white",
                          "startlinecolor": "#2a3f5f"
                        },
                        "type": "carpet"
                      }
                    ],
                    "choropleth": [
                      {
                        "colorbar": {
                          "outlinewidth": 0,
                          "ticks": ""
                        },
                        "type": "choropleth"
                      }
                    ],
                    "contour": [
                      {
                        "colorbar": {
                          "outlinewidth": 0,
                          "ticks": ""
                        },
                        "colorscale": [
                          [
                            0,
                            "#0d0887"
                          ],
                          [
                            0.1111111111111111,
                            "#46039f"
                          ],
                          [
                            0.2222222222222222,
                            "#7201a8"
                          ],
                          [
                            0.3333333333333333,
                            "#9c179e"
                          ],
                          [
                            0.4444444444444444,
                            "#bd3786"
                          ],
                          [
                            0.5555555555555556,
                            "#d8576b"
                          ],
                          [
                            0.6666666666666666,
                            "#ed7953"
                          ],
                          [
                            0.7777777777777778,
                            "#fb9f3a"
                          ],
                          [
                            0.8888888888888888,
                            "#fdca26"
                          ],
                          [
                            1,
                            "#f0f921"
                          ]
                        ],
                        "type": "contour"
                      }
                    ],
                    "contourcarpet": [
                      {
                        "colorbar": {
                          "outlinewidth": 0,
                          "ticks": ""
                        },
                        "type": "contourcarpet"
                      }
                    ],
                    "heatmap": [
                      {
                        "colorbar": {
                          "outlinewidth": 0,
                          "ticks": ""
                        },
                        "colorscale": [
                          [
                            0,
                            "#0d0887"
                          ],
                          [
                            0.1111111111111111,
                            "#46039f"
                          ],
                          [
                            0.2222222222222222,
                            "#7201a8"
                          ],
                          [
                            0.3333333333333333,
                            "#9c179e"
                          ],
                          [
                            0.4444444444444444,
                            "#bd3786"
                          ],
                          [
                            0.5555555555555556,
                            "#d8576b"
                          ],
                          [
                            0.6666666666666666,
                            "#ed7953"
                          ],
                          [
                            0.7777777777777778,
                            "#fb9f3a"
                          ],
                          [
                            0.8888888888888888,
                            "#fdca26"
                          ],
                          [
                            1,
                            "#f0f921"
                          ]
                        ],
                        "type": "heatmap"
                      }
                    ],
                    "heatmapgl": [
                      {
                        "colorbar": {
                          "outlinewidth": 0,
                          "ticks": ""
                        },
                        "colorscale": [
                          [
                            0,
                            "#0d0887"
                          ],
                          [
                            0.1111111111111111,
                            "#46039f"
                          ],
                          [
                            0.2222222222222222,
                            "#7201a8"
                          ],
                          [
                            0.3333333333333333,
                            "#9c179e"
                          ],
                          [
                            0.4444444444444444,
                            "#bd3786"
                          ],
                          [
                            0.5555555555555556,
                            "#d8576b"
                          ],
                          [
                            0.6666666666666666,
                            "#ed7953"
                          ],
                          [
                            0.7777777777777778,
                            "#fb9f3a"
                          ],
                          [
                            0.8888888888888888,
                            "#fdca26"
                          ],
                          [
                            1,
                            "#f0f921"
                          ]
                        ],
                        "type": "heatmapgl"
                      }
                    ],
                    "histogram": [
                      {
                        "marker": {
                          "pattern": {
                            "fillmode": "overlay",
                            "size": 10,
                            "solidity": 0.2
                          }
                        },
                        "type": "histogram"
                      }
                    ],
                    "histogram2d": [
                      {
                        "colorbar": {
                          "outlinewidth": 0,
                          "ticks": ""
                        },
                        "colorscale": [
                          [
                            0,
                            "#0d0887"
                          ],
                          [
                            0.1111111111111111,
                            "#46039f"
                          ],
                          [
                            0.2222222222222222,
                            "#7201a8"
                          ],
                          [
                            0.3333333333333333,
                            "#9c179e"
                          ],
                          [
                            0.4444444444444444,
                            "#bd3786"
                          ],
                          [
                            0.5555555555555556,
                            "#d8576b"
                          ],
                          [
                            0.6666666666666666,
                            "#ed7953"
                          ],
                          [
                            0.7777777777777778,
                            "#fb9f3a"
                          ],
                          [
                            0.8888888888888888,
                            "#fdca26"
                          ],
                          [
                            1,
                            "#f0f921"
                          ]
                        ],
                        "type": "histogram2d"
                      }
                    ],
                    "histogram2dcontour": [
                      {
                        "colorbar": {
                          "outlinewidth": 0,
                          "ticks": ""
                        },
                        "colorscale": [
                          [
                            0,
                            "#0d0887"
                          ],
                          [
                            0.1111111111111111,
                            "#46039f"
                          ],
                          [
                            0.2222222222222222,
                            "#7201a8"
                          ],
                          [
                            0.3333333333333333,
                            "#9c179e"
                          ],
                          [
                            0.4444444444444444,
                            "#bd3786"
                          ],
                          [
                            0.5555555555555556,
                            "#d8576b"
                          ],
                          [
                            0.6666666666666666,
                            "#ed7953"
                          ],
                          [
                            0.7777777777777778,
                            "#fb9f3a"
                          ],
                          [
                            0.8888888888888888,
                            "#fdca26"
                          ],
                          [
                            1,
                            "#f0f921"
                          ]
                        ],
                        "type": "histogram2dcontour"
                      }
                    ],
                    "mesh3d": [
                      {
                        "colorbar": {
                          "outlinewidth": 0,
                          "ticks": ""
                        },
                        "type": "mesh3d"
                      }
                    ],
                    "parcoords": [
                      {
                        "line": {
                          "colorbar": {
                            "outlinewidth": 0,
                            "ticks": ""
                          }
                        },
                        "type": "parcoords"
                      }
                    ],
                    "pie": [
                      {
                        "automargin": true,
                        "type": "pie"
                      }
                    ],
                    "scatter": [
                      {
                        "fillpattern": {
                          "fillmode": "overlay",
                          "size": 10,
                          "solidity": 0.2
                        },
                        "type": "scatter"
                      }
                    ],
                    "scatter3d": [
                      {
                        "line": {
                          "colorbar": {
                            "outlinewidth": 0,
                            "ticks": ""
                          }
                        },
                        "marker": {
                          "colorbar": {
                            "outlinewidth": 0,
                            "ticks": ""
                          }
                        },
                        "type": "scatter3d"
                      }
                    ],
                    "scattercarpet": [
                      {
                        "marker": {
                          "colorbar": {
                            "outlinewidth": 0,
                            "ticks": ""
                          }
                        },
                        "type": "scattercarpet"
                      }
                    ],
                    "scattergeo": [
                      {
                        "marker": {
                          "colorbar": {
                            "outlinewidth": 0,
                            "ticks": ""
                          }
                        },
                        "type": "scattergeo"
                      }
                    ],
                    "scattergl": [
                      {
                        "marker": {
                          "colorbar": {
                            "outlinewidth": 0,
                            "ticks": ""
                          }
                        },
                        "type": "scattergl"
                      }
                    ],
                    "scattermapbox": [
                      {
                        "marker": {
                          "colorbar": {
                            "outlinewidth": 0,
                            "ticks": ""
                          }
                        },
                        "type": "scattermapbox"
                      }
                    ],
                    "scatterpolar": [
                      {
                        "marker": {
                          "colorbar": {
                            "outlinewidth": 0,
                            "ticks": ""
                          }
                        },
                        "type": "scatterpolar"
                      }
                    ],
                    "scatterpolargl": [
                      {
                        "marker": {
                          "colorbar": {
                            "outlinewidth": 0,
                            "ticks": ""
                          }
                        },
                        "type": "scatterpolargl"
                      }
                    ],
                    "scatterternary": [
                      {
                        "marker": {
                          "colorbar": {
                            "outlinewidth": 0,
                            "ticks": ""
                          }
                        },
                        "type": "scatterternary"
                      }
                    ],
                    "surface": [
                      {
                        "colorbar": {
                          "outlinewidth": 0,
                          "ticks": ""
                        },
                        "colorscale": [
                          [
                            0,
                            "#0d0887"
                          ],
                          [
                            0.1111111111111111,
                            "#46039f"
                          ],
                          [
                            0.2222222222222222,
                            "#7201a8"
                          ],
                          [
                            0.3333333333333333,
                            "#9c179e"
                          ],
                          [
                            0.4444444444444444,
                            "#bd3786"
                          ],
                          [
                            0.5555555555555556,
                            "#d8576b"
                          ],
                          [
                            0.6666666666666666,
                            "#ed7953"
                          ],
                          [
                            0.7777777777777778,
                            "#fb9f3a"
                          ],
                          [
                            0.8888888888888888,
                            "#fdca26"
                          ],
                          [
                            1,
                            "#f0f921"
                          ]
                        ],
                        "type": "surface"
                      }
                    ],
                    "table": [
                      {
                        "cells": {
                          "fill": {
                            "color": "#EBF0F8"
                          },
                          "line": {
                            "color": "white"
                          }
                        },
                        "header": {
                          "fill": {
                            "color": "#C8D4E3"
                          },
                          "line": {
                            "color": "white"
                          }
                        },
                        "type": "table"
                      }
                    ]
                  },
                  "layout": {
                    "annotationdefaults": {
                      "arrowcolor": "#2a3f5f",
                      "arrowhead": 0,
                      "arrowwidth": 1
                    },
                    "autotypenumbers": "strict",
                    "coloraxis": {
                      "colorbar": {
                        "outlinewidth": 0,
                        "ticks": ""
                      }
                    },
                    "colorscale": {
                      "diverging": [
                        [
                          0,
                          "#8e0152"
                        ],
                        [
                          0.1,
                          "#c51b7d"
                        ],
                        [
                          0.2,
                          "#de77ae"
                        ],
                        [
                          0.3,
                          "#f1b6da"
                        ],
                        [
                          0.4,
                          "#fde0ef"
                        ],
                        [
                          0.5,
                          "#f7f7f7"
                        ],
                        [
                          0.6,
                          "#e6f5d0"
                        ],
                        [
                          0.7,
                          "#b8e186"
                        ],
                        [
                          0.8,
                          "#7fbc41"
                        ],
                        [
                          0.9,
                          "#4d9221"
                        ],
                        [
                          1,
                          "#276419"
                        ]
                      ],
                      "sequential": [
                        [
                          0,
                          "#0d0887"
                        ],
                        [
                          0.1111111111111111,
                          "#46039f"
                        ],
                        [
                          0.2222222222222222,
                          "#7201a8"
                        ],
                        [
                          0.3333333333333333,
                          "#9c179e"
                        ],
                        [
                          0.4444444444444444,
                          "#bd3786"
                        ],
                        [
                          0.5555555555555556,
                          "#d8576b"
                        ],
                        [
                          0.6666666666666666,
                          "#ed7953"
                        ],
                        [
                          0.7777777777777778,
                          "#fb9f3a"
                        ],
                        [
                          0.8888888888888888,
                          "#fdca26"
                        ],
                        [
                          1,
                          "#f0f921"
                        ]
                      ],
                      "sequentialminus": [
                        [
                          0,
                          "#0d0887"
                        ],
                        [
                          0.1111111111111111,
                          "#46039f"
                        ],
                        [
                          0.2222222222222222,
                          "#7201a8"
                        ],
                        [
                          0.3333333333333333,
                          "#9c179e"
                        ],
                        [
                          0.4444444444444444,
                          "#bd3786"
                        ],
                        [
                          0.5555555555555556,
                          "#d8576b"
                        ],
                        [
                          0.6666666666666666,
                          "#ed7953"
                        ],
                        [
                          0.7777777777777778,
                          "#fb9f3a"
                        ],
                        [
                          0.8888888888888888,
                          "#fdca26"
                        ],
                        [
                          1,
                          "#f0f921"
                        ]
                      ]
                    },
                    "colorway": [
                      "#636efa",
                      "#EF553B",
                      "#00cc96",
                      "#ab63fa",
                      "#FFA15A",
                      "#19d3f3",
                      "#FF6692",
                      "#B6E880",
                      "#FF97FF",
                      "#FECB52"
                    ],
                    "font": {
                      "color": "#2a3f5f"
                    },
                    "geo": {
                      "bgcolor": "white",
                      "lakecolor": "white",
                      "landcolor": "#E5ECF6",
                      "showlakes": true,
                      "showland": true,
                      "subunitcolor": "white"
                    },
                    "hoverlabel": {
                      "align": "left"
                    },
                    "hovermode": "closest",
                    "mapbox": {
                      "style": "light"
                    },
                    "paper_bgcolor": "white",
                    "plot_bgcolor": "#E5ECF6",
                    "polar": {
                      "angularaxis": {
                        "gridcolor": "white",
                        "linecolor": "white",
                        "ticks": ""
                      },
                      "bgcolor": "#E5ECF6",
                      "radialaxis": {
                        "gridcolor": "white",
                        "linecolor": "white",
                        "ticks": ""
                      }
                    },
                    "scene": {
                      "xaxis": {
                        "backgroundcolor": "#E5ECF6",
                        "gridcolor": "white",
                        "gridwidth": 2,
                        "linecolor": "white",
                        "showbackground": true,
                        "ticks": "",
                        "zerolinecolor": "white"
                      },
                      "yaxis": {
                        "backgroundcolor": "#E5ECF6",
                        "gridcolor": "white",
                        "gridwidth": 2,
                        "linecolor": "white",
                        "showbackground": true,
                        "ticks": "",
                        "zerolinecolor": "white"
                      },
                      "zaxis": {
                        "backgroundcolor": "#E5ECF6",
                        "gridcolor": "white",
                        "gridwidth": 2,
                        "linecolor": "white",
                        "showbackground": true,
                        "ticks": "",
                        "zerolinecolor": "white"
                      }
                    },
                    "shapedefaults": {
                      "line": {
                        "color": "#2a3f5f"
                      }
                    },
                    "ternary": {
                      "aaxis": {
                        "gridcolor": "white",
                        "linecolor": "white",
                        "ticks": ""
                      },
                      "baxis": {
                        "gridcolor": "white",
                        "linecolor": "white",
                        "ticks": ""
                      },
                      "bgcolor": "#E5ECF6",
                      "caxis": {
                        "gridcolor": "white",
                        "linecolor": "white",
                        "ticks": ""
                      }
                    },
                    "title": {
                      "x": 0.05
                    },
                    "xaxis": {
                      "automargin": true,
                      "gridcolor": "white",
                      "linecolor": "white",
                      "ticks": "",
                      "title": {
                        "standoff": 15
                      },
                      "zerolinecolor": "white",
                      "zerolinewidth": 2
                    },
                    "yaxis": {
                      "automargin": true,
                      "gridcolor": "white",
                      "linecolor": "white",
                      "ticks": "",
                      "title": {
                        "standoff": 15
                      },
                      "zerolinecolor": "white",
                      "zerolinewidth": 2
                    }
                  }
                },
                "title": {
                  "text": "Top 10 City based on Customers "
                },
                "xaxis": {
                  "anchor": "y",
                  "domain": [
                    0,
                    1
                  ],
                  "title": {
                    "text": "City"
                  }
                },
                "yaxis": {
                  "anchor": "x",
                  "domain": [
                    0,
                    1
                  ],
                  "title": {
                    "text": "Customers Count"
                  }
                }
              }
            }
          },
          "metadata": {},
          "output_type": "display_data"
        }
      ],
      "source": [
        "# Finding  the cities with the most customers\n",
        "top_cities = ct['City'].value_counts().head(10)\n",
        "\n",
        "sns.set_style=\"whitegrid\"\n",
        "fig_city= px.bar(\n",
        "\n",
        "    x = top_cities.index,\n",
        "    y = top_cities.values,\n",
        "    title= \"Top 10 City based on Customers \",\n",
        "    labels= {'x': \"City\", 'y': 'Customers Count'},\n",
        "    color= top_cities\n",
        "    )\n",
        "fig_city.update_layout(font=dict(size=9))\n",
        "fig_city.show()"
      ]
    },
    {
      "cell_type": "code",
      "execution_count": 10,
      "metadata": {
        "colab": {
          "base_uri": "https://localhost:8080/",
          "height": 542
        },
        "id": "6GTQ5ltJFezU",
        "outputId": "3afb17e0-da7d-4685-b5f6-19e82ad7fbd2"
      },
      "outputs": [
        {
          "data": {
            "application/vnd.plotly.v1+json": {
              "config": {
                "plotlyServerURL": "https://plot.ly"
              },
              "data": [
                {
                  "labels": [
                    "United States",
                    "United Kingdom",
                    "Canada",
                    "Germany",
                    "Australia",
                    "Netherlands",
                    "France",
                    "Italy"
                  ],
                  "type": "pie",
                  "values": [
                    6828,
                    1944,
                    1553,
                    1473,
                    1420,
                    733,
                    670,
                    645
                  ]
                }
              ],
              "layout": {
                "template": {
                  "data": {
                    "bar": [
                      {
                        "error_x": {
                          "color": "#2a3f5f"
                        },
                        "error_y": {
                          "color": "#2a3f5f"
                        },
                        "marker": {
                          "line": {
                            "color": "#E5ECF6",
                            "width": 0.5
                          },
                          "pattern": {
                            "fillmode": "overlay",
                            "size": 10,
                            "solidity": 0.2
                          }
                        },
                        "type": "bar"
                      }
                    ],
                    "barpolar": [
                      {
                        "marker": {
                          "line": {
                            "color": "#E5ECF6",
                            "width": 0.5
                          },
                          "pattern": {
                            "fillmode": "overlay",
                            "size": 10,
                            "solidity": 0.2
                          }
                        },
                        "type": "barpolar"
                      }
                    ],
                    "carpet": [
                      {
                        "aaxis": {
                          "endlinecolor": "#2a3f5f",
                          "gridcolor": "white",
                          "linecolor": "white",
                          "minorgridcolor": "white",
                          "startlinecolor": "#2a3f5f"
                        },
                        "baxis": {
                          "endlinecolor": "#2a3f5f",
                          "gridcolor": "white",
                          "linecolor": "white",
                          "minorgridcolor": "white",
                          "startlinecolor": "#2a3f5f"
                        },
                        "type": "carpet"
                      }
                    ],
                    "choropleth": [
                      {
                        "colorbar": {
                          "outlinewidth": 0,
                          "ticks": ""
                        },
                        "type": "choropleth"
                      }
                    ],
                    "contour": [
                      {
                        "colorbar": {
                          "outlinewidth": 0,
                          "ticks": ""
                        },
                        "colorscale": [
                          [
                            0,
                            "#0d0887"
                          ],
                          [
                            0.1111111111111111,
                            "#46039f"
                          ],
                          [
                            0.2222222222222222,
                            "#7201a8"
                          ],
                          [
                            0.3333333333333333,
                            "#9c179e"
                          ],
                          [
                            0.4444444444444444,
                            "#bd3786"
                          ],
                          [
                            0.5555555555555556,
                            "#d8576b"
                          ],
                          [
                            0.6666666666666666,
                            "#ed7953"
                          ],
                          [
                            0.7777777777777778,
                            "#fb9f3a"
                          ],
                          [
                            0.8888888888888888,
                            "#fdca26"
                          ],
                          [
                            1,
                            "#f0f921"
                          ]
                        ],
                        "type": "contour"
                      }
                    ],
                    "contourcarpet": [
                      {
                        "colorbar": {
                          "outlinewidth": 0,
                          "ticks": ""
                        },
                        "type": "contourcarpet"
                      }
                    ],
                    "heatmap": [
                      {
                        "colorbar": {
                          "outlinewidth": 0,
                          "ticks": ""
                        },
                        "colorscale": [
                          [
                            0,
                            "#0d0887"
                          ],
                          [
                            0.1111111111111111,
                            "#46039f"
                          ],
                          [
                            0.2222222222222222,
                            "#7201a8"
                          ],
                          [
                            0.3333333333333333,
                            "#9c179e"
                          ],
                          [
                            0.4444444444444444,
                            "#bd3786"
                          ],
                          [
                            0.5555555555555556,
                            "#d8576b"
                          ],
                          [
                            0.6666666666666666,
                            "#ed7953"
                          ],
                          [
                            0.7777777777777778,
                            "#fb9f3a"
                          ],
                          [
                            0.8888888888888888,
                            "#fdca26"
                          ],
                          [
                            1,
                            "#f0f921"
                          ]
                        ],
                        "type": "heatmap"
                      }
                    ],
                    "heatmapgl": [
                      {
                        "colorbar": {
                          "outlinewidth": 0,
                          "ticks": ""
                        },
                        "colorscale": [
                          [
                            0,
                            "#0d0887"
                          ],
                          [
                            0.1111111111111111,
                            "#46039f"
                          ],
                          [
                            0.2222222222222222,
                            "#7201a8"
                          ],
                          [
                            0.3333333333333333,
                            "#9c179e"
                          ],
                          [
                            0.4444444444444444,
                            "#bd3786"
                          ],
                          [
                            0.5555555555555556,
                            "#d8576b"
                          ],
                          [
                            0.6666666666666666,
                            "#ed7953"
                          ],
                          [
                            0.7777777777777778,
                            "#fb9f3a"
                          ],
                          [
                            0.8888888888888888,
                            "#fdca26"
                          ],
                          [
                            1,
                            "#f0f921"
                          ]
                        ],
                        "type": "heatmapgl"
                      }
                    ],
                    "histogram": [
                      {
                        "marker": {
                          "pattern": {
                            "fillmode": "overlay",
                            "size": 10,
                            "solidity": 0.2
                          }
                        },
                        "type": "histogram"
                      }
                    ],
                    "histogram2d": [
                      {
                        "colorbar": {
                          "outlinewidth": 0,
                          "ticks": ""
                        },
                        "colorscale": [
                          [
                            0,
                            "#0d0887"
                          ],
                          [
                            0.1111111111111111,
                            "#46039f"
                          ],
                          [
                            0.2222222222222222,
                            "#7201a8"
                          ],
                          [
                            0.3333333333333333,
                            "#9c179e"
                          ],
                          [
                            0.4444444444444444,
                            "#bd3786"
                          ],
                          [
                            0.5555555555555556,
                            "#d8576b"
                          ],
                          [
                            0.6666666666666666,
                            "#ed7953"
                          ],
                          [
                            0.7777777777777778,
                            "#fb9f3a"
                          ],
                          [
                            0.8888888888888888,
                            "#fdca26"
                          ],
                          [
                            1,
                            "#f0f921"
                          ]
                        ],
                        "type": "histogram2d"
                      }
                    ],
                    "histogram2dcontour": [
                      {
                        "colorbar": {
                          "outlinewidth": 0,
                          "ticks": ""
                        },
                        "colorscale": [
                          [
                            0,
                            "#0d0887"
                          ],
                          [
                            0.1111111111111111,
                            "#46039f"
                          ],
                          [
                            0.2222222222222222,
                            "#7201a8"
                          ],
                          [
                            0.3333333333333333,
                            "#9c179e"
                          ],
                          [
                            0.4444444444444444,
                            "#bd3786"
                          ],
                          [
                            0.5555555555555556,
                            "#d8576b"
                          ],
                          [
                            0.6666666666666666,
                            "#ed7953"
                          ],
                          [
                            0.7777777777777778,
                            "#fb9f3a"
                          ],
                          [
                            0.8888888888888888,
                            "#fdca26"
                          ],
                          [
                            1,
                            "#f0f921"
                          ]
                        ],
                        "type": "histogram2dcontour"
                      }
                    ],
                    "mesh3d": [
                      {
                        "colorbar": {
                          "outlinewidth": 0,
                          "ticks": ""
                        },
                        "type": "mesh3d"
                      }
                    ],
                    "parcoords": [
                      {
                        "line": {
                          "colorbar": {
                            "outlinewidth": 0,
                            "ticks": ""
                          }
                        },
                        "type": "parcoords"
                      }
                    ],
                    "pie": [
                      {
                        "automargin": true,
                        "type": "pie"
                      }
                    ],
                    "scatter": [
                      {
                        "fillpattern": {
                          "fillmode": "overlay",
                          "size": 10,
                          "solidity": 0.2
                        },
                        "type": "scatter"
                      }
                    ],
                    "scatter3d": [
                      {
                        "line": {
                          "colorbar": {
                            "outlinewidth": 0,
                            "ticks": ""
                          }
                        },
                        "marker": {
                          "colorbar": {
                            "outlinewidth": 0,
                            "ticks": ""
                          }
                        },
                        "type": "scatter3d"
                      }
                    ],
                    "scattercarpet": [
                      {
                        "marker": {
                          "colorbar": {
                            "outlinewidth": 0,
                            "ticks": ""
                          }
                        },
                        "type": "scattercarpet"
                      }
                    ],
                    "scattergeo": [
                      {
                        "marker": {
                          "colorbar": {
                            "outlinewidth": 0,
                            "ticks": ""
                          }
                        },
                        "type": "scattergeo"
                      }
                    ],
                    "scattergl": [
                      {
                        "marker": {
                          "colorbar": {
                            "outlinewidth": 0,
                            "ticks": ""
                          }
                        },
                        "type": "scattergl"
                      }
                    ],
                    "scattermapbox": [
                      {
                        "marker": {
                          "colorbar": {
                            "outlinewidth": 0,
                            "ticks": ""
                          }
                        },
                        "type": "scattermapbox"
                      }
                    ],
                    "scatterpolar": [
                      {
                        "marker": {
                          "colorbar": {
                            "outlinewidth": 0,
                            "ticks": ""
                          }
                        },
                        "type": "scatterpolar"
                      }
                    ],
                    "scatterpolargl": [
                      {
                        "marker": {
                          "colorbar": {
                            "outlinewidth": 0,
                            "ticks": ""
                          }
                        },
                        "type": "scatterpolargl"
                      }
                    ],
                    "scatterternary": [
                      {
                        "marker": {
                          "colorbar": {
                            "outlinewidth": 0,
                            "ticks": ""
                          }
                        },
                        "type": "scatterternary"
                      }
                    ],
                    "surface": [
                      {
                        "colorbar": {
                          "outlinewidth": 0,
                          "ticks": ""
                        },
                        "colorscale": [
                          [
                            0,
                            "#0d0887"
                          ],
                          [
                            0.1111111111111111,
                            "#46039f"
                          ],
                          [
                            0.2222222222222222,
                            "#7201a8"
                          ],
                          [
                            0.3333333333333333,
                            "#9c179e"
                          ],
                          [
                            0.4444444444444444,
                            "#bd3786"
                          ],
                          [
                            0.5555555555555556,
                            "#d8576b"
                          ],
                          [
                            0.6666666666666666,
                            "#ed7953"
                          ],
                          [
                            0.7777777777777778,
                            "#fb9f3a"
                          ],
                          [
                            0.8888888888888888,
                            "#fdca26"
                          ],
                          [
                            1,
                            "#f0f921"
                          ]
                        ],
                        "type": "surface"
                      }
                    ],
                    "table": [
                      {
                        "cells": {
                          "fill": {
                            "color": "#EBF0F8"
                          },
                          "line": {
                            "color": "white"
                          }
                        },
                        "header": {
                          "fill": {
                            "color": "#C8D4E3"
                          },
                          "line": {
                            "color": "white"
                          }
                        },
                        "type": "table"
                      }
                    ]
                  },
                  "layout": {
                    "annotationdefaults": {
                      "arrowcolor": "#2a3f5f",
                      "arrowhead": 0,
                      "arrowwidth": 1
                    },
                    "autotypenumbers": "strict",
                    "coloraxis": {
                      "colorbar": {
                        "outlinewidth": 0,
                        "ticks": ""
                      }
                    },
                    "colorscale": {
                      "diverging": [
                        [
                          0,
                          "#8e0152"
                        ],
                        [
                          0.1,
                          "#c51b7d"
                        ],
                        [
                          0.2,
                          "#de77ae"
                        ],
                        [
                          0.3,
                          "#f1b6da"
                        ],
                        [
                          0.4,
                          "#fde0ef"
                        ],
                        [
                          0.5,
                          "#f7f7f7"
                        ],
                        [
                          0.6,
                          "#e6f5d0"
                        ],
                        [
                          0.7,
                          "#b8e186"
                        ],
                        [
                          0.8,
                          "#7fbc41"
                        ],
                        [
                          0.9,
                          "#4d9221"
                        ],
                        [
                          1,
                          "#276419"
                        ]
                      ],
                      "sequential": [
                        [
                          0,
                          "#0d0887"
                        ],
                        [
                          0.1111111111111111,
                          "#46039f"
                        ],
                        [
                          0.2222222222222222,
                          "#7201a8"
                        ],
                        [
                          0.3333333333333333,
                          "#9c179e"
                        ],
                        [
                          0.4444444444444444,
                          "#bd3786"
                        ],
                        [
                          0.5555555555555556,
                          "#d8576b"
                        ],
                        [
                          0.6666666666666666,
                          "#ed7953"
                        ],
                        [
                          0.7777777777777778,
                          "#fb9f3a"
                        ],
                        [
                          0.8888888888888888,
                          "#fdca26"
                        ],
                        [
                          1,
                          "#f0f921"
                        ]
                      ],
                      "sequentialminus": [
                        [
                          0,
                          "#0d0887"
                        ],
                        [
                          0.1111111111111111,
                          "#46039f"
                        ],
                        [
                          0.2222222222222222,
                          "#7201a8"
                        ],
                        [
                          0.3333333333333333,
                          "#9c179e"
                        ],
                        [
                          0.4444444444444444,
                          "#bd3786"
                        ],
                        [
                          0.5555555555555556,
                          "#d8576b"
                        ],
                        [
                          0.6666666666666666,
                          "#ed7953"
                        ],
                        [
                          0.7777777777777778,
                          "#fb9f3a"
                        ],
                        [
                          0.8888888888888888,
                          "#fdca26"
                        ],
                        [
                          1,
                          "#f0f921"
                        ]
                      ]
                    },
                    "colorway": [
                      "#636efa",
                      "#EF553B",
                      "#00cc96",
                      "#ab63fa",
                      "#FFA15A",
                      "#19d3f3",
                      "#FF6692",
                      "#B6E880",
                      "#FF97FF",
                      "#FECB52"
                    ],
                    "font": {
                      "color": "#2a3f5f"
                    },
                    "geo": {
                      "bgcolor": "white",
                      "lakecolor": "white",
                      "landcolor": "#E5ECF6",
                      "showlakes": true,
                      "showland": true,
                      "subunitcolor": "white"
                    },
                    "hoverlabel": {
                      "align": "left"
                    },
                    "hovermode": "closest",
                    "mapbox": {
                      "style": "light"
                    },
                    "paper_bgcolor": "white",
                    "plot_bgcolor": "#E5ECF6",
                    "polar": {
                      "angularaxis": {
                        "gridcolor": "white",
                        "linecolor": "white",
                        "ticks": ""
                      },
                      "bgcolor": "#E5ECF6",
                      "radialaxis": {
                        "gridcolor": "white",
                        "linecolor": "white",
                        "ticks": ""
                      }
                    },
                    "scene": {
                      "xaxis": {
                        "backgroundcolor": "#E5ECF6",
                        "gridcolor": "white",
                        "gridwidth": 2,
                        "linecolor": "white",
                        "showbackground": true,
                        "ticks": "",
                        "zerolinecolor": "white"
                      },
                      "yaxis": {
                        "backgroundcolor": "#E5ECF6",
                        "gridcolor": "white",
                        "gridwidth": 2,
                        "linecolor": "white",
                        "showbackground": true,
                        "ticks": "",
                        "zerolinecolor": "white"
                      },
                      "zaxis": {
                        "backgroundcolor": "#E5ECF6",
                        "gridcolor": "white",
                        "gridwidth": 2,
                        "linecolor": "white",
                        "showbackground": true,
                        "ticks": "",
                        "zerolinecolor": "white"
                      }
                    },
                    "shapedefaults": {
                      "line": {
                        "color": "#2a3f5f"
                      }
                    },
                    "ternary": {
                      "aaxis": {
                        "gridcolor": "white",
                        "linecolor": "white",
                        "ticks": ""
                      },
                      "baxis": {
                        "gridcolor": "white",
                        "linecolor": "white",
                        "ticks": ""
                      },
                      "bgcolor": "#E5ECF6",
                      "caxis": {
                        "gridcolor": "white",
                        "linecolor": "white",
                        "ticks": ""
                      }
                    },
                    "title": {
                      "x": 0.05
                    },
                    "xaxis": {
                      "automargin": true,
                      "gridcolor": "white",
                      "linecolor": "white",
                      "ticks": "",
                      "title": {
                        "standoff": 15
                      },
                      "zerolinecolor": "white",
                      "zerolinewidth": 2
                    },
                    "yaxis": {
                      "automargin": true,
                      "gridcolor": "white",
                      "linecolor": "white",
                      "ticks": "",
                      "title": {
                        "standoff": 15
                      },
                      "zerolinecolor": "white",
                      "zerolinewidth": 2
                    }
                  }
                }
              }
            }
          },
          "metadata": {},
          "output_type": "display_data"
        }
      ],
      "source": [
        "# Create a bar plot for country distribution\n",
        "country_counts= ct['Country'].value_counts()\n",
        "p1 = go.Pie(values= country_counts.values , labels= country_counts.index)\n",
        "fig = go.Figure(p1)\n",
        "\n",
        "fig.show()"
      ]
    },
    {
      "cell_type": "code",
      "execution_count": 11,
      "metadata": {
        "id": "t7fHRsA3HsN_"
      },
      "outputs": [],
      "source": [
        "#Visualization based on sales data"
      ]
    },
    {
      "cell_type": "code",
      "execution_count": 12,
      "metadata": {
        "colab": {
          "base_uri": "https://localhost:8080/",
          "height": 362
        },
        "id": "WB3bM2QXXpbg",
        "outputId": "5d6c168d-42c0-4bf2-8d68-52f4c1410b65"
      },
      "outputs": [
        {
          "data": {
            "text/html": [
              "<div>\n",
              "<style scoped>\n",
              "    .dataframe tbody tr th:only-of-type {\n",
              "        vertical-align: middle;\n",
              "    }\n",
              "\n",
              "    .dataframe tbody tr th {\n",
              "        vertical-align: top;\n",
              "    }\n",
              "\n",
              "    .dataframe thead th {\n",
              "        text-align: right;\n",
              "    }\n",
              "</style>\n",
              "<table border=\"1\" class=\"dataframe\">\n",
              "  <thead>\n",
              "    <tr style=\"text-align: right;\">\n",
              "      <th></th>\n",
              "      <th>Order Number</th>\n",
              "      <th>Line Item</th>\n",
              "      <th>Order Date</th>\n",
              "      <th>CustomerKey</th>\n",
              "      <th>StoreKey</th>\n",
              "      <th>ProductKey</th>\n",
              "      <th>Quantity</th>\n",
              "      <th>Currency Code</th>\n",
              "    </tr>\n",
              "  </thead>\n",
              "  <tbody>\n",
              "    <tr>\n",
              "      <th>0</th>\n",
              "      <td>366000</td>\n",
              "      <td>1</td>\n",
              "      <td>2016-01-01</td>\n",
              "      <td>265598</td>\n",
              "      <td>10</td>\n",
              "      <td>1304</td>\n",
              "      <td>1</td>\n",
              "      <td>CAD</td>\n",
              "    </tr>\n",
              "    <tr>\n",
              "      <th>1</th>\n",
              "      <td>366001</td>\n",
              "      <td>1</td>\n",
              "      <td>2016-01-01</td>\n",
              "      <td>1269051</td>\n",
              "      <td>0</td>\n",
              "      <td>1048</td>\n",
              "      <td>2</td>\n",
              "      <td>USD</td>\n",
              "    </tr>\n",
              "    <tr>\n",
              "      <th>2</th>\n",
              "      <td>366001</td>\n",
              "      <td>2</td>\n",
              "      <td>2016-01-01</td>\n",
              "      <td>1269051</td>\n",
              "      <td>0</td>\n",
              "      <td>2007</td>\n",
              "      <td>1</td>\n",
              "      <td>USD</td>\n",
              "    </tr>\n",
              "    <tr>\n",
              "      <th>3</th>\n",
              "      <td>366002</td>\n",
              "      <td>1</td>\n",
              "      <td>2016-01-01</td>\n",
              "      <td>266019</td>\n",
              "      <td>0</td>\n",
              "      <td>1106</td>\n",
              "      <td>7</td>\n",
              "      <td>CAD</td>\n",
              "    </tr>\n",
              "    <tr>\n",
              "      <th>4</th>\n",
              "      <td>366002</td>\n",
              "      <td>2</td>\n",
              "      <td>2016-01-01</td>\n",
              "      <td>266019</td>\n",
              "      <td>0</td>\n",
              "      <td>373</td>\n",
              "      <td>1</td>\n",
              "      <td>CAD</td>\n",
              "    </tr>\n",
              "    <tr>\n",
              "      <th>5</th>\n",
              "      <td>366002</td>\n",
              "      <td>3</td>\n",
              "      <td>2016-01-01</td>\n",
              "      <td>266019</td>\n",
              "      <td>0</td>\n",
              "      <td>1080</td>\n",
              "      <td>4</td>\n",
              "      <td>CAD</td>\n",
              "    </tr>\n",
              "    <tr>\n",
              "      <th>6</th>\n",
              "      <td>366004</td>\n",
              "      <td>1</td>\n",
              "      <td>2016-01-01</td>\n",
              "      <td>1107461</td>\n",
              "      <td>38</td>\n",
              "      <td>163</td>\n",
              "      <td>6</td>\n",
              "      <td>GBP</td>\n",
              "    </tr>\n",
              "    <tr>\n",
              "      <th>7</th>\n",
              "      <td>366004</td>\n",
              "      <td>2</td>\n",
              "      <td>2016-01-01</td>\n",
              "      <td>1107461</td>\n",
              "      <td>38</td>\n",
              "      <td>1529</td>\n",
              "      <td>2</td>\n",
              "      <td>GBP</td>\n",
              "    </tr>\n",
              "    <tr>\n",
              "      <th>8</th>\n",
              "      <td>366005</td>\n",
              "      <td>1</td>\n",
              "      <td>2016-01-01</td>\n",
              "      <td>844003</td>\n",
              "      <td>33</td>\n",
              "      <td>421</td>\n",
              "      <td>4</td>\n",
              "      <td>EUR</td>\n",
              "    </tr>\n",
              "    <tr>\n",
              "      <th>9</th>\n",
              "      <td>366007</td>\n",
              "      <td>1</td>\n",
              "      <td>2016-01-01</td>\n",
              "      <td>2035771</td>\n",
              "      <td>43</td>\n",
              "      <td>1617</td>\n",
              "      <td>1</td>\n",
              "      <td>USD</td>\n",
              "    </tr>\n",
              "  </tbody>\n",
              "</table>\n",
              "</div>"
            ],
            "text/plain": [
              "   Order Number  Line Item  Order Date  CustomerKey  StoreKey  ProductKey  \\\n",
              "0        366000          1  2016-01-01       265598        10        1304   \n",
              "1        366001          1  2016-01-01      1269051         0        1048   \n",
              "2        366001          2  2016-01-01      1269051         0        2007   \n",
              "3        366002          1  2016-01-01       266019         0        1106   \n",
              "4        366002          2  2016-01-01       266019         0         373   \n",
              "5        366002          3  2016-01-01       266019         0        1080   \n",
              "6        366004          1  2016-01-01      1107461        38         163   \n",
              "7        366004          2  2016-01-01      1107461        38        1529   \n",
              "8        366005          1  2016-01-01       844003        33         421   \n",
              "9        366007          1  2016-01-01      2035771        43        1617   \n",
              "\n",
              "   Quantity Currency Code  \n",
              "0         1           CAD  \n",
              "1         2           USD  \n",
              "2         1           USD  \n",
              "3         7           CAD  \n",
              "4         1           CAD  \n",
              "5         4           CAD  \n",
              "6         6           GBP  \n",
              "7         2           GBP  \n",
              "8         4           EUR  \n",
              "9         1           USD  "
            ]
          },
          "execution_count": 12,
          "metadata": {},
          "output_type": "execute_result"
        }
      ],
      "source": [
        "sales.head(10)"
      ]
    },
    {
      "cell_type": "code",
      "execution_count": 30,
      "metadata": {
        "colab": {
          "base_uri": "https://localhost:8080/",
          "height": 542
        },
        "id": "2Y1elZ-ZRteF",
        "outputId": "68b5461a-f3bf-4ef4-e85b-72586a0a55c3"
      },
      "outputs": [
        {
          "data": {
            "application/vnd.plotly.v1+json": {
              "config": {
                "plotlyServerURL": "https://plot.ly"
              },
              "data": [
                {
                  "alignmentgroup": "True",
                  "hovertemplate": "Currency=%{x}<br>Orders Count=%{y}<br>color=%{marker.color}<extra></extra>",
                  "legendgroup": "",
                  "marker": {
                    "color": [
                      33767,
                      12621,
                      8140,
                      5415,
                      2941
                    ],
                    "coloraxis": "coloraxis",
                    "pattern": {
                      "shape": ""
                    }
                  },
                  "name": "",
                  "offsetgroup": "",
                  "orientation": "v",
                  "showlegend": false,
                  "textposition": "auto",
                  "type": "bar",
                  "x": [
                    "USD",
                    "EUR",
                    "GBP",
                    "CAD",
                    "AUD"
                  ],
                  "xaxis": "x",
                  "y": [
                    33767,
                    12621,
                    8140,
                    5415,
                    2941
                  ],
                  "yaxis": "y"
                }
              ],
              "layout": {
                "barmode": "relative",
                "coloraxis": {
                  "colorbar": {
                    "title": {
                      "text": "color"
                    }
                  },
                  "colorscale": [
                    [
                      0,
                      "#0d0887"
                    ],
                    [
                      0.1111111111111111,
                      "#46039f"
                    ],
                    [
                      0.2222222222222222,
                      "#7201a8"
                    ],
                    [
                      0.3333333333333333,
                      "#9c179e"
                    ],
                    [
                      0.4444444444444444,
                      "#bd3786"
                    ],
                    [
                      0.5555555555555556,
                      "#d8576b"
                    ],
                    [
                      0.6666666666666666,
                      "#ed7953"
                    ],
                    [
                      0.7777777777777778,
                      "#fb9f3a"
                    ],
                    [
                      0.8888888888888888,
                      "#fdca26"
                    ],
                    [
                      1,
                      "#f0f921"
                    ]
                  ]
                },
                "legend": {
                  "tracegroupgap": 0
                },
                "template": {
                  "data": {
                    "bar": [
                      {
                        "error_x": {
                          "color": "#2a3f5f"
                        },
                        "error_y": {
                          "color": "#2a3f5f"
                        },
                        "marker": {
                          "line": {
                            "color": "#E5ECF6",
                            "width": 0.5
                          },
                          "pattern": {
                            "fillmode": "overlay",
                            "size": 10,
                            "solidity": 0.2
                          }
                        },
                        "type": "bar"
                      }
                    ],
                    "barpolar": [
                      {
                        "marker": {
                          "line": {
                            "color": "#E5ECF6",
                            "width": 0.5
                          },
                          "pattern": {
                            "fillmode": "overlay",
                            "size": 10,
                            "solidity": 0.2
                          }
                        },
                        "type": "barpolar"
                      }
                    ],
                    "carpet": [
                      {
                        "aaxis": {
                          "endlinecolor": "#2a3f5f",
                          "gridcolor": "white",
                          "linecolor": "white",
                          "minorgridcolor": "white",
                          "startlinecolor": "#2a3f5f"
                        },
                        "baxis": {
                          "endlinecolor": "#2a3f5f",
                          "gridcolor": "white",
                          "linecolor": "white",
                          "minorgridcolor": "white",
                          "startlinecolor": "#2a3f5f"
                        },
                        "type": "carpet"
                      }
                    ],
                    "choropleth": [
                      {
                        "colorbar": {
                          "outlinewidth": 0,
                          "ticks": ""
                        },
                        "type": "choropleth"
                      }
                    ],
                    "contour": [
                      {
                        "colorbar": {
                          "outlinewidth": 0,
                          "ticks": ""
                        },
                        "colorscale": [
                          [
                            0,
                            "#0d0887"
                          ],
                          [
                            0.1111111111111111,
                            "#46039f"
                          ],
                          [
                            0.2222222222222222,
                            "#7201a8"
                          ],
                          [
                            0.3333333333333333,
                            "#9c179e"
                          ],
                          [
                            0.4444444444444444,
                            "#bd3786"
                          ],
                          [
                            0.5555555555555556,
                            "#d8576b"
                          ],
                          [
                            0.6666666666666666,
                            "#ed7953"
                          ],
                          [
                            0.7777777777777778,
                            "#fb9f3a"
                          ],
                          [
                            0.8888888888888888,
                            "#fdca26"
                          ],
                          [
                            1,
                            "#f0f921"
                          ]
                        ],
                        "type": "contour"
                      }
                    ],
                    "contourcarpet": [
                      {
                        "colorbar": {
                          "outlinewidth": 0,
                          "ticks": ""
                        },
                        "type": "contourcarpet"
                      }
                    ],
                    "heatmap": [
                      {
                        "colorbar": {
                          "outlinewidth": 0,
                          "ticks": ""
                        },
                        "colorscale": [
                          [
                            0,
                            "#0d0887"
                          ],
                          [
                            0.1111111111111111,
                            "#46039f"
                          ],
                          [
                            0.2222222222222222,
                            "#7201a8"
                          ],
                          [
                            0.3333333333333333,
                            "#9c179e"
                          ],
                          [
                            0.4444444444444444,
                            "#bd3786"
                          ],
                          [
                            0.5555555555555556,
                            "#d8576b"
                          ],
                          [
                            0.6666666666666666,
                            "#ed7953"
                          ],
                          [
                            0.7777777777777778,
                            "#fb9f3a"
                          ],
                          [
                            0.8888888888888888,
                            "#fdca26"
                          ],
                          [
                            1,
                            "#f0f921"
                          ]
                        ],
                        "type": "heatmap"
                      }
                    ],
                    "heatmapgl": [
                      {
                        "colorbar": {
                          "outlinewidth": 0,
                          "ticks": ""
                        },
                        "colorscale": [
                          [
                            0,
                            "#0d0887"
                          ],
                          [
                            0.1111111111111111,
                            "#46039f"
                          ],
                          [
                            0.2222222222222222,
                            "#7201a8"
                          ],
                          [
                            0.3333333333333333,
                            "#9c179e"
                          ],
                          [
                            0.4444444444444444,
                            "#bd3786"
                          ],
                          [
                            0.5555555555555556,
                            "#d8576b"
                          ],
                          [
                            0.6666666666666666,
                            "#ed7953"
                          ],
                          [
                            0.7777777777777778,
                            "#fb9f3a"
                          ],
                          [
                            0.8888888888888888,
                            "#fdca26"
                          ],
                          [
                            1,
                            "#f0f921"
                          ]
                        ],
                        "type": "heatmapgl"
                      }
                    ],
                    "histogram": [
                      {
                        "marker": {
                          "pattern": {
                            "fillmode": "overlay",
                            "size": 10,
                            "solidity": 0.2
                          }
                        },
                        "type": "histogram"
                      }
                    ],
                    "histogram2d": [
                      {
                        "colorbar": {
                          "outlinewidth": 0,
                          "ticks": ""
                        },
                        "colorscale": [
                          [
                            0,
                            "#0d0887"
                          ],
                          [
                            0.1111111111111111,
                            "#46039f"
                          ],
                          [
                            0.2222222222222222,
                            "#7201a8"
                          ],
                          [
                            0.3333333333333333,
                            "#9c179e"
                          ],
                          [
                            0.4444444444444444,
                            "#bd3786"
                          ],
                          [
                            0.5555555555555556,
                            "#d8576b"
                          ],
                          [
                            0.6666666666666666,
                            "#ed7953"
                          ],
                          [
                            0.7777777777777778,
                            "#fb9f3a"
                          ],
                          [
                            0.8888888888888888,
                            "#fdca26"
                          ],
                          [
                            1,
                            "#f0f921"
                          ]
                        ],
                        "type": "histogram2d"
                      }
                    ],
                    "histogram2dcontour": [
                      {
                        "colorbar": {
                          "outlinewidth": 0,
                          "ticks": ""
                        },
                        "colorscale": [
                          [
                            0,
                            "#0d0887"
                          ],
                          [
                            0.1111111111111111,
                            "#46039f"
                          ],
                          [
                            0.2222222222222222,
                            "#7201a8"
                          ],
                          [
                            0.3333333333333333,
                            "#9c179e"
                          ],
                          [
                            0.4444444444444444,
                            "#bd3786"
                          ],
                          [
                            0.5555555555555556,
                            "#d8576b"
                          ],
                          [
                            0.6666666666666666,
                            "#ed7953"
                          ],
                          [
                            0.7777777777777778,
                            "#fb9f3a"
                          ],
                          [
                            0.8888888888888888,
                            "#fdca26"
                          ],
                          [
                            1,
                            "#f0f921"
                          ]
                        ],
                        "type": "histogram2dcontour"
                      }
                    ],
                    "mesh3d": [
                      {
                        "colorbar": {
                          "outlinewidth": 0,
                          "ticks": ""
                        },
                        "type": "mesh3d"
                      }
                    ],
                    "parcoords": [
                      {
                        "line": {
                          "colorbar": {
                            "outlinewidth": 0,
                            "ticks": ""
                          }
                        },
                        "type": "parcoords"
                      }
                    ],
                    "pie": [
                      {
                        "automargin": true,
                        "type": "pie"
                      }
                    ],
                    "scatter": [
                      {
                        "fillpattern": {
                          "fillmode": "overlay",
                          "size": 10,
                          "solidity": 0.2
                        },
                        "type": "scatter"
                      }
                    ],
                    "scatter3d": [
                      {
                        "line": {
                          "colorbar": {
                            "outlinewidth": 0,
                            "ticks": ""
                          }
                        },
                        "marker": {
                          "colorbar": {
                            "outlinewidth": 0,
                            "ticks": ""
                          }
                        },
                        "type": "scatter3d"
                      }
                    ],
                    "scattercarpet": [
                      {
                        "marker": {
                          "colorbar": {
                            "outlinewidth": 0,
                            "ticks": ""
                          }
                        },
                        "type": "scattercarpet"
                      }
                    ],
                    "scattergeo": [
                      {
                        "marker": {
                          "colorbar": {
                            "outlinewidth": 0,
                            "ticks": ""
                          }
                        },
                        "type": "scattergeo"
                      }
                    ],
                    "scattergl": [
                      {
                        "marker": {
                          "colorbar": {
                            "outlinewidth": 0,
                            "ticks": ""
                          }
                        },
                        "type": "scattergl"
                      }
                    ],
                    "scattermapbox": [
                      {
                        "marker": {
                          "colorbar": {
                            "outlinewidth": 0,
                            "ticks": ""
                          }
                        },
                        "type": "scattermapbox"
                      }
                    ],
                    "scatterpolar": [
                      {
                        "marker": {
                          "colorbar": {
                            "outlinewidth": 0,
                            "ticks": ""
                          }
                        },
                        "type": "scatterpolar"
                      }
                    ],
                    "scatterpolargl": [
                      {
                        "marker": {
                          "colorbar": {
                            "outlinewidth": 0,
                            "ticks": ""
                          }
                        },
                        "type": "scatterpolargl"
                      }
                    ],
                    "scatterternary": [
                      {
                        "marker": {
                          "colorbar": {
                            "outlinewidth": 0,
                            "ticks": ""
                          }
                        },
                        "type": "scatterternary"
                      }
                    ],
                    "surface": [
                      {
                        "colorbar": {
                          "outlinewidth": 0,
                          "ticks": ""
                        },
                        "colorscale": [
                          [
                            0,
                            "#0d0887"
                          ],
                          [
                            0.1111111111111111,
                            "#46039f"
                          ],
                          [
                            0.2222222222222222,
                            "#7201a8"
                          ],
                          [
                            0.3333333333333333,
                            "#9c179e"
                          ],
                          [
                            0.4444444444444444,
                            "#bd3786"
                          ],
                          [
                            0.5555555555555556,
                            "#d8576b"
                          ],
                          [
                            0.6666666666666666,
                            "#ed7953"
                          ],
                          [
                            0.7777777777777778,
                            "#fb9f3a"
                          ],
                          [
                            0.8888888888888888,
                            "#fdca26"
                          ],
                          [
                            1,
                            "#f0f921"
                          ]
                        ],
                        "type": "surface"
                      }
                    ],
                    "table": [
                      {
                        "cells": {
                          "fill": {
                            "color": "#EBF0F8"
                          },
                          "line": {
                            "color": "white"
                          }
                        },
                        "header": {
                          "fill": {
                            "color": "#C8D4E3"
                          },
                          "line": {
                            "color": "white"
                          }
                        },
                        "type": "table"
                      }
                    ]
                  },
                  "layout": {
                    "annotationdefaults": {
                      "arrowcolor": "#2a3f5f",
                      "arrowhead": 0,
                      "arrowwidth": 1
                    },
                    "autotypenumbers": "strict",
                    "coloraxis": {
                      "colorbar": {
                        "outlinewidth": 0,
                        "ticks": ""
                      }
                    },
                    "colorscale": {
                      "diverging": [
                        [
                          0,
                          "#8e0152"
                        ],
                        [
                          0.1,
                          "#c51b7d"
                        ],
                        [
                          0.2,
                          "#de77ae"
                        ],
                        [
                          0.3,
                          "#f1b6da"
                        ],
                        [
                          0.4,
                          "#fde0ef"
                        ],
                        [
                          0.5,
                          "#f7f7f7"
                        ],
                        [
                          0.6,
                          "#e6f5d0"
                        ],
                        [
                          0.7,
                          "#b8e186"
                        ],
                        [
                          0.8,
                          "#7fbc41"
                        ],
                        [
                          0.9,
                          "#4d9221"
                        ],
                        [
                          1,
                          "#276419"
                        ]
                      ],
                      "sequential": [
                        [
                          0,
                          "#0d0887"
                        ],
                        [
                          0.1111111111111111,
                          "#46039f"
                        ],
                        [
                          0.2222222222222222,
                          "#7201a8"
                        ],
                        [
                          0.3333333333333333,
                          "#9c179e"
                        ],
                        [
                          0.4444444444444444,
                          "#bd3786"
                        ],
                        [
                          0.5555555555555556,
                          "#d8576b"
                        ],
                        [
                          0.6666666666666666,
                          "#ed7953"
                        ],
                        [
                          0.7777777777777778,
                          "#fb9f3a"
                        ],
                        [
                          0.8888888888888888,
                          "#fdca26"
                        ],
                        [
                          1,
                          "#f0f921"
                        ]
                      ],
                      "sequentialminus": [
                        [
                          0,
                          "#0d0887"
                        ],
                        [
                          0.1111111111111111,
                          "#46039f"
                        ],
                        [
                          0.2222222222222222,
                          "#7201a8"
                        ],
                        [
                          0.3333333333333333,
                          "#9c179e"
                        ],
                        [
                          0.4444444444444444,
                          "#bd3786"
                        ],
                        [
                          0.5555555555555556,
                          "#d8576b"
                        ],
                        [
                          0.6666666666666666,
                          "#ed7953"
                        ],
                        [
                          0.7777777777777778,
                          "#fb9f3a"
                        ],
                        [
                          0.8888888888888888,
                          "#fdca26"
                        ],
                        [
                          1,
                          "#f0f921"
                        ]
                      ]
                    },
                    "colorway": [
                      "#636efa",
                      "#EF553B",
                      "#00cc96",
                      "#ab63fa",
                      "#FFA15A",
                      "#19d3f3",
                      "#FF6692",
                      "#B6E880",
                      "#FF97FF",
                      "#FECB52"
                    ],
                    "font": {
                      "color": "#2a3f5f"
                    },
                    "geo": {
                      "bgcolor": "white",
                      "lakecolor": "white",
                      "landcolor": "#E5ECF6",
                      "showlakes": true,
                      "showland": true,
                      "subunitcolor": "white"
                    },
                    "hoverlabel": {
                      "align": "left"
                    },
                    "hovermode": "closest",
                    "mapbox": {
                      "style": "light"
                    },
                    "paper_bgcolor": "white",
                    "plot_bgcolor": "#E5ECF6",
                    "polar": {
                      "angularaxis": {
                        "gridcolor": "white",
                        "linecolor": "white",
                        "ticks": ""
                      },
                      "bgcolor": "#E5ECF6",
                      "radialaxis": {
                        "gridcolor": "white",
                        "linecolor": "white",
                        "ticks": ""
                      }
                    },
                    "scene": {
                      "xaxis": {
                        "backgroundcolor": "#E5ECF6",
                        "gridcolor": "white",
                        "gridwidth": 2,
                        "linecolor": "white",
                        "showbackground": true,
                        "ticks": "",
                        "zerolinecolor": "white"
                      },
                      "yaxis": {
                        "backgroundcolor": "#E5ECF6",
                        "gridcolor": "white",
                        "gridwidth": 2,
                        "linecolor": "white",
                        "showbackground": true,
                        "ticks": "",
                        "zerolinecolor": "white"
                      },
                      "zaxis": {
                        "backgroundcolor": "#E5ECF6",
                        "gridcolor": "white",
                        "gridwidth": 2,
                        "linecolor": "white",
                        "showbackground": true,
                        "ticks": "",
                        "zerolinecolor": "white"
                      }
                    },
                    "shapedefaults": {
                      "line": {
                        "color": "#2a3f5f"
                      }
                    },
                    "ternary": {
                      "aaxis": {
                        "gridcolor": "white",
                        "linecolor": "white",
                        "ticks": ""
                      },
                      "baxis": {
                        "gridcolor": "white",
                        "linecolor": "white",
                        "ticks": ""
                      },
                      "bgcolor": "#E5ECF6",
                      "caxis": {
                        "gridcolor": "white",
                        "linecolor": "white",
                        "ticks": ""
                      }
                    },
                    "title": {
                      "x": 0.05
                    },
                    "xaxis": {
                      "automargin": true,
                      "gridcolor": "white",
                      "linecolor": "white",
                      "ticks": "",
                      "title": {
                        "standoff": 15
                      },
                      "zerolinecolor": "white",
                      "zerolinewidth": 2
                    },
                    "yaxis": {
                      "automargin": true,
                      "gridcolor": "white",
                      "linecolor": "white",
                      "ticks": "",
                      "title": {
                        "standoff": 15
                      },
                      "zerolinecolor": "white",
                      "zerolinewidth": 2
                    }
                  }
                },
                "title": {
                  "text": "Orders based on Currency"
                },
                "xaxis": {
                  "anchor": "y",
                  "domain": [
                    0,
                    1
                  ],
                  "title": {
                    "text": "Currency"
                  }
                },
                "yaxis": {
                  "anchor": "x",
                  "domain": [
                    0,
                    1
                  ],
                  "title": {
                    "text": "Orders Count"
                  }
                }
              }
            }
          },
          "metadata": {},
          "output_type": "display_data"
        }
      ],
      "source": [
        "#Orders based on Currency\n",
        "Currency= sales['CurrencyCode'].value_counts()\n",
        "fig= px.bar(x=Currency.index, y=Currency.values,\n",
        "            title=\"Orders based on Currency\",\n",
        "            color= Currency,\n",
        "            labels= {'x': \"Currency\", 'y': 'Orders Count'})\n",
        "fig.show()"
      ]
    },
    {
      "cell_type": "code",
      "execution_count": 31,
      "metadata": {
        "colab": {
          "base_uri": "https://localhost:8080/",
          "height": 504
        },
        "id": "p8K-0Dq8I9_s",
        "outputId": "92dc7991-f490-45c2-ba52-6e7eee7c21c6"
      },
      "outputs": [
        {
          "data": {
            "image/png": "[encoded data removed]",
            "text/plain": [
              "<Figure size 1200x600 with 1 Axes>"
            ]
          },
          "metadata": {},
          "output_type": "display_data"
        }
      ],
      "source": [
        "#Top 10 Sales based on Order date\n",
        "\n",
        "sales_by_top10 = sales['OrderDate'].value_counts().head(10)\n",
        "\n",
        "# Creating a barplot\n",
        "plt.figure(figsize=(12, 6))\n",
        "plt.xticks(fontsize=8)\n",
        "sns.lineplot(x=sales_by_top10.index, y=sales_by_top10.values, marker=\"o\")\n",
        "plt.xlabel('Order Date')\n",
        "plt.ylabel('Total Quantity Sold')\n",
        "plt.title('Top 10 Overall Sales Performance')\n",
        "\n",
        "plt.show()\n"
      ]
    },
    {
      "cell_type": "code",
      "execution_count": 32,
      "metadata": {
        "colab": {
          "base_uri": "https://localhost:8080/",
          "height": 779
        },
        "id": "MW7GiJ0ONn-f",
        "outputId": "946847ce-d024-40c1-880e-cb3c55995284"
      },
      "outputs": [
        {
          "data": {
            "text/html": [
              "<div>\n",
              "<style scoped>\n",
              "    .dataframe tbody tr th:only-of-type {\n",
              "        vertical-align: middle;\n",
              "    }\n",
              "\n",
              "    .dataframe tbody tr th {\n",
              "        vertical-align: top;\n",
              "    }\n",
              "\n",
              "    .dataframe thead th {\n",
              "        text-align: right;\n",
              "    }\n",
              "</style>\n",
              "<table border=\"1\" class=\"dataframe\">\n",
              "  <thead>\n",
              "    <tr style=\"text-align: right;\">\n",
              "      <th></th>\n",
              "      <th>ProductKey</th>\n",
              "      <th>ProductName</th>\n",
              "      <th>Brand</th>\n",
              "      <th>Color</th>\n",
              "      <th>UnitCostUSD</th>\n",
              "      <th>UnitPriceUSD</th>\n",
              "      <th>SubcategoryKey</th>\n",
              "      <th>Subcategory</th>\n",
              "      <th>CategoryKey</th>\n",
              "      <th>Category</th>\n",
              "    </tr>\n",
              "  </thead>\n",
              "  <tbody>\n",
              "    <tr>\n",
              "      <th>0</th>\n",
              "      <td>1</td>\n",
              "      <td>Contoso 512MB MP3 Player E51 Silver</td>\n",
              "      <td>Contoso</td>\n",
              "      <td>Silver</td>\n",
              "      <td>6.62</td>\n",
              "      <td>12.99</td>\n",
              "      <td>101</td>\n",
              "      <td>MP4&amp;MP3</td>\n",
              "      <td>1</td>\n",
              "      <td>Audio</td>\n",
              "    </tr>\n",
              "    <tr>\n",
              "      <th>1</th>\n",
              "      <td>2</td>\n",
              "      <td>Contoso 512MB MP3 Player E51 Blue</td>\n",
              "      <td>Contoso</td>\n",
              "      <td>Blue</td>\n",
              "      <td>6.62</td>\n",
              "      <td>12.99</td>\n",
              "      <td>101</td>\n",
              "      <td>MP4&amp;MP3</td>\n",
              "      <td>1</td>\n",
              "      <td>Audio</td>\n",
              "    </tr>\n",
              "    <tr>\n",
              "      <th>2</th>\n",
              "      <td>3</td>\n",
              "      <td>Contoso 1G MP3 Player E100 White</td>\n",
              "      <td>Contoso</td>\n",
              "      <td>White</td>\n",
              "      <td>7.40</td>\n",
              "      <td>14.52</td>\n",
              "      <td>101</td>\n",
              "      <td>MP4&amp;MP3</td>\n",
              "      <td>1</td>\n",
              "      <td>Audio</td>\n",
              "    </tr>\n",
              "    <tr>\n",
              "      <th>3</th>\n",
              "      <td>4</td>\n",
              "      <td>Contoso 2G MP3 Player E200 Silver</td>\n",
              "      <td>Contoso</td>\n",
              "      <td>Silver</td>\n",
              "      <td>11.00</td>\n",
              "      <td>21.57</td>\n",
              "      <td>101</td>\n",
              "      <td>MP4&amp;MP3</td>\n",
              "      <td>1</td>\n",
              "      <td>Audio</td>\n",
              "    </tr>\n",
              "    <tr>\n",
              "      <th>4</th>\n",
              "      <td>5</td>\n",
              "      <td>Contoso 2G MP3 Player E200 Red</td>\n",
              "      <td>Contoso</td>\n",
              "      <td>Red</td>\n",
              "      <td>11.00</td>\n",
              "      <td>21.57</td>\n",
              "      <td>101</td>\n",
              "      <td>MP4&amp;MP3</td>\n",
              "      <td>1</td>\n",
              "      <td>Audio</td>\n",
              "    </tr>\n",
              "    <tr>\n",
              "      <th>5</th>\n",
              "      <td>6</td>\n",
              "      <td>Contoso 2G MP3 Player E200 Black</td>\n",
              "      <td>Contoso</td>\n",
              "      <td>Black</td>\n",
              "      <td>11.00</td>\n",
              "      <td>21.57</td>\n",
              "      <td>101</td>\n",
              "      <td>MP4&amp;MP3</td>\n",
              "      <td>1</td>\n",
              "      <td>Audio</td>\n",
              "    </tr>\n",
              "    <tr>\n",
              "      <th>6</th>\n",
              "      <td>7</td>\n",
              "      <td>Contoso 2G MP3 Player E200 Blue</td>\n",
              "      <td>Contoso</td>\n",
              "      <td>Blue</td>\n",
              "      <td>11.00</td>\n",
              "      <td>21.57</td>\n",
              "      <td>101</td>\n",
              "      <td>MP4&amp;MP3</td>\n",
              "      <td>1</td>\n",
              "      <td>Audio</td>\n",
              "    </tr>\n",
              "    <tr>\n",
              "      <th>7</th>\n",
              "      <td>8</td>\n",
              "      <td>Contoso 4G MP3 Player E400 Silver</td>\n",
              "      <td>Contoso</td>\n",
              "      <td>Silver</td>\n",
              "      <td>30.58</td>\n",
              "      <td>59.99</td>\n",
              "      <td>101</td>\n",
              "      <td>MP4&amp;MP3</td>\n",
              "      <td>1</td>\n",
              "      <td>Audio</td>\n",
              "    </tr>\n",
              "    <tr>\n",
              "      <th>8</th>\n",
              "      <td>9</td>\n",
              "      <td>Contoso 4G MP3 Player E400 Black</td>\n",
              "      <td>Contoso</td>\n",
              "      <td>Black</td>\n",
              "      <td>30.58</td>\n",
              "      <td>59.99</td>\n",
              "      <td>101</td>\n",
              "      <td>MP4&amp;MP3</td>\n",
              "      <td>1</td>\n",
              "      <td>Audio</td>\n",
              "    </tr>\n",
              "    <tr>\n",
              "      <th>9</th>\n",
              "      <td>10</td>\n",
              "      <td>Contoso 4G MP3 Player E400 Green</td>\n",
              "      <td>Contoso</td>\n",
              "      <td>Green</td>\n",
              "      <td>30.58</td>\n",
              "      <td>59.99</td>\n",
              "      <td>101</td>\n",
              "      <td>MP4&amp;MP3</td>\n",
              "      <td>1</td>\n",
              "      <td>Audio</td>\n",
              "    </tr>\n",
              "  </tbody>\n",
              "</table>\n",
              "</div>"
            ],
            "text/plain": [
              "   ProductKey                          ProductName    Brand   Color  \\\n",
              "0           1  Contoso 512MB MP3 Player E51 Silver  Contoso  Silver   \n",
              "1           2    Contoso 512MB MP3 Player E51 Blue  Contoso    Blue   \n",
              "2           3     Contoso 1G MP3 Player E100 White  Contoso   White   \n",
              "3           4    Contoso 2G MP3 Player E200 Silver  Contoso  Silver   \n",
              "4           5       Contoso 2G MP3 Player E200 Red  Contoso     Red   \n",
              "5           6     Contoso 2G MP3 Player E200 Black  Contoso   Black   \n",
              "6           7      Contoso 2G MP3 Player E200 Blue  Contoso    Blue   \n",
              "7           8    Contoso 4G MP3 Player E400 Silver  Contoso  Silver   \n",
              "8           9     Contoso 4G MP3 Player E400 Black  Contoso   Black   \n",
              "9          10     Contoso 4G MP3 Player E400 Green  Contoso   Green   \n",
              "\n",
              "   UnitCostUSD  UnitPriceUSD  SubcategoryKey Subcategory  CategoryKey Category  \n",
              "0         6.62         12.99             101     MP4&MP3            1    Audio  \n",
              "1         6.62         12.99             101     MP4&MP3            1    Audio  \n",
              "2         7.40         14.52             101     MP4&MP3            1    Audio  \n",
              "3        11.00         21.57             101     MP4&MP3            1    Audio  \n",
              "4        11.00         21.57             101     MP4&MP3            1    Audio  \n",
              "5        11.00         21.57             101     MP4&MP3            1    Audio  \n",
              "6        11.00         21.57             101     MP4&MP3            1    Audio  \n",
              "7        30.58         59.99             101     MP4&MP3            1    Audio  \n",
              "8        30.58         59.99             101     MP4&MP3            1    Audio  \n",
              "9        30.58         59.99             101     MP4&MP3            1    Audio  "
            ]
          },
          "execution_count": 32,
          "metadata": {},
          "output_type": "execute_result"
        }
      ],
      "source": [
        "#Visualization based on Products\n",
        "pt.head(10)"
      ]
    },
    {
      "cell_type": "code",
      "execution_count": 33,
      "metadata": {
        "colab": {
          "base_uri": "https://localhost:8080/",
          "height": 560
        },
        "id": "NxULVPQM7c0k",
        "outputId": "c07e961e-970f-4b40-81b8-bb1b5a39d444"
      },
      "outputs": [
        {
          "data": {
            "application/vnd.plotly.v1+json": {
              "config": {
                "plotlyServerURL": "https://plot.ly"
              },
              "data": [
                {
                  "alignmentgroup": "True",
                  "hovertemplate": "Category=%{x}<br>Maximum Unit Cost=%{y}<br>color=%{marker.color}<extra></extra>",
                  "legendgroup": "",
                  "marker": {
                    "color": [
                      96.08,
                      106.69,
                      195.15,
                      198.39,
                      536.74,
                      827.97,
                      960.82,
                      1060.22
                    ],
                    "coloraxis": "coloraxis",
                    "pattern": {
                      "shape": ""
                    }
                  },
                  "name": "",
                  "offsetgroup": "",
                  "orientation": "v",
                  "showlegend": false,
                  "textposition": "auto",
                  "type": "bar",
                  "x": [
                    "Music, Movies and Audio Books",
                    "Audio",
                    "Cell phones",
                    "Games and Toys",
                    "Cameras and camcorders",
                    "Computers",
                    "TV and Video",
                    "Home Appliances"
                  ],
                  "xaxis": "x",
                  "y": [
                    96.08,
                    106.69,
                    195.15,
                    198.39,
                    536.74,
                    827.97,
                    960.82,
                    1060.22
                  ],
                  "yaxis": "y"
                }
              ],
              "layout": {
                "barmode": "relative",
                "coloraxis": {
                  "colorbar": {
                    "title": {
                      "text": "color"
                    }
                  },
                  "colorscale": [
                    [
                      0,
                      "#0d0887"
                    ],
                    [
                      0.1111111111111111,
                      "#46039f"
                    ],
                    [
                      0.2222222222222222,
                      "#7201a8"
                    ],
                    [
                      0.3333333333333333,
                      "#9c179e"
                    ],
                    [
                      0.4444444444444444,
                      "#bd3786"
                    ],
                    [
                      0.5555555555555556,
                      "#d8576b"
                    ],
                    [
                      0.6666666666666666,
                      "#ed7953"
                    ],
                    [
                      0.7777777777777778,
                      "#fb9f3a"
                    ],
                    [
                      0.8888888888888888,
                      "#fdca26"
                    ],
                    [
                      1,
                      "#f0f921"
                    ]
                  ]
                },
                "font": {
                  "size": 8
                },
                "legend": {
                  "tracegroupgap": 0
                },
                "template": {
                  "data": {
                    "bar": [
                      {
                        "error_x": {
                          "color": "#2a3f5f"
                        },
                        "error_y": {
                          "color": "#2a3f5f"
                        },
                        "marker": {
                          "line": {
                            "color": "#E5ECF6",
                            "width": 0.5
                          },
                          "pattern": {
                            "fillmode": "overlay",
                            "size": 10,
                            "solidity": 0.2
                          }
                        },
                        "type": "bar"
                      }
                    ],
                    "barpolar": [
                      {
                        "marker": {
                          "line": {
                            "color": "#E5ECF6",
                            "width": 0.5
                          },
                          "pattern": {
                            "fillmode": "overlay",
                            "size": 10,
                            "solidity": 0.2
                          }
                        },
                        "type": "barpolar"
                      }
                    ],
                    "carpet": [
                      {
                        "aaxis": {
                          "endlinecolor": "#2a3f5f",
                          "gridcolor": "white",
                          "linecolor": "white",
                          "minorgridcolor": "white",
                          "startlinecolor": "#2a3f5f"
                        },
                        "baxis": {
                          "endlinecolor": "#2a3f5f",
                          "gridcolor": "white",
                          "linecolor": "white",
                          "minorgridcolor": "white",
                          "startlinecolor": "#2a3f5f"
                        },
                        "type": "carpet"
                      }
                    ],
                    "choropleth": [
                      {
                        "colorbar": {
                          "outlinewidth": 0,
                          "ticks": ""
                        },
                        "type": "choropleth"
                      }
                    ],
                    "contour": [
                      {
                        "colorbar": {
                          "outlinewidth": 0,
                          "ticks": ""
                        },
                        "colorscale": [
                          [
                            0,
                            "#0d0887"
                          ],
                          [
                            0.1111111111111111,
                            "#46039f"
                          ],
                          [
                            0.2222222222222222,
                            "#7201a8"
                          ],
                          [
                            0.3333333333333333,
                            "#9c179e"
                          ],
                          [
                            0.4444444444444444,
                            "#bd3786"
                          ],
                          [
                            0.5555555555555556,
                            "#d8576b"
                          ],
                          [
                            0.6666666666666666,
                            "#ed7953"
                          ],
                          [
                            0.7777777777777778,
                            "#fb9f3a"
                          ],
                          [
                            0.8888888888888888,
                            "#fdca26"
                          ],
                          [
                            1,
                            "#f0f921"
                          ]
                        ],
                        "type": "contour"
                      }
                    ],
                    "contourcarpet": [
                      {
                        "colorbar": {
                          "outlinewidth": 0,
                          "ticks": ""
                        },
                        "type": "contourcarpet"
                      }
                    ],
                    "heatmap": [
                      {
                        "colorbar": {
                          "outlinewidth": 0,
                          "ticks": ""
                        },
                        "colorscale": [
                          [
                            0,
                            "#0d0887"
                          ],
                          [
                            0.1111111111111111,
                            "#46039f"
                          ],
                          [
                            0.2222222222222222,
                            "#7201a8"
                          ],
                          [
                            0.3333333333333333,
                            "#9c179e"
                          ],
                          [
                            0.4444444444444444,
                            "#bd3786"
                          ],
                          [
                            0.5555555555555556,
                            "#d8576b"
                          ],
                          [
                            0.6666666666666666,
                            "#ed7953"
                          ],
                          [
                            0.7777777777777778,
                            "#fb9f3a"
                          ],
                          [
                            0.8888888888888888,
                            "#fdca26"
                          ],
                          [
                            1,
                            "#f0f921"
                          ]
                        ],
                        "type": "heatmap"
                      }
                    ],
                    "heatmapgl": [
                      {
                        "colorbar": {
                          "outlinewidth": 0,
                          "ticks": ""
                        },
                        "colorscale": [
                          [
                            0,
                            "#0d0887"
                          ],
                          [
                            0.1111111111111111,
                            "#46039f"
                          ],
                          [
                            0.2222222222222222,
                            "#7201a8"
                          ],
                          [
                            0.3333333333333333,
                            "#9c179e"
                          ],
                          [
                            0.4444444444444444,
                            "#bd3786"
                          ],
                          [
                            0.5555555555555556,
                            "#d8576b"
                          ],
                          [
                            0.6666666666666666,
                            "#ed7953"
                          ],
                          [
                            0.7777777777777778,
                            "#fb9f3a"
                          ],
                          [
                            0.8888888888888888,
                            "#fdca26"
                          ],
                          [
                            1,
                            "#f0f921"
                          ]
                        ],
                        "type": "heatmapgl"
                      }
                    ],
                    "histogram": [
                      {
                        "marker": {
                          "pattern": {
                            "fillmode": "overlay",
                            "size": 10,
                            "solidity": 0.2
                          }
                        },
                        "type": "histogram"
                      }
                    ],
                    "histogram2d": [
                      {
                        "colorbar": {
                          "outlinewidth": 0,
                          "ticks": ""
                        },
                        "colorscale": [
                          [
                            0,
                            "#0d0887"
                          ],
                          [
                            0.1111111111111111,
                            "#46039f"
                          ],
                          [
                            0.2222222222222222,
                            "#7201a8"
                          ],
                          [
                            0.3333333333333333,
                            "#9c179e"
                          ],
                          [
                            0.4444444444444444,
                            "#bd3786"
                          ],
                          [
                            0.5555555555555556,
                            "#d8576b"
                          ],
                          [
                            0.6666666666666666,
                            "#ed7953"
                          ],
                          [
                            0.7777777777777778,
                            "#fb9f3a"
                          ],
                          [
                            0.8888888888888888,
                            "#fdca26"
                          ],
                          [
                            1,
                            "#f0f921"
                          ]
                        ],
                        "type": "histogram2d"
                      }
                    ],
                    "histogram2dcontour": [
                      {
                        "colorbar": {
                          "outlinewidth": 0,
                          "ticks": ""
                        },
                        "colorscale": [
                          [
                            0,
                            "#0d0887"
                          ],
                          [
                            0.1111111111111111,
                            "#46039f"
                          ],
                          [
                            0.2222222222222222,
                            "#7201a8"
                          ],
                          [
                            0.3333333333333333,
                            "#9c179e"
                          ],
                          [
                            0.4444444444444444,
                            "#bd3786"
                          ],
                          [
                            0.5555555555555556,
                            "#d8576b"
                          ],
                          [
                            0.6666666666666666,
                            "#ed7953"
                          ],
                          [
                            0.7777777777777778,
                            "#fb9f3a"
                          ],
                          [
                            0.8888888888888888,
                            "#fdca26"
                          ],
                          [
                            1,
                            "#f0f921"
                          ]
                        ],
                        "type": "histogram2dcontour"
                      }
                    ],
                    "mesh3d": [
                      {
                        "colorbar": {
                          "outlinewidth": 0,
                          "ticks": ""
                        },
                        "type": "mesh3d"
                      }
                    ],
                    "parcoords": [
                      {
                        "line": {
                          "colorbar": {
                            "outlinewidth": 0,
                            "ticks": ""
                          }
                        },
                        "type": "parcoords"
                      }
                    ],
                    "pie": [
                      {
                        "automargin": true,
                        "type": "pie"
                      }
                    ],
                    "scatter": [
                      {
                        "fillpattern": {
                          "fillmode": "overlay",
                          "size": 10,
                          "solidity": 0.2
                        },
                        "type": "scatter"
                      }
                    ],
                    "scatter3d": [
                      {
                        "line": {
                          "colorbar": {
                            "outlinewidth": 0,
                            "ticks": ""
                          }
                        },
                        "marker": {
                          "colorbar": {
                            "outlinewidth": 0,
                            "ticks": ""
                          }
                        },
                        "type": "scatter3d"
                      }
                    ],
                    "scattercarpet": [
                      {
                        "marker": {
                          "colorbar": {
                            "outlinewidth": 0,
                            "ticks": ""
                          }
                        },
                        "type": "scattercarpet"
                      }
                    ],
                    "scattergeo": [
                      {
                        "marker": {
                          "colorbar": {
                            "outlinewidth": 0,
                            "ticks": ""
                          }
                        },
                        "type": "scattergeo"
                      }
                    ],
                    "scattergl": [
                      {
                        "marker": {
                          "colorbar": {
                            "outlinewidth": 0,
                            "ticks": ""
                          }
                        },
                        "type": "scattergl"
                      }
                    ],
                    "scattermapbox": [
                      {
                        "marker": {
                          "colorbar": {
                            "outlinewidth": 0,
                            "ticks": ""
                          }
                        },
                        "type": "scattermapbox"
                      }
                    ],
                    "scatterpolar": [
                      {
                        "marker": {
                          "colorbar": {
                            "outlinewidth": 0,
                            "ticks": ""
                          }
                        },
                        "type": "scatterpolar"
                      }
                    ],
                    "scatterpolargl": [
                      {
                        "marker": {
                          "colorbar": {
                            "outlinewidth": 0,
                            "ticks": ""
                          }
                        },
                        "type": "scatterpolargl"
                      }
                    ],
                    "scatterternary": [
                      {
                        "marker": {
                          "colorbar": {
                            "outlinewidth": 0,
                            "ticks": ""
                          }
                        },
                        "type": "scatterternary"
                      }
                    ],
                    "surface": [
                      {
                        "colorbar": {
                          "outlinewidth": 0,
                          "ticks": ""
                        },
                        "colorscale": [
                          [
                            0,
                            "#0d0887"
                          ],
                          [
                            0.1111111111111111,
                            "#46039f"
                          ],
                          [
                            0.2222222222222222,
                            "#7201a8"
                          ],
                          [
                            0.3333333333333333,
                            "#9c179e"
                          ],
                          [
                            0.4444444444444444,
                            "#bd3786"
                          ],
                          [
                            0.5555555555555556,
                            "#d8576b"
                          ],
                          [
                            0.6666666666666666,
                            "#ed7953"
                          ],
                          [
                            0.7777777777777778,
                            "#fb9f3a"
                          ],
                          [
                            0.8888888888888888,
                            "#fdca26"
                          ],
                          [
                            1,
                            "#f0f921"
                          ]
                        ],
                        "type": "surface"
                      }
                    ],
                    "table": [
                      {
                        "cells": {
                          "fill": {
                            "color": "#EBF0F8"
                          },
                          "line": {
                            "color": "white"
                          }
                        },
                        "header": {
                          "fill": {
                            "color": "#C8D4E3"
                          },
                          "line": {
                            "color": "white"
                          }
                        },
                        "type": "table"
                      }
                    ]
                  },
                  "layout": {
                    "annotationdefaults": {
                      "arrowcolor": "#2a3f5f",
                      "arrowhead": 0,
                      "arrowwidth": 1
                    },
                    "autotypenumbers": "strict",
                    "coloraxis": {
                      "colorbar": {
                        "outlinewidth": 0,
                        "ticks": ""
                      }
                    },
                    "colorscale": {
                      "diverging": [
                        [
                          0,
                          "#8e0152"
                        ],
                        [
                          0.1,
                          "#c51b7d"
                        ],
                        [
                          0.2,
                          "#de77ae"
                        ],
                        [
                          0.3,
                          "#f1b6da"
                        ],
                        [
                          0.4,
                          "#fde0ef"
                        ],
                        [
                          0.5,
                          "#f7f7f7"
                        ],
                        [
                          0.6,
                          "#e6f5d0"
                        ],
                        [
                          0.7,
                          "#b8e186"
                        ],
                        [
                          0.8,
                          "#7fbc41"
                        ],
                        [
                          0.9,
                          "#4d9221"
                        ],
                        [
                          1,
                          "#276419"
                        ]
                      ],
                      "sequential": [
                        [
                          0,
                          "#0d0887"
                        ],
                        [
                          0.1111111111111111,
                          "#46039f"
                        ],
                        [
                          0.2222222222222222,
                          "#7201a8"
                        ],
                        [
                          0.3333333333333333,
                          "#9c179e"
                        ],
                        [
                          0.4444444444444444,
                          "#bd3786"
                        ],
                        [
                          0.5555555555555556,
                          "#d8576b"
                        ],
                        [
                          0.6666666666666666,
                          "#ed7953"
                        ],
                        [
                          0.7777777777777778,
                          "#fb9f3a"
                        ],
                        [
                          0.8888888888888888,
                          "#fdca26"
                        ],
                        [
                          1,
                          "#f0f921"
                        ]
                      ],
                      "sequentialminus": [
                        [
                          0,
                          "#0d0887"
                        ],
                        [
                          0.1111111111111111,
                          "#46039f"
                        ],
                        [
                          0.2222222222222222,
                          "#7201a8"
                        ],
                        [
                          0.3333333333333333,
                          "#9c179e"
                        ],
                        [
                          0.4444444444444444,
                          "#bd3786"
                        ],
                        [
                          0.5555555555555556,
                          "#d8576b"
                        ],
                        [
                          0.6666666666666666,
                          "#ed7953"
                        ],
                        [
                          0.7777777777777778,
                          "#fb9f3a"
                        ],
                        [
                          0.8888888888888888,
                          "#fdca26"
                        ],
                        [
                          1,
                          "#f0f921"
                        ]
                      ]
                    },
                    "colorway": [
                      "#636efa",
                      "#EF553B",
                      "#00cc96",
                      "#ab63fa",
                      "#FFA15A",
                      "#19d3f3",
                      "#FF6692",
                      "#B6E880",
                      "#FF97FF",
                      "#FECB52"
                    ],
                    "font": {
                      "color": "#2a3f5f"
                    },
                    "geo": {
                      "bgcolor": "white",
                      "lakecolor": "white",
                      "landcolor": "#E5ECF6",
                      "showlakes": true,
                      "showland": true,
                      "subunitcolor": "white"
                    },
                    "hoverlabel": {
                      "align": "left"
                    },
                    "hovermode": "closest",
                    "mapbox": {
                      "style": "light"
                    },
                    "paper_bgcolor": "white",
                    "plot_bgcolor": "#E5ECF6",
                    "polar": {
                      "angularaxis": {
                        "gridcolor": "white",
                        "linecolor": "white",
                        "ticks": ""
                      },
                      "bgcolor": "#E5ECF6",
                      "radialaxis": {
                        "gridcolor": "white",
                        "linecolor": "white",
                        "ticks": ""
                      }
                    },
                    "scene": {
                      "xaxis": {
                        "backgroundcolor": "#E5ECF6",
                        "gridcolor": "white",
                        "gridwidth": 2,
                        "linecolor": "white",
                        "showbackground": true,
                        "ticks": "",
                        "zerolinecolor": "white"
                      },
                      "yaxis": {
                        "backgroundcolor": "#E5ECF6",
                        "gridcolor": "white",
                        "gridwidth": 2,
                        "linecolor": "white",
                        "showbackground": true,
                        "ticks": "",
                        "zerolinecolor": "white"
                      },
                      "zaxis": {
                        "backgroundcolor": "#E5ECF6",
                        "gridcolor": "white",
                        "gridwidth": 2,
                        "linecolor": "white",
                        "showbackground": true,
                        "ticks": "",
                        "zerolinecolor": "white"
                      }
                    },
                    "shapedefaults": {
                      "line": {
                        "color": "#2a3f5f"
                      }
                    },
                    "ternary": {
                      "aaxis": {
                        "gridcolor": "white",
                        "linecolor": "white",
                        "ticks": ""
                      },
                      "baxis": {
                        "gridcolor": "white",
                        "linecolor": "white",
                        "ticks": ""
                      },
                      "bgcolor": "#E5ECF6",
                      "caxis": {
                        "gridcolor": "white",
                        "linecolor": "white",
                        "ticks": ""
                      }
                    },
                    "title": {
                      "x": 0.05
                    },
                    "xaxis": {
                      "automargin": true,
                      "gridcolor": "white",
                      "linecolor": "white",
                      "ticks": "",
                      "title": {
                        "standoff": 15
                      },
                      "zerolinecolor": "white",
                      "zerolinewidth": 2
                    },
                    "yaxis": {
                      "automargin": true,
                      "gridcolor": "white",
                      "linecolor": "white",
                      "ticks": "",
                      "title": {
                        "standoff": 15
                      },
                      "zerolinecolor": "white",
                      "zerolinewidth": 2
                    }
                  }
                },
                "title": {
                  "text": "Maximum Unit Cost by Category"
                },
                "xaxis": {
                  "anchor": "y",
                  "domain": [
                    0,
                    1
                  ],
                  "title": {
                    "text": "Category"
                  }
                },
                "yaxis": {
                  "anchor": "x",
                  "domain": [
                    0,
                    1
                  ],
                  "title": {
                    "text": "Maximum Unit Cost"
                  }
                }
              }
            }
          },
          "metadata": {},
          "output_type": "display_data"
        },
        {
          "data": {
            "text/plain": [
              "<Figure size 1000x600 with 0 Axes>"
            ]
          },
          "metadata": {},
          "output_type": "display_data"
        }
      ],
      "source": [
        "# Grouping by category to find the maximum unit cost\n",
        "\n",
        "category_max_cost = pt.groupby('Category')['UnitCostUSD'].max().sort_values(ascending=True)\n",
        "\n",
        "plt.figure(figsize=(10, 6))\n",
        "fig= px.bar(x=category_max_cost.index, y=category_max_cost.values,\n",
        "            title=\"Maximum Unit Cost by Category\",\n",
        "            color= category_max_cost,\n",
        "            labels= {'x': \"Category\", 'y': 'Maximum Unit Cost'})\n",
        "fig.update_layout(font=dict(size=8))\n",
        "fig.show()\n"
      ]
    },
    {
      "cell_type": "code",
      "execution_count": 34,
      "metadata": {
        "colab": {
          "base_uri": "https://localhost:8080/",
          "height": 542
        },
        "id": "oZXIwEJRqnyS",
        "outputId": "f682b71a-4fe4-42fd-d751-fa7e4a706b44"
      },
      "outputs": [
        {
          "data": {
            "application/vnd.plotly.v1+json": {
              "config": {
                "plotlyServerURL": "https://plot.ly"
              },
              "data": [
                {
                  "alignmentgroup": "True",
                  "hovertemplate": "variable=UnitCostUSD<br>Brand=%{x}<br>value=%{y}<extra></extra>",
                  "legendgroup": "UnitCostUSD",
                  "marker": {
                    "color": "#636efa",
                    "pattern": {
                      "shape": ""
                    }
                  },
                  "name": "UnitCostUSD",
                  "offsetgroup": "UnitCostUSD",
                  "orientation": "v",
                  "showlegend": true,
                  "textposition": "auto",
                  "type": "bar",
                  "x": [
                    "A. Datum",
                    "Adventure Works",
                    "Contoso",
                    "Fabrikam",
                    "Litware",
                    "Northwind Traders",
                    "Proseware",
                    "Southridge Video",
                    "Tailspin Toys",
                    "The Phone Company",
                    "Wide World Importers"
                  ],
                  "xaxis": "x",
                  "y": [
                    105.89719696969698,
                    209.3802604166667,
                    121.02487323943663,
                    248.27127340823967,
                    203.11511363636365,
                    353.31489361702126,
                    129.70024590163933,
                    69.9459375,
                    21.683680555555554,
                    123.60927631578947,
                    162.06815028901735
                  ],
                  "yaxis": "y"
                },
                {
                  "alignmentgroup": "True",
                  "hovertemplate": "variable=UnitPriceUSD<br>Brand=%{x}<br>value=%{y}<extra></extra>",
                  "legendgroup": "UnitPriceUSD",
                  "marker": {
                    "color": "#EF553B",
                    "pattern": {
                      "shape": ""
                    }
                  },
                  "name": "UnitPriceUSD",
                  "offsetgroup": "UnitPriceUSD",
                  "orientation": "v",
                  "showlegend": true,
                  "textposition": "auto",
                  "type": "bar",
                  "x": [
                    "A. Datum",
                    "Adventure Works",
                    "Contoso",
                    "Fabrikam",
                    "Litware",
                    "Northwind Traders",
                    "Proseware",
                    "Southridge Video",
                    "Tailspin Toys",
                    "The Phone Company",
                    "Wide World Importers"
                  ],
                  "xaxis": "x",
                  "y": [
                    263.1257575757576,
                    517.5511979166666,
                    287.6925070422535,
                    619.7766666666666,
                    481.6853787878788,
                    811.5959574468086,
                    319.3427459016394,
                    160.97484375000002,
                    47.79069444444444,
                    286.17763157894734,
                    403.3488439306359
                  ],
                  "yaxis": "y"
                }
              ],
              "layout": {
                "barmode": "group",
                "legend": {
                  "title": {
                    "text": "variable"
                  },
                  "tracegroupgap": 0
                },
                "margin": {
                  "t": 60
                },
                "template": {
                  "data": {
                    "bar": [
                      {
                        "error_x": {
                          "color": "#2a3f5f"
                        },
                        "error_y": {
                          "color": "#2a3f5f"
                        },
                        "marker": {
                          "line": {
                            "color": "#E5ECF6",
                            "width": 0.5
                          },
                          "pattern": {
                            "fillmode": "overlay",
                            "size": 10,
                            "solidity": 0.2
                          }
                        },
                        "type": "bar"
                      }
                    ],
                    "barpolar": [
                      {
                        "marker": {
                          "line": {
                            "color": "#E5ECF6",
                            "width": 0.5
                          },
                          "pattern": {
                            "fillmode": "overlay",
                            "size": 10,
                            "solidity": 0.2
                          }
                        },
                        "type": "barpolar"
                      }
                    ],
                    "carpet": [
                      {
                        "aaxis": {
                          "endlinecolor": "#2a3f5f",
                          "gridcolor": "white",
                          "linecolor": "white",
                          "minorgridcolor": "white",
                          "startlinecolor": "#2a3f5f"
                        },
                        "baxis": {
                          "endlinecolor": "#2a3f5f",
                          "gridcolor": "white",
                          "linecolor": "white",
                          "minorgridcolor": "white",
                          "startlinecolor": "#2a3f5f"
                        },
                        "type": "carpet"
                      }
                    ],
                    "choropleth": [
                      {
                        "colorbar": {
                          "outlinewidth": 0,
                          "ticks": ""
                        },
                        "type": "choropleth"
                      }
                    ],
                    "contour": [
                      {
                        "colorbar": {
                          "outlinewidth": 0,
                          "ticks": ""
                        },
                        "colorscale": [
                          [
                            0,
                            "#0d0887"
                          ],
                          [
                            0.1111111111111111,
                            "#46039f"
                          ],
                          [
                            0.2222222222222222,
                            "#7201a8"
                          ],
                          [
                            0.3333333333333333,
                            "#9c179e"
                          ],
                          [
                            0.4444444444444444,
                            "#bd3786"
                          ],
                          [
                            0.5555555555555556,
                            "#d8576b"
                          ],
                          [
                            0.6666666666666666,
                            "#ed7953"
                          ],
                          [
                            0.7777777777777778,
                            "#fb9f3a"
                          ],
                          [
                            0.8888888888888888,
                            "#fdca26"
                          ],
                          [
                            1,
                            "#f0f921"
                          ]
                        ],
                        "type": "contour"
                      }
                    ],
                    "contourcarpet": [
                      {
                        "colorbar": {
                          "outlinewidth": 0,
                          "ticks": ""
                        },
                        "type": "contourcarpet"
                      }
                    ],
                    "heatmap": [
                      {
                        "colorbar": {
                          "outlinewidth": 0,
                          "ticks": ""
                        },
                        "colorscale": [
                          [
                            0,
                            "#0d0887"
                          ],
                          [
                            0.1111111111111111,
                            "#46039f"
                          ],
                          [
                            0.2222222222222222,
                            "#7201a8"
                          ],
                          [
                            0.3333333333333333,
                            "#9c179e"
                          ],
                          [
                            0.4444444444444444,
                            "#bd3786"
                          ],
                          [
                            0.5555555555555556,
                            "#d8576b"
                          ],
                          [
                            0.6666666666666666,
                            "#ed7953"
                          ],
                          [
                            0.7777777777777778,
                            "#fb9f3a"
                          ],
                          [
                            0.8888888888888888,
                            "#fdca26"
                          ],
                          [
                            1,
                            "#f0f921"
                          ]
                        ],
                        "type": "heatmap"
                      }
                    ],
                    "heatmapgl": [
                      {
                        "colorbar": {
                          "outlinewidth": 0,
                          "ticks": ""
                        },
                        "colorscale": [
                          [
                            0,
                            "#0d0887"
                          ],
                          [
                            0.1111111111111111,
                            "#46039f"
                          ],
                          [
                            0.2222222222222222,
                            "#7201a8"
                          ],
                          [
                            0.3333333333333333,
                            "#9c179e"
                          ],
                          [
                            0.4444444444444444,
                            "#bd3786"
                          ],
                          [
                            0.5555555555555556,
                            "#d8576b"
                          ],
                          [
                            0.6666666666666666,
                            "#ed7953"
                          ],
                          [
                            0.7777777777777778,
                            "#fb9f3a"
                          ],
                          [
                            0.8888888888888888,
                            "#fdca26"
                          ],
                          [
                            1,
                            "#f0f921"
                          ]
                        ],
                        "type": "heatmapgl"
                      }
                    ],
                    "histogram": [
                      {
                        "marker": {
                          "pattern": {
                            "fillmode": "overlay",
                            "size": 10,
                            "solidity": 0.2
                          }
                        },
                        "type": "histogram"
                      }
                    ],
                    "histogram2d": [
                      {
                        "colorbar": {
                          "outlinewidth": 0,
                          "ticks": ""
                        },
                        "colorscale": [
                          [
                            0,
                            "#0d0887"
                          ],
                          [
                            0.1111111111111111,
                            "#46039f"
                          ],
                          [
                            0.2222222222222222,
                            "#7201a8"
                          ],
                          [
                            0.3333333333333333,
                            "#9c179e"
                          ],
                          [
                            0.4444444444444444,
                            "#bd3786"
                          ],
                          [
                            0.5555555555555556,
                            "#d8576b"
                          ],
                          [
                            0.6666666666666666,
                            "#ed7953"
                          ],
                          [
                            0.7777777777777778,
                            "#fb9f3a"
                          ],
                          [
                            0.8888888888888888,
                            "#fdca26"
                          ],
                          [
                            1,
                            "#f0f921"
                          ]
                        ],
                        "type": "histogram2d"
                      }
                    ],
                    "histogram2dcontour": [
                      {
                        "colorbar": {
                          "outlinewidth": 0,
                          "ticks": ""
                        },
                        "colorscale": [
                          [
                            0,
                            "#0d0887"
                          ],
                          [
                            0.1111111111111111,
                            "#46039f"
                          ],
                          [
                            0.2222222222222222,
                            "#7201a8"
                          ],
                          [
                            0.3333333333333333,
                            "#9c179e"
                          ],
                          [
                            0.4444444444444444,
                            "#bd3786"
                          ],
                          [
                            0.5555555555555556,
                            "#d8576b"
                          ],
                          [
                            0.6666666666666666,
                            "#ed7953"
                          ],
                          [
                            0.7777777777777778,
                            "#fb9f3a"
                          ],
                          [
                            0.8888888888888888,
                            "#fdca26"
                          ],
                          [
                            1,
                            "#f0f921"
                          ]
                        ],
                        "type": "histogram2dcontour"
                      }
                    ],
                    "mesh3d": [
                      {
                        "colorbar": {
                          "outlinewidth": 0,
                          "ticks": ""
                        },
                        "type": "mesh3d"
                      }
                    ],
                    "parcoords": [
                      {
                        "line": {
                          "colorbar": {
                            "outlinewidth": 0,
                            "ticks": ""
                          }
                        },
                        "type": "parcoords"
                      }
                    ],
                    "pie": [
                      {
                        "automargin": true,
                        "type": "pie"
                      }
                    ],
                    "scatter": [
                      {
                        "fillpattern": {
                          "fillmode": "overlay",
                          "size": 10,
                          "solidity": 0.2
                        },
                        "type": "scatter"
                      }
                    ],
                    "scatter3d": [
                      {
                        "line": {
                          "colorbar": {
                            "outlinewidth": 0,
                            "ticks": ""
                          }
                        },
                        "marker": {
                          "colorbar": {
                            "outlinewidth": 0,
                            "ticks": ""
                          }
                        },
                        "type": "scatter3d"
                      }
                    ],
                    "scattercarpet": [
                      {
                        "marker": {
                          "colorbar": {
                            "outlinewidth": 0,
                            "ticks": ""
                          }
                        },
                        "type": "scattercarpet"
                      }
                    ],
                    "scattergeo": [
                      {
                        "marker": {
                          "colorbar": {
                            "outlinewidth": 0,
                            "ticks": ""
                          }
                        },
                        "type": "scattergeo"
                      }
                    ],
                    "scattergl": [
                      {
                        "marker": {
                          "colorbar": {
                            "outlinewidth": 0,
                            "ticks": ""
                          }
                        },
                        "type": "scattergl"
                      }
                    ],
                    "scattermapbox": [
                      {
                        "marker": {
                          "colorbar": {
                            "outlinewidth": 0,
                            "ticks": ""
                          }
                        },
                        "type": "scattermapbox"
                      }
                    ],
                    "scatterpolar": [
                      {
                        "marker": {
                          "colorbar": {
                            "outlinewidth": 0,
                            "ticks": ""
                          }
                        },
                        "type": "scatterpolar"
                      }
                    ],
                    "scatterpolargl": [
                      {
                        "marker": {
                          "colorbar": {
                            "outlinewidth": 0,
                            "ticks": ""
                          }
                        },
                        "type": "scatterpolargl"
                      }
                    ],
                    "scatterternary": [
                      {
                        "marker": {
                          "colorbar": {
                            "outlinewidth": 0,
                            "ticks": ""
                          }
                        },
                        "type": "scatterternary"
                      }
                    ],
                    "surface": [
                      {
                        "colorbar": {
                          "outlinewidth": 0,
                          "ticks": ""
                        },
                        "colorscale": [
                          [
                            0,
                            "#0d0887"
                          ],
                          [
                            0.1111111111111111,
                            "#46039f"
                          ],
                          [
                            0.2222222222222222,
                            "#7201a8"
                          ],
                          [
                            0.3333333333333333,
                            "#9c179e"
                          ],
                          [
                            0.4444444444444444,
                            "#bd3786"
                          ],
                          [
                            0.5555555555555556,
                            "#d8576b"
                          ],
                          [
                            0.6666666666666666,
                            "#ed7953"
                          ],
                          [
                            0.7777777777777778,
                            "#fb9f3a"
                          ],
                          [
                            0.8888888888888888,
                            "#fdca26"
                          ],
                          [
                            1,
                            "#f0f921"
                          ]
                        ],
                        "type": "surface"
                      }
                    ],
                    "table": [
                      {
                        "cells": {
                          "fill": {
                            "color": "#EBF0F8"
                          },
                          "line": {
                            "color": "white"
                          }
                        },
                        "header": {
                          "fill": {
                            "color": "#C8D4E3"
                          },
                          "line": {
                            "color": "white"
                          }
                        },
                        "type": "table"
                      }
                    ]
                  },
                  "layout": {
                    "annotationdefaults": {
                      "arrowcolor": "#2a3f5f",
                      "arrowhead": 0,
                      "arrowwidth": 1
                    },
                    "autotypenumbers": "strict",
                    "coloraxis": {
                      "colorbar": {
                        "outlinewidth": 0,
                        "ticks": ""
                      }
                    },
                    "colorscale": {
                      "diverging": [
                        [
                          0,
                          "#8e0152"
                        ],
                        [
                          0.1,
                          "#c51b7d"
                        ],
                        [
                          0.2,
                          "#de77ae"
                        ],
                        [
                          0.3,
                          "#f1b6da"
                        ],
                        [
                          0.4,
                          "#fde0ef"
                        ],
                        [
                          0.5,
                          "#f7f7f7"
                        ],
                        [
                          0.6,
                          "#e6f5d0"
                        ],
                        [
                          0.7,
                          "#b8e186"
                        ],
                        [
                          0.8,
                          "#7fbc41"
                        ],
                        [
                          0.9,
                          "#4d9221"
                        ],
                        [
                          1,
                          "#276419"
                        ]
                      ],
                      "sequential": [
                        [
                          0,
                          "#0d0887"
                        ],
                        [
                          0.1111111111111111,
                          "#46039f"
                        ],
                        [
                          0.2222222222222222,
                          "#7201a8"
                        ],
                        [
                          0.3333333333333333,
                          "#9c179e"
                        ],
                        [
                          0.4444444444444444,
                          "#bd3786"
                        ],
                        [
                          0.5555555555555556,
                          "#d8576b"
                        ],
                        [
                          0.6666666666666666,
                          "#ed7953"
                        ],
                        [
                          0.7777777777777778,
                          "#fb9f3a"
                        ],
                        [
                          0.8888888888888888,
                          "#fdca26"
                        ],
                        [
                          1,
                          "#f0f921"
                        ]
                      ],
                      "sequentialminus": [
                        [
                          0,
                          "#0d0887"
                        ],
                        [
                          0.1111111111111111,
                          "#46039f"
                        ],
                        [
                          0.2222222222222222,
                          "#7201a8"
                        ],
                        [
                          0.3333333333333333,
                          "#9c179e"
                        ],
                        [
                          0.4444444444444444,
                          "#bd3786"
                        ],
                        [
                          0.5555555555555556,
                          "#d8576b"
                        ],
                        [
                          0.6666666666666666,
                          "#ed7953"
                        ],
                        [
                          0.7777777777777778,
                          "#fb9f3a"
                        ],
                        [
                          0.8888888888888888,
                          "#fdca26"
                        ],
                        [
                          1,
                          "#f0f921"
                        ]
                      ]
                    },
                    "colorway": [
                      "#636efa",
                      "#EF553B",
                      "#00cc96",
                      "#ab63fa",
                      "#FFA15A",
                      "#19d3f3",
                      "#FF6692",
                      "#B6E880",
                      "#FF97FF",
                      "#FECB52"
                    ],
                    "font": {
                      "color": "#2a3f5f"
                    },
                    "geo": {
                      "bgcolor": "white",
                      "lakecolor": "white",
                      "landcolor": "#E5ECF6",
                      "showlakes": true,
                      "showland": true,
                      "subunitcolor": "white"
                    },
                    "hoverlabel": {
                      "align": "left"
                    },
                    "hovermode": "closest",
                    "mapbox": {
                      "style": "light"
                    },
                    "paper_bgcolor": "white",
                    "plot_bgcolor": "#E5ECF6",
                    "polar": {
                      "angularaxis": {
                        "gridcolor": "white",
                        "linecolor": "white",
                        "ticks": ""
                      },
                      "bgcolor": "#E5ECF6",
                      "radialaxis": {
                        "gridcolor": "white",
                        "linecolor": "white",
                        "ticks": ""
                      }
                    },
                    "scene": {
                      "xaxis": {
                        "backgroundcolor": "#E5ECF6",
                        "gridcolor": "white",
                        "gridwidth": 2,
                        "linecolor": "white",
                        "showbackground": true,
                        "ticks": "",
                        "zerolinecolor": "white"
                      },
                      "yaxis": {
                        "backgroundcolor": "#E5ECF6",
                        "gridcolor": "white",
                        "gridwidth": 2,
                        "linecolor": "white",
                        "showbackground": true,
                        "ticks": "",
                        "zerolinecolor": "white"
                      },
                      "zaxis": {
                        "backgroundcolor": "#E5ECF6",
                        "gridcolor": "white",
                        "gridwidth": 2,
                        "linecolor": "white",
                        "showbackground": true,
                        "ticks": "",
                        "zerolinecolor": "white"
                      }
                    },
                    "shapedefaults": {
                      "line": {
                        "color": "#2a3f5f"
                      }
                    },
                    "ternary": {
                      "aaxis": {
                        "gridcolor": "white",
                        "linecolor": "white",
                        "ticks": ""
                      },
                      "baxis": {
                        "gridcolor": "white",
                        "linecolor": "white",
                        "ticks": ""
                      },
                      "bgcolor": "#E5ECF6",
                      "caxis": {
                        "gridcolor": "white",
                        "linecolor": "white",
                        "ticks": ""
                      }
                    },
                    "title": {
                      "x": 0.05
                    },
                    "xaxis": {
                      "automargin": true,
                      "gridcolor": "white",
                      "linecolor": "white",
                      "ticks": "",
                      "title": {
                        "standoff": 15
                      },
                      "zerolinecolor": "white",
                      "zerolinewidth": 2
                    },
                    "yaxis": {
                      "automargin": true,
                      "gridcolor": "white",
                      "linecolor": "white",
                      "ticks": "",
                      "title": {
                        "standoff": 15
                      },
                      "zerolinecolor": "white",
                      "zerolinewidth": 2
                    }
                  }
                },
                "title": {
                  "text": "Average Unit Cost and Unit Price by Brand"
                },
                "xaxis": {
                  "anchor": "y",
                  "domain": [
                    0,
                    1
                  ],
                  "title": {
                    "text": "Brand"
                  }
                },
                "yaxis": {
                  "anchor": "x",
                  "domain": [
                    0,
                    1
                  ],
                  "title": {
                    "text": "Average Value"
                  }
                }
              }
            }
          },
          "metadata": {},
          "output_type": "display_data"
        }
      ],
      "source": [
        "# Grouping by Brand and calculating the average of Unit Cost and Unit Price\n",
        "\n",
        "brand_average = pt.groupby('Brand').agg({'UnitCostUSD': 'mean', 'UnitPriceUSD': 'mean'}).reset_index()\n",
        "\n",
        "fig = px.bar(brand_average, x='Brand', y=['UnitCostUSD', 'UnitPriceUSD'], barmode='group')\n",
        "\n",
        "fig.update_layout(title='Average Unit Cost and Unit Price by Brand', xaxis_title='Brand', yaxis_title='Average Value')\n",
        "\n",
        "\n",
        "fig.show()\n"
      ]
    },
    {
      "cell_type": "code",
      "execution_count": 18,
      "metadata": {
        "colab": {
          "base_uri": "https://localhost:8080/",
          "height": 542
        },
        "id": "8mrRTPaCVMQu",
        "outputId": "7114b51e-7bb0-43dc-a109-7bc48b5955d6"
      },
      "outputs": [
        {
          "data": {
            "application/vnd.plotly.v1+json": {
              "config": {
                "plotlyServerURL": "https://plot.ly"
              },
              "data": [
                {
                  "alignmentgroup": "True",
                  "hovertemplate": "Brand=%{x}<br>Count=%{y}<br>color=%{marker.color}<extra></extra>",
                  "legendgroup": "",
                  "marker": {
                    "color": [
                      710,
                      267,
                      264,
                      244,
                      192,
                      192,
                      173,
                      152,
                      144,
                      132
                    ],
                    "coloraxis": "coloraxis",
                    "pattern": {
                      "shape": ""
                    }
                  },
                  "name": "",
                  "offsetgroup": "",
                  "orientation": "v",
                  "showlegend": false,
                  "textposition": "auto",
                  "type": "bar",
                  "x": [
                    "Contoso",
                    "Fabrikam",
                    "Litware",
                    "Proseware",
                    "Southridge Video",
                    "Adventure Works",
                    "Wide World Importers",
                    "The Phone Company",
                    "Tailspin Toys",
                    "A. Datum"
                  ],
                  "xaxis": "x",
                  "y": [
                    710,
                    267,
                    264,
                    244,
                    192,
                    192,
                    173,
                    152,
                    144,
                    132
                  ],
                  "yaxis": "y"
                }
              ],
              "layout": {
                "barmode": "relative",
                "coloraxis": {
                  "colorbar": {
                    "title": {
                      "text": "color"
                    }
                  },
                  "colorscale": [
                    [
                      0,
                      "#0d0887"
                    ],
                    [
                      0.1111111111111111,
                      "#46039f"
                    ],
                    [
                      0.2222222222222222,
                      "#7201a8"
                    ],
                    [
                      0.3333333333333333,
                      "#9c179e"
                    ],
                    [
                      0.4444444444444444,
                      "#bd3786"
                    ],
                    [
                      0.5555555555555556,
                      "#d8576b"
                    ],
                    [
                      0.6666666666666666,
                      "#ed7953"
                    ],
                    [
                      0.7777777777777778,
                      "#fb9f3a"
                    ],
                    [
                      0.8888888888888888,
                      "#fdca26"
                    ],
                    [
                      1,
                      "#f0f921"
                    ]
                  ]
                },
                "font": {
                  "size": 8
                },
                "legend": {
                  "tracegroupgap": 0
                },
                "template": {
                  "data": {
                    "bar": [
                      {
                        "error_x": {
                          "color": "#2a3f5f"
                        },
                        "error_y": {
                          "color": "#2a3f5f"
                        },
                        "marker": {
                          "line": {
                            "color": "#E5ECF6",
                            "width": 0.5
                          },
                          "pattern": {
                            "fillmode": "overlay",
                            "size": 10,
                            "solidity": 0.2
                          }
                        },
                        "type": "bar"
                      }
                    ],
                    "barpolar": [
                      {
                        "marker": {
                          "line": {
                            "color": "#E5ECF6",
                            "width": 0.5
                          },
                          "pattern": {
                            "fillmode": "overlay",
                            "size": 10,
                            "solidity": 0.2
                          }
                        },
                        "type": "barpolar"
                      }
                    ],
                    "carpet": [
                      {
                        "aaxis": {
                          "endlinecolor": "#2a3f5f",
                          "gridcolor": "white",
                          "linecolor": "white",
                          "minorgridcolor": "white",
                          "startlinecolor": "#2a3f5f"
                        },
                        "baxis": {
                          "endlinecolor": "#2a3f5f",
                          "gridcolor": "white",
                          "linecolor": "white",
                          "minorgridcolor": "white",
                          "startlinecolor": "#2a3f5f"
                        },
                        "type": "carpet"
                      }
                    ],
                    "choropleth": [
                      {
                        "colorbar": {
                          "outlinewidth": 0,
                          "ticks": ""
                        },
                        "type": "choropleth"
                      }
                    ],
                    "contour": [
                      {
                        "colorbar": {
                          "outlinewidth": 0,
                          "ticks": ""
                        },
                        "colorscale": [
                          [
                            0,
                            "#0d0887"
                          ],
                          [
                            0.1111111111111111,
                            "#46039f"
                          ],
                          [
                            0.2222222222222222,
                            "#7201a8"
                          ],
                          [
                            0.3333333333333333,
                            "#9c179e"
                          ],
                          [
                            0.4444444444444444,
                            "#bd3786"
                          ],
                          [
                            0.5555555555555556,
                            "#d8576b"
                          ],
                          [
                            0.6666666666666666,
                            "#ed7953"
                          ],
                          [
                            0.7777777777777778,
                            "#fb9f3a"
                          ],
                          [
                            0.8888888888888888,
                            "#fdca26"
                          ],
                          [
                            1,
                            "#f0f921"
                          ]
                        ],
                        "type": "contour"
                      }
                    ],
                    "contourcarpet": [
                      {
                        "colorbar": {
                          "outlinewidth": 0,
                          "ticks": ""
                        },
                        "type": "contourcarpet"
                      }
                    ],
                    "heatmap": [
                      {
                        "colorbar": {
                          "outlinewidth": 0,
                          "ticks": ""
                        },
                        "colorscale": [
                          [
                            0,
                            "#0d0887"
                          ],
                          [
                            0.1111111111111111,
                            "#46039f"
                          ],
                          [
                            0.2222222222222222,
                            "#7201a8"
                          ],
                          [
                            0.3333333333333333,
                            "#9c179e"
                          ],
                          [
                            0.4444444444444444,
                            "#bd3786"
                          ],
                          [
                            0.5555555555555556,
                            "#d8576b"
                          ],
                          [
                            0.6666666666666666,
                            "#ed7953"
                          ],
                          [
                            0.7777777777777778,
                            "#fb9f3a"
                          ],
                          [
                            0.8888888888888888,
                            "#fdca26"
                          ],
                          [
                            1,
                            "#f0f921"
                          ]
                        ],
                        "type": "heatmap"
                      }
                    ],
                    "heatmapgl": [
                      {
                        "colorbar": {
                          "outlinewidth": 0,
                          "ticks": ""
                        },
                        "colorscale": [
                          [
                            0,
                            "#0d0887"
                          ],
                          [
                            0.1111111111111111,
                            "#46039f"
                          ],
                          [
                            0.2222222222222222,
                            "#7201a8"
                          ],
                          [
                            0.3333333333333333,
                            "#9c179e"
                          ],
                          [
                            0.4444444444444444,
                            "#bd3786"
                          ],
                          [
                            0.5555555555555556,
                            "#d8576b"
                          ],
                          [
                            0.6666666666666666,
                            "#ed7953"
                          ],
                          [
                            0.7777777777777778,
                            "#fb9f3a"
                          ],
                          [
                            0.8888888888888888,
                            "#fdca26"
                          ],
                          [
                            1,
                            "#f0f921"
                          ]
                        ],
                        "type": "heatmapgl"
                      }
                    ],
                    "histogram": [
                      {
                        "marker": {
                          "pattern": {
                            "fillmode": "overlay",
                            "size": 10,
                            "solidity": 0.2
                          }
                        },
                        "type": "histogram"
                      }
                    ],
                    "histogram2d": [
                      {
                        "colorbar": {
                          "outlinewidth": 0,
                          "ticks": ""
                        },
                        "colorscale": [
                          [
                            0,
                            "#0d0887"
                          ],
                          [
                            0.1111111111111111,
                            "#46039f"
                          ],
                          [
                            0.2222222222222222,
                            "#7201a8"
                          ],
                          [
                            0.3333333333333333,
                            "#9c179e"
                          ],
                          [
                            0.4444444444444444,
                            "#bd3786"
                          ],
                          [
                            0.5555555555555556,
                            "#d8576b"
                          ],
                          [
                            0.6666666666666666,
                            "#ed7953"
                          ],
                          [
                            0.7777777777777778,
                            "#fb9f3a"
                          ],
                          [
                            0.8888888888888888,
                            "#fdca26"
                          ],
                          [
                            1,
                            "#f0f921"
                          ]
                        ],
                        "type": "histogram2d"
                      }
                    ],
                    "histogram2dcontour": [
                      {
                        "colorbar": {
                          "outlinewidth": 0,
                          "ticks": ""
                        },
                        "colorscale": [
                          [
                            0,
                            "#0d0887"
                          ],
                          [
                            0.1111111111111111,
                            "#46039f"
                          ],
                          [
                            0.2222222222222222,
                            "#7201a8"
                          ],
                          [
                            0.3333333333333333,
                            "#9c179e"
                          ],
                          [
                            0.4444444444444444,
                            "#bd3786"
                          ],
                          [
                            0.5555555555555556,
                            "#d8576b"
                          ],
                          [
                            0.6666666666666666,
                            "#ed7953"
                          ],
                          [
                            0.7777777777777778,
                            "#fb9f3a"
                          ],
                          [
                            0.8888888888888888,
                            "#fdca26"
                          ],
                          [
                            1,
                            "#f0f921"
                          ]
                        ],
                        "type": "histogram2dcontour"
                      }
                    ],
                    "mesh3d": [
                      {
                        "colorbar": {
                          "outlinewidth": 0,
                          "ticks": ""
                        },
                        "type": "mesh3d"
                      }
                    ],
                    "parcoords": [
                      {
                        "line": {
                          "colorbar": {
                            "outlinewidth": 0,
                            "ticks": ""
                          }
                        },
                        "type": "parcoords"
                      }
                    ],
                    "pie": [
                      {
                        "automargin": true,
                        "type": "pie"
                      }
                    ],
                    "scatter": [
                      {
                        "fillpattern": {
                          "fillmode": "overlay",
                          "size": 10,
                          "solidity": 0.2
                        },
                        "type": "scatter"
                      }
                    ],
                    "scatter3d": [
                      {
                        "line": {
                          "colorbar": {
                            "outlinewidth": 0,
                            "ticks": ""
                          }
                        },
                        "marker": {
                          "colorbar": {
                            "outlinewidth": 0,
                            "ticks": ""
                          }
                        },
                        "type": "scatter3d"
                      }
                    ],
                    "scattercarpet": [
                      {
                        "marker": {
                          "colorbar": {
                            "outlinewidth": 0,
                            "ticks": ""
                          }
                        },
                        "type": "scattercarpet"
                      }
                    ],
                    "scattergeo": [
                      {
                        "marker": {
                          "colorbar": {
                            "outlinewidth": 0,
                            "ticks": ""
                          }
                        },
                        "type": "scattergeo"
                      }
                    ],
                    "scattergl": [
                      {
                        "marker": {
                          "colorbar": {
                            "outlinewidth": 0,
                            "ticks": ""
                          }
                        },
                        "type": "scattergl"
                      }
                    ],
                    "scattermapbox": [
                      {
                        "marker": {
                          "colorbar": {
                            "outlinewidth": 0,
                            "ticks": ""
                          }
                        },
                        "type": "scattermapbox"
                      }
                    ],
                    "scatterpolar": [
                      {
                        "marker": {
                          "colorbar": {
                            "outlinewidth": 0,
                            "ticks": ""
                          }
                        },
                        "type": "scatterpolar"
                      }
                    ],
                    "scatterpolargl": [
                      {
                        "marker": {
                          "colorbar": {
                            "outlinewidth": 0,
                            "ticks": ""
                          }
                        },
                        "type": "scatterpolargl"
                      }
                    ],
                    "scatterternary": [
                      {
                        "marker": {
                          "colorbar": {
                            "outlinewidth": 0,
                            "ticks": ""
                          }
                        },
                        "type": "scatterternary"
                      }
                    ],
                    "surface": [
                      {
                        "colorbar": {
                          "outlinewidth": 0,
                          "ticks": ""
                        },
                        "colorscale": [
                          [
                            0,
                            "#0d0887"
                          ],
                          [
                            0.1111111111111111,
                            "#46039f"
                          ],
                          [
                            0.2222222222222222,
                            "#7201a8"
                          ],
                          [
                            0.3333333333333333,
                            "#9c179e"
                          ],
                          [
                            0.4444444444444444,
                            "#bd3786"
                          ],
                          [
                            0.5555555555555556,
                            "#d8576b"
                          ],
                          [
                            0.6666666666666666,
                            "#ed7953"
                          ],
                          [
                            0.7777777777777778,
                            "#fb9f3a"
                          ],
                          [
                            0.8888888888888888,
                            "#fdca26"
                          ],
                          [
                            1,
                            "#f0f921"
                          ]
                        ],
                        "type": "surface"
                      }
                    ],
                    "table": [
                      {
                        "cells": {
                          "fill": {
                            "color": "#EBF0F8"
                          },
                          "line": {
                            "color": "white"
                          }
                        },
                        "header": {
                          "fill": {
                            "color": "#C8D4E3"
                          },
                          "line": {
                            "color": "white"
                          }
                        },
                        "type": "table"
                      }
                    ]
                  },
                  "layout": {
                    "annotationdefaults": {
                      "arrowcolor": "#2a3f5f",
                      "arrowhead": 0,
                      "arrowwidth": 1
                    },
                    "autotypenumbers": "strict",
                    "coloraxis": {
                      "colorbar": {
                        "outlinewidth": 0,
                        "ticks": ""
                      }
                    },
                    "colorscale": {
                      "diverging": [
                        [
                          0,
                          "#8e0152"
                        ],
                        [
                          0.1,
                          "#c51b7d"
                        ],
                        [
                          0.2,
                          "#de77ae"
                        ],
                        [
                          0.3,
                          "#f1b6da"
                        ],
                        [
                          0.4,
                          "#fde0ef"
                        ],
                        [
                          0.5,
                          "#f7f7f7"
                        ],
                        [
                          0.6,
                          "#e6f5d0"
                        ],
                        [
                          0.7,
                          "#b8e186"
                        ],
                        [
                          0.8,
                          "#7fbc41"
                        ],
                        [
                          0.9,
                          "#4d9221"
                        ],
                        [
                          1,
                          "#276419"
                        ]
                      ],
                      "sequential": [
                        [
                          0,
                          "#0d0887"
                        ],
                        [
                          0.1111111111111111,
                          "#46039f"
                        ],
                        [
                          0.2222222222222222,
                          "#7201a8"
                        ],
                        [
                          0.3333333333333333,
                          "#9c179e"
                        ],
                        [
                          0.4444444444444444,
                          "#bd3786"
                        ],
                        [
                          0.5555555555555556,
                          "#d8576b"
                        ],
                        [
                          0.6666666666666666,
                          "#ed7953"
                        ],
                        [
                          0.7777777777777778,
                          "#fb9f3a"
                        ],
                        [
                          0.8888888888888888,
                          "#fdca26"
                        ],
                        [
                          1,
                          "#f0f921"
                        ]
                      ],
                      "sequentialminus": [
                        [
                          0,
                          "#0d0887"
                        ],
                        [
                          0.1111111111111111,
                          "#46039f"
                        ],
                        [
                          0.2222222222222222,
                          "#7201a8"
                        ],
                        [
                          0.3333333333333333,
                          "#9c179e"
                        ],
                        [
                          0.4444444444444444,
                          "#bd3786"
                        ],
                        [
                          0.5555555555555556,
                          "#d8576b"
                        ],
                        [
                          0.6666666666666666,
                          "#ed7953"
                        ],
                        [
                          0.7777777777777778,
                          "#fb9f3a"
                        ],
                        [
                          0.8888888888888888,
                          "#fdca26"
                        ],
                        [
                          1,
                          "#f0f921"
                        ]
                      ]
                    },
                    "colorway": [
                      "#636efa",
                      "#EF553B",
                      "#00cc96",
                      "#ab63fa",
                      "#FFA15A",
                      "#19d3f3",
                      "#FF6692",
                      "#B6E880",
                      "#FF97FF",
                      "#FECB52"
                    ],
                    "font": {
                      "color": "#2a3f5f"
                    },
                    "geo": {
                      "bgcolor": "white",
                      "lakecolor": "white",
                      "landcolor": "#E5ECF6",
                      "showlakes": true,
                      "showland": true,
                      "subunitcolor": "white"
                    },
                    "hoverlabel": {
                      "align": "left"
                    },
                    "hovermode": "closest",
                    "mapbox": {
                      "style": "light"
                    },
                    "paper_bgcolor": "white",
                    "plot_bgcolor": "#E5ECF6",
                    "polar": {
                      "angularaxis": {
                        "gridcolor": "white",
                        "linecolor": "white",
                        "ticks": ""
                      },
                      "bgcolor": "#E5ECF6",
                      "radialaxis": {
                        "gridcolor": "white",
                        "linecolor": "white",
                        "ticks": ""
                      }
                    },
                    "scene": {
                      "xaxis": {
                        "backgroundcolor": "#E5ECF6",
                        "gridcolor": "white",
                        "gridwidth": 2,
                        "linecolor": "white",
                        "showbackground": true,
                        "ticks": "",
                        "zerolinecolor": "white"
                      },
                      "yaxis": {
                        "backgroundcolor": "#E5ECF6",
                        "gridcolor": "white",
                        "gridwidth": 2,
                        "linecolor": "white",
                        "showbackground": true,
                        "ticks": "",
                        "zerolinecolor": "white"
                      },
                      "zaxis": {
                        "backgroundcolor": "#E5ECF6",
                        "gridcolor": "white",
                        "gridwidth": 2,
                        "linecolor": "white",
                        "showbackground": true,
                        "ticks": "",
                        "zerolinecolor": "white"
                      }
                    },
                    "shapedefaults": {
                      "line": {
                        "color": "#2a3f5f"
                      }
                    },
                    "ternary": {
                      "aaxis": {
                        "gridcolor": "white",
                        "linecolor": "white",
                        "ticks": ""
                      },
                      "baxis": {
                        "gridcolor": "white",
                        "linecolor": "white",
                        "ticks": ""
                      },
                      "bgcolor": "#E5ECF6",
                      "caxis": {
                        "gridcolor": "white",
                        "linecolor": "white",
                        "ticks": ""
                      }
                    },
                    "title": {
                      "x": 0.05
                    },
                    "xaxis": {
                      "automargin": true,
                      "gridcolor": "white",
                      "linecolor": "white",
                      "ticks": "",
                      "title": {
                        "standoff": 15
                      },
                      "zerolinecolor": "white",
                      "zerolinewidth": 2
                    },
                    "yaxis": {
                      "automargin": true,
                      "gridcolor": "white",
                      "linecolor": "white",
                      "ticks": "",
                      "title": {
                        "standoff": 15
                      },
                      "zerolinecolor": "white",
                      "zerolinewidth": 2
                    }
                  }
                },
                "title": {
                  "text": "Top Brands from Products"
                },
                "xaxis": {
                  "anchor": "y",
                  "domain": [
                    0,
                    1
                  ],
                  "title": {
                    "text": "Brand"
                  }
                },
                "yaxis": {
                  "anchor": "x",
                  "domain": [
                    0,
                    1
                  ],
                  "title": {
                    "text": "Count"
                  }
                }
              }
            }
          },
          "metadata": {},
          "output_type": "display_data"
        }
      ],
      "source": [
        "#Top brands from products\n",
        "\n",
        "top_brands= pt['Brand'].value_counts().head(10)\n",
        "fig= px.bar(x=top_brands.index,y=top_brands.values,\n",
        "            title=\"Top Brands from Products\",\n",
        "            labels={'x':\"Brand\", 'y':\"Count\"},\n",
        "            color=top_brands)\n",
        "fig.update_layout(font=dict(size=8))\n",
        "\n",
        "fig.show()\n"
      ]
    },
    {
      "cell_type": "code",
      "execution_count": 35,
      "metadata": {
        "colab": {
          "base_uri": "https://localhost:8080/",
          "height": 362
        },
        "id": "pZ60PO6CKvYu",
        "outputId": "6a0409fa-633f-45f8-c892-5b9c809ed969"
      },
      "outputs": [
        {
          "data": {
            "text/html": [
              "<div>\n",
              "<style scoped>\n",
              "    .dataframe tbody tr th:only-of-type {\n",
              "        vertical-align: middle;\n",
              "    }\n",
              "\n",
              "    .dataframe tbody tr th {\n",
              "        vertical-align: top;\n",
              "    }\n",
              "\n",
              "    .dataframe thead th {\n",
              "        text-align: right;\n",
              "    }\n",
              "</style>\n",
              "<table border=\"1\" class=\"dataframe\">\n",
              "  <thead>\n",
              "    <tr style=\"text-align: right;\">\n",
              "      <th></th>\n",
              "      <th>StoreKey</th>\n",
              "      <th>Country</th>\n",
              "      <th>State</th>\n",
              "      <th>SquareMeters</th>\n",
              "      <th>OpenDate</th>\n",
              "    </tr>\n",
              "  </thead>\n",
              "  <tbody>\n",
              "    <tr>\n",
              "      <th>0</th>\n",
              "      <td>1</td>\n",
              "      <td>Australia</td>\n",
              "      <td>Australian Capital Territory</td>\n",
              "      <td>595.0</td>\n",
              "      <td>2008-01-01</td>\n",
              "    </tr>\n",
              "    <tr>\n",
              "      <th>1</th>\n",
              "      <td>2</td>\n",
              "      <td>Australia</td>\n",
              "      <td>Northern Territory</td>\n",
              "      <td>665.0</td>\n",
              "      <td>2008-01-12</td>\n",
              "    </tr>\n",
              "    <tr>\n",
              "      <th>2</th>\n",
              "      <td>3</td>\n",
              "      <td>Australia</td>\n",
              "      <td>South Australia</td>\n",
              "      <td>2000.0</td>\n",
              "      <td>2012-01-07</td>\n",
              "    </tr>\n",
              "    <tr>\n",
              "      <th>3</th>\n",
              "      <td>4</td>\n",
              "      <td>Australia</td>\n",
              "      <td>Tasmania</td>\n",
              "      <td>2000.0</td>\n",
              "      <td>2010-01-01</td>\n",
              "    </tr>\n",
              "    <tr>\n",
              "      <th>4</th>\n",
              "      <td>5</td>\n",
              "      <td>Australia</td>\n",
              "      <td>Victoria</td>\n",
              "      <td>2000.0</td>\n",
              "      <td>2015-12-09</td>\n",
              "    </tr>\n",
              "    <tr>\n",
              "      <th>5</th>\n",
              "      <td>6</td>\n",
              "      <td>Australia</td>\n",
              "      <td>Western Australia</td>\n",
              "      <td>2000.0</td>\n",
              "      <td>2010-01-01</td>\n",
              "    </tr>\n",
              "    <tr>\n",
              "      <th>6</th>\n",
              "      <td>7</td>\n",
              "      <td>Canada</td>\n",
              "      <td>New Brunswick</td>\n",
              "      <td>1105.0</td>\n",
              "      <td>2007-05-07</td>\n",
              "    </tr>\n",
              "    <tr>\n",
              "      <th>7</th>\n",
              "      <td>8</td>\n",
              "      <td>Canada</td>\n",
              "      <td>Newfoundland and Labrador</td>\n",
              "      <td>2105.0</td>\n",
              "      <td>2014-07-02</td>\n",
              "    </tr>\n",
              "    <tr>\n",
              "      <th>8</th>\n",
              "      <td>9</td>\n",
              "      <td>Canada</td>\n",
              "      <td>Northwest Territories</td>\n",
              "      <td>1500.0</td>\n",
              "      <td>2005-03-04</td>\n",
              "    </tr>\n",
              "    <tr>\n",
              "      <th>9</th>\n",
              "      <td>10</td>\n",
              "      <td>Canada</td>\n",
              "      <td>Nunavut</td>\n",
              "      <td>1210.0</td>\n",
              "      <td>2015-04-04</td>\n",
              "    </tr>\n",
              "  </tbody>\n",
              "</table>\n",
              "</div>"
            ],
            "text/plain": [
              "   StoreKey    Country                         State  SquareMeters    OpenDate\n",
              "0         1  Australia  Australian Capital Territory         595.0  2008-01-01\n",
              "1         2  Australia            Northern Territory         665.0  2008-01-12\n",
              "2         3  Australia               South Australia        2000.0  2012-01-07\n",
              "3         4  Australia                      Tasmania        2000.0  2010-01-01\n",
              "4         5  Australia                      Victoria        2000.0  2015-12-09\n",
              "5         6  Australia             Western Australia        2000.0  2010-01-01\n",
              "6         7     Canada                 New Brunswick        1105.0  2007-05-07\n",
              "7         8     Canada     Newfoundland and Labrador        2105.0  2014-07-02\n",
              "8         9     Canada         Northwest Territories        1500.0  2005-03-04\n",
              "9        10     Canada                       Nunavut        1210.0  2015-04-04"
            ]
          },
          "execution_count": 35,
          "metadata": {},
          "output_type": "execute_result"
        }
      ],
      "source": [
        "stores.head(10)"
      ]
    },
    {
      "cell_type": "code",
      "execution_count": 36,
      "metadata": {
        "colab": {
          "base_uri": "https://localhost:8080/",
          "height": 542
        },
        "id": "2MaLXc5Jml_F",
        "outputId": "0c15f4dd-da5f-47dc-ecd7-68fd05868478"
      },
      "outputs": [
        {
          "data": {
            "application/vnd.plotly.v1+json": {
              "config": {
                "plotlyServerURL": "https://plot.ly"
              },
              "data": [
                {
                  "alignmentgroup": "True",
                  "hovertemplate": "Country=%{x}<br>Total square meters=%{y}<br>color=%{marker.color}<extra></extra>",
                  "legendgroup": "",
                  "marker": {
                    "color": [
                      9260,
                      7130,
                      2390,
                      12750,
                      4300,
                      6125,
                      12600,
                      37990
                    ],
                    "coloraxis": "coloraxis",
                    "pattern": {
                      "shape": ""
                    }
                  },
                  "name": "",
                  "offsetgroup": "",
                  "orientation": "v",
                  "showlegend": false,
                  "textposition": "auto",
                  "type": "bar",
                  "x": [
                    "Australia",
                    "Canada",
                    "France",
                    "Germany",
                    "Italy",
                    "Netherlands",
                    "United Kingdom",
                    "United States"
                  ],
                  "xaxis": "x",
                  "y": [
                    9260,
                    7130,
                    2390,
                    12750,
                    4300,
                    6125,
                    12600,
                    37990
                  ],
                  "yaxis": "y"
                }
              ],
              "layout": {
                "barmode": "relative",
                "coloraxis": {
                  "colorbar": {
                    "title": {
                      "text": "color"
                    }
                  },
                  "colorscale": [
                    [
                      0,
                      "#0d0887"
                    ],
                    [
                      0.1111111111111111,
                      "#46039f"
                    ],
                    [
                      0.2222222222222222,
                      "#7201a8"
                    ],
                    [
                      0.3333333333333333,
                      "#9c179e"
                    ],
                    [
                      0.4444444444444444,
                      "#bd3786"
                    ],
                    [
                      0.5555555555555556,
                      "#d8576b"
                    ],
                    [
                      0.6666666666666666,
                      "#ed7953"
                    ],
                    [
                      0.7777777777777778,
                      "#fb9f3a"
                    ],
                    [
                      0.8888888888888888,
                      "#fdca26"
                    ],
                    [
                      1,
                      "#f0f921"
                    ]
                  ]
                },
                "font": {
                  "size": 9
                },
                "legend": {
                  "tracegroupgap": 0
                },
                "template": {
                  "data": {
                    "bar": [
                      {
                        "error_x": {
                          "color": "#2a3f5f"
                        },
                        "error_y": {
                          "color": "#2a3f5f"
                        },
                        "marker": {
                          "line": {
                            "color": "#E5ECF6",
                            "width": 0.5
                          },
                          "pattern": {
                            "fillmode": "overlay",
                            "size": 10,
                            "solidity": 0.2
                          }
                        },
                        "type": "bar"
                      }
                    ],
                    "barpolar": [
                      {
                        "marker": {
                          "line": {
                            "color": "#E5ECF6",
                            "width": 0.5
                          },
                          "pattern": {
                            "fillmode": "overlay",
                            "size": 10,
                            "solidity": 0.2
                          }
                        },
                        "type": "barpolar"
                      }
                    ],
                    "carpet": [
                      {
                        "aaxis": {
                          "endlinecolor": "#2a3f5f",
                          "gridcolor": "white",
                          "linecolor": "white",
                          "minorgridcolor": "white",
                          "startlinecolor": "#2a3f5f"
                        },
                        "baxis": {
                          "endlinecolor": "#2a3f5f",
                          "gridcolor": "white",
                          "linecolor": "white",
                          "minorgridcolor": "white",
                          "startlinecolor": "#2a3f5f"
                        },
                        "type": "carpet"
                      }
                    ],
                    "choropleth": [
                      {
                        "colorbar": {
                          "outlinewidth": 0,
                          "ticks": ""
                        },
                        "type": "choropleth"
                      }
                    ],
                    "contour": [
                      {
                        "colorbar": {
                          "outlinewidth": 0,
                          "ticks": ""
                        },
                        "colorscale": [
                          [
                            0,
                            "#0d0887"
                          ],
                          [
                            0.1111111111111111,
                            "#46039f"
                          ],
                          [
                            0.2222222222222222,
                            "#7201a8"
                          ],
                          [
                            0.3333333333333333,
                            "#9c179e"
                          ],
                          [
                            0.4444444444444444,
                            "#bd3786"
                          ],
                          [
                            0.5555555555555556,
                            "#d8576b"
                          ],
                          [
                            0.6666666666666666,
                            "#ed7953"
                          ],
                          [
                            0.7777777777777778,
                            "#fb9f3a"
                          ],
                          [
                            0.8888888888888888,
                            "#fdca26"
                          ],
                          [
                            1,
                            "#f0f921"
                          ]
                        ],
                        "type": "contour"
                      }
                    ],
                    "contourcarpet": [
                      {
                        "colorbar": {
                          "outlinewidth": 0,
                          "ticks": ""
                        },
                        "type": "contourcarpet"
                      }
                    ],
                    "heatmap": [
                      {
                        "colorbar": {
                          "outlinewidth": 0,
                          "ticks": ""
                        },
                        "colorscale": [
                          [
                            0,
                            "#0d0887"
                          ],
                          [
                            0.1111111111111111,
                            "#46039f"
                          ],
                          [
                            0.2222222222222222,
                            "#7201a8"
                          ],
                          [
                            0.3333333333333333,
                            "#9c179e"
                          ],
                          [
                            0.4444444444444444,
                            "#bd3786"
                          ],
                          [
                            0.5555555555555556,
                            "#d8576b"
                          ],
                          [
                            0.6666666666666666,
                            "#ed7953"
                          ],
                          [
                            0.7777777777777778,
                            "#fb9f3a"
                          ],
                          [
                            0.8888888888888888,
                            "#fdca26"
                          ],
                          [
                            1,
                            "#f0f921"
                          ]
                        ],
                        "type": "heatmap"
                      }
                    ],
                    "heatmapgl": [
                      {
                        "colorbar": {
                          "outlinewidth": 0,
                          "ticks": ""
                        },
                        "colorscale": [
                          [
                            0,
                            "#0d0887"
                          ],
                          [
                            0.1111111111111111,
                            "#46039f"
                          ],
                          [
                            0.2222222222222222,
                            "#7201a8"
                          ],
                          [
                            0.3333333333333333,
                            "#9c179e"
                          ],
                          [
                            0.4444444444444444,
                            "#bd3786"
                          ],
                          [
                            0.5555555555555556,
                            "#d8576b"
                          ],
                          [
                            0.6666666666666666,
                            "#ed7953"
                          ],
                          [
                            0.7777777777777778,
                            "#fb9f3a"
                          ],
                          [
                            0.8888888888888888,
                            "#fdca26"
                          ],
                          [
                            1,
                            "#f0f921"
                          ]
                        ],
                        "type": "heatmapgl"
                      }
                    ],
                    "histogram": [
                      {
                        "marker": {
                          "pattern": {
                            "fillmode": "overlay",
                            "size": 10,
                            "solidity": 0.2
                          }
                        },
                        "type": "histogram"
                      }
                    ],
                    "histogram2d": [
                      {
                        "colorbar": {
                          "outlinewidth": 0,
                          "ticks": ""
                        },
                        "colorscale": [
                          [
                            0,
                            "#0d0887"
                          ],
                          [
                            0.1111111111111111,
                            "#46039f"
                          ],
                          [
                            0.2222222222222222,
                            "#7201a8"
                          ],
                          [
                            0.3333333333333333,
                            "#9c179e"
                          ],
                          [
                            0.4444444444444444,
                            "#bd3786"
                          ],
                          [
                            0.5555555555555556,
                            "#d8576b"
                          ],
                          [
                            0.6666666666666666,
                            "#ed7953"
                          ],
                          [
                            0.7777777777777778,
                            "#fb9f3a"
                          ],
                          [
                            0.8888888888888888,
                            "#fdca26"
                          ],
                          [
                            1,
                            "#f0f921"
                          ]
                        ],
                        "type": "histogram2d"
                      }
                    ],
                    "histogram2dcontour": [
                      {
                        "colorbar": {
                          "outlinewidth": 0,
                          "ticks": ""
                        },
                        "colorscale": [
                          [
                            0,
                            "#0d0887"
                          ],
                          [
                            0.1111111111111111,
                            "#46039f"
                          ],
                          [
                            0.2222222222222222,
                            "#7201a8"
                          ],
                          [
                            0.3333333333333333,
                            "#9c179e"
                          ],
                          [
                            0.4444444444444444,
                            "#bd3786"
                          ],
                          [
                            0.5555555555555556,
                            "#d8576b"
                          ],
                          [
                            0.6666666666666666,
                            "#ed7953"
                          ],
                          [
                            0.7777777777777778,
                            "#fb9f3a"
                          ],
                          [
                            0.8888888888888888,
                            "#fdca26"
                          ],
                          [
                            1,
                            "#f0f921"
                          ]
                        ],
                        "type": "histogram2dcontour"
                      }
                    ],
                    "mesh3d": [
                      {
                        "colorbar": {
                          "outlinewidth": 0,
                          "ticks": ""
                        },
                        "type": "mesh3d"
                      }
                    ],
                    "parcoords": [
                      {
                        "line": {
                          "colorbar": {
                            "outlinewidth": 0,
                            "ticks": ""
                          }
                        },
                        "type": "parcoords"
                      }
                    ],
                    "pie": [
                      {
                        "automargin": true,
                        "type": "pie"
                      }
                    ],
                    "scatter": [
                      {
                        "fillpattern": {
                          "fillmode": "overlay",
                          "size": 10,
                          "solidity": 0.2
                        },
                        "type": "scatter"
                      }
                    ],
                    "scatter3d": [
                      {
                        "line": {
                          "colorbar": {
                            "outlinewidth": 0,
                            "ticks": ""
                          }
                        },
                        "marker": {
                          "colorbar": {
                            "outlinewidth": 0,
                            "ticks": ""
                          }
                        },
                        "type": "scatter3d"
                      }
                    ],
                    "scattercarpet": [
                      {
                        "marker": {
                          "colorbar": {
                            "outlinewidth": 0,
                            "ticks": ""
                          }
                        },
                        "type": "scattercarpet"
                      }
                    ],
                    "scattergeo": [
                      {
                        "marker": {
                          "colorbar": {
                            "outlinewidth": 0,
                            "ticks": ""
                          }
                        },
                        "type": "scattergeo"
                      }
                    ],
                    "scattergl": [
                      {
                        "marker": {
                          "colorbar": {
                            "outlinewidth": 0,
                            "ticks": ""
                          }
                        },
                        "type": "scattergl"
                      }
                    ],
                    "scattermapbox": [
                      {
                        "marker": {
                          "colorbar": {
                            "outlinewidth": 0,
                            "ticks": ""
                          }
                        },
                        "type": "scattermapbox"
                      }
                    ],
                    "scatterpolar": [
                      {
                        "marker": {
                          "colorbar": {
                            "outlinewidth": 0,
                            "ticks": ""
                          }
                        },
                        "type": "scatterpolar"
                      }
                    ],
                    "scatterpolargl": [
                      {
                        "marker": {
                          "colorbar": {
                            "outlinewidth": 0,
                            "ticks": ""
                          }
                        },
                        "type": "scatterpolargl"
                      }
                    ],
                    "scatterternary": [
                      {
                        "marker": {
                          "colorbar": {
                            "outlinewidth": 0,
                            "ticks": ""
                          }
                        },
                        "type": "scatterternary"
                      }
                    ],
                    "surface": [
                      {
                        "colorbar": {
                          "outlinewidth": 0,
                          "ticks": ""
                        },
                        "colorscale": [
                          [
                            0,
                            "#0d0887"
                          ],
                          [
                            0.1111111111111111,
                            "#46039f"
                          ],
                          [
                            0.2222222222222222,
                            "#7201a8"
                          ],
                          [
                            0.3333333333333333,
                            "#9c179e"
                          ],
                          [
                            0.4444444444444444,
                            "#bd3786"
                          ],
                          [
                            0.5555555555555556,
                            "#d8576b"
                          ],
                          [
                            0.6666666666666666,
                            "#ed7953"
                          ],
                          [
                            0.7777777777777778,
                            "#fb9f3a"
                          ],
                          [
                            0.8888888888888888,
                            "#fdca26"
                          ],
                          [
                            1,
                            "#f0f921"
                          ]
                        ],
                        "type": "surface"
                      }
                    ],
                    "table": [
                      {
                        "cells": {
                          "fill": {
                            "color": "#EBF0F8"
                          },
                          "line": {
                            "color": "white"
                          }
                        },
                        "header": {
                          "fill": {
                            "color": "#C8D4E3"
                          },
                          "line": {
                            "color": "white"
                          }
                        },
                        "type": "table"
                      }
                    ]
                  },
                  "layout": {
                    "annotationdefaults": {
                      "arrowcolor": "#2a3f5f",
                      "arrowhead": 0,
                      "arrowwidth": 1
                    },
                    "autotypenumbers": "strict",
                    "coloraxis": {
                      "colorbar": {
                        "outlinewidth": 0,
                        "ticks": ""
                      }
                    },
                    "colorscale": {
                      "diverging": [
                        [
                          0,
                          "#8e0152"
                        ],
                        [
                          0.1,
                          "#c51b7d"
                        ],
                        [
                          0.2,
                          "#de77ae"
                        ],
                        [
                          0.3,
                          "#f1b6da"
                        ],
                        [
                          0.4,
                          "#fde0ef"
                        ],
                        [
                          0.5,
                          "#f7f7f7"
                        ],
                        [
                          0.6,
                          "#e6f5d0"
                        ],
                        [
                          0.7,
                          "#b8e186"
                        ],
                        [
                          0.8,
                          "#7fbc41"
                        ],
                        [
                          0.9,
                          "#4d9221"
                        ],
                        [
                          1,
                          "#276419"
                        ]
                      ],
                      "sequential": [
                        [
                          0,
                          "#0d0887"
                        ],
                        [
                          0.1111111111111111,
                          "#46039f"
                        ],
                        [
                          0.2222222222222222,
                          "#7201a8"
                        ],
                        [
                          0.3333333333333333,
                          "#9c179e"
                        ],
                        [
                          0.4444444444444444,
                          "#bd3786"
                        ],
                        [
                          0.5555555555555556,
                          "#d8576b"
                        ],
                        [
                          0.6666666666666666,
                          "#ed7953"
                        ],
                        [
                          0.7777777777777778,
                          "#fb9f3a"
                        ],
                        [
                          0.8888888888888888,
                          "#fdca26"
                        ],
                        [
                          1,
                          "#f0f921"
                        ]
                      ],
                      "sequentialminus": [
                        [
                          0,
                          "#0d0887"
                        ],
                        [
                          0.1111111111111111,
                          "#46039f"
                        ],
                        [
                          0.2222222222222222,
                          "#7201a8"
                        ],
                        [
                          0.3333333333333333,
                          "#9c179e"
                        ],
                        [
                          0.4444444444444444,
                          "#bd3786"
                        ],
                        [
                          0.5555555555555556,
                          "#d8576b"
                        ],
                        [
                          0.6666666666666666,
                          "#ed7953"
                        ],
                        [
                          0.7777777777777778,
                          "#fb9f3a"
                        ],
                        [
                          0.8888888888888888,
                          "#fdca26"
                        ],
                        [
                          1,
                          "#f0f921"
                        ]
                      ]
                    },
                    "colorway": [
                      "#636efa",
                      "#EF553B",
                      "#00cc96",
                      "#ab63fa",
                      "#FFA15A",
                      "#19d3f3",
                      "#FF6692",
                      "#B6E880",
                      "#FF97FF",
                      "#FECB52"
                    ],
                    "font": {
                      "color": "#2a3f5f"
                    },
                    "geo": {
                      "bgcolor": "white",
                      "lakecolor": "white",
                      "landcolor": "#E5ECF6",
                      "showlakes": true,
                      "showland": true,
                      "subunitcolor": "white"
                    },
                    "hoverlabel": {
                      "align": "left"
                    },
                    "hovermode": "closest",
                    "mapbox": {
                      "style": "light"
                    },
                    "paper_bgcolor": "white",
                    "plot_bgcolor": "#E5ECF6",
                    "polar": {
                      "angularaxis": {
                        "gridcolor": "white",
                        "linecolor": "white",
                        "ticks": ""
                      },
                      "bgcolor": "#E5ECF6",
                      "radialaxis": {
                        "gridcolor": "white",
                        "linecolor": "white",
                        "ticks": ""
                      }
                    },
                    "scene": {
                      "xaxis": {
                        "backgroundcolor": "#E5ECF6",
                        "gridcolor": "white",
                        "gridwidth": 2,
                        "linecolor": "white",
                        "showbackground": true,
                        "ticks": "",
                        "zerolinecolor": "white"
                      },
                      "yaxis": {
                        "backgroundcolor": "#E5ECF6",
                        "gridcolor": "white",
                        "gridwidth": 2,
                        "linecolor": "white",
                        "showbackground": true,
                        "ticks": "",
                        "zerolinecolor": "white"
                      },
                      "zaxis": {
                        "backgroundcolor": "#E5ECF6",
                        "gridcolor": "white",
                        "gridwidth": 2,
                        "linecolor": "white",
                        "showbackground": true,
                        "ticks": "",
                        "zerolinecolor": "white"
                      }
                    },
                    "shapedefaults": {
                      "line": {
                        "color": "#2a3f5f"
                      }
                    },
                    "ternary": {
                      "aaxis": {
                        "gridcolor": "white",
                        "linecolor": "white",
                        "ticks": ""
                      },
                      "baxis": {
                        "gridcolor": "white",
                        "linecolor": "white",
                        "ticks": ""
                      },
                      "bgcolor": "#E5ECF6",
                      "caxis": {
                        "gridcolor": "white",
                        "linecolor": "white",
                        "ticks": ""
                      }
                    },
                    "title": {
                      "x": 0.05
                    },
                    "xaxis": {
                      "automargin": true,
                      "gridcolor": "white",
                      "linecolor": "white",
                      "ticks": "",
                      "title": {
                        "standoff": 15
                      },
                      "zerolinecolor": "white",
                      "zerolinewidth": 2
                    },
                    "yaxis": {
                      "automargin": true,
                      "gridcolor": "white",
                      "linecolor": "white",
                      "ticks": "",
                      "title": {
                        "standoff": 15
                      },
                      "zerolinecolor": "white",
                      "zerolinewidth": 2
                    }
                  }
                },
                "title": {
                  "text": "Stores by Country"
                },
                "xaxis": {
                  "anchor": "y",
                  "domain": [
                    0,
                    1
                  ],
                  "title": {
                    "text": "Country"
                  }
                },
                "yaxis": {
                  "anchor": "x",
                  "domain": [
                    0,
                    1
                  ],
                  "title": {
                    "text": "Total square meters"
                  }
                }
              }
            }
          },
          "metadata": {},
          "output_type": "display_data"
        }
      ],
      "source": [
        "#Stores By Country\n",
        "\n",
        "stores_by_country = stores.groupby('Country')['SquareMeters'].sum()\n",
        "\n",
        "fig= px.bar(x=stores_by_country.index, y=stores_by_country.values,\n",
        "            title=\"Stores by Country\",\n",
        "            color= stores_by_country,\n",
        "            labels= {'x': \"Country\", 'y': 'Total square meters'})\n",
        "fig.update_layout(font=dict(size=9))\n",
        "fig.show()\n"
      ]
    },
    {
      "cell_type": "code",
      "execution_count": 37,
      "metadata": {
        "colab": {
          "base_uri": "https://localhost:8080/",
          "height": 560
        },
        "id": "LGv-LmhfERaZ",
        "outputId": "1a57e8c9-8356-4353-db1b-d604bd0e26bc"
      },
      "outputs": [
        {
          "data": {
            "image/png": "[encoded data removed]",
            "text/plain": [
              "<Figure size 1000x600 with 1 Axes>"
            ]
          },
          "metadata": {},
          "output_type": "display_data"
        }
      ],
      "source": [
        "#Stores Opened based on year\n",
        "\n",
        "stores['OpenDate'] = pd.to_datetime(stores['OpenDate'])\n",
        "\n",
        "stores['OpenYear'] = stores['OpenDate'].dt.year\n",
        "\n",
        "stores_per_year = stores['OpenYear'].value_counts().sort_index()\n",
        "\n",
        "plt.figure(figsize=(10, 6))\n",
        "sns.barplot(x=stores_per_year.index, y=stores_per_year.values)\n",
        "plt.title('Stores Opened Over Time')\n",
        "plt.xlabel('Year')\n",
        "plt.ylabel('Number of Stores')\n",
        "plt.xticks(fontsize=8)\n",
        "plt.show()\n"
      ]
    },
    {
      "cell_type": "code",
      "execution_count": null,
      "metadata": {},
      "outputs": [],
      "source": [
        "# Connecting and fetching the data into mysql\n",
        "\n",
        "import pandas as pd\n",
        "import pymysql\n",
        "from sqlalchemy import create_engine\n",
        "\n",
        "\n",
        "sales_data = pd.read_csv('Sales_cleaned.csv')\n",
        "stores_data = pd.read_csv('Stores_cleaned.csv')\n",
        "product_data = pd.read_csv('Products_cleaned.csv')\n",
        "exchange_rates_data = pd.read_csv('Exchange_Rates_cleaned.csv')\n",
        "customers_data = pd.read_csv('Customers_cleaned.csv')\n",
        "\n",
        "\n",
        "host = \"localhost\"\n",
        "port = \"3306\"\n",
        "username = \"root\"\n",
        "password = \"9600578719\"\n",
        "database = \"datapark\"\n",
        "\n",
        "# Creating the database engine\n",
        "engine_string = f\"mysql+pymysql://{username}:{password}@{host}:{port}/{database}\"\n",
        "engine = create_engine(engine_string)\n",
        "\n",
        "# Mapping datasets \n",
        "data_tables = {\n",
        "    'customers': customers_data,\n",
        "    'sales': sales_data,\n",
        "    'stores': stores_data,\n",
        "    'products': product_data,\n",
        "    'exchange_rates': exchange_rates_data\n",
        "}\n",
        "\n",
        "# Inserting each dataset into its table\n",
        "for table_name, df in data_tables.items():\n",
        "    try:\n",
        "        df.to_sql(table_name, engine, if_exists='append', index=False)\n",
        "        print(f\"Successfully inserted data into '{table_name}' table.\")\n",
        "    except Exception as e:\n",
        "        print(f\"Failed to insert data into '{table_name}' table: {e}\")"
      ]
    }
  ],
  "metadata": {
    "colab": {
      "provenance": []
    },
    "kernelspec": {
      "display_name": "Python 3",
      "name": "python3"
    },
    "language_info": {
      "codemirror_mode": {
        "name": "ipython",
        "version": 3
      },
      "file_extension": ".py",
      "mimetype": "text/x-python",
      "name": "python",
      "nbconvert_exporter": "python",
      "pygments_lexer": "ipython3",
      "version": "3.12.4"
    }
  },
  "nbformat": 4,
  "nbformat_minor": 0
}
